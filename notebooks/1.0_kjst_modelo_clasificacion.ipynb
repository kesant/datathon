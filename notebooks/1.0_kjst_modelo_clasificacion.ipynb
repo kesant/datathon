{
 "cells": [
  {
   "cell_type": "code",
   "execution_count": 1,
   "metadata": {},
   "outputs": [],
   "source": [
    "import pandas as pd \n",
    "import numpy as np\n",
    "import matplotlib.pyplot as plt\n",
    "import seaborn as sns"
   ]
  },
  {
   "cell_type": "code",
   "execution_count": 2,
   "metadata": {},
   "outputs": [],
   "source": [
    "#from colocacion_de_creditos.utils.paths import data_dir"
   ]
  },
  {
   "cell_type": "code",
   "execution_count": 3,
   "metadata": {},
   "outputs": [],
   "source": [
    "#df_colocado=pd.read_parquet(data_dir(\"interim\", \"datos_colocacion_limpios.parquet\"))\n",
    "df_colocado = pd.read_parquet('../data/raw/df_final_estudiantes.parquet')"
   ]
  },
  {
   "cell_type": "code",
   "execution_count": 4,
   "metadata": {},
   "outputs": [
    {
     "data": {
      "text/html": [
       "<div>\n",
       "<style scoped>\n",
       "    .dataframe tbody tr th:only-of-type {\n",
       "        vertical-align: middle;\n",
       "    }\n",
       "\n",
       "    .dataframe tbody tr th {\n",
       "        vertical-align: top;\n",
       "    }\n",
       "\n",
       "    .dataframe thead th {\n",
       "        text-align: right;\n",
       "    }\n",
       "</style>\n",
       "<table border=\"1\" class=\"dataframe\">\n",
       "  <thead>\n",
       "    <tr style=\"text-align: right;\">\n",
       "      <th></th>\n",
       "      <th>IDENTIFICACION</th>\n",
       "      <th>PRODUCTO</th>\n",
       "      <th>PERIODO_COMERCIAL</th>\n",
       "      <th>SEGMENTO</th>\n",
       "      <th>FECHA_CARGA</th>\n",
       "      <th>FECHA_VIGENCIA</th>\n",
       "      <th>REGION</th>\n",
       "      <th>N_VECES_CAMPAÑA</th>\n",
       "      <th>N_VECES_CAMPAÑA_CONT</th>\n",
       "      <th>TIPO_APROBACION</th>\n",
       "      <th>...</th>\n",
       "      <th>APROBACION_MES_ANTERIOR</th>\n",
       "      <th>PRODUCTO_MES_ANTERIOR</th>\n",
       "      <th>MONTO_COLOCADO</th>\n",
       "      <th>fecha_liquidacion</th>\n",
       "      <th>CANAL_VENTA</th>\n",
       "      <th>CONTACTABILIDAD_CELULAR</th>\n",
       "      <th>CONTACTABILIDAD_EMAIL</th>\n",
       "      <th>CONTACTABILIDAD_FIJO</th>\n",
       "      <th>CONTACTABILIDAD_TOTAL</th>\n",
       "      <th>COLOCADO</th>\n",
       "    </tr>\n",
       "  </thead>\n",
       "  <tbody>\n",
       "    <tr>\n",
       "      <th>0</th>\n",
       "      <td>0523373</td>\n",
       "      <td>Producto1</td>\n",
       "      <td>202408</td>\n",
       "      <td>SEGMENTO1</td>\n",
       "      <td>2024-08-22</td>\n",
       "      <td>2024-09-13</td>\n",
       "      <td>NORTE</td>\n",
       "      <td>19</td>\n",
       "      <td>5</td>\n",
       "      <td>TIPO1</td>\n",
       "      <td>...</td>\n",
       "      <td>TIPO1</td>\n",
       "      <td>Producto1</td>\n",
       "      <td>NaN</td>\n",
       "      <td>None</td>\n",
       "      <td>None</td>\n",
       "      <td>AC</td>\n",
       "      <td>MK</td>\n",
       "      <td>AC</td>\n",
       "      <td>AC</td>\n",
       "      <td>0</td>\n",
       "    </tr>\n",
       "    <tr>\n",
       "      <th>1</th>\n",
       "      <td>0523373</td>\n",
       "      <td>Producto1</td>\n",
       "      <td>202405</td>\n",
       "      <td>SEGMENTO1</td>\n",
       "      <td>2024-05-11</td>\n",
       "      <td>2024-06-11</td>\n",
       "      <td>NORTE</td>\n",
       "      <td>16</td>\n",
       "      <td>2</td>\n",
       "      <td>TIPO1</td>\n",
       "      <td>...</td>\n",
       "      <td>TIPO1</td>\n",
       "      <td>Producto1</td>\n",
       "      <td>NaN</td>\n",
       "      <td>None</td>\n",
       "      <td>None</td>\n",
       "      <td>AC</td>\n",
       "      <td>MK</td>\n",
       "      <td>AC</td>\n",
       "      <td>AC</td>\n",
       "      <td>0</td>\n",
       "    </tr>\n",
       "    <tr>\n",
       "      <th>2</th>\n",
       "      <td>0523373</td>\n",
       "      <td>Producto1</td>\n",
       "      <td>202406</td>\n",
       "      <td>SEGMENTO1</td>\n",
       "      <td>2024-06-12</td>\n",
       "      <td>2024-07-12</td>\n",
       "      <td>NORTE</td>\n",
       "      <td>17</td>\n",
       "      <td>3</td>\n",
       "      <td>TIPO1</td>\n",
       "      <td>...</td>\n",
       "      <td>TIPO1</td>\n",
       "      <td>Producto1</td>\n",
       "      <td>NaN</td>\n",
       "      <td>None</td>\n",
       "      <td>None</td>\n",
       "      <td>AC</td>\n",
       "      <td>MK</td>\n",
       "      <td>AC</td>\n",
       "      <td>AC</td>\n",
       "      <td>0</td>\n",
       "    </tr>\n",
       "    <tr>\n",
       "      <th>3</th>\n",
       "      <td>0523374</td>\n",
       "      <td>Producto1</td>\n",
       "      <td>202403</td>\n",
       "      <td>SEGMENTO1</td>\n",
       "      <td>2024-03-11</td>\n",
       "      <td>2024-04-08</td>\n",
       "      <td>NORTE</td>\n",
       "      <td>21</td>\n",
       "      <td>7</td>\n",
       "      <td>TIPO1</td>\n",
       "      <td>...</td>\n",
       "      <td>TIPO1</td>\n",
       "      <td>Producto1</td>\n",
       "      <td>NaN</td>\n",
       "      <td>None</td>\n",
       "      <td>None</td>\n",
       "      <td>AC</td>\n",
       "      <td>AC</td>\n",
       "      <td>AC</td>\n",
       "      <td>AC</td>\n",
       "      <td>0</td>\n",
       "    </tr>\n",
       "    <tr>\n",
       "      <th>4</th>\n",
       "      <td>0523374</td>\n",
       "      <td>Producto1</td>\n",
       "      <td>202402</td>\n",
       "      <td>SEGMENTO1</td>\n",
       "      <td>2024-02-08</td>\n",
       "      <td>2024-03-10</td>\n",
       "      <td>NORTE</td>\n",
       "      <td>20</td>\n",
       "      <td>6</td>\n",
       "      <td>TIPO1</td>\n",
       "      <td>...</td>\n",
       "      <td>TIPO1</td>\n",
       "      <td>Producto1</td>\n",
       "      <td>NaN</td>\n",
       "      <td>None</td>\n",
       "      <td>None</td>\n",
       "      <td>AC</td>\n",
       "      <td>AC</td>\n",
       "      <td>AC</td>\n",
       "      <td>AC</td>\n",
       "      <td>0</td>\n",
       "    </tr>\n",
       "  </tbody>\n",
       "</table>\n",
       "<p>5 rows × 27 columns</p>\n",
       "</div>"
      ],
      "text/plain": [
       "  IDENTIFICACION   PRODUCTO  PERIODO_COMERCIAL   SEGMENTO FECHA_CARGA  \\\n",
       "0        0523373  Producto1             202408  SEGMENTO1  2024-08-22   \n",
       "1        0523373  Producto1             202405  SEGMENTO1  2024-05-11   \n",
       "2        0523373  Producto1             202406  SEGMENTO1  2024-06-12   \n",
       "3        0523374  Producto1             202403  SEGMENTO1  2024-03-11   \n",
       "4        0523374  Producto1             202402  SEGMENTO1  2024-02-08   \n",
       "\n",
       "  FECHA_VIGENCIA REGION  N_VECES_CAMPAÑA  N_VECES_CAMPAÑA_CONT  \\\n",
       "0     2024-09-13  NORTE               19                     5   \n",
       "1     2024-06-11  NORTE               16                     2   \n",
       "2     2024-07-12  NORTE               17                     3   \n",
       "3     2024-04-08  NORTE               21                     7   \n",
       "4     2024-03-10  NORTE               20                     6   \n",
       "\n",
       "  TIPO_APROBACION  ... APROBACION_MES_ANTERIOR PRODUCTO_MES_ANTERIOR  \\\n",
       "0           TIPO1  ...                   TIPO1             Producto1   \n",
       "1           TIPO1  ...                   TIPO1             Producto1   \n",
       "2           TIPO1  ...                   TIPO1             Producto1   \n",
       "3           TIPO1  ...                   TIPO1             Producto1   \n",
       "4           TIPO1  ...                   TIPO1             Producto1   \n",
       "\n",
       "   MONTO_COLOCADO  fecha_liquidacion CANAL_VENTA  CONTACTABILIDAD_CELULAR  \\\n",
       "0             NaN               None        None                       AC   \n",
       "1             NaN               None        None                       AC   \n",
       "2             NaN               None        None                       AC   \n",
       "3             NaN               None        None                       AC   \n",
       "4             NaN               None        None                       AC   \n",
       "\n",
       "   CONTACTABILIDAD_EMAIL CONTACTABILIDAD_FIJO CONTACTABILIDAD_TOTAL  COLOCADO  \n",
       "0                     MK                   AC                    AC         0  \n",
       "1                     MK                   AC                    AC         0  \n",
       "2                     MK                   AC                    AC         0  \n",
       "3                     AC                   AC                    AC         0  \n",
       "4                     AC                   AC                    AC         0  \n",
       "\n",
       "[5 rows x 27 columns]"
      ]
     },
     "execution_count": 4,
     "metadata": {},
     "output_type": "execute_result"
    }
   ],
   "source": [
    "df_colocado.head()"
   ]
  },
  {
   "cell_type": "code",
   "execution_count": 5,
   "metadata": {},
   "outputs": [
    {
     "data": {
      "text/html": [
       "<div>\n",
       "<style scoped>\n",
       "    .dataframe tbody tr th:only-of-type {\n",
       "        vertical-align: middle;\n",
       "    }\n",
       "\n",
       "    .dataframe tbody tr th {\n",
       "        vertical-align: top;\n",
       "    }\n",
       "\n",
       "    .dataframe thead th {\n",
       "        text-align: right;\n",
       "    }\n",
       "</style>\n",
       "<table border=\"1\" class=\"dataframe\">\n",
       "  <thead>\n",
       "    <tr style=\"text-align: right;\">\n",
       "      <th></th>\n",
       "      <th>PERIODO_COMERCIAL</th>\n",
       "      <th>N_VECES_CAMPAÑA</th>\n",
       "      <th>N_VECES_CAMPAÑA_CONT</th>\n",
       "      <th>IVC</th>\n",
       "      <th>score_aceptacion</th>\n",
       "      <th>SCORE</th>\n",
       "      <th>CUPO</th>\n",
       "      <th>MONTO_COLOCADO</th>\n",
       "      <th>COLOCADO</th>\n",
       "    </tr>\n",
       "  </thead>\n",
       "  <tbody>\n",
       "    <tr>\n",
       "      <th>count</th>\n",
       "      <td>5.178528e+06</td>\n",
       "      <td>5.178528e+06</td>\n",
       "      <td>5.178528e+06</td>\n",
       "      <td>5.178528e+06</td>\n",
       "      <td>5.178528e+06</td>\n",
       "      <td>5.178528e+06</td>\n",
       "      <td>5.178528e+06</td>\n",
       "      <td>63490.000000</td>\n",
       "      <td>5.178528e+06</td>\n",
       "    </tr>\n",
       "    <tr>\n",
       "      <th>mean</th>\n",
       "      <td>2.024056e+05</td>\n",
       "      <td>1.714706e+01</td>\n",
       "      <td>4.224235e+00</td>\n",
       "      <td>8.741140e-01</td>\n",
       "      <td>5.549130e+02</td>\n",
       "      <td>9.581913e+02</td>\n",
       "      <td>3.472924e+03</td>\n",
       "      <td>3277.705400</td>\n",
       "      <td>1.226024e-02</td>\n",
       "    </tr>\n",
       "    <tr>\n",
       "      <th>std</th>\n",
       "      <td>2.862225e+00</td>\n",
       "      <td>9.460093e+00</td>\n",
       "      <td>3.821505e+00</td>\n",
       "      <td>1.295387e+00</td>\n",
       "      <td>2.373323e+02</td>\n",
       "      <td>3.645661e+01</td>\n",
       "      <td>3.755160e+03</td>\n",
       "      <td>2994.192257</td>\n",
       "      <td>1.100451e-01</td>\n",
       "    </tr>\n",
       "    <tr>\n",
       "      <th>min</th>\n",
       "      <td>2.024010e+05</td>\n",
       "      <td>0.000000e+00</td>\n",
       "      <td>0.000000e+00</td>\n",
       "      <td>0.000000e+00</td>\n",
       "      <td>3.400000e+01</td>\n",
       "      <td>7.000000e+02</td>\n",
       "      <td>8.024000e+02</td>\n",
       "      <td>217.982498</td>\n",
       "      <td>0.000000e+00</td>\n",
       "    </tr>\n",
       "    <tr>\n",
       "      <th>25%</th>\n",
       "      <td>2.024030e+05</td>\n",
       "      <td>1.000000e+01</td>\n",
       "      <td>1.000000e+00</td>\n",
       "      <td>0.000000e+00</td>\n",
       "      <td>3.540000e+02</td>\n",
       "      <td>9.470000e+02</td>\n",
       "      <td>8.024000e+02</td>\n",
       "      <td>1581.800000</td>\n",
       "      <td>0.000000e+00</td>\n",
       "    </tr>\n",
       "    <tr>\n",
       "      <th>50%</th>\n",
       "      <td>2.024060e+05</td>\n",
       "      <td>1.700000e+01</td>\n",
       "      <td>3.000000e+00</td>\n",
       "      <td>0.000000e+00</td>\n",
       "      <td>5.420000e+02</td>\n",
       "      <td>9.700000e+02</td>\n",
       "      <td>2.750900e+03</td>\n",
       "      <td>2556.050000</td>\n",
       "      <td>0.000000e+00</td>\n",
       "    </tr>\n",
       "    <tr>\n",
       "      <th>75%</th>\n",
       "      <td>2.024080e+05</td>\n",
       "      <td>2.400000e+01</td>\n",
       "      <td>7.000000e+00</td>\n",
       "      <td>2.000000e+00</td>\n",
       "      <td>7.840000e+02</td>\n",
       "      <td>9.820000e+02</td>\n",
       "      <td>4.465580e+03</td>\n",
       "      <td>3920.000000</td>\n",
       "      <td>0.000000e+00</td>\n",
       "    </tr>\n",
       "    <tr>\n",
       "      <th>max</th>\n",
       "      <td>2.024100e+05</td>\n",
       "      <td>5.800000e+01</td>\n",
       "      <td>3.500000e+01</td>\n",
       "      <td>8.000000e+00</td>\n",
       "      <td>9.760000e+02</td>\n",
       "      <td>9.940000e+02</td>\n",
       "      <td>2.925050e+04</td>\n",
       "      <td>97448.000000</td>\n",
       "      <td>1.000000e+00</td>\n",
       "    </tr>\n",
       "  </tbody>\n",
       "</table>\n",
       "</div>"
      ],
      "text/plain": [
       "       PERIODO_COMERCIAL  N_VECES_CAMPAÑA  N_VECES_CAMPAÑA_CONT           IVC  \\\n",
       "count       5.178528e+06     5.178528e+06          5.178528e+06  5.178528e+06   \n",
       "mean        2.024056e+05     1.714706e+01          4.224235e+00  8.741140e-01   \n",
       "std         2.862225e+00     9.460093e+00          3.821505e+00  1.295387e+00   \n",
       "min         2.024010e+05     0.000000e+00          0.000000e+00  0.000000e+00   \n",
       "25%         2.024030e+05     1.000000e+01          1.000000e+00  0.000000e+00   \n",
       "50%         2.024060e+05     1.700000e+01          3.000000e+00  0.000000e+00   \n",
       "75%         2.024080e+05     2.400000e+01          7.000000e+00  2.000000e+00   \n",
       "max         2.024100e+05     5.800000e+01          3.500000e+01  8.000000e+00   \n",
       "\n",
       "       score_aceptacion         SCORE          CUPO  MONTO_COLOCADO  \\\n",
       "count      5.178528e+06  5.178528e+06  5.178528e+06    63490.000000   \n",
       "mean       5.549130e+02  9.581913e+02  3.472924e+03     3277.705400   \n",
       "std        2.373323e+02  3.645661e+01  3.755160e+03     2994.192257   \n",
       "min        3.400000e+01  7.000000e+02  8.024000e+02      217.982498   \n",
       "25%        3.540000e+02  9.470000e+02  8.024000e+02     1581.800000   \n",
       "50%        5.420000e+02  9.700000e+02  2.750900e+03     2556.050000   \n",
       "75%        7.840000e+02  9.820000e+02  4.465580e+03     3920.000000   \n",
       "max        9.760000e+02  9.940000e+02  2.925050e+04    97448.000000   \n",
       "\n",
       "           COLOCADO  \n",
       "count  5.178528e+06  \n",
       "mean   1.226024e-02  \n",
       "std    1.100451e-01  \n",
       "min    0.000000e+00  \n",
       "25%    0.000000e+00  \n",
       "50%    0.000000e+00  \n",
       "75%    0.000000e+00  \n",
       "max    1.000000e+00  "
      ]
     },
     "execution_count": 5,
     "metadata": {},
     "output_type": "execute_result"
    }
   ],
   "source": [
    "df_colocado.describe()"
   ]
  },
  {
   "cell_type": "code",
   "execution_count": 6,
   "metadata": {},
   "outputs": [
    {
     "data": {
      "image/png": "[encoded data removed]",
      "text/plain": [
       "<Figure size 700x700 with 1 Axes>"
      ]
     },
     "metadata": {},
     "output_type": "display_data"
    }
   ],
   "source": [
    "# Contamos los valores en la columna 'COLOCADO'\n",
    "value_counts = df_colocado['COLOCADO'].value_counts()\n",
    "\n",
    "# Crear gráfico de pastel\n",
    "plt.figure(figsize=(7, 7))\n",
    "plt.pie(value_counts, labels=['Colocado (1)', 'No Colocado (0)'], autopct='%1.1f%%', startangle=90, colors=['#66b3ff', '#ff6666'])\n",
    "plt.title('Distribución de la variable COLOCADO')\n",
    "plt.show()"
   ]
  },
  {
   "cell_type": "markdown",
   "metadata": {},
   "source": [
    "Observamos que tenemos un desbalance claro en los datos que tenemos "
   ]
  },
  {
   "cell_type": "code",
   "execution_count": 7,
   "metadata": {},
   "outputs": [
    {
     "data": {
      "text/plain": [
       "Index(['PERIODO_COMERCIAL', 'N_VECES_CAMPAÑA', 'N_VECES_CAMPAÑA_CONT', 'IVC',\n",
       "       'score_aceptacion', 'SCORE', 'CUPO', 'MONTO_COLOCADO', 'COLOCADO'],\n",
       "      dtype='object')"
      ]
     },
     "execution_count": 7,
     "metadata": {},
     "output_type": "execute_result"
    }
   ],
   "source": [
    "numerical_columns = df_colocado.select_dtypes(include=['number']).columns\n",
    "numerical_columns"
   ]
  },
  {
   "cell_type": "code",
   "execution_count": 8,
   "metadata": {},
   "outputs": [
    {
     "data": {
      "text/plain": [
       "Index(['IDENTIFICACION', 'PRODUCTO', 'SEGMENTO', 'FECHA_CARGA',\n",
       "       'FECHA_VIGENCIA', 'REGION', 'TIPO_APROBACION', 'CANAL', 'CLIENTE_BG',\n",
       "       'SUB_PERFIL_RIESGOS', 'APROBACION_MES_ANTERIOR',\n",
       "       'PRODUCTO_MES_ANTERIOR', 'fecha_liquidacion', 'CANAL_VENTA',\n",
       "       'CONTACTABILIDAD_CELULAR', 'CONTACTABILIDAD_EMAIL',\n",
       "       'CONTACTABILIDAD_FIJO', 'CONTACTABILIDAD_TOTAL'],\n",
       "      dtype='object')"
      ]
     },
     "execution_count": 8,
     "metadata": {},
     "output_type": "execute_result"
    }
   ],
   "source": [
    "categorical_columnns = df_colocado.select_dtypes(exclude=['number']).columns\n",
    "categorical_columnns\n"
   ]
  },
  {
   "cell_type": "code",
   "execution_count": 9,
   "metadata": {},
   "outputs": [
    {
     "data": {
      "image/png": "[encoded data removed]",
      "text/plain": [
       "<Figure size 1000x600 with 1 Axes>"
      ]
     },
     "metadata": {},
     "output_type": "display_data"
    }
   ],
   "source": [
    "# Evolución temporal de la tasa de colocación\n",
    "monthly_placement = df_colocado.groupby(df_colocado['PERIODO_COMERCIAL'])['COLOCADO'].mean()\n",
    "monthly_placement.plot(kind='line', title='Evolución Temporal de la Tasa de Colocación', figsize=(10, 6))\n",
    "plt.ylabel('Tasa de Colocación')\n",
    "plt.show()\n",
    "\n"
   ]
  },
  {
   "cell_type": "markdown",
   "metadata": {},
   "source": [
    "se obser que durante lo"
   ]
  },
  {
   "cell_type": "code",
   "execution_count": 10,
   "metadata": {},
   "outputs": [
    {
     "data": {
      "image/png": "[encoded data removed]",
      "text/plain": [
       "<Figure size 1000x600 with 1 Axes>"
      ]
     },
     "metadata": {},
     "output_type": "display_data"
    }
   ],
   "source": [
    "# Evolución de métricas clave\n",
    "metrics = ['CUPO', 'MONTO_COLOCADO', 'IVC']\n",
    "for metric in metrics:\n",
    "    df_colocado.groupby(df_colocado['FECHA_CARGA'])[metric].mean().plot(kind='line', figsize=(10, 6), label=metric)\n",
    "plt.title('Evolución Temporal de Métricas Clave')\n",
    "plt.legend()\n",
    "plt.show()"
   ]
  },
  {
   "cell_type": "markdown",
   "metadata": {},
   "source": [
    "## Analisis de las variables categoricas"
   ]
  },
  {
   "cell_type": "markdown",
   "metadata": {},
   "source": [
    "group_colocation / global_colocation >1 mas probable a aceptar la colocacion de credito \n",
    "\n",
    "group_colocation / global_colocation <1  menos probable a aceptar la colocacion de credito "
   ]
  },
  {
   "cell_type": "code",
   "execution_count": 11,
   "metadata": {},
   "outputs": [
    {
     "data": {
      "text/plain": [
       "np.float64(0.012260240747949997)"
      ]
     },
     "execution_count": 11,
     "metadata": {},
     "output_type": "execute_result"
    }
   ],
   "source": [
    "global_colocation_ratio = df_colocado['COLOCADO'].mean()\n",
    "global_colocation_ratio"
   ]
  },
  {
   "cell_type": "code",
   "execution_count": 12,
   "metadata": {},
   "outputs": [
    {
     "data": {
      "text/plain": [
       "CONTACTABILIDAD_TOTAL\n",
       "AC    4783638\n",
       "ND     394890\n",
       "Name: count, dtype: int64"
      ]
     },
     "execution_count": 12,
     "metadata": {},
     "output_type": "execute_result"
    }
   ],
   "source": [
    "df_colocado.CONTACTABILIDAD_TOTAL.value_counts()"
   ]
  },
  {
   "cell_type": "code",
   "execution_count": 13,
   "metadata": {},
   "outputs": [
    {
     "name": "stdout",
     "output_type": "stream",
     "text": [
      "Análisis para la variable: SEGMENTO\n"
     ]
    },
    {
     "data": {
      "text/html": [
       "<div>\n",
       "<style scoped>\n",
       "    .dataframe tbody tr th:only-of-type {\n",
       "        vertical-align: middle;\n",
       "    }\n",
       "\n",
       "    .dataframe tbody tr th {\n",
       "        vertical-align: top;\n",
       "    }\n",
       "\n",
       "    .dataframe thead th {\n",
       "        text-align: right;\n",
       "    }\n",
       "</style>\n",
       "<table border=\"1\" class=\"dataframe\">\n",
       "  <thead>\n",
       "    <tr style=\"text-align: right;\">\n",
       "      <th></th>\n",
       "      <th>colocation_rate</th>\n",
       "      <th>n_samples</th>\n",
       "      <th>diff</th>\n",
       "      <th>acceptance_ratio</th>\n",
       "    </tr>\n",
       "    <tr>\n",
       "      <th>SEGMENTO</th>\n",
       "      <th></th>\n",
       "      <th></th>\n",
       "      <th></th>\n",
       "      <th></th>\n",
       "    </tr>\n",
       "  </thead>\n",
       "  <tbody>\n",
       "    <tr>\n",
       "      <th>SEGMENTO1</th>\n",
       "      <td>0.012451</td>\n",
       "      <td>4251578</td>\n",
       "      <td>0.000190</td>\n",
       "      <td>1.015532</td>\n",
       "    </tr>\n",
       "    <tr>\n",
       "      <th>SEGMENTO2</th>\n",
       "      <td>0.014351</td>\n",
       "      <td>108492</td>\n",
       "      <td>0.002091</td>\n",
       "      <td>1.170555</td>\n",
       "    </tr>\n",
       "    <tr>\n",
       "      <th>SEGMENTO3</th>\n",
       "      <td>0.011436</td>\n",
       "      <td>578251</td>\n",
       "      <td>-0.000824</td>\n",
       "      <td>0.932788</td>\n",
       "    </tr>\n",
       "    <tr>\n",
       "      <th>SEGMENTO4</th>\n",
       "      <td>0.009879</td>\n",
       "      <td>213171</td>\n",
       "      <td>-0.002381</td>\n",
       "      <td>0.805807</td>\n",
       "    </tr>\n",
       "    <tr>\n",
       "      <th>SEGMENTO5</th>\n",
       "      <td>0.012818</td>\n",
       "      <td>21220</td>\n",
       "      <td>0.000558</td>\n",
       "      <td>1.045501</td>\n",
       "    </tr>\n",
       "    <tr>\n",
       "      <th>SEGMENTO6</th>\n",
       "      <td>0.001209</td>\n",
       "      <td>5790</td>\n",
       "      <td>-0.011051</td>\n",
       "      <td>0.098610</td>\n",
       "    </tr>\n",
       "    <tr>\n",
       "      <th>SEGMENTO7</th>\n",
       "      <td>0.000000</td>\n",
       "      <td>26</td>\n",
       "      <td>-0.012260</td>\n",
       "      <td>0.000000</td>\n",
       "    </tr>\n",
       "  </tbody>\n",
       "</table>\n",
       "</div>"
      ],
      "text/plain": [
       "           colocation_rate  n_samples      diff  acceptance_ratio\n",
       "SEGMENTO                                                         \n",
       "SEGMENTO1         0.012451    4251578  0.000190          1.015532\n",
       "SEGMENTO2         0.014351     108492  0.002091          1.170555\n",
       "SEGMENTO3         0.011436     578251 -0.000824          0.932788\n",
       "SEGMENTO4         0.009879     213171 -0.002381          0.805807\n",
       "SEGMENTO5         0.012818      21220  0.000558          1.045501\n",
       "SEGMENTO6         0.001209       5790 -0.011051          0.098610\n",
       "SEGMENTO7         0.000000         26 -0.012260          0.000000"
      ]
     },
     "metadata": {},
     "output_type": "display_data"
    },
    {
     "name": "stdout",
     "output_type": "stream",
     "text": [
      "\n",
      "--------------------------------------------------\n",
      "\n",
      "Análisis para la variable: REGION\n"
     ]
    },
    {
     "data": {
      "text/html": [
       "<div>\n",
       "<style scoped>\n",
       "    .dataframe tbody tr th:only-of-type {\n",
       "        vertical-align: middle;\n",
       "    }\n",
       "\n",
       "    .dataframe tbody tr th {\n",
       "        vertical-align: top;\n",
       "    }\n",
       "\n",
       "    .dataframe thead th {\n",
       "        text-align: right;\n",
       "    }\n",
       "</style>\n",
       "<table border=\"1\" class=\"dataframe\">\n",
       "  <thead>\n",
       "    <tr style=\"text-align: right;\">\n",
       "      <th></th>\n",
       "      <th>colocation_rate</th>\n",
       "      <th>n_samples</th>\n",
       "      <th>diff</th>\n",
       "      <th>acceptance_ratio</th>\n",
       "    </tr>\n",
       "    <tr>\n",
       "      <th>REGION</th>\n",
       "      <th></th>\n",
       "      <th></th>\n",
       "      <th></th>\n",
       "      <th></th>\n",
       "    </tr>\n",
       "  </thead>\n",
       "  <tbody>\n",
       "    <tr>\n",
       "      <th>CENTRO</th>\n",
       "      <td>0.018435</td>\n",
       "      <td>1614270</td>\n",
       "      <td>0.006175</td>\n",
       "      <td>1.503638</td>\n",
       "    </tr>\n",
       "    <tr>\n",
       "      <th>NORTE</th>\n",
       "      <td>0.010023</td>\n",
       "      <td>2760241</td>\n",
       "      <td>-0.002237</td>\n",
       "      <td>0.817524</td>\n",
       "    </tr>\n",
       "    <tr>\n",
       "      <th>SUR</th>\n",
       "      <td>0.007543</td>\n",
       "      <td>804017</td>\n",
       "      <td>-0.004717</td>\n",
       "      <td>0.615271</td>\n",
       "    </tr>\n",
       "  </tbody>\n",
       "</table>\n",
       "</div>"
      ],
      "text/plain": [
       "        colocation_rate  n_samples      diff  acceptance_ratio\n",
       "REGION                                                        \n",
       "CENTRO         0.018435    1614270  0.006175          1.503638\n",
       "NORTE          0.010023    2760241 -0.002237          0.817524\n",
       "SUR            0.007543     804017 -0.004717          0.615271"
      ]
     },
     "metadata": {},
     "output_type": "display_data"
    },
    {
     "name": "stdout",
     "output_type": "stream",
     "text": [
      "\n",
      "--------------------------------------------------\n",
      "\n",
      "Análisis para la variable: TIPO_APROBACION\n"
     ]
    },
    {
     "data": {
      "text/html": [
       "<div>\n",
       "<style scoped>\n",
       "    .dataframe tbody tr th:only-of-type {\n",
       "        vertical-align: middle;\n",
       "    }\n",
       "\n",
       "    .dataframe tbody tr th {\n",
       "        vertical-align: top;\n",
       "    }\n",
       "\n",
       "    .dataframe thead th {\n",
       "        text-align: right;\n",
       "    }\n",
       "</style>\n",
       "<table border=\"1\" class=\"dataframe\">\n",
       "  <thead>\n",
       "    <tr style=\"text-align: right;\">\n",
       "      <th></th>\n",
       "      <th>colocation_rate</th>\n",
       "      <th>n_samples</th>\n",
       "      <th>diff</th>\n",
       "      <th>acceptance_ratio</th>\n",
       "    </tr>\n",
       "    <tr>\n",
       "      <th>TIPO_APROBACION</th>\n",
       "      <th></th>\n",
       "      <th></th>\n",
       "      <th></th>\n",
       "      <th></th>\n",
       "    </tr>\n",
       "  </thead>\n",
       "  <tbody>\n",
       "    <tr>\n",
       "      <th>TIPO1</th>\n",
       "      <td>0.018732</td>\n",
       "      <td>3049279</td>\n",
       "      <td>0.006472</td>\n",
       "      <td>1.527863</td>\n",
       "    </tr>\n",
       "    <tr>\n",
       "      <th>TIPO2</th>\n",
       "      <td>0.002992</td>\n",
       "      <td>2129249</td>\n",
       "      <td>-0.009268</td>\n",
       "      <td>0.244052</td>\n",
       "    </tr>\n",
       "  </tbody>\n",
       "</table>\n",
       "</div>"
      ],
      "text/plain": [
       "                 colocation_rate  n_samples      diff  acceptance_ratio\n",
       "TIPO_APROBACION                                                        \n",
       "TIPO1                   0.018732    3049279  0.006472          1.527863\n",
       "TIPO2                   0.002992    2129249 -0.009268          0.244052"
      ]
     },
     "metadata": {},
     "output_type": "display_data"
    },
    {
     "name": "stdout",
     "output_type": "stream",
     "text": [
      "\n",
      "--------------------------------------------------\n",
      "\n",
      "Análisis para la variable: CANAL\n"
     ]
    },
    {
     "data": {
      "text/html": [
       "<div>\n",
       "<style scoped>\n",
       "    .dataframe tbody tr th:only-of-type {\n",
       "        vertical-align: middle;\n",
       "    }\n",
       "\n",
       "    .dataframe tbody tr th {\n",
       "        vertical-align: top;\n",
       "    }\n",
       "\n",
       "    .dataframe thead th {\n",
       "        text-align: right;\n",
       "    }\n",
       "</style>\n",
       "<table border=\"1\" class=\"dataframe\">\n",
       "  <thead>\n",
       "    <tr style=\"text-align: right;\">\n",
       "      <th></th>\n",
       "      <th>colocation_rate</th>\n",
       "      <th>n_samples</th>\n",
       "      <th>diff</th>\n",
       "      <th>acceptance_ratio</th>\n",
       "    </tr>\n",
       "    <tr>\n",
       "      <th>CANAL</th>\n",
       "      <th></th>\n",
       "      <th></th>\n",
       "      <th></th>\n",
       "      <th></th>\n",
       "    </tr>\n",
       "  </thead>\n",
       "  <tbody>\n",
       "    <tr>\n",
       "      <th>ONLINE</th>\n",
       "      <td>0.019849</td>\n",
       "      <td>2375176</td>\n",
       "      <td>0.007588</td>\n",
       "      <td>1.618943</td>\n",
       "    </tr>\n",
       "    <tr>\n",
       "      <th>PRESENCIAL</th>\n",
       "      <td>0.005831</td>\n",
       "      <td>2803352</td>\n",
       "      <td>-0.006429</td>\n",
       "      <td>0.475592</td>\n",
       "    </tr>\n",
       "  </tbody>\n",
       "</table>\n",
       "</div>"
      ],
      "text/plain": [
       "            colocation_rate  n_samples      diff  acceptance_ratio\n",
       "CANAL                                                             \n",
       "ONLINE             0.019849    2375176  0.007588          1.618943\n",
       "PRESENCIAL         0.005831    2803352 -0.006429          0.475592"
      ]
     },
     "metadata": {},
     "output_type": "display_data"
    },
    {
     "name": "stdout",
     "output_type": "stream",
     "text": [
      "\n",
      "--------------------------------------------------\n",
      "\n",
      "Análisis para la variable: SUB_PERFIL_RIESGOS\n"
     ]
    },
    {
     "data": {
      "text/html": [
       "<div>\n",
       "<style scoped>\n",
       "    .dataframe tbody tr th:only-of-type {\n",
       "        vertical-align: middle;\n",
       "    }\n",
       "\n",
       "    .dataframe tbody tr th {\n",
       "        vertical-align: top;\n",
       "    }\n",
       "\n",
       "    .dataframe thead th {\n",
       "        text-align: right;\n",
       "    }\n",
       "</style>\n",
       "<table border=\"1\" class=\"dataframe\">\n",
       "  <thead>\n",
       "    <tr style=\"text-align: right;\">\n",
       "      <th></th>\n",
       "      <th>colocation_rate</th>\n",
       "      <th>n_samples</th>\n",
       "      <th>diff</th>\n",
       "      <th>acceptance_ratio</th>\n",
       "    </tr>\n",
       "    <tr>\n",
       "      <th>SUB_PERFIL_RIESGOS</th>\n",
       "      <th></th>\n",
       "      <th></th>\n",
       "      <th></th>\n",
       "      <th></th>\n",
       "    </tr>\n",
       "  </thead>\n",
       "  <tbody>\n",
       "    <tr>\n",
       "      <th>PERFIL1</th>\n",
       "      <td>0.016109</td>\n",
       "      <td>2639909</td>\n",
       "      <td>0.003849</td>\n",
       "      <td>1.313913</td>\n",
       "    </tr>\n",
       "    <tr>\n",
       "      <th>PERFIL2</th>\n",
       "      <td>0.011825</td>\n",
       "      <td>1077129</td>\n",
       "      <td>-0.000435</td>\n",
       "      <td>0.964496</td>\n",
       "    </tr>\n",
       "    <tr>\n",
       "      <th>PERFIL3</th>\n",
       "      <td>0.006726</td>\n",
       "      <td>672580</td>\n",
       "      <td>-0.005534</td>\n",
       "      <td>0.548630</td>\n",
       "    </tr>\n",
       "    <tr>\n",
       "      <th>PERFIL4</th>\n",
       "      <td>0.004694</td>\n",
       "      <td>788910</td>\n",
       "      <td>-0.007566</td>\n",
       "      <td>0.382849</td>\n",
       "    </tr>\n",
       "  </tbody>\n",
       "</table>\n",
       "</div>"
      ],
      "text/plain": [
       "                    colocation_rate  n_samples      diff  acceptance_ratio\n",
       "SUB_PERFIL_RIESGOS                                                        \n",
       "PERFIL1                    0.016109    2639909  0.003849          1.313913\n",
       "PERFIL2                    0.011825    1077129 -0.000435          0.964496\n",
       "PERFIL3                    0.006726     672580 -0.005534          0.548630\n",
       "PERFIL4                    0.004694     788910 -0.007566          0.382849"
      ]
     },
     "metadata": {},
     "output_type": "display_data"
    },
    {
     "name": "stdout",
     "output_type": "stream",
     "text": [
      "\n",
      "--------------------------------------------------\n",
      "\n",
      "Análisis para la variable: CLIENTE_BG\n"
     ]
    },
    {
     "data": {
      "text/html": [
       "<div>\n",
       "<style scoped>\n",
       "    .dataframe tbody tr th:only-of-type {\n",
       "        vertical-align: middle;\n",
       "    }\n",
       "\n",
       "    .dataframe tbody tr th {\n",
       "        vertical-align: top;\n",
       "    }\n",
       "\n",
       "    .dataframe thead th {\n",
       "        text-align: right;\n",
       "    }\n",
       "</style>\n",
       "<table border=\"1\" class=\"dataframe\">\n",
       "  <thead>\n",
       "    <tr style=\"text-align: right;\">\n",
       "      <th></th>\n",
       "      <th>colocation_rate</th>\n",
       "      <th>n_samples</th>\n",
       "      <th>diff</th>\n",
       "      <th>acceptance_ratio</th>\n",
       "    </tr>\n",
       "    <tr>\n",
       "      <th>CLIENTE_BG</th>\n",
       "      <th></th>\n",
       "      <th></th>\n",
       "      <th></th>\n",
       "      <th></th>\n",
       "    </tr>\n",
       "  </thead>\n",
       "  <tbody>\n",
       "    <tr>\n",
       "      <th>CLIENTE_TIPO1</th>\n",
       "      <td>0.023264</td>\n",
       "      <td>2442548</td>\n",
       "      <td>0.011004</td>\n",
       "      <td>1.897501</td>\n",
       "    </tr>\n",
       "    <tr>\n",
       "      <th>CLIENTE_TIPO2</th>\n",
       "      <td>0.002437</td>\n",
       "      <td>2735980</td>\n",
       "      <td>-0.009823</td>\n",
       "      <td>0.198755</td>\n",
       "    </tr>\n",
       "  </tbody>\n",
       "</table>\n",
       "</div>"
      ],
      "text/plain": [
       "               colocation_rate  n_samples      diff  acceptance_ratio\n",
       "CLIENTE_BG                                                           \n",
       "CLIENTE_TIPO1         0.023264    2442548  0.011004          1.897501\n",
       "CLIENTE_TIPO2         0.002437    2735980 -0.009823          0.198755"
      ]
     },
     "metadata": {},
     "output_type": "display_data"
    },
    {
     "name": "stdout",
     "output_type": "stream",
     "text": [
      "\n",
      "--------------------------------------------------\n",
      "\n",
      "Análisis para la variable: APROBACION_MES_ANTERIOR\n"
     ]
    },
    {
     "data": {
      "text/html": [
       "<div>\n",
       "<style scoped>\n",
       "    .dataframe tbody tr th:only-of-type {\n",
       "        vertical-align: middle;\n",
       "    }\n",
       "\n",
       "    .dataframe tbody tr th {\n",
       "        vertical-align: top;\n",
       "    }\n",
       "\n",
       "    .dataframe thead th {\n",
       "        text-align: right;\n",
       "    }\n",
       "</style>\n",
       "<table border=\"1\" class=\"dataframe\">\n",
       "  <thead>\n",
       "    <tr style=\"text-align: right;\">\n",
       "      <th></th>\n",
       "      <th>colocation_rate</th>\n",
       "      <th>n_samples</th>\n",
       "      <th>diff</th>\n",
       "      <th>acceptance_ratio</th>\n",
       "    </tr>\n",
       "    <tr>\n",
       "      <th>APROBACION_MES_ANTERIOR</th>\n",
       "      <th></th>\n",
       "      <th></th>\n",
       "      <th></th>\n",
       "      <th></th>\n",
       "    </tr>\n",
       "  </thead>\n",
       "  <tbody>\n",
       "    <tr>\n",
       "      <th>TIPO1</th>\n",
       "      <td>0.011857</td>\n",
       "      <td>3013833</td>\n",
       "      <td>-0.000403</td>\n",
       "      <td>0.967136</td>\n",
       "    </tr>\n",
       "    <tr>\n",
       "      <th>TIPO2</th>\n",
       "      <td>0.007149</td>\n",
       "      <td>1554721</td>\n",
       "      <td>-0.005112</td>\n",
       "      <td>0.583068</td>\n",
       "    </tr>\n",
       "    <tr>\n",
       "      <th>TIPO3</th>\n",
       "      <td>0.005335</td>\n",
       "      <td>6748</td>\n",
       "      <td>-0.006925</td>\n",
       "      <td>0.435139</td>\n",
       "    </tr>\n",
       "  </tbody>\n",
       "</table>\n",
       "</div>"
      ],
      "text/plain": [
       "                         colocation_rate  n_samples      diff  \\\n",
       "APROBACION_MES_ANTERIOR                                         \n",
       "TIPO1                           0.011857    3013833 -0.000403   \n",
       "TIPO2                           0.007149    1554721 -0.005112   \n",
       "TIPO3                           0.005335       6748 -0.006925   \n",
       "\n",
       "                         acceptance_ratio  \n",
       "APROBACION_MES_ANTERIOR                    \n",
       "TIPO1                            0.967136  \n",
       "TIPO2                            0.583068  \n",
       "TIPO3                            0.435139  "
      ]
     },
     "metadata": {},
     "output_type": "display_data"
    },
    {
     "name": "stdout",
     "output_type": "stream",
     "text": [
      "\n",
      "--------------------------------------------------\n",
      "\n",
      "Análisis para la variable: PRODUCTO_MES_ANTERIOR\n"
     ]
    },
    {
     "data": {
      "text/html": [
       "<div>\n",
       "<style scoped>\n",
       "    .dataframe tbody tr th:only-of-type {\n",
       "        vertical-align: middle;\n",
       "    }\n",
       "\n",
       "    .dataframe tbody tr th {\n",
       "        vertical-align: top;\n",
       "    }\n",
       "\n",
       "    .dataframe thead th {\n",
       "        text-align: right;\n",
       "    }\n",
       "</style>\n",
       "<table border=\"1\" class=\"dataframe\">\n",
       "  <thead>\n",
       "    <tr style=\"text-align: right;\">\n",
       "      <th></th>\n",
       "      <th>colocation_rate</th>\n",
       "      <th>n_samples</th>\n",
       "      <th>diff</th>\n",
       "      <th>acceptance_ratio</th>\n",
       "    </tr>\n",
       "    <tr>\n",
       "      <th>PRODUCTO_MES_ANTERIOR</th>\n",
       "      <th></th>\n",
       "      <th></th>\n",
       "      <th></th>\n",
       "      <th></th>\n",
       "    </tr>\n",
       "  </thead>\n",
       "  <tbody>\n",
       "    <tr>\n",
       "      <th>Producto1</th>\n",
       "      <td>0.009576</td>\n",
       "      <td>4079217</td>\n",
       "      <td>-0.002684</td>\n",
       "      <td>0.781070</td>\n",
       "    </tr>\n",
       "    <tr>\n",
       "      <th>Producto2</th>\n",
       "      <td>0.015719</td>\n",
       "      <td>470012</td>\n",
       "      <td>0.003459</td>\n",
       "      <td>1.282091</td>\n",
       "    </tr>\n",
       "    <tr>\n",
       "      <th>Producto3</th>\n",
       "      <td>0.016684</td>\n",
       "      <td>26073</td>\n",
       "      <td>0.004424</td>\n",
       "      <td>1.360816</td>\n",
       "    </tr>\n",
       "  </tbody>\n",
       "</table>\n",
       "</div>"
      ],
      "text/plain": [
       "                       colocation_rate  n_samples      diff  acceptance_ratio\n",
       "PRODUCTO_MES_ANTERIOR                                                        \n",
       "Producto1                     0.009576    4079217 -0.002684          0.781070\n",
       "Producto2                     0.015719     470012  0.003459          1.282091\n",
       "Producto3                     0.016684      26073  0.004424          1.360816"
      ]
     },
     "metadata": {},
     "output_type": "display_data"
    },
    {
     "name": "stdout",
     "output_type": "stream",
     "text": [
      "\n",
      "--------------------------------------------------\n",
      "\n",
      "Análisis para la variable: CONTACTABILIDAD_TOTAL\n"
     ]
    },
    {
     "data": {
      "text/html": [
       "<div>\n",
       "<style scoped>\n",
       "    .dataframe tbody tr th:only-of-type {\n",
       "        vertical-align: middle;\n",
       "    }\n",
       "\n",
       "    .dataframe tbody tr th {\n",
       "        vertical-align: top;\n",
       "    }\n",
       "\n",
       "    .dataframe thead th {\n",
       "        text-align: right;\n",
       "    }\n",
       "</style>\n",
       "<table border=\"1\" class=\"dataframe\">\n",
       "  <thead>\n",
       "    <tr style=\"text-align: right;\">\n",
       "      <th></th>\n",
       "      <th>colocation_rate</th>\n",
       "      <th>n_samples</th>\n",
       "      <th>diff</th>\n",
       "      <th>acceptance_ratio</th>\n",
       "    </tr>\n",
       "    <tr>\n",
       "      <th>CONTACTABILIDAD_TOTAL</th>\n",
       "      <th></th>\n",
       "      <th></th>\n",
       "      <th></th>\n",
       "      <th></th>\n",
       "    </tr>\n",
       "  </thead>\n",
       "  <tbody>\n",
       "    <tr>\n",
       "      <th>AC</th>\n",
       "      <td>0.013128</td>\n",
       "      <td>4783638</td>\n",
       "      <td>0.000867</td>\n",
       "      <td>1.070751</td>\n",
       "    </tr>\n",
       "    <tr>\n",
       "      <th>ND</th>\n",
       "      <td>0.001752</td>\n",
       "      <td>394890</td>\n",
       "      <td>-0.010508</td>\n",
       "      <td>0.142932</td>\n",
       "    </tr>\n",
       "  </tbody>\n",
       "</table>\n",
       "</div>"
      ],
      "text/plain": [
       "                       colocation_rate  n_samples      diff  acceptance_ratio\n",
       "CONTACTABILIDAD_TOTAL                                                        \n",
       "AC                            0.013128    4783638  0.000867          1.070751\n",
       "ND                            0.001752     394890 -0.010508          0.142932"
      ]
     },
     "metadata": {},
     "output_type": "display_data"
    },
    {
     "name": "stdout",
     "output_type": "stream",
     "text": [
      "\n",
      "--------------------------------------------------\n",
      "\n"
     ]
    }
   ],
   "source": [
    "# Cálculo de la tasa global de colocación\n",
    "global_colocation_ratio = df_colocado['COLOCADO'].mean()\n",
    "\n",
    "# Variables categóricas a analizar\n",
    "cat_vars = ['SEGMENTO', 'REGION', 'TIPO_APROBACION', 'CANAL', 'SUB_PERFIL_RIESGOS',\"CLIENTE_BG\", \"APROBACION_MES_ANTERIOR\",\"PRODUCTO_MES_ANTERIOR\",\"CONTACTABILIDAD_TOTAL\"]\n",
    "\n",
    "# Iterar sobre cada variable categórica\n",
    "for c in cat_vars:\n",
    "    print(f\"Análisis para la variable: {c}\")\n",
    "    # Agrupación por la variable categórica\n",
    "    df_group = df_colocado.groupby(c)['COLOCADO'].agg(['mean', 'count']).rename(columns={\n",
    "        'mean': 'colocation_rate',\n",
    "        'count': 'n_samples'\n",
    "    })\n",
    "    # Cálculo de diferencia y riesgo relativo\n",
    "    df_group['diff'] = df_group['colocation_rate'] - global_colocation_ratio\n",
    "    df_group['acceptance_ratio'] = df_group['colocation_rate'] / global_colocation_ratio\n",
    "\n",
    "    # Mostrar resultados\n",
    "    display(df_group)\n",
    "    print(\"\\n\" + \"-\" * 50 + \"\\n\")\n"
   ]
  },
  {
   "cell_type": "markdown",
   "metadata": {},
   "source": [
    "* Segmentos: Es recomendable centrar las campañas de marketing en los segmentos con alta tasa de aceptación como SEGMENTO1 y SEGMENTO2. Además, los segmentos de mayor riesgo (SEGMENTO6 y SEGMENTO7) podrían beneficiarse de un enfoque diferenciado.\n",
    "\n",
    "* Regiones: Las estrategias de colocación de créditos deben centrarse más en la región CENTRO, que tiene la tasa de aceptación más alta. Las regiones NORTE y SUR pueden necesitar esfuerzos adicionales para mejorar la tasa de aceptación.\n",
    "\n",
    "* Tipo de Aprobación: Las personas con TIPO1 tienen una mayor probabilidad de aceptación, por lo que una posible estrategia sería reducir las barreras para que más personas pasen a TIPO1.\n",
    "\n",
    "* Canal de Venta: La colocación online muestra una alta tasa de aceptación en comparación con la colocación presencial. Esto sugiere que el canal digital debería ser priorizado en futuras campañas.\n",
    "\n",
    "* Sub Perfil de Riesgo: Los individuos con PERFIL1 tienen la mayor probabilidad de aceptar créditos. Las estrategias para los perfiles de riesgo alto (PERFIL3 y PERFIL4) podrían enfocarse en la gestión del riesgo o en ofrecer condiciones más atractivas.\n",
    "\n"
   ]
  },
  {
   "cell_type": "markdown",
   "metadata": {},
   "source": [
    "## Mutual information"
   ]
  },
  {
   "cell_type": "markdown",
   "metadata": {},
   "source": [
    "El mutual information score es una medida que evalúa la dependencia entre dos variables. Un valor más alto indica una mayor relación entre las variables, lo que sugiere que una variable es más informativa sobre la otra. En este caso, estamos utilizando el mutual_info_score para medir la relación entre las variables categóricas y la variable COLOCADO (aceptación de crédito)."
   ]
  },
  {
   "cell_type": "code",
   "execution_count": 14,
   "metadata": {},
   "outputs": [],
   "source": [
    "from sklearn.metrics import mutual_info_score"
   ]
  },
  {
   "cell_type": "code",
   "execution_count": 15,
   "metadata": {},
   "outputs": [],
   "source": [
    "def mutual_info_aceptance_score(series):\n",
    "    return mutual_info_score(series, df_colocado.COLOCADO)"
   ]
  },
  {
   "cell_type": "code",
   "execution_count": 16,
   "metadata": {},
   "outputs": [
    {
     "ename": "TypeError",
     "evalue": "'<' not supported between instances of 'str' and 'NoneType'",
     "output_type": "error",
     "traceback": [
      "\u001b[1;31m---------------------------------------------------------------------------\u001b[0m",
      "\u001b[1;31mTypeError\u001b[0m                                 Traceback (most recent call last)",
      "Cell \u001b[1;32mIn[16], line 1\u001b[0m\n\u001b[1;32m----> 1\u001b[0m mi \u001b[38;5;241m=\u001b[39m \u001b[43mdf_colocado\u001b[49m\u001b[43m[\u001b[49m\u001b[43mcat_vars\u001b[49m\u001b[43m]\u001b[49m\u001b[38;5;241;43m.\u001b[39;49m\u001b[43mapply\u001b[49m\u001b[43m(\u001b[49m\u001b[43mmutual_info_aceptance_score\u001b[49m\u001b[43m)\u001b[49m\n\u001b[0;32m      2\u001b[0m mi\u001b[38;5;241m.\u001b[39msort_values(ascending\u001b[38;5;241m=\u001b[39m\u001b[38;5;28;01mFalse\u001b[39;00m)\n",
      "File \u001b[1;32m~\\anaconda3\\envs\\colocacion_de_creditos\\Lib\\site-packages\\pandas\\core\\frame.py:10374\u001b[0m, in \u001b[0;36mDataFrame.apply\u001b[1;34m(self, func, axis, raw, result_type, args, by_row, engine, engine_kwargs, **kwargs)\u001b[0m\n\u001b[0;32m  10360\u001b[0m \u001b[38;5;28;01mfrom\u001b[39;00m \u001b[38;5;21;01mpandas\u001b[39;00m\u001b[38;5;21;01m.\u001b[39;00m\u001b[38;5;21;01mcore\u001b[39;00m\u001b[38;5;21;01m.\u001b[39;00m\u001b[38;5;21;01mapply\u001b[39;00m \u001b[38;5;28;01mimport\u001b[39;00m frame_apply\n\u001b[0;32m  10362\u001b[0m op \u001b[38;5;241m=\u001b[39m frame_apply(\n\u001b[0;32m  10363\u001b[0m     \u001b[38;5;28mself\u001b[39m,\n\u001b[0;32m  10364\u001b[0m     func\u001b[38;5;241m=\u001b[39mfunc,\n\u001b[1;32m   (...)\u001b[0m\n\u001b[0;32m  10372\u001b[0m     kwargs\u001b[38;5;241m=\u001b[39mkwargs,\n\u001b[0;32m  10373\u001b[0m )\n\u001b[1;32m> 10374\u001b[0m \u001b[38;5;28;01mreturn\u001b[39;00m \u001b[43mop\u001b[49m\u001b[38;5;241;43m.\u001b[39;49m\u001b[43mapply\u001b[49m\u001b[43m(\u001b[49m\u001b[43m)\u001b[49m\u001b[38;5;241m.\u001b[39m__finalize__(\u001b[38;5;28mself\u001b[39m, method\u001b[38;5;241m=\u001b[39m\u001b[38;5;124m\"\u001b[39m\u001b[38;5;124mapply\u001b[39m\u001b[38;5;124m\"\u001b[39m)\n",
      "File \u001b[1;32m~\\anaconda3\\envs\\colocacion_de_creditos\\Lib\\site-packages\\pandas\\core\\apply.py:916\u001b[0m, in \u001b[0;36mFrameApply.apply\u001b[1;34m(self)\u001b[0m\n\u001b[0;32m    913\u001b[0m \u001b[38;5;28;01melif\u001b[39;00m \u001b[38;5;28mself\u001b[39m\u001b[38;5;241m.\u001b[39mraw:\n\u001b[0;32m    914\u001b[0m     \u001b[38;5;28;01mreturn\u001b[39;00m \u001b[38;5;28mself\u001b[39m\u001b[38;5;241m.\u001b[39mapply_raw(engine\u001b[38;5;241m=\u001b[39m\u001b[38;5;28mself\u001b[39m\u001b[38;5;241m.\u001b[39mengine, engine_kwargs\u001b[38;5;241m=\u001b[39m\u001b[38;5;28mself\u001b[39m\u001b[38;5;241m.\u001b[39mengine_kwargs)\n\u001b[1;32m--> 916\u001b[0m \u001b[38;5;28;01mreturn\u001b[39;00m \u001b[38;5;28;43mself\u001b[39;49m\u001b[38;5;241;43m.\u001b[39;49m\u001b[43mapply_standard\u001b[49m\u001b[43m(\u001b[49m\u001b[43m)\u001b[49m\n",
      "File \u001b[1;32m~\\anaconda3\\envs\\colocacion_de_creditos\\Lib\\site-packages\\pandas\\core\\apply.py:1063\u001b[0m, in \u001b[0;36mFrameApply.apply_standard\u001b[1;34m(self)\u001b[0m\n\u001b[0;32m   1061\u001b[0m \u001b[38;5;28;01mdef\u001b[39;00m \u001b[38;5;21mapply_standard\u001b[39m(\u001b[38;5;28mself\u001b[39m):\n\u001b[0;32m   1062\u001b[0m     \u001b[38;5;28;01mif\u001b[39;00m \u001b[38;5;28mself\u001b[39m\u001b[38;5;241m.\u001b[39mengine \u001b[38;5;241m==\u001b[39m \u001b[38;5;124m\"\u001b[39m\u001b[38;5;124mpython\u001b[39m\u001b[38;5;124m\"\u001b[39m:\n\u001b[1;32m-> 1063\u001b[0m         results, res_index \u001b[38;5;241m=\u001b[39m \u001b[38;5;28;43mself\u001b[39;49m\u001b[38;5;241;43m.\u001b[39;49m\u001b[43mapply_series_generator\u001b[49m\u001b[43m(\u001b[49m\u001b[43m)\u001b[49m\n\u001b[0;32m   1064\u001b[0m     \u001b[38;5;28;01melse\u001b[39;00m:\n\u001b[0;32m   1065\u001b[0m         results, res_index \u001b[38;5;241m=\u001b[39m \u001b[38;5;28mself\u001b[39m\u001b[38;5;241m.\u001b[39mapply_series_numba()\n",
      "File \u001b[1;32m~\\anaconda3\\envs\\colocacion_de_creditos\\Lib\\site-packages\\pandas\\core\\apply.py:1081\u001b[0m, in \u001b[0;36mFrameApply.apply_series_generator\u001b[1;34m(self)\u001b[0m\n\u001b[0;32m   1078\u001b[0m \u001b[38;5;28;01mwith\u001b[39;00m option_context(\u001b[38;5;124m\"\u001b[39m\u001b[38;5;124mmode.chained_assignment\u001b[39m\u001b[38;5;124m\"\u001b[39m, \u001b[38;5;28;01mNone\u001b[39;00m):\n\u001b[0;32m   1079\u001b[0m     \u001b[38;5;28;01mfor\u001b[39;00m i, v \u001b[38;5;129;01min\u001b[39;00m \u001b[38;5;28menumerate\u001b[39m(series_gen):\n\u001b[0;32m   1080\u001b[0m         \u001b[38;5;66;03m# ignore SettingWithCopy here in case the user mutates\u001b[39;00m\n\u001b[1;32m-> 1081\u001b[0m         results[i] \u001b[38;5;241m=\u001b[39m \u001b[38;5;28;43mself\u001b[39;49m\u001b[38;5;241;43m.\u001b[39;49m\u001b[43mfunc\u001b[49m\u001b[43m(\u001b[49m\u001b[43mv\u001b[49m\u001b[43m,\u001b[49m\u001b[43m \u001b[49m\u001b[38;5;241;43m*\u001b[39;49m\u001b[38;5;28;43mself\u001b[39;49m\u001b[38;5;241;43m.\u001b[39;49m\u001b[43margs\u001b[49m\u001b[43m,\u001b[49m\u001b[43m \u001b[49m\u001b[38;5;241;43m*\u001b[39;49m\u001b[38;5;241;43m*\u001b[39;49m\u001b[38;5;28;43mself\u001b[39;49m\u001b[38;5;241;43m.\u001b[39;49m\u001b[43mkwargs\u001b[49m\u001b[43m)\u001b[49m\n\u001b[0;32m   1082\u001b[0m         \u001b[38;5;28;01mif\u001b[39;00m \u001b[38;5;28misinstance\u001b[39m(results[i], ABCSeries):\n\u001b[0;32m   1083\u001b[0m             \u001b[38;5;66;03m# If we have a view on v, we need to make a copy because\u001b[39;00m\n\u001b[0;32m   1084\u001b[0m             \u001b[38;5;66;03m#  series_generator will swap out the underlying data\u001b[39;00m\n\u001b[0;32m   1085\u001b[0m             results[i] \u001b[38;5;241m=\u001b[39m results[i]\u001b[38;5;241m.\u001b[39mcopy(deep\u001b[38;5;241m=\u001b[39m\u001b[38;5;28;01mFalse\u001b[39;00m)\n",
      "Cell \u001b[1;32mIn[15], line 2\u001b[0m, in \u001b[0;36mmutual_info_aceptance_score\u001b[1;34m(series)\u001b[0m\n\u001b[0;32m      1\u001b[0m \u001b[38;5;28;01mdef\u001b[39;00m \u001b[38;5;21mmutual_info_aceptance_score\u001b[39m(series):\n\u001b[1;32m----> 2\u001b[0m     \u001b[38;5;28;01mreturn\u001b[39;00m \u001b[43mmutual_info_score\u001b[49m\u001b[43m(\u001b[49m\u001b[43mseries\u001b[49m\u001b[43m,\u001b[49m\u001b[43m \u001b[49m\u001b[43mdf_colocado\u001b[49m\u001b[38;5;241;43m.\u001b[39;49m\u001b[43mCOLOCADO\u001b[49m\u001b[43m)\u001b[49m\n",
      "File \u001b[1;32m~\\anaconda3\\envs\\colocacion_de_creditos\\Lib\\site-packages\\sklearn\\utils\\_param_validation.py:213\u001b[0m, in \u001b[0;36mvalidate_params.<locals>.decorator.<locals>.wrapper\u001b[1;34m(*args, **kwargs)\u001b[0m\n\u001b[0;32m    207\u001b[0m \u001b[38;5;28;01mtry\u001b[39;00m:\n\u001b[0;32m    208\u001b[0m     \u001b[38;5;28;01mwith\u001b[39;00m config_context(\n\u001b[0;32m    209\u001b[0m         skip_parameter_validation\u001b[38;5;241m=\u001b[39m(\n\u001b[0;32m    210\u001b[0m             prefer_skip_nested_validation \u001b[38;5;129;01mor\u001b[39;00m global_skip_validation\n\u001b[0;32m    211\u001b[0m         )\n\u001b[0;32m    212\u001b[0m     ):\n\u001b[1;32m--> 213\u001b[0m         \u001b[38;5;28;01mreturn\u001b[39;00m \u001b[43mfunc\u001b[49m\u001b[43m(\u001b[49m\u001b[38;5;241;43m*\u001b[39;49m\u001b[43margs\u001b[49m\u001b[43m,\u001b[49m\u001b[43m \u001b[49m\u001b[38;5;241;43m*\u001b[39;49m\u001b[38;5;241;43m*\u001b[39;49m\u001b[43mkwargs\u001b[49m\u001b[43m)\u001b[49m\n\u001b[0;32m    214\u001b[0m \u001b[38;5;28;01mexcept\u001b[39;00m InvalidParameterError \u001b[38;5;28;01mas\u001b[39;00m e:\n\u001b[0;32m    215\u001b[0m     \u001b[38;5;66;03m# When the function is just a wrapper around an estimator, we allow\u001b[39;00m\n\u001b[0;32m    216\u001b[0m     \u001b[38;5;66;03m# the function to delegate validation to the estimator, but we replace\u001b[39;00m\n\u001b[0;32m    217\u001b[0m     \u001b[38;5;66;03m# the name of the estimator by the name of the function in the error\u001b[39;00m\n\u001b[0;32m    218\u001b[0m     \u001b[38;5;66;03m# message to avoid confusion.\u001b[39;00m\n\u001b[0;32m    219\u001b[0m     msg \u001b[38;5;241m=\u001b[39m re\u001b[38;5;241m.\u001b[39msub(\n\u001b[0;32m    220\u001b[0m         \u001b[38;5;124mr\u001b[39m\u001b[38;5;124m\"\u001b[39m\u001b[38;5;124mparameter of \u001b[39m\u001b[38;5;124m\\\u001b[39m\u001b[38;5;124mw+ must be\u001b[39m\u001b[38;5;124m\"\u001b[39m,\n\u001b[0;32m    221\u001b[0m         \u001b[38;5;124mf\u001b[39m\u001b[38;5;124m\"\u001b[39m\u001b[38;5;124mparameter of \u001b[39m\u001b[38;5;132;01m{\u001b[39;00mfunc\u001b[38;5;241m.\u001b[39m\u001b[38;5;18m__qualname__\u001b[39m\u001b[38;5;132;01m}\u001b[39;00m\u001b[38;5;124m must be\u001b[39m\u001b[38;5;124m\"\u001b[39m,\n\u001b[0;32m    222\u001b[0m         \u001b[38;5;28mstr\u001b[39m(e),\n\u001b[0;32m    223\u001b[0m     )\n",
      "File \u001b[1;32m~\\anaconda3\\envs\\colocacion_de_creditos\\Lib\\site-packages\\sklearn\\metrics\\cluster\\_supervised.py:887\u001b[0m, in \u001b[0;36mmutual_info_score\u001b[1;34m(labels_true, labels_pred, contingency)\u001b[0m\n\u001b[0;32m    821\u001b[0m \u001b[38;5;250m\u001b[39m\u001b[38;5;124;03m\"\"\"Mutual Information between two clusterings.\u001b[39;00m\n\u001b[0;32m    822\u001b[0m \n\u001b[0;32m    823\u001b[0m \u001b[38;5;124;03mThe Mutual Information is a measure of the similarity between two labels\u001b[39;00m\n\u001b[1;32m   (...)\u001b[0m\n\u001b[0;32m    884\u001b[0m \u001b[38;5;124;03mnp.float64(0.056...)\u001b[39;00m\n\u001b[0;32m    885\u001b[0m \u001b[38;5;124;03m\"\"\"\u001b[39;00m\n\u001b[0;32m    886\u001b[0m \u001b[38;5;28;01mif\u001b[39;00m contingency \u001b[38;5;129;01mis\u001b[39;00m \u001b[38;5;28;01mNone\u001b[39;00m:\n\u001b[1;32m--> 887\u001b[0m     labels_true, labels_pred \u001b[38;5;241m=\u001b[39m \u001b[43mcheck_clusterings\u001b[49m\u001b[43m(\u001b[49m\u001b[43mlabels_true\u001b[49m\u001b[43m,\u001b[49m\u001b[43m \u001b[49m\u001b[43mlabels_pred\u001b[49m\u001b[43m)\u001b[49m\n\u001b[0;32m    888\u001b[0m     contingency \u001b[38;5;241m=\u001b[39m contingency_matrix(labels_true, labels_pred, sparse\u001b[38;5;241m=\u001b[39m\u001b[38;5;28;01mTrue\u001b[39;00m)\n\u001b[0;32m    889\u001b[0m \u001b[38;5;28;01melse\u001b[39;00m:\n",
      "File \u001b[1;32m~\\anaconda3\\envs\\colocacion_de_creditos\\Lib\\site-packages\\sklearn\\metrics\\cluster\\_supervised.py:57\u001b[0m, in \u001b[0;36mcheck_clusterings\u001b[1;34m(labels_true, labels_pred)\u001b[0m\n\u001b[0;32m     43\u001b[0m labels_true \u001b[38;5;241m=\u001b[39m check_array(\n\u001b[0;32m     44\u001b[0m     labels_true,\n\u001b[0;32m     45\u001b[0m     ensure_2d\u001b[38;5;241m=\u001b[39m\u001b[38;5;28;01mFalse\u001b[39;00m,\n\u001b[0;32m     46\u001b[0m     ensure_min_samples\u001b[38;5;241m=\u001b[39m\u001b[38;5;241m0\u001b[39m,\n\u001b[0;32m     47\u001b[0m     dtype\u001b[38;5;241m=\u001b[39m\u001b[38;5;28;01mNone\u001b[39;00m,\n\u001b[0;32m     48\u001b[0m )\n\u001b[0;32m     50\u001b[0m labels_pred \u001b[38;5;241m=\u001b[39m check_array(\n\u001b[0;32m     51\u001b[0m     labels_pred,\n\u001b[0;32m     52\u001b[0m     ensure_2d\u001b[38;5;241m=\u001b[39m\u001b[38;5;28;01mFalse\u001b[39;00m,\n\u001b[0;32m     53\u001b[0m     ensure_min_samples\u001b[38;5;241m=\u001b[39m\u001b[38;5;241m0\u001b[39m,\n\u001b[0;32m     54\u001b[0m     dtype\u001b[38;5;241m=\u001b[39m\u001b[38;5;28;01mNone\u001b[39;00m,\n\u001b[0;32m     55\u001b[0m )\n\u001b[1;32m---> 57\u001b[0m type_label \u001b[38;5;241m=\u001b[39m \u001b[43mtype_of_target\u001b[49m\u001b[43m(\u001b[49m\u001b[43mlabels_true\u001b[49m\u001b[43m)\u001b[49m\n\u001b[0;32m     58\u001b[0m type_pred \u001b[38;5;241m=\u001b[39m type_of_target(labels_pred)\n\u001b[0;32m     60\u001b[0m \u001b[38;5;28;01mif\u001b[39;00m \u001b[38;5;124m\"\u001b[39m\u001b[38;5;124mcontinuous\u001b[39m\u001b[38;5;124m\"\u001b[39m \u001b[38;5;129;01min\u001b[39;00m (type_pred, type_label):\n",
      "File \u001b[1;32m~\\anaconda3\\envs\\colocacion_de_creditos\\Lib\\site-packages\\sklearn\\utils\\multiclass.py:404\u001b[0m, in \u001b[0;36mtype_of_target\u001b[1;34m(y, input_name)\u001b[0m\n\u001b[0;32m    402\u001b[0m \u001b[38;5;28;01mif\u001b[39;00m issparse(first_row_or_val):\n\u001b[0;32m    403\u001b[0m     first_row_or_val \u001b[38;5;241m=\u001b[39m first_row_or_val\u001b[38;5;241m.\u001b[39mdata\n\u001b[1;32m--> 404\u001b[0m \u001b[38;5;28;01mif\u001b[39;00m \u001b[43mxp\u001b[49m\u001b[38;5;241;43m.\u001b[39;49m\u001b[43munique_values\u001b[49m\u001b[43m(\u001b[49m\u001b[43my\u001b[49m\u001b[43m)\u001b[49m\u001b[38;5;241m.\u001b[39mshape[\u001b[38;5;241m0\u001b[39m] \u001b[38;5;241m>\u001b[39m \u001b[38;5;241m2\u001b[39m \u001b[38;5;129;01mor\u001b[39;00m (y\u001b[38;5;241m.\u001b[39mndim \u001b[38;5;241m==\u001b[39m \u001b[38;5;241m2\u001b[39m \u001b[38;5;129;01mand\u001b[39;00m \u001b[38;5;28mlen\u001b[39m(first_row_or_val) \u001b[38;5;241m>\u001b[39m \u001b[38;5;241m1\u001b[39m):\n\u001b[0;32m    405\u001b[0m     \u001b[38;5;66;03m# [1, 2, 3] or [[1., 2., 3]] or [[1, 2]]\u001b[39;00m\n\u001b[0;32m    406\u001b[0m     \u001b[38;5;28;01mreturn\u001b[39;00m \u001b[38;5;124m\"\u001b[39m\u001b[38;5;124mmulticlass\u001b[39m\u001b[38;5;124m\"\u001b[39m \u001b[38;5;241m+\u001b[39m suffix\n\u001b[0;32m    407\u001b[0m \u001b[38;5;28;01melse\u001b[39;00m:\n",
      "File \u001b[1;32m~\\anaconda3\\envs\\colocacion_de_creditos\\Lib\\site-packages\\sklearn\\utils\\_array_api.py:407\u001b[0m, in \u001b[0;36m_NumPyAPIWrapper.unique_values\u001b[1;34m(self, x)\u001b[0m\n\u001b[0;32m    406\u001b[0m \u001b[38;5;28;01mdef\u001b[39;00m \u001b[38;5;21munique_values\u001b[39m(\u001b[38;5;28mself\u001b[39m, x):\n\u001b[1;32m--> 407\u001b[0m     \u001b[38;5;28;01mreturn\u001b[39;00m \u001b[43mnumpy\u001b[49m\u001b[38;5;241;43m.\u001b[39;49m\u001b[43munique\u001b[49m\u001b[43m(\u001b[49m\u001b[43mx\u001b[49m\u001b[43m)\u001b[49m\n",
      "File \u001b[1;32m~\\anaconda3\\envs\\colocacion_de_creditos\\Lib\\site-packages\\numpy\\lib\\_arraysetops_impl.py:291\u001b[0m, in \u001b[0;36munique\u001b[1;34m(ar, return_index, return_inverse, return_counts, axis, equal_nan)\u001b[0m\n\u001b[0;32m    289\u001b[0m ar \u001b[38;5;241m=\u001b[39m np\u001b[38;5;241m.\u001b[39masanyarray(ar)\n\u001b[0;32m    290\u001b[0m \u001b[38;5;28;01mif\u001b[39;00m axis \u001b[38;5;129;01mis\u001b[39;00m \u001b[38;5;28;01mNone\u001b[39;00m:\n\u001b[1;32m--> 291\u001b[0m     ret \u001b[38;5;241m=\u001b[39m \u001b[43m_unique1d\u001b[49m\u001b[43m(\u001b[49m\u001b[43mar\u001b[49m\u001b[43m,\u001b[49m\u001b[43m \u001b[49m\u001b[43mreturn_index\u001b[49m\u001b[43m,\u001b[49m\u001b[43m \u001b[49m\u001b[43mreturn_inverse\u001b[49m\u001b[43m,\u001b[49m\u001b[43m \u001b[49m\u001b[43mreturn_counts\u001b[49m\u001b[43m,\u001b[49m\u001b[43m \u001b[49m\n\u001b[0;32m    292\u001b[0m \u001b[43m                    \u001b[49m\u001b[43mequal_nan\u001b[49m\u001b[38;5;241;43m=\u001b[39;49m\u001b[43mequal_nan\u001b[49m\u001b[43m,\u001b[49m\u001b[43m \u001b[49m\u001b[43minverse_shape\u001b[49m\u001b[38;5;241;43m=\u001b[39;49m\u001b[43mar\u001b[49m\u001b[38;5;241;43m.\u001b[39;49m\u001b[43mshape\u001b[49m\u001b[43m,\u001b[49m\u001b[43m \u001b[49m\u001b[43maxis\u001b[49m\u001b[38;5;241;43m=\u001b[39;49m\u001b[38;5;28;43;01mNone\u001b[39;49;00m\u001b[43m)\u001b[49m\n\u001b[0;32m    293\u001b[0m     \u001b[38;5;28;01mreturn\u001b[39;00m _unpack_tuple(ret)\n\u001b[0;32m    295\u001b[0m \u001b[38;5;66;03m# axis was specified and not None\u001b[39;00m\n",
      "File \u001b[1;32m~\\anaconda3\\envs\\colocacion_de_creditos\\Lib\\site-packages\\numpy\\lib\\_arraysetops_impl.py:358\u001b[0m, in \u001b[0;36m_unique1d\u001b[1;34m(ar, return_index, return_inverse, return_counts, equal_nan, inverse_shape, axis)\u001b[0m\n\u001b[0;32m    356\u001b[0m     aux \u001b[38;5;241m=\u001b[39m ar[perm]\n\u001b[0;32m    357\u001b[0m \u001b[38;5;28;01melse\u001b[39;00m:\n\u001b[1;32m--> 358\u001b[0m     ar\u001b[38;5;241m.\u001b[39msort()\n\u001b[0;32m    359\u001b[0m     aux \u001b[38;5;241m=\u001b[39m ar\n\u001b[0;32m    360\u001b[0m mask \u001b[38;5;241m=\u001b[39m np\u001b[38;5;241m.\u001b[39mempty(aux\u001b[38;5;241m.\u001b[39mshape, dtype\u001b[38;5;241m=\u001b[39mnp\u001b[38;5;241m.\u001b[39mbool)\n",
      "\u001b[1;31mTypeError\u001b[0m: '<' not supported between instances of 'str' and 'NoneType'"
     ]
    }
   ],
   "source": [
    "mi = df_colocado[cat_vars].apply(mutual_info_aceptance_score)\n",
    "mi.sort_values(ascending=False)"
   ]
  },
  {
   "cell_type": "markdown",
   "metadata": {},
   "source": [
    "El análisis de información mutua muestra que CLIENTE_BG tiene la mayor relación con la colocación de crédito, seguido por TIPO_APROBACION y CANAL. Esto sugiere que el perfil del cliente y el canal de contratación son factores clave para predecir la aceptación de créditos. En cambio, REGION, CONTACTABILIDAD_TOTAL y SEGMENTO tienen una relación mucho más débil, indicando que su influencia es mínima en la decisión de colocación.\n"
   ]
  },
  {
   "cell_type": "markdown",
   "metadata": {},
   "source": [
    "## Importancia de caracteristicas numericas"
   ]
  },
  {
   "cell_type": "code",
   "execution_count": null,
   "metadata": {},
   "outputs": [],
   "source": [
    "numeric_col=['N_VECES_CAMPAÑA', 'N_VECES_CAMPAÑA_CONT', 'IVC', 'score_aceptacion',\n",
    "       'SCORE', 'CUPO', 'MONTO_COLOCADO']"
   ]
  },
  {
   "cell_type": "code",
   "execution_count": null,
   "metadata": {},
   "outputs": [],
   "source": [
    "df_colocado[numeric_col].corrwith(df_colocado.COLOCADO).abs().sort_values(ascending=False)"
   ]
  },
  {
   "cell_type": "markdown",
   "metadata": {},
   "source": [
    "El análisis se basó en la correlación absoluta entre las variables numéricas y la colocación de crédito, utilizando el método de correlación de Pearson. Esto permitió identificar qué factores están más estrechamente relacionados con la aceptación del crédito. Los resultados indican que el monto colocado es el factor más influyente, mientras que otras variables como el score de crédito o el cupo ofertado tienen una relación mucho más débil, sugiriendo que la cantidad efectiva colocada y la relación con el banco son determinantes clave."
   ]
  },
  {
   "cell_type": "markdown",
   "metadata": {},
   "source": [
    "tenemos un analisis que hacer que score de aceptacion tiene una relacion baja con repecto si fue colocado o no , por lo que podriamos indicar que este  no es un buen indicador para poder indicar si el credito es colocado."
   ]
  },
  {
   "cell_type": "markdown",
   "metadata": {},
   "source": []
  },
  {
   "cell_type": "code",
   "execution_count": null,
   "metadata": {},
   "outputs": [],
   "source": [
    "# en base a la importancia de las caracteristicas las variables categoricas con las que nos vamos a quedar son las siguientes"
   ]
  },
  {
   "cell_type": "code",
   "execution_count": null,
   "metadata": {},
   "outputs": [],
   "source": [
    "# Selección de columnas relevantes según el análisis anterior\n",
    "columns_to_keep = [\n",
    "    'MONTO_COLOCADO', \n",
    "    'CLIENTE_BG', \n",
    "    'TIPO_APROBACION', \n",
    "    'CANAL', \n",
    "    'IVC', \n",
    "    'score_aceptacion'\n",
    "]\n",
    "\n",
    "# Mantener solo las columnas relevantes\n",
    "df_colocado = df_colocado[columns_to_keep]\n",
    "\n"
   ]
  },
  {
   "cell_type": "markdown",
   "metadata": {},
   "source": [
    "# Codificacion de variables cateforicas"
   ]
  },
  {
   "cell_type": "code",
   "execution_count": null,
   "metadata": {},
   "outputs": [],
   "source": [
    "#import pandas as pd\n",
    "#from sklearn.preprocessing import LabelEncoder\n",
    "\n",
    "## Codificación One-Hot Encoding para variables nominales\n",
    "#df_colocado = pd.get_dummies(df_colocado, columns=['SEGMENTO', 'REGION', 'TIPO_APROBACION', \n",
    "#                                                   'CANAL', 'SUB_PERFIL_RIESGOS', \n",
    "#                                                   'APROBACION_MES_ANTERIOR', 'PRODUCTO_MES_ANTERIOR'])\n",
    "#\n",
    "## Codificación Label Encoding para variables binarias\n",
    "#le = LabelEncoder()\n",
    "#df_colocado['CLIENTE_BG'] = le.fit_transform(df_colocado['CLIENTE_BG'])\n",
    "#df_colocado['CONTACTABILIDAD_TOTAL'] = le.fit_transform(df_colocado['CONTACTABILIDAD_TOTAL'])\n",
    "#\n",
    "## Eliminar columnas originales que se codificaron con get_dummies\n",
    "#df_colocado = df_colocado.drop(columns=['SEGMENTO', 'REGION', 'TIPO_APROBACION', \n",
    "#                                         'CANAL', 'SUB_PERFIL_RIESGOS', \n",
    "#                                         'APROBACION_MES_ANTERIOR', 'PRODUCTO_MES_ANTERIOR'])"
   ]
  },
  {
   "cell_type": "code",
   "execution_count": null,
   "metadata": {},
   "outputs": [],
   "source": [
    "from sklearn.preprocessing import LabelEncoder\n",
    "\n",
    "# Codificación One-Hot Encoding para las variables categóricas\n",
    "df_colocado = pd.get_dummies(df_colocado, columns=['TIPO_APROBACION', 'CANAL'])\n",
    "\n",
    "# Codificación Label Encoding para las variables binarias\n",
    "le = LabelEncoder()\n",
    "df_colocado['CLIENTE_BG'] = le.fit_transform(df_colocado['CLIENTE_BG'])\n"
   ]
  },
  {
   "cell_type": "code",
   "execution_count": null,
   "metadata": {},
   "outputs": [],
   "source": [
    "df_colocado.head()"
   ]
  },
  {
   "cell_type": "markdown",
   "metadata": {},
   "source": [
    "Se utiliza para las variables categóricas que no tienen un orden inherente, es decir, las categorías no pueden ser ordenadas o clasificadas de forma natural como lo son ['SEGMENTO', 'REGION', 'TIPO_APROBACION', \n",
    "                                                   'CANAL', 'SUB_PERFIL_RIESGOS', \n",
    "                                                   'APROBACION_MES_ANTERIOR', 'PRODUCTO_MES_ANTERIOR']"
   ]
  },
  {
   "cell_type": "code",
   "execution_count": null,
   "metadata": {},
   "outputs": [],
   "source": [
    "El Label Encoding convierte las categorías en valores numéricos (0 o 1). Dado que estas variables tienen solo dos categorías posibles, la codificación de estas categorías numéricas no introduce un orden que el modelo no pueda interpretar"
   ]
  },
  {
   "cell_type": "markdown",
   "metadata": {},
   "source": [
    "# separar dataset "
   ]
  },
  {
   "cell_type": "code",
   "execution_count": null,
   "metadata": {},
   "outputs": [],
   "source": [
    "# eliminamos la variable identificacion y la variable producto porque tiene un solo valor por lo cual no nos va aportar a nuestro model\n",
    "# df_colocado.drop(columns=['COLOCADO'])"
   ]
  },
  {
   "cell_type": "code",
   "execution_count": null,
   "metadata": {},
   "outputs": [],
   "source": [
    "# Importar las librerías necesarias\n",
    "from imblearn.under_sampling import RandomUnderSampler\n",
    "from sklearn.model_selection import train_test_split\n"
   ]
  },
  {
   "cell_type": "code",
   "execution_count": null,
   "metadata": {},
   "outputs": [],
   "source": [
    "# eliminamos la variable identificacion y la variable producto porque tiene un solo valor por lo cual no nos va aportar a nuestro modelo\n",
    "X = df_colocado.drop(columns=['COLOCADO',\"PERIODO_COMERCIAL\",\"PRODUCTO\",\"FECHA_CARGA\",\"FECHA_VIGENCIA\",\"fecha_liquidacion\"])  \n",
    "y = df_colocado['COLOCADO']  # Etiqueta (clase)\n",
    "\n",
    "# Dividir los datos en entrenamiento y prueba (opcional, pero recomendado)\n",
    "X_train, X_test, y_train, y_test = train_test_split(X, y, test_size=0.2, random_state=42)"
   ]
  },
  {
   "cell_type": "code",
   "execution_count": null,
   "metadata": {},
   "outputs": [],
   "source": [
    "X_train.head()"
   ]
  },
  {
   "cell_type": "markdown",
   "metadata": {},
   "source": [
    "Tratamiento el desbalance de las clases "
   ]
  },
  {
   "cell_type": "code",
   "execution_count": null,
   "metadata": {},
   "outputs": [],
   "source": [
    "value_counts = df_colocado['COLOCADO'].value_counts()\n",
    "value_counts"
   ]
  },
  {
   "cell_type": "markdown",
   "metadata": {},
   "source": [
    "como tenemos un balance significativo queremos aplicar tecnicas de remuestreo para que la cantidad de valores para cada variables sean iguales y no cree ningun sesgo en el modelo "
   ]
  },
  {
   "cell_type": "code",
   "execution_count": null,
   "metadata": {},
   "outputs": [],
   "source": [
    "# Inicializar el RandomUnderSampler\n",
    "rus = RandomUnderSampler(random_state=42)\n",
    "\n",
    "# Aplicar el submuestreo a los datos de entrenamiento\n",
    "X_resampled, y_resampled = rus.fit_resample(X_train, y_train)\n",
    "\n",
    "# Verificar las clases balanceadas\n",
    "print(f\"Distribución original de clases en y_train: {y_train.value_counts()}\")\n",
    "print(f\"Distribución de clases después de submuestreo: {y_resampled.value_counts()}\")\n"
   ]
  },
  {
   "cell_type": "markdown",
   "metadata": {},
   "source": [
    "## Random fores classifier "
   ]
  },
  {
   "cell_type": "code",
   "execution_count": null,
   "metadata": {},
   "outputs": [],
   "source": [
    "from sklearn.ensemble import RandomForestClassifier\n",
    "from sklearn.metrics import roc_auc_score\n"
   ]
  },
  {
   "cell_type": "code",
   "execution_count": null,
   "metadata": {},
   "outputs": [],
   "source": [
    "scores = []\n",
    "\n",
    "for d in [5, 10, 15]:\n",
    "    for n in range(10, 201, 10):\n",
    "        rf = RandomForestClassifier(n_estimators=n,\n",
    "                                    max_depth=d,\n",
    "                                    random_state=1)\n",
    "        rf.fit(X_train, y_train)\n",
    "\n",
    "        y_pred = rf.predict_proba(X_test)[:, 1]\n",
    "        auc = roc_auc_score(y_test, y_pred)\n",
    "\n",
    "        scores.append((d, n, auc))"
   ]
  },
  {
   "cell_type": "code",
   "execution_count": null,
   "metadata": {},
   "outputs": [],
   "source": [
    "columns = ['max_depth', 'n_estimators', 'auc']\n",
    "df_scores = pd.DataFrame(scores, columns=columns)"
   ]
  },
  {
   "cell_type": "code",
   "execution_count": null,
   "metadata": {},
   "outputs": [],
   "source": [
    "for d in [5, 10, 15]:\n",
    "    df_subset = df_scores[df_scores.max_depth == d]\n",
    "    \n",
    "    plt.plot(df_subset.n_estimators, df_subset.auc,\n",
    "             label='max_depth=%d' % d)\n",
    "\n",
    "plt.legend()"
   ]
  },
  {
   "cell_type": "code",
   "execution_count": null,
   "metadata": {},
   "outputs": [],
   "source": [
    "max_depth = 10"
   ]
  },
  {
   "cell_type": "code",
   "execution_count": null,
   "metadata": {},
   "outputs": [],
   "source": [
    "scores = []\n",
    "\n",
    "for s in [1, 3, 5, 10, 50]:\n",
    "    for n in range(10, 201, 10):\n",
    "        rf = RandomForestClassifier(n_estimators=n,\n",
    "                                    max_depth=max_depth,\n",
    "                                    min_samples_leaf=s,\n",
    "                                    random_state=1)\n",
    "        rf.fit(X_train, y_train)\n",
    "\n",
    "        y_pred = rf.predict_proba(X_test)[:, 1]\n",
    "        auc = roc_auc_score(y_test, y_pred)\n",
    "\n",
    "        scores.append((s, n, auc))"
   ]
  },
  {
   "cell_type": "code",
   "execution_count": null,
   "metadata": {},
   "outputs": [],
   "source": [
    "columns = ['min_samples_leaf', 'n_estimators', 'auc']\n",
    "df_scores = pd.DataFrame(scores, columns=columns)"
   ]
  },
  {
   "cell_type": "code",
   "execution_count": null,
   "metadata": {},
   "outputs": [],
   "source": [
    "colors = ['black', 'blue', 'orange', 'red', 'grey']\n",
    "values = [1, 3, 5, 10, 50]\n",
    "\n",
    "for s, col in zip(values, colors):\n",
    "    df_subset = df_scores[df_scores.min_samples_leaf == s]\n",
    "    \n",
    "    plt.plot(df_subset.n_estimators, df_subset.auc,\n",
    "             color=col,\n",
    "             label='min_samples_leaf=%d' % s)\n",
    "\n",
    "plt.legend()"
   ]
  }
 ],
 "metadata": {
  "kernelspec": {
   "display_name": "Python 3 (ipykernel)",
   "language": "python",
   "name": "python3"
  },
  "language_info": {
   "codemirror_mode": {
    "name": "ipython",
    "version": 3
   },
   "file_extension": ".py",
   "mimetype": "text/x-python",
   "name": "python",
   "nbconvert_exporter": "python",
   "pygments_lexer": "ipython3",
   "version": "3.11.11"
  }
 },
 "nbformat": 4,
 "nbformat_minor": 4
}
