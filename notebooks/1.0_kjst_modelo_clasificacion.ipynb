{
 "cells": [
  {
   "cell_type": "code",
<<<<<<< HEAD
   "execution_count": 158,
=======
   "execution_count": 1,
>>>>>>> a370929109f7601a0c01054445168fe7946a4cb4
   "metadata": {},
   "outputs": [],
   "source": [
    "import pandas as pd \n",
    "import numpy as np\n",
    "import matplotlib.pyplot as plt\n",
    "import seaborn as sns"
   ]
  },
  {
   "cell_type": "code",
<<<<<<< HEAD
   "execution_count": 159,
   "metadata": {},
   "outputs": [],
   "source": [
    "from colocacion_de_creditos.utils.paths import data_dir"
=======
   "execution_count": 2,
   "metadata": {},
   "outputs": [],
   "source": [
    "#from colocacion_de_creditos.utils.paths import data_dir"
>>>>>>> a370929109f7601a0c01054445168fe7946a4cb4
   ]
  },
  {
   "cell_type": "code",
<<<<<<< HEAD
   "execution_count": 160,
   "metadata": {},
   "outputs": [],
   "source": [
    "df_colocado=pd.read_parquet(data_dir(\"interim\", \"datos_colocacion_limpios.parquet\"))"
=======
   "execution_count": 3,
   "metadata": {},
   "outputs": [],
   "source": [
    "#df_colocado=pd.read_parquet(data_dir(\"interim\", \"datos_colocacion_limpios.parquet\"))\n",
    "df_colocado = pd.read_parquet('../data/raw/df_final_estudiantes.parquet')"
>>>>>>> a370929109f7601a0c01054445168fe7946a4cb4
   ]
  },
  {
   "cell_type": "code",
<<<<<<< HEAD
   "execution_count": 161,
=======
   "execution_count": 4,
>>>>>>> a370929109f7601a0c01054445168fe7946a4cb4
   "metadata": {},
   "outputs": [
    {
     "data": {
      "text/html": [
       "<div>\n",
       "<style scoped>\n",
       "    .dataframe tbody tr th:only-of-type {\n",
       "        vertical-align: middle;\n",
       "    }\n",
       "\n",
       "    .dataframe tbody tr th {\n",
       "        vertical-align: top;\n",
       "    }\n",
       "\n",
       "    .dataframe thead th {\n",
       "        text-align: right;\n",
       "    }\n",
       "</style>\n",
       "<table border=\"1\" class=\"dataframe\">\n",
       "  <thead>\n",
       "    <tr style=\"text-align: right;\">\n",
       "      <th></th>\n",
       "      <th>IDENTIFICACION</th>\n",
       "      <th>PRODUCTO</th>\n",
       "      <th>PERIODO_COMERCIAL</th>\n",
       "      <th>SEGMENTO</th>\n",
       "      <th>FECHA_CARGA</th>\n",
       "      <th>FECHA_VIGENCIA</th>\n",
       "      <th>REGION</th>\n",
       "      <th>N_VECES_CAMPAÑA</th>\n",
       "      <th>N_VECES_CAMPAÑA_CONT</th>\n",
       "      <th>TIPO_APROBACION</th>\n",
       "      <th>...</th>\n",
<<<<<<< HEAD
       "      <th>score_aceptacion</th>\n",
       "      <th>SUB_PERFIL_RIESGOS</th>\n",
       "      <th>SCORE</th>\n",
       "      <th>CUPO</th>\n",
       "      <th>APROBACION_MES_ANTERIOR</th>\n",
       "      <th>PRODUCTO_MES_ANTERIOR</th>\n",
       "      <th>CONTACTABILIDAD_TOTAL</th>\n",
       "      <th>COLOCADO</th>\n",
       "      <th>fecha_liquidacion</th>\n",
       "      <th>MONTO_COLOCADO</th>\n",
=======
       "      <th>APROBACION_MES_ANTERIOR</th>\n",
       "      <th>PRODUCTO_MES_ANTERIOR</th>\n",
       "      <th>MONTO_COLOCADO</th>\n",
       "      <th>fecha_liquidacion</th>\n",
       "      <th>CANAL_VENTA</th>\n",
       "      <th>CONTACTABILIDAD_CELULAR</th>\n",
       "      <th>CONTACTABILIDAD_EMAIL</th>\n",
       "      <th>CONTACTABILIDAD_FIJO</th>\n",
       "      <th>CONTACTABILIDAD_TOTAL</th>\n",
       "      <th>COLOCADO</th>\n",
>>>>>>> a370929109f7601a0c01054445168fe7946a4cb4
       "    </tr>\n",
       "  </thead>\n",
       "  <tbody>\n",
       "    <tr>\n",
       "      <th>0</th>\n",
<<<<<<< HEAD
       "      <td>0000001</td>\n",
       "      <td>Producto1</td>\n",
       "      <td>2024-01-01</td>\n",
       "      <td>SEGMENTO1</td>\n",
       "      <td>2024-02-08</td>\n",
       "      <td>2024-02-08</td>\n",
       "      <td>SUR</td>\n",
       "      <td>16</td>\n",
       "      <td>5</td>\n",
       "      <td>TIPO1</td>\n",
       "      <td>...</td>\n",
       "      <td>306</td>\n",
       "      <td>PERFIL2</td>\n",
       "      <td>979</td>\n",
       "      <td>9882.41</td>\n",
       "      <td>TIPO1</td>\n",
       "      <td>Producto1</td>\n",
       "      <td>AC</td>\n",
       "      <td>0</td>\n",
       "      <td>Ninguno</td>\n",
       "      <td>0.0</td>\n",
       "    </tr>\n",
       "    <tr>\n",
       "      <th>1</th>\n",
       "      <td>0000001</td>\n",
       "      <td>Producto1</td>\n",
       "      <td>2024-02-01</td>\n",
       "      <td>SEGMENTO1</td>\n",
       "      <td>2024-03-10</td>\n",
       "      <td>2024-03-10</td>\n",
       "      <td>SUR</td>\n",
       "      <td>17</td>\n",
       "      <td>6</td>\n",
       "      <td>TIPO1</td>\n",
       "      <td>...</td>\n",
       "      <td>306</td>\n",
       "      <td>PERFIL2</td>\n",
       "      <td>969</td>\n",
       "      <td>9882.41</td>\n",
       "      <td>TIPO1</td>\n",
       "      <td>Producto1</td>\n",
       "      <td>AC</td>\n",
       "      <td>0</td>\n",
       "      <td>Ninguno</td>\n",
       "      <td>0.0</td>\n",
       "    </tr>\n",
       "    <tr>\n",
       "      <th>2</th>\n",
       "      <td>0000001</td>\n",
       "      <td>Producto1</td>\n",
       "      <td>2024-03-01</td>\n",
       "      <td>SEGMENTO1</td>\n",
       "      <td>2024-04-08</td>\n",
       "      <td>2024-04-08</td>\n",
       "      <td>SUR</td>\n",
       "      <td>18</td>\n",
       "      <td>7</td>\n",
       "      <td>TIPO1</td>\n",
       "      <td>...</td>\n",
       "      <td>449</td>\n",
       "      <td>PERFIL2</td>\n",
       "      <td>969</td>\n",
       "      <td>9882.41</td>\n",
       "      <td>TIPO1</td>\n",
       "      <td>Producto1</td>\n",
       "      <td>AC</td>\n",
       "      <td>0</td>\n",
       "      <td>Ninguno</td>\n",
       "      <td>0.0</td>\n",
       "    </tr>\n",
       "    <tr>\n",
       "      <th>3</th>\n",
       "      <td>0000001</td>\n",
       "      <td>Producto1</td>\n",
       "      <td>2024-04-01</td>\n",
       "      <td>SEGMENTO1</td>\n",
       "      <td>2024-05-10</td>\n",
       "      <td>2024-05-10</td>\n",
       "      <td>SUR</td>\n",
       "      <td>19</td>\n",
       "      <td>8</td>\n",
       "      <td>TIPO1</td>\n",
       "      <td>...</td>\n",
       "      <td>306</td>\n",
       "      <td>PERFIL2</td>\n",
       "      <td>969</td>\n",
       "      <td>9336.83</td>\n",
       "      <td>TIPO1</td>\n",
       "      <td>Producto1</td>\n",
       "      <td>AC</td>\n",
       "      <td>0</td>\n",
       "      <td>Ninguno</td>\n",
       "      <td>0.0</td>\n",
       "    </tr>\n",
       "    <tr>\n",
       "      <th>4</th>\n",
       "      <td>0000001</td>\n",
       "      <td>Producto1</td>\n",
       "      <td>2024-05-01</td>\n",
       "      <td>SEGMENTO1</td>\n",
       "      <td>2024-06-11</td>\n",
       "      <td>2024-06-11</td>\n",
       "      <td>SUR</td>\n",
       "      <td>20</td>\n",
       "      <td>9</td>\n",
       "      <td>TIPO1</td>\n",
       "      <td>...</td>\n",
       "      <td>306</td>\n",
       "      <td>PERFIL2</td>\n",
       "      <td>969</td>\n",
       "      <td>8830.22</td>\n",
       "      <td>TIPO1</td>\n",
       "      <td>Producto1</td>\n",
       "      <td>AC</td>\n",
       "      <td>0</td>\n",
       "      <td>Ninguno</td>\n",
       "      <td>0.0</td>\n",
       "    </tr>\n",
       "  </tbody>\n",
       "</table>\n",
       "<p>5 rows × 23 columns</p>\n",
       "</div>"
      ],
      "text/plain": [
       "  IDENTIFICACION   PRODUCTO PERIODO_COMERCIAL   SEGMENTO FECHA_CARGA  \\\n",
       "0        0000001  Producto1        2024-01-01  SEGMENTO1  2024-02-08   \n",
       "1        0000001  Producto1        2024-02-01  SEGMENTO1  2024-03-10   \n",
       "2        0000001  Producto1        2024-03-01  SEGMENTO1  2024-04-08   \n",
       "3        0000001  Producto1        2024-04-01  SEGMENTO1  2024-05-10   \n",
       "4        0000001  Producto1        2024-05-01  SEGMENTO1  2024-06-11   \n",
       "\n",
       "  FECHA_VIGENCIA REGION  N_VECES_CAMPAÑA  N_VECES_CAMPAÑA_CONT  \\\n",
       "0     2024-02-08    SUR               16                     5   \n",
       "1     2024-03-10    SUR               17                     6   \n",
       "2     2024-04-08    SUR               18                     7   \n",
       "3     2024-05-10    SUR               19                     8   \n",
       "4     2024-06-11    SUR               20                     9   \n",
       "\n",
       "  TIPO_APROBACION  ... score_aceptacion SUB_PERFIL_RIESGOS  SCORE     CUPO  \\\n",
       "0           TIPO1  ...              306            PERFIL2    979  9882.41   \n",
       "1           TIPO1  ...              306            PERFIL2    969  9882.41   \n",
       "2           TIPO1  ...              449            PERFIL2    969  9882.41   \n",
       "3           TIPO1  ...              306            PERFIL2    969  9336.83   \n",
       "4           TIPO1  ...              306            PERFIL2    969  8830.22   \n",
       "\n",
       "  APROBACION_MES_ANTERIOR  PRODUCTO_MES_ANTERIOR  CONTACTABILIDAD_TOTAL  \\\n",
       "0                   TIPO1              Producto1                     AC   \n",
       "1                   TIPO1              Producto1                     AC   \n",
       "2                   TIPO1              Producto1                     AC   \n",
       "3                   TIPO1              Producto1                     AC   \n",
       "4                   TIPO1              Producto1                     AC   \n",
       "\n",
       "  COLOCADO fecha_liquidacion MONTO_COLOCADO  \n",
       "0        0           Ninguno            0.0  \n",
       "1        0           Ninguno            0.0  \n",
       "2        0           Ninguno            0.0  \n",
       "3        0           Ninguno            0.0  \n",
       "4        0           Ninguno            0.0  \n",
       "\n",
       "[5 rows x 23 columns]"
      ]
     },
     "execution_count": 161,
=======
       "      <td>0523373</td>\n",
       "      <td>Producto1</td>\n",
       "      <td>202408</td>\n",
       "      <td>SEGMENTO1</td>\n",
       "      <td>2024-08-22</td>\n",
       "      <td>2024-09-13</td>\n",
       "      <td>NORTE</td>\n",
       "      <td>19</td>\n",
       "      <td>5</td>\n",
       "      <td>TIPO1</td>\n",
       "      <td>...</td>\n",
       "      <td>TIPO1</td>\n",
       "      <td>Producto1</td>\n",
       "      <td>NaN</td>\n",
       "      <td>None</td>\n",
       "      <td>None</td>\n",
       "      <td>AC</td>\n",
       "      <td>MK</td>\n",
       "      <td>AC</td>\n",
       "      <td>AC</td>\n",
       "      <td>0</td>\n",
       "    </tr>\n",
       "    <tr>\n",
       "      <th>1</th>\n",
       "      <td>0523373</td>\n",
       "      <td>Producto1</td>\n",
       "      <td>202405</td>\n",
       "      <td>SEGMENTO1</td>\n",
       "      <td>2024-05-11</td>\n",
       "      <td>2024-06-11</td>\n",
       "      <td>NORTE</td>\n",
       "      <td>16</td>\n",
       "      <td>2</td>\n",
       "      <td>TIPO1</td>\n",
       "      <td>...</td>\n",
       "      <td>TIPO1</td>\n",
       "      <td>Producto1</td>\n",
       "      <td>NaN</td>\n",
       "      <td>None</td>\n",
       "      <td>None</td>\n",
       "      <td>AC</td>\n",
       "      <td>MK</td>\n",
       "      <td>AC</td>\n",
       "      <td>AC</td>\n",
       "      <td>0</td>\n",
       "    </tr>\n",
       "    <tr>\n",
       "      <th>2</th>\n",
       "      <td>0523373</td>\n",
       "      <td>Producto1</td>\n",
       "      <td>202406</td>\n",
       "      <td>SEGMENTO1</td>\n",
       "      <td>2024-06-12</td>\n",
       "      <td>2024-07-12</td>\n",
       "      <td>NORTE</td>\n",
       "      <td>17</td>\n",
       "      <td>3</td>\n",
       "      <td>TIPO1</td>\n",
       "      <td>...</td>\n",
       "      <td>TIPO1</td>\n",
       "      <td>Producto1</td>\n",
       "      <td>NaN</td>\n",
       "      <td>None</td>\n",
       "      <td>None</td>\n",
       "      <td>AC</td>\n",
       "      <td>MK</td>\n",
       "      <td>AC</td>\n",
       "      <td>AC</td>\n",
       "      <td>0</td>\n",
       "    </tr>\n",
       "    <tr>\n",
       "      <th>3</th>\n",
       "      <td>0523374</td>\n",
       "      <td>Producto1</td>\n",
       "      <td>202403</td>\n",
       "      <td>SEGMENTO1</td>\n",
       "      <td>2024-03-11</td>\n",
       "      <td>2024-04-08</td>\n",
       "      <td>NORTE</td>\n",
       "      <td>21</td>\n",
       "      <td>7</td>\n",
       "      <td>TIPO1</td>\n",
       "      <td>...</td>\n",
       "      <td>TIPO1</td>\n",
       "      <td>Producto1</td>\n",
       "      <td>NaN</td>\n",
       "      <td>None</td>\n",
       "      <td>None</td>\n",
       "      <td>AC</td>\n",
       "      <td>AC</td>\n",
       "      <td>AC</td>\n",
       "      <td>AC</td>\n",
       "      <td>0</td>\n",
       "    </tr>\n",
       "    <tr>\n",
       "      <th>4</th>\n",
       "      <td>0523374</td>\n",
       "      <td>Producto1</td>\n",
       "      <td>202402</td>\n",
       "      <td>SEGMENTO1</td>\n",
       "      <td>2024-02-08</td>\n",
       "      <td>2024-03-10</td>\n",
       "      <td>NORTE</td>\n",
       "      <td>20</td>\n",
       "      <td>6</td>\n",
       "      <td>TIPO1</td>\n",
       "      <td>...</td>\n",
       "      <td>TIPO1</td>\n",
       "      <td>Producto1</td>\n",
       "      <td>NaN</td>\n",
       "      <td>None</td>\n",
       "      <td>None</td>\n",
       "      <td>AC</td>\n",
       "      <td>AC</td>\n",
       "      <td>AC</td>\n",
       "      <td>AC</td>\n",
       "      <td>0</td>\n",
       "    </tr>\n",
       "  </tbody>\n",
       "</table>\n",
       "<p>5 rows × 27 columns</p>\n",
       "</div>"
      ],
      "text/plain": [
       "  IDENTIFICACION   PRODUCTO  PERIODO_COMERCIAL   SEGMENTO FECHA_CARGA  \\\n",
       "0        0523373  Producto1             202408  SEGMENTO1  2024-08-22   \n",
       "1        0523373  Producto1             202405  SEGMENTO1  2024-05-11   \n",
       "2        0523373  Producto1             202406  SEGMENTO1  2024-06-12   \n",
       "3        0523374  Producto1             202403  SEGMENTO1  2024-03-11   \n",
       "4        0523374  Producto1             202402  SEGMENTO1  2024-02-08   \n",
       "\n",
       "  FECHA_VIGENCIA REGION  N_VECES_CAMPAÑA  N_VECES_CAMPAÑA_CONT  \\\n",
       "0     2024-09-13  NORTE               19                     5   \n",
       "1     2024-06-11  NORTE               16                     2   \n",
       "2     2024-07-12  NORTE               17                     3   \n",
       "3     2024-04-08  NORTE               21                     7   \n",
       "4     2024-03-10  NORTE               20                     6   \n",
       "\n",
       "  TIPO_APROBACION  ... APROBACION_MES_ANTERIOR PRODUCTO_MES_ANTERIOR  \\\n",
       "0           TIPO1  ...                   TIPO1             Producto1   \n",
       "1           TIPO1  ...                   TIPO1             Producto1   \n",
       "2           TIPO1  ...                   TIPO1             Producto1   \n",
       "3           TIPO1  ...                   TIPO1             Producto1   \n",
       "4           TIPO1  ...                   TIPO1             Producto1   \n",
       "\n",
       "   MONTO_COLOCADO  fecha_liquidacion CANAL_VENTA  CONTACTABILIDAD_CELULAR  \\\n",
       "0             NaN               None        None                       AC   \n",
       "1             NaN               None        None                       AC   \n",
       "2             NaN               None        None                       AC   \n",
       "3             NaN               None        None                       AC   \n",
       "4             NaN               None        None                       AC   \n",
       "\n",
       "   CONTACTABILIDAD_EMAIL CONTACTABILIDAD_FIJO CONTACTABILIDAD_TOTAL  COLOCADO  \n",
       "0                     MK                   AC                    AC         0  \n",
       "1                     MK                   AC                    AC         0  \n",
       "2                     MK                   AC                    AC         0  \n",
       "3                     AC                   AC                    AC         0  \n",
       "4                     AC                   AC                    AC         0  \n",
       "\n",
       "[5 rows x 27 columns]"
      ]
     },
     "execution_count": 4,
>>>>>>> a370929109f7601a0c01054445168fe7946a4cb4
     "metadata": {},
     "output_type": "execute_result"
    }
   ],
   "source": [
    "df_colocado.head()"
   ]
  },
  {
   "cell_type": "code",
<<<<<<< HEAD
   "execution_count": 162,
=======
   "execution_count": 5,
>>>>>>> a370929109f7601a0c01054445168fe7946a4cb4
   "metadata": {},
   "outputs": [
    {
     "data": {
      "text/html": [
       "<div>\n",
       "<style scoped>\n",
       "    .dataframe tbody tr th:only-of-type {\n",
       "        vertical-align: middle;\n",
       "    }\n",
       "\n",
       "    .dataframe tbody tr th {\n",
       "        vertical-align: top;\n",
       "    }\n",
       "\n",
       "    .dataframe thead th {\n",
       "        text-align: right;\n",
       "    }\n",
       "</style>\n",
       "<table border=\"1\" class=\"dataframe\">\n",
       "  <thead>\n",
       "    <tr style=\"text-align: right;\">\n",
       "      <th></th>\n",
       "      <th>PERIODO_COMERCIAL</th>\n",
<<<<<<< HEAD
       "      <th>FECHA_CARGA</th>\n",
=======
>>>>>>> a370929109f7601a0c01054445168fe7946a4cb4
       "      <th>N_VECES_CAMPAÑA</th>\n",
       "      <th>N_VECES_CAMPAÑA_CONT</th>\n",
       "      <th>IVC</th>\n",
       "      <th>score_aceptacion</th>\n",
       "      <th>SCORE</th>\n",
       "      <th>CUPO</th>\n",
<<<<<<< HEAD
       "      <th>COLOCADO</th>\n",
       "      <th>MONTO_COLOCADO</th>\n",
=======
       "      <th>MONTO_COLOCADO</th>\n",
       "      <th>COLOCADO</th>\n",
>>>>>>> a370929109f7601a0c01054445168fe7946a4cb4
       "    </tr>\n",
       "  </thead>\n",
       "  <tbody>\n",
       "    <tr>\n",
       "      <th>count</th>\n",
<<<<<<< HEAD
       "      <td>5178206</td>\n",
       "      <td>5178206</td>\n",
       "      <td>5.178206e+06</td>\n",
       "      <td>5.178206e+06</td>\n",
       "      <td>5.178206e+06</td>\n",
       "      <td>5.178206e+06</td>\n",
       "      <td>5.178206e+06</td>\n",
       "      <td>5.178206e+06</td>\n",
       "      <td>5.178206e+06</td>\n",
       "      <td>5.178206e+06</td>\n",
       "    </tr>\n",
       "    <tr>\n",
       "      <th>mean</th>\n",
       "      <td>2024-05-19 07:52:08.712146688</td>\n",
       "      <td>2024-06-30 18:37:20.245522688</td>\n",
       "      <td>1.714739e+01</td>\n",
       "      <td>4.224367e+00</td>\n",
       "      <td>8.740660e-01</td>\n",
       "      <td>5.549038e+02</td>\n",
       "      <td>9.581922e+02</td>\n",
       "      <td>3.472878e+03</td>\n",
       "      <td>1.219882e-02</td>\n",
       "      <td>4.018796e+01</td>\n",
       "    </tr>\n",
       "    <tr>\n",
       "      <th>min</th>\n",
       "      <td>2024-01-01 00:00:00</td>\n",
       "      <td>2024-02-08 00:00:00</td>\n",
=======
       "      <td>5.178528e+06</td>\n",
       "      <td>5.178528e+06</td>\n",
       "      <td>5.178528e+06</td>\n",
       "      <td>5.178528e+06</td>\n",
       "      <td>5.178528e+06</td>\n",
       "      <td>5.178528e+06</td>\n",
       "      <td>5.178528e+06</td>\n",
       "      <td>63490.000000</td>\n",
       "      <td>5.178528e+06</td>\n",
       "    </tr>\n",
       "    <tr>\n",
       "      <th>mean</th>\n",
       "      <td>2.024056e+05</td>\n",
       "      <td>1.714706e+01</td>\n",
       "      <td>4.224235e+00</td>\n",
       "      <td>8.741140e-01</td>\n",
       "      <td>5.549130e+02</td>\n",
       "      <td>9.581913e+02</td>\n",
       "      <td>3.472924e+03</td>\n",
       "      <td>3277.705400</td>\n",
       "      <td>1.226024e-02</td>\n",
       "    </tr>\n",
       "    <tr>\n",
       "      <th>std</th>\n",
       "      <td>2.862225e+00</td>\n",
       "      <td>9.460093e+00</td>\n",
       "      <td>3.821505e+00</td>\n",
       "      <td>1.295387e+00</td>\n",
       "      <td>2.373323e+02</td>\n",
       "      <td>3.645661e+01</td>\n",
       "      <td>3.755160e+03</td>\n",
       "      <td>2994.192257</td>\n",
       "      <td>1.100451e-01</td>\n",
       "    </tr>\n",
       "    <tr>\n",
       "      <th>min</th>\n",
       "      <td>2.024010e+05</td>\n",
>>>>>>> a370929109f7601a0c01054445168fe7946a4cb4
       "      <td>0.000000e+00</td>\n",
       "      <td>0.000000e+00</td>\n",
       "      <td>0.000000e+00</td>\n",
       "      <td>3.400000e+01</td>\n",
       "      <td>7.000000e+02</td>\n",
       "      <td>8.024000e+02</td>\n",
<<<<<<< HEAD
       "      <td>0.000000e+00</td>\n",
=======
       "      <td>217.982498</td>\n",
>>>>>>> a370929109f7601a0c01054445168fe7946a4cb4
       "      <td>0.000000e+00</td>\n",
       "    </tr>\n",
       "    <tr>\n",
       "      <th>25%</th>\n",
<<<<<<< HEAD
       "      <td>2024-03-01 00:00:00</td>\n",
       "      <td>2024-04-08 00:00:00</td>\n",
=======
       "      <td>2.024030e+05</td>\n",
>>>>>>> a370929109f7601a0c01054445168fe7946a4cb4
       "      <td>1.000000e+01</td>\n",
       "      <td>1.000000e+00</td>\n",
       "      <td>0.000000e+00</td>\n",
       "      <td>3.540000e+02</td>\n",
       "      <td>9.470000e+02</td>\n",
       "      <td>8.024000e+02</td>\n",
<<<<<<< HEAD
       "      <td>0.000000e+00</td>\n",
=======
       "      <td>1581.800000</td>\n",
>>>>>>> a370929109f7601a0c01054445168fe7946a4cb4
       "      <td>0.000000e+00</td>\n",
       "    </tr>\n",
       "    <tr>\n",
       "      <th>50%</th>\n",
<<<<<<< HEAD
       "      <td>2024-06-01 00:00:00</td>\n",
       "      <td>2024-07-12 00:00:00</td>\n",
=======
       "      <td>2.024060e+05</td>\n",
>>>>>>> a370929109f7601a0c01054445168fe7946a4cb4
       "      <td>1.700000e+01</td>\n",
       "      <td>3.000000e+00</td>\n",
       "      <td>0.000000e+00</td>\n",
       "      <td>5.420000e+02</td>\n",
       "      <td>9.700000e+02</td>\n",
       "      <td>2.750900e+03</td>\n",
<<<<<<< HEAD
       "      <td>0.000000e+00</td>\n",
=======
       "      <td>2556.050000</td>\n",
>>>>>>> a370929109f7601a0c01054445168fe7946a4cb4
       "      <td>0.000000e+00</td>\n",
       "    </tr>\n",
       "    <tr>\n",
       "      <th>75%</th>\n",
<<<<<<< HEAD
       "      <td>2024-08-01 00:00:00</td>\n",
       "      <td>2024-09-13 00:00:00</td>\n",
=======
       "      <td>2.024080e+05</td>\n",
>>>>>>> a370929109f7601a0c01054445168fe7946a4cb4
       "      <td>2.400000e+01</td>\n",
       "      <td>7.000000e+00</td>\n",
       "      <td>2.000000e+00</td>\n",
       "      <td>7.840000e+02</td>\n",
       "      <td>9.820000e+02</td>\n",
       "      <td>4.465580e+03</td>\n",
<<<<<<< HEAD
       "      <td>0.000000e+00</td>\n",
=======
       "      <td>3920.000000</td>\n",
>>>>>>> a370929109f7601a0c01054445168fe7946a4cb4
       "      <td>0.000000e+00</td>\n",
       "    </tr>\n",
       "    <tr>\n",
       "      <th>max</th>\n",
<<<<<<< HEAD
       "      <td>2024-10-01 00:00:00</td>\n",
       "      <td>2024-11-17 00:00:00</td>\n",
=======
       "      <td>2.024100e+05</td>\n",
>>>>>>> a370929109f7601a0c01054445168fe7946a4cb4
       "      <td>5.800000e+01</td>\n",
       "      <td>3.500000e+01</td>\n",
       "      <td>8.000000e+00</td>\n",
       "      <td>9.760000e+02</td>\n",
       "      <td>9.940000e+02</td>\n",
       "      <td>2.925050e+04</td>\n",
<<<<<<< HEAD
       "      <td>1.000000e+00</td>\n",
       "      <td>9.744800e+04</td>\n",
       "    </tr>\n",
       "    <tr>\n",
       "      <th>std</th>\n",
       "      <td>NaN</td>\n",
       "      <td>NaN</td>\n",
       "      <td>9.460086e+00</td>\n",
       "      <td>3.821526e+00</td>\n",
       "      <td>1.295362e+00</td>\n",
       "      <td>2.373318e+02</td>\n",
       "      <td>3.645655e+01</td>\n",
       "      <td>3.755199e+03</td>\n",
       "      <td>1.097725e-01</td>\n",
       "      <td>4.910872e+02</td>\n",
=======
       "      <td>97448.000000</td>\n",
       "      <td>1.000000e+00</td>\n",
>>>>>>> a370929109f7601a0c01054445168fe7946a4cb4
       "    </tr>\n",
       "  </tbody>\n",
       "</table>\n",
       "</div>"
      ],
      "text/plain": [
<<<<<<< HEAD
       "                   PERIODO_COMERCIAL                    FECHA_CARGA  \\\n",
       "count                        5178206                        5178206   \n",
       "mean   2024-05-19 07:52:08.712146688  2024-06-30 18:37:20.245522688   \n",
       "min              2024-01-01 00:00:00            2024-02-08 00:00:00   \n",
       "25%              2024-03-01 00:00:00            2024-04-08 00:00:00   \n",
       "50%              2024-06-01 00:00:00            2024-07-12 00:00:00   \n",
       "75%              2024-08-01 00:00:00            2024-09-13 00:00:00   \n",
       "max              2024-10-01 00:00:00            2024-11-17 00:00:00   \n",
       "std                              NaN                            NaN   \n",
       "\n",
       "       N_VECES_CAMPAÑA  N_VECES_CAMPAÑA_CONT           IVC  score_aceptacion  \\\n",
       "count     5.178206e+06          5.178206e+06  5.178206e+06      5.178206e+06   \n",
       "mean      1.714739e+01          4.224367e+00  8.740660e-01      5.549038e+02   \n",
       "min       0.000000e+00          0.000000e+00  0.000000e+00      3.400000e+01   \n",
       "25%       1.000000e+01          1.000000e+00  0.000000e+00      3.540000e+02   \n",
       "50%       1.700000e+01          3.000000e+00  0.000000e+00      5.420000e+02   \n",
       "75%       2.400000e+01          7.000000e+00  2.000000e+00      7.840000e+02   \n",
       "max       5.800000e+01          3.500000e+01  8.000000e+00      9.760000e+02   \n",
       "std       9.460086e+00          3.821526e+00  1.295362e+00      2.373318e+02   \n",
       "\n",
       "              SCORE          CUPO      COLOCADO  MONTO_COLOCADO  \n",
       "count  5.178206e+06  5.178206e+06  5.178206e+06    5.178206e+06  \n",
       "mean   9.581922e+02  3.472878e+03  1.219882e-02    4.018796e+01  \n",
       "min    7.000000e+02  8.024000e+02  0.000000e+00    0.000000e+00  \n",
       "25%    9.470000e+02  8.024000e+02  0.000000e+00    0.000000e+00  \n",
       "50%    9.700000e+02  2.750900e+03  0.000000e+00    0.000000e+00  \n",
       "75%    9.820000e+02  4.465580e+03  0.000000e+00    0.000000e+00  \n",
       "max    9.940000e+02  2.925050e+04  1.000000e+00    9.744800e+04  \n",
       "std    3.645655e+01  3.755199e+03  1.097725e-01    4.910872e+02  "
      ]
     },
     "execution_count": 162,
=======
       "       PERIODO_COMERCIAL  N_VECES_CAMPAÑA  N_VECES_CAMPAÑA_CONT           IVC  \\\n",
       "count       5.178528e+06     5.178528e+06          5.178528e+06  5.178528e+06   \n",
       "mean        2.024056e+05     1.714706e+01          4.224235e+00  8.741140e-01   \n",
       "std         2.862225e+00     9.460093e+00          3.821505e+00  1.295387e+00   \n",
       "min         2.024010e+05     0.000000e+00          0.000000e+00  0.000000e+00   \n",
       "25%         2.024030e+05     1.000000e+01          1.000000e+00  0.000000e+00   \n",
       "50%         2.024060e+05     1.700000e+01          3.000000e+00  0.000000e+00   \n",
       "75%         2.024080e+05     2.400000e+01          7.000000e+00  2.000000e+00   \n",
       "max         2.024100e+05     5.800000e+01          3.500000e+01  8.000000e+00   \n",
       "\n",
       "       score_aceptacion         SCORE          CUPO  MONTO_COLOCADO  \\\n",
       "count      5.178528e+06  5.178528e+06  5.178528e+06    63490.000000   \n",
       "mean       5.549130e+02  9.581913e+02  3.472924e+03     3277.705400   \n",
       "std        2.373323e+02  3.645661e+01  3.755160e+03     2994.192257   \n",
       "min        3.400000e+01  7.000000e+02  8.024000e+02      217.982498   \n",
       "25%        3.540000e+02  9.470000e+02  8.024000e+02     1581.800000   \n",
       "50%        5.420000e+02  9.700000e+02  2.750900e+03     2556.050000   \n",
       "75%        7.840000e+02  9.820000e+02  4.465580e+03     3920.000000   \n",
       "max        9.760000e+02  9.940000e+02  2.925050e+04    97448.000000   \n",
       "\n",
       "           COLOCADO  \n",
       "count  5.178528e+06  \n",
       "mean   1.226024e-02  \n",
       "std    1.100451e-01  \n",
       "min    0.000000e+00  \n",
       "25%    0.000000e+00  \n",
       "50%    0.000000e+00  \n",
       "75%    0.000000e+00  \n",
       "max    1.000000e+00  "
      ]
     },
     "execution_count": 5,
>>>>>>> a370929109f7601a0c01054445168fe7946a4cb4
     "metadata": {},
     "output_type": "execute_result"
    }
   ],
   "source": [
    "df_colocado.describe()"
   ]
  },
  {
   "cell_type": "code",
<<<<<<< HEAD
   "execution_count": 163,
=======
   "execution_count": 6,
>>>>>>> a370929109f7601a0c01054445168fe7946a4cb4
   "metadata": {},
   "outputs": [
    {
     "data": {
<<<<<<< HEAD
      "image/png": "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",
=======
      "image/png": "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",
>>>>>>> a370929109f7601a0c01054445168fe7946a4cb4
      "text/plain": [
       "<Figure size 700x700 with 1 Axes>"
      ]
     },
     "metadata": {},
     "output_type": "display_data"
    }
   ],
   "source": [
    "# Contamos los valores en la columna 'COLOCADO'\n",
    "value_counts = df_colocado['COLOCADO'].value_counts()\n",
    "\n",
    "# Crear gráfico de pastel\n",
    "plt.figure(figsize=(7, 7))\n",
    "plt.pie(value_counts, labels=['Colocado (1)', 'No Colocado (0)'], autopct='%1.1f%%', startangle=90, colors=['#66b3ff', '#ff6666'])\n",
    "plt.title('Distribución de la variable COLOCADO')\n",
    "plt.show()"
   ]
  },
  {
   "cell_type": "markdown",
   "metadata": {},
   "source": [
    "Observamos que tenemos un desbalance claro en los datos que tenemos "
   ]
  },
  {
   "cell_type": "code",
<<<<<<< HEAD
   "execution_count": 164,
=======
   "execution_count": 7,
>>>>>>> a370929109f7601a0c01054445168fe7946a4cb4
   "metadata": {},
   "outputs": [
    {
     "data": {
      "text/plain": [
<<<<<<< HEAD
       "Index(['N_VECES_CAMPAÑA', 'N_VECES_CAMPAÑA_CONT', 'IVC', 'score_aceptacion',\n",
       "       'SCORE', 'CUPO', 'COLOCADO', 'MONTO_COLOCADO'],\n",
       "      dtype='object')"
      ]
     },
     "execution_count": 164,
=======
       "Index(['PERIODO_COMERCIAL', 'N_VECES_CAMPAÑA', 'N_VECES_CAMPAÑA_CONT', 'IVC',\n",
       "       'score_aceptacion', 'SCORE', 'CUPO', 'MONTO_COLOCADO', 'COLOCADO'],\n",
       "      dtype='object')"
      ]
     },
     "execution_count": 7,
>>>>>>> a370929109f7601a0c01054445168fe7946a4cb4
     "metadata": {},
     "output_type": "execute_result"
    }
   ],
   "source": [
    "numerical_columns = df_colocado.select_dtypes(include=['number']).columns\n",
    "numerical_columns"
   ]
  },
  {
   "cell_type": "code",
<<<<<<< HEAD
   "execution_count": 165,
=======
   "execution_count": 8,
>>>>>>> a370929109f7601a0c01054445168fe7946a4cb4
   "metadata": {},
   "outputs": [
    {
     "data": {
      "text/plain": [
<<<<<<< HEAD
       "Index(['IDENTIFICACION', 'PRODUCTO', 'PERIODO_COMERCIAL', 'SEGMENTO',\n",
       "       'FECHA_CARGA', 'FECHA_VIGENCIA', 'REGION', 'TIPO_APROBACION', 'CANAL',\n",
       "       'CLIENTE_BG', 'SUB_PERFIL_RIESGOS', 'APROBACION_MES_ANTERIOR',\n",
       "       'PRODUCTO_MES_ANTERIOR', 'CONTACTABILIDAD_TOTAL', 'fecha_liquidacion'],\n",
       "      dtype='object')"
      ]
     },
     "execution_count": 165,
=======
       "Index(['IDENTIFICACION', 'PRODUCTO', 'SEGMENTO', 'FECHA_CARGA',\n",
       "       'FECHA_VIGENCIA', 'REGION', 'TIPO_APROBACION', 'CANAL', 'CLIENTE_BG',\n",
       "       'SUB_PERFIL_RIESGOS', 'APROBACION_MES_ANTERIOR',\n",
       "       'PRODUCTO_MES_ANTERIOR', 'fecha_liquidacion', 'CANAL_VENTA',\n",
       "       'CONTACTABILIDAD_CELULAR', 'CONTACTABILIDAD_EMAIL',\n",
       "       'CONTACTABILIDAD_FIJO', 'CONTACTABILIDAD_TOTAL'],\n",
       "      dtype='object')"
      ]
     },
     "execution_count": 8,
>>>>>>> a370929109f7601a0c01054445168fe7946a4cb4
     "metadata": {},
     "output_type": "execute_result"
    }
   ],
   "source": [
    "categorical_columnns = df_colocado.select_dtypes(exclude=['number']).columns\n",
    "categorical_columnns\n"
   ]
  },
  {
   "cell_type": "code",
<<<<<<< HEAD
   "execution_count": 166,
=======
   "execution_count": 9,
>>>>>>> a370929109f7601a0c01054445168fe7946a4cb4
   "metadata": {},
   "outputs": [
    {
     "data": {
<<<<<<< HEAD
      "image/png": "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",
=======
      "image/png": "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",
>>>>>>> a370929109f7601a0c01054445168fe7946a4cb4
      "text/plain": [
       "<Figure size 1000x600 with 1 Axes>"
      ]
     },
     "metadata": {},
     "output_type": "display_data"
    }
   ],
   "source": [
    "# Evolución temporal de la tasa de colocación\n",
    "monthly_placement = df_colocado.groupby(df_colocado['PERIODO_COMERCIAL'])['COLOCADO'].mean()\n",
    "monthly_placement.plot(kind='line', title='Evolución Temporal de la Tasa de Colocación', figsize=(10, 6))\n",
    "plt.ylabel('Tasa de Colocación')\n",
    "plt.show()\n",
    "\n"
   ]
  },
  {
   "cell_type": "markdown",
   "metadata": {},
   "source": [
    "se obser que durante lo"
   ]
  },
  {
   "cell_type": "code",
<<<<<<< HEAD
   "execution_count": 167,
=======
   "execution_count": 10,
>>>>>>> a370929109f7601a0c01054445168fe7946a4cb4
   "metadata": {},
   "outputs": [
    {
     "data": {
<<<<<<< HEAD
      "image/png": "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",
=======
      "image/png": "iVBORw0KGgoAAAANSUhEUgAAA0gAAAIiCAYAAADy/+hTAAAAOXRFWHRTb2Z0d2FyZQBNYXRwbG90bGliIHZlcnNpb24zLjkuMywgaHR0cHM6Ly9tYXRwbG90bGliLm9yZy/GU6VOAAAACXBIWXMAAA9hAAAPYQGoP6dpAACEAklEQVR4nOzdd3xUVf7/8fek94EQ0kgIIL0jYABRQLoisLqCogiCXVF+wLqLrmVdV8ReECtFAUFdBcSCWLDwpYgsQZAuICUJNZ30nN8fMxkymUlIIJAQXs/HYx5J7j1z77mTS5j3nHM/12KMMQIAAAAAyKO6OwAAAAAANQUBCQAAAADsCEgAAAAAYEdAAgAAAAA7AhIAAAAA2BGQAAAAAMCOgAQAAAAAdgQkAAAAALAjIAEAAACAHQEJAM6zSZMmqUGDBjpw4EB1dwW1wNtvv63AwECtW7euursCALUCAQnAeTd37lxZLJYyHz/88MM523ejRo00duzYc7b9J554QhaLpcz1ixcv1uzZs/XVV18pNja2Svd5ukfv3r2rZH8Xon379slisWju3Lln9PwffvihSs/N4v5YLBY98cQTbtuMGzfO0aYsCQkJmjRpkhYtWqT4+HindV9++WWZ2y5PeX2qbrm5uZoxY4Z69uypunXrysfHRw0aNNCIESP0448/OtpV9e8LwMXFq7o7AODiNWfOHLVs2dJleevWrauhN1Xj9ttv16BBg9yu27Nnj+666y598sknat++/TnbZ1JSkq677jpNmDBBo0aNciwPCQmpsn2iagQHB2vu3Ll67LHH5OFx6jPLzMxMffzxxwoJCVF6errb56anp+uGG27Qiy++qGuvvdZl/ZdffqnXX3+90mFnzZo1iomJqdRzzodjx45p0KBB+u233zRu3Dj97W9/U2hoqA4dOqSlS5eqb9++2rBhgzp06FDdXQVwgSMgAag2bdu2VZcuXaq7G1UqJiamzDeXTZo00ZEjR875Pvft2ydJatiwobp161bl+6sJsrOz5efnV+7oyoVg5MiRevfdd/Xdd9+pf//+juUffvihCgsLNXz4cM2fP9/tc0NCQrRr164q6YcxRjk5OfL396+x58ytt96qTZs26euvv9ZVV13ltO7GG2/UpEmTVLdu3WrqHYDahCl2AGqsTp066YorrnBZXlhYqAYNGui6665zLDtx4oTuvfdeNWjQQD4+PmrSpIkeeeQR5ebmlruP4ul+xaGiWFlTdJYvX66+ffvKarUqICBArVq10rRp0xzr3U2xKyoq0rPPPquWLVvK19dX4eHhuvXWW3Xw4EGndr1791bbtm21fv16XXHFFQoICFCTJk30zDPPqKioqNzjqIhff/1VQ4cOVWhoqPz8/NSpUyd99NFHbl+P77//XnfccYfq1aunkJAQ3XrrrcrKylJycrJGjBihOnXqKCoqSlOmTFF+fr7j+cVTx5599ln95z//UcOGDeXn56cuXbrou+++c+nTqlWr1LdvXwUHBysgIEA9evTQF1984bZPK1as0Lhx41S/fn0FBAQoNzdXu3fv1m233aZmzZopICBADRo00LXXXqvNmzef8eu0fft2DRo0SAEBAQoLC9Pdd9+tjIwMt22//fZb9e3bVyEhIQoICNDll1/u9jjL0qJFC/Xo0UOzZ892Wj579mxdd911slqtbp/34Ycfqnv37goMDFRQUJAGDhyojRs3OtaPHTtWr7/+uiQ5TbMsPs8tFovuv/9+vfnmm2rVqpV8fX313nvvOdaVHnU6dOiQ7rzzTsXGxsrHx0fR0dH661//qsOHD0uScnJyNHnyZHXs2FFWq1WhoaHq3r27li5d6tL3jz/+WPHx8Y5/Q02aNNG4cePKfZ02bNigr776SuPHj3cJR8W6du2qhg0blrmNX3/9VTfeeKMaNWokf39/NWrUSDfddJP+/PNPR5tNmzbJYrFo1qxZLs//6quvZLFY9NlnnzmW7dq1S6NGjVJ4eLh8fX3VqlUrx+sO4MJFQAJQbQoLC1VQUOD0KCwsdKy/7bbbtGrVKpdPyVesWKHExETddtttkmxvzvr06aP3339fkyZN0hdffKFbbrlFzz77rFOIOluzZs3S1VdfraKiIr355ptatmyZHnjgAZegU9o999yjv//97+rfv78+++wz/fvf/9by5cvVo0cPHTt2zKltcnKybr75Zt1yyy367LPPNHjwYE2dOrXMUYSKWrlypS6//HKlpqbqzTff1NKlS9WxY0eNHDnS7XU5t99+u6xWqxYtWqR//vOf+uCDD3THHXfommuuUYcOHfTf//5XY8aM0QsvvKDXXnvN5fkzZszQ8uXL9fLLL2v+/Pny8PDQ4MGDtWbNGkebH3/8UVdddZXS0tI0a9YsLVy4UMHBwbr22mv14Ycfumxz3Lhx8vb21rx58/Tf//5X3t7eSkxMVL169fTMM89o+fLlev311+Xl5aX4+Hjt2LGj0q/T4cOH1atXL23ZskUzZ87UvHnzlJmZqfvvv9+l7fz58zVgwACFhITovffe00cffaTQ0FANHDiwUiFp/PjxWrJkiVJSUiRJO3bs0OrVqzV+/Hi37Z9++mnddNNNat26tT766CPNmzdPGRkZuuKKK7R161ZJ0qOPPqq//vWvkmxT5oofUVFRju0sWbJEb7zxhh577DF9/fXXbj+MkGzhqGvXrlq8eLEmTZqkr776Si+//LKsVqujz7m5uTpx4oSmTJmiJUuWaOHCherZs6euu+46vf/++45trVmzRiNHjlSTJk20aNEiffHFF3rsscdUUFBQ7mu0YsUKSdLw4cMr8Iq6t2/fPrVo0UIvv/yyvv76a02fPl1JSUnq2rWr499hhw4d1KlTJ82ZM8fl+XPnzlV4eLiuvvpqSdLWrVvVtWtXbdmyRS+88II+//xzXXPNNXrggQf0r3/964z7CaAGMABwns2ZM8dIcvvw9PR0tDt27Jjx8fExDz/8sNPzR4wYYSIiIkx+fr4xxpg333zTSDIfffSRU7vp06cbSWbFihWOZXFxcWbMmDEufdm7d6/Tc1euXGkkmZUrVxpjjMnIyDAhISGmZ8+epqioqMxje/zxx03JP63btm0zksy9997r1G7dunVGktOx9erVy0gy69atc2rbunVrM3DgwDL3WdrevXuNJPPcc885lrVs2dJ06tTJ8ZoVGzJkiImKijKFhYXGmFOvx4QJE5zaDR8+3EgyL774otPyjh07mksvvdRl39HR0SY7O9uxPD093YSGhpp+/fo5lnXr1s2Eh4ebjIwMx7KCggLTtm1bExMT43idi/t06623nvbYCwoKTF5enmnWrJn5f//v/7n0a86cOeU+/+9//7uxWCwmISHBaXn//v2dzoesrCwTGhpqrr32Wqd2hYWFpkOHDuayyy4rdz8lf0cZGRkmKCjIzJgxwxhjzN/+9jfTuHFjU1RUZO677z6n82n//v3Gy8vL5feTkZFhIiMjzYgRIxzLSj+3JEnGarWaEydOuF33+OOPO34eN26c8fb2Nlu3bi33mEoqKCgw+fn5Zvz48aZTp06O5c8//7yRZFJTUyu8LWOMufvuu40ks3379gq1L/3vt6w+ZmZmmsDAQPPKK684lr/66qtGktmxY4dj2YkTJ4yvr6+ZPHmyY9nAgQNNTEyMSUtLc9ru/fffb/z8/Ny+tgAuDIwgAag277//vtavX+/0KFmquF69err22mv13nvvOaaYpaSkaOnSpbr11lvl5WW7jPL7779XYGCg4xPzYsXV6irzaX5ZVq9erfT0dN17772Vuu5l5cqVTn0pdtlll6lVq1YufYuMjNRll13mtKx9+/ZO04Aqa/fu3dq+fbtuvvlmSXIasbv66quVlJTkMtoyZMgQp59btWolSbrmmmtclrvr23XXXSc/Pz/Hz8UjQz/99JMKCwuVlZWldevW6a9//auCgoIc7Tw9PTV69GgdPHjQpU/XX3+9y34KCgr09NNPq3Xr1vLx8ZGXl5d8fHy0a9cubdu2rSIvj5OVK1eqTZs2Lhf6lyx2IdnOhxMnTmjMmDFOr2dRUZEGDRqk9evXKysrq0L7DAoK0g033KDZs2eroKBA77//vm677Ta359nXX3+tgoIC3XrrrU779fPzU69evSpVte2qq66q0DU7X331lfr06eM4B8ry8ccf6/LLL1dQUJC8vLzk7e2tWbNmOf0eunbtKkkaMWKEPvroIx06dKjC/T1bmZmZ+vvf/66mTZvKy8tLXl5eCgoKUlZWllMfb775Zvn6+jqNrC5cuFC5ublOo9bfffed/vKXvyggIMDl31ROTo7Wrl173o4NQNUiIAGoNq1atVKXLl2cHp07d3ZqM27cOB06dEjffPONpFNvVEoGjuPHjysyMtLlDWV4eLi8vLx0/Pjxs+7r0aNHJanS1b2K911yalOx6Ohol77Vq1fPpZ2vr6+ys7Mrtd+Siq8TmTJliry9vZ0e9957ryS5TPULDQ11+tnHx6fM5Tk5OS77jIyMdLssLy9PmZmZSklJkTGmzNdFkstr467tpEmT9Oijj2r48OFatmyZ1q1bp/Xr16tDhw5n9JoVn0unO57i1/Svf/2ry2s6ffp0GWN04sSJCu93/Pjx+t///qf//Oc/Onr0aJml6Iv327VrV5f9fvjhhy6/x/K4ez3dOXr06GnP+08//VQjRoxQgwYNNH/+fK1Zs0br16/XuHHjnM6PK6+8UkuWLHGEvJiYGLVt21YLFy4sd/vF1xbt3bu3Qn12Z9SoUZoxY4Zuv/12ff311/rll1+0fv161a9f3+lcCQ0N1dChQ/X+++87pvzOnTtXl112mdq0aSPJdp4UFBTotddec/k9FE/Bq8zvAkDNQhU7ADXawIEDFR0drTlz5mjgwIGaM2eO4uPjnUqB16tXT+vWrZMxxikkHTlyRAUFBQoLCytz+8WjHKWLOZR+c1O/fn1JOu31RqUVB56kpCSXN5mJiYnl9q2qFO9j6tSpZV6T1aJFiyrdZ3JysttlPj4+jhEGDw8PJSUlubRLTEyUJJfXxt2Iyvz583Xrrbfq6aefdlp+7Ngx1alTp9L9rlevXpl9L6m4b6+99lqZVd8iIiIqvN/LL79cLVq00JNPPqn+/fuXeY+s4v3+97//VVxcXIW3705FR0Lr169/2vN+/vz5aty4sT788EOn7borkjJs2DANGzZMubm5Wrt2raZNm6ZRo0apUaNG6t69u9vtDxw4UA8//LCWLFlSZhn98qSlpenzzz/X448/rn/84x9O/XMXZG+77TZ9/PHH+uabb9SwYUOtX79eb7zxhmN93bp1HaOd9913n9t9Nm7cuNL9BFAzMIIEoEYrfhOyZMkS/fzzz/r1119dKl717dtXmZmZWrJkidPy4ovD+/btW+b2GzVqJEn67bffnJaXrFQlST169JDVatWbb74pY0yF+19ccat0kYX169dr27Zt5fatqrRo0ULNmjXTpk2bXEbsih/BwcFVus9PP/3UaeQgIyNDy5Yt0xVXXCFPT08FBgYqPj5en376qdOn90VFRZo/f75iYmLUvHnz0+7HYrHI19fXadkXX3xxxlO3+vTpo99//12bNm1yWv7BBx84/Xz55ZerTp062rp1a5mvafGoW0X985//1LXXXqvJkyeX2WbgwIHy8vLSH3/8UeZ+ixW/Lmcz+ihJgwcP1sqVK8stemGxWOTj4+MUjpKTk91WsSvZv169emn69OmS5FSFr7RLL71UgwcP1qxZs/T999+7bfPrr79q//79ZfbPGONyrrz77rtOhWGKDRgwQA0aNNCcOXM0Z84c+fn56aabbnKsDwgIUJ8+fbRx40a1b9/e7e/B3WgwgAsDI0gAqs2WLVvcVq+65JJLHCM2km2a3fTp0zVq1Cj5+/tr5MiRTu1vvfVWvf766xozZoz27dundu3aadWqVXr66ad19dVXq1+/fmX2oWvXrmrRooWmTJmigoIC1a1bV4sXL9aqVauc2gUFBemFF17Q7bffrn79+umOO+5QRESEdu/erU2bNmnGjBlut9+iRQvdeeedeu211xyV3Pbt26dHH31UsbGx+n//7/9V5iU7Y2+99ZYGDx6sgQMHauzYsWrQoIFOnDihbdu26X//+58+/vjjKt2fp6en+vfvr0mTJqmoqEjTp09Xenq6U3WvadOmqX///urTp4+mTJkiHx8fzZw5U1u2bNHChQsrNMIxZMgQzZ07Vy1btlT79u21YcMGPffcc2d8o9OJEydq9uzZuuaaa/TUU08pIiJCCxYs0Pbt253aBQUF6bXXXtOYMWN04sQJ/fWvf1V4eLiOHj2qTZs26ejRo04jDhVxyy236JZbbim3TaNGjfTkk0/qkUce0Z49ezRo0CDVrVtXhw8f1i+//KLAwEDHa9yuXTtJ0vTp0zV48GB5enqqffv2lQ5uTz75pL766itdeeWVevjhh9WuXTulpqZq+fLlmjRpklq2bKkhQ4bo008/1b333qu//vWvOnDggP79738rKirKqQrlY489poMHD6pv376KiYlRamqqXnnlFXl7e6tXr17l9uP999/XoEGDNHjwYI0bN06DBw9W3bp1lZSUpGXLlmnhwoXasGGD21LfISEhuvLKK/Xcc88pLCxMjRo10o8//qhZs2a5HWn09PTUrbfeqhdffFEhISFuS66/8sor6tmzp6644grdc889atSokTIyMrR7924tW7aszCAH4AJQrSUiAFyUyqtiJ8m88847Ls/p0aOHkWRuvvlmt9s8fvy4ufvuu01UVJTx8vIycXFxZurUqSYnJ8epXekqdsYYs3PnTjNgwAATEhJi6tevbyZMmGC++OILt1WwvvzyS9OrVy8TGBhoAgICTOvWrc306dMd60tXsTPGVtls+vTppnnz5sbb29uEhYWZW265xRw4cMCpXa9evUybNm1cjm3MmDEmLi7O7XG7466KnTHGbNq0yYwYMcKEh4cbb29vExkZaa666irz5ptvOtoU/27Wr1/v9Nzi4zp69KhL3wIDA132PX36dPOvf/3LxMTEGB8fH9OpUyfz9ddfu/T1559/NldddZUJDAw0/v7+plu3bmbZsmVObcrqkzHGpKSkmPHjx5vw8HATEBBgevbsaX7++WfTq1cv06tXL5d+na6KnTHGbN261fTv39/4+fmZ0NBQM378eLN06VK358OPP/5orrnmGhMaGmq8vb1NgwYNzDXXXGM+/vjjcvdR1u+otLIq0S1ZssT06dPHhISEGF9fXxMXF2f++te/mm+//dbRJjc319x+++2mfv36xmKxOFVrlGTuu+8+t/tUqSp2xhhz4MABM27cOBMZGWm8vb1NdHS0GTFihDl8+LCjzTPPPGMaNWpkfH19TatWrcw777zj8u/h888/N4MHDzYNGjQwPj4+Jjw83Fx99dXm559/Lvd1KJadnW1effVV0717dxMSEmK8vLxMdHS0ue6668wXX3zhaOeuit3BgwfN9ddfb+rWrWuCg4PNoEGDzJYtW9z+TTDG9neh+G/SN99847Y/e/fuNePGjTMNGjQw3t7epn79+qZHjx7mqaeeqtDxAKiZLMZUYq4IAADl2Ldvnxo3bqznnntOU6ZMqe7uAABQaVyDBAAAAAB2BCQAAAAAsGOKHQAAAADYMYIEAAAAAHYEJAAAAACwIyABAAAAgF2tvVFsUVGREhMTFRwcXKGbDQIAAAConYwxysjIUHR0tDw8yh8jqrUBKTExUbGxsdXdDQAAAAA1xIEDBxQTE1Num1obkIKDgyXZXoSQkJBq7g0AAACA6pKenq7Y2FhHRihPrQ1IxdPqQkJCCEgAAAAAKnTpDUUaAAAAAMCOgAQAAAAAdgQkAAAAALAjIAEAAACAHQEJAAAAAOwISAAAAABgR0ACAAAAADsCEgAAAADYEZAAAAAAwI6ABAAAAAB2BCQAAAAAsCMgAQAAAIAdAQkAAAAA7AhIAAAAAGBHQAIAAAAAOwISAAAAANgRkM6DvceytGDdn8rJL6zurgAAAAAoBwHpPHj7pz16ZPEW9Zz+vV79bpdSsvKqu0sAAAAA3CAgnQdtokPUoI6/jmXm6cVvdqrHM9/r8aVbdODEyeruGgAAAIASLMYYU92dOBfS09NltVqVlpamkJCQ6u6O8guL9OXmJL390x79npguSfKwSIPbRemuK5uofUyd6u0gAAAAUEtVJhsQkM4zY4xW/3Fcb/20Rz/tPOpY3q1JqO668hL1blFfFoulGnsIAAAA1C4EJNXcgFTStqR0vfPTHn22KVEFRbZfQ/OIIN1xRRMN69hAPl7MgATOlDFGuQVFys4r1Mn8QmXn2R4n8wqUnV/8vW1djuP7AhUVGdUJ8FG9QB+FlnjUC/RViL8XH2AAAHABIiDpwghIxRJTszXn//Zq4S8HlJlbIEmKCPHVbZc31qj4hgrx867mHgJVzxijvEJbgMnOtwWU4tBiCzAFJb63B5i8QuXk20LOqe9PPffUdmwhqKiK/7p5eVicw1OQj0ID7AEqyEd1i9cF2ZbVDfCRtycfdAAAUN0ISLqwAlKx9Jx8fbBuv+b8314dTs+VJAX5eunGrrEa17Oxouv4V3MPcbHJKygqEVBcQ8mp7wtcg07xqE1+gZsAY/u+sKoTTBl8PD3k5+2hAB8vBfh4yt/HU/7etq8Bju9t6zwsUsrJfJ3IytPxrDylZOXpRFae48OLygrx81K9IF/VDfBWaKDvqQAVcCpk1bOHqXpBPgrw8ariowcAAAQkXZgBqVheQZGWJhzSOz/v0c7DmZJsn1xf2yFad17ZRK2iLqzjwfm3+0iG/jia5SbMlB1WikdeSo7aFJynAOPtaZGfty2sBPh4uQkvxd87Bxzn773k7+PhaBPg4yk/H08FeHvKqwpGcXLyC5Vy0haWSj+Kg9TxEstSTubpTP66+nl72MJTkI8jUBWHp9BS39cL9FGIn7c8PJj2BwBAeQhIurADUjFjjH7YeVRv/7hHa/Ycdyy/olmY7rryEl3etB7XQ8DhUGq2lm1K1JKNh7Q9OaNKt+3pYVFAyaDi4yV/+4iM+7ByakTGfdixrSsORbVxGlphkVFadr5OZOXqRJbt6/GsPJ3IzNMJN0HreFae8gqKKr0fTw+LfXTKOTyFBvoqNMBboUHOIatugA/XNwIALjoEJNWOgFTSbwdT9fZPe/Tl5iTHdRWto0J0V68murpdVK18g4nTSz2Zpy83J2tJwiH9sveEY7m3p0Wto60K8rWNuvjbR1L87SEmoERQKTnqUjLglBzJ4Q31uWeMUVZeYYmRKNdglXLSeZQqI+fMpv0F+3mVKD5hH5lyfO+r0MAS0wEDfRTg48mHMQCACxoBSbUvIBU7cOKkZq3aqw/XH1B2fqEkqUEdf43r2Vgju8YqyJfrF2q77LxCfbvtsJYmJOrHnUeUX3jqn3B841AN79RAV7eNkjWA4h61XV5BkS00lQxPmbk6cbJ45Mp1pOpMZk36eHm4VPUrDlfugpXV31ueTPsDANQgBCTV3oBULCUrT/PX/qn31uzTscw8SbaLwW/pFqexPRopPMSvmnuIqlRQWKT/++O4liYc0tdbkpWVV+hY1yoqRMM7RuvaDtEU8kC5ioqM0nPynUahHFP8nEaocpWSla/jWbnKya/8tD+LRarj7+0SqOoGlPg+8FRxCkapAADnGgFJtT8gFcvJL9Sn/zukd3/eoz3HsiTZKnYN72Qr6NA0PLiae4gzZYxRwoFULU1I1Oe/JelYZq5jXUxdfw3rGK1hHRuoeQS/Y5w7J/MKSo1QOX9/3F6QojhopWXnn9F+fL08nK6jKi9MhQb6qE6AN1OLL1LF9zizWCRfL8/q7g6ACwQBSRdPQCpWVGT0zbbDevunPdrwZ4pjed+W4brzyia6rHEon85eIP44mqmlCYn6LOGQ9h0/6VgeGuija9pFaXinaF3asC6/T9RI+YVFSj2Z7zT1r+RIVcmfi6+3yj2D4hRS6RLqp8JUqLtwFeijYF9u9FtdjDE6mVeorNwCZZZ4ZOXalmXkFijL/sjIsX+fV6DM3EJl5uQrK7fQ1j6vQJk5BY4Km+HBvooNDVBMXX/F1rV/tf8cXcefEA3AgYCkiy8glbThzxN6+6c9WrH1sKPMcIfYOrrryiYa2CaSawNqoMPpOVq2KVFLExK1+VCaY7m/t6cGtInQ8I4N1LNZGP/Zo9Yxxig7v7ACYco25S/FHr7O5H8ub0+Ly8iU2zAVUPyz90U9QlFYZOwhpsAlxDiCS16ho01mTsGpEFMi2GTlFigzr+CMfmdnw8MiRYb4KaaMABVl9ef/Q+Aics4C0htvvKE33nhD+/btkyS1adNGjz32mAYPHixJGjt2rN577z2n58THx2vt2rWOn3NzczVlyhQtXLhQ2dnZ6tu3r2bOnKmYmBhHm5SUFD3wwAP67LPPJElDhw7Va6+9pjp16lS0qxd1QCq252im3l21V//dcNBRPjiuXoBu79lYf+0cK3+fi/c//pogPSdfy7cka2nCIa3+47jjzYOnh0VXNgvT8E4N1L91BDcOBUo5VUK9/JGpkqNYJ0tct1cZQb5eqmsvPhFqv9lvaKC322l/oTXgvlR5BUWnAkuZwaY4xNhCjaNtXnHIsYWa4kJAVcnDIgX6einI10uB9kewr5cCfT0dy4vXlfwaZG8T7HfqeQWFRgdTTurAiWzb15STOpiSrQMnbF9PNzLp5WFRVB2/U8GpboBiQouDVIDCg325xxhQi5yzgLRs2TJ5enqqadOmkqT33ntPzz33nDZu3Kg2bdpo7NixOnz4sObMmeN4jo+Pj0JDQx0/33PPPVq2bJnmzp2revXqafLkyTpx4oQ2bNggT0/bG/bBgwfr4MGDevvttyVJd955pxo1aqRly5adkxehtjuWmav3V+/T+2v/VOpJ2/UBdQO8Nbp7I43pHqd6Qb7V3MOLR25BoVZuP6qlCYf03fYjTve96RxXV8M7RuvqdlH8ToAqlpNfWOEwdSLLNkpVeAYl/4rvS1U3wHl6n7swVTyCJanElDPnr86jM6dGY9wFm6zcQuUVntl0xfJ4e1rKDS2nQo498Ph5KdCnRDs/W7sgX9utA87HNEdjjI5m5joFpoMlAtSh1GynCqDu+Hh6qEFdf6dRp5KjUPUCfZiyCVxAzusUu9DQUD333HMaP368xo4dq9TUVC1ZssRt27S0NNWvX1/z5s3TyJEjJUmJiYmKjY3Vl19+qYEDB2rbtm1q3bq11q5dq/j4eEnS2rVr1b17d23fvl0tWrSoUL9qVEDKzZS8/CTP6h0JOJlXoI9/Pah3V+3RgRPZkmwXRv+1c4zuuKKJGoUFVmv/aqvCIqN1e49r6cZEfbklyeneNc3CgzS8UwMN7RCt2NCAauwlgJKKiowycgrsN/W13ZPKfZg6FbQycs/svlTngp+3h4J8vRVkDzClQ0yQr6eCfL0dwSXIr0QA8vEqMVLjWSunGRYWGR3JyHEEptKjUElpOacNyP7enopxG6ACFBvqL6u/NwEKqEEqkw3O+B17YWGhPv74Y2VlZal79+6O5T/88IPCw8NVp04d9erVS//5z38UHh4uSdqwYYPy8/M1YMAAR/vo6Gi1bdtWq1ev1sCBA7VmzRpZrVZHOJKkbt26yWq1avXq1WUGpNzcXOXmnqrylZ6efqaHVvXWviGtekmK6Sw17C7FxksxXSW/8xvcAny8NKZHI90c31DLf0/W2z/t0W8H07Rg3X598Mt+DWwdqTt7NdGlDeue137VRsYY/Z6YrqUJh7RsU5KS03Mc66KsfhrawVaBrlVUMP+BAjWQh4dF1gBvWQO81biCHx4V35eq9MiUu/tRFS8vHsWwWKRAn1OjMq4jNSVHZzxPfe+unY+nvLhesVyeHhZFWW3XIXVtFOqyvqCwSElpOY7AdNA+ClX8c3J6jrLzC7XrSKZ2Hcl0u48gXy97gLIFppi6AYotEaaC/bhXHVBTVTogbd68Wd27d1dOTo6CgoK0ePFitW7dWpJtatwNN9yguLg47d27V48++qiuuuoqbdiwQb6+vkpOTpaPj4/q1nV+Ax4REaHk5GRJUnJysiNQlRQeHu5o4860adP0r3/9q7KHc34kJUj5WdLen2wPSbJ4SBFtpNhuUkP7wxpT7maqipenh4a0j9Y17aK0ds8Jvf3TH1q546iW/56s5b8nq2ujurrzykvUt2U4868raf/xk1qacEhLEg7pj6NZjuUhfl66pn2UhnVsoMsahfK6ArWQj5eHIkL8FFHB+9AZYyuC4GGxyN/bk78LNYiXp4diQwPKHNnPLShUUqotQJ0afcp2XBN1LDNXmbkF2p6coe3JGW63USfA223xiNi6AWpQ15/rT4FqVOl/fS1atFBCQoJSU1P1ySefaMyYMfrxxx/VunVrx7Q5SWrbtq26dOmiuLg4ffHFF7ruuuvK3KYxxulTdHefqJduU9rUqVM1adIkx8/p6emKjY2t7OGdGyPmScd2SPvXSPvX2b6m/iklb7Y91r9ja2eNtY0uFQem8NaSx7mb2mCxWNT9knrqfkk97TycoXd+2qMlCYe0fl+K1u/7VZfUD9QdVzTR8E4N5Odd+6ZYVJVjmbn64rckLUk4pI37Ux3Lfb081K9VhIZ1jFavFvVr5TQVAGfOYrEwinCB8vXyVKOwwDKnpmfnFepQqj00lRp9OnDipFJO5ivV/thyyP2Ml7AgHzWwjzqVHoWKruPP/8vAOVTpgOTj4+Mo0tClSxetX79er7zyit566y2XtlFRUYqLi9OuXbskSZGRkcrLy1NKSorTKNKRI0fUo0cPR5vDhw+7bOvo0aOKiIgos1++vr7y9a2hF7Z7eEjhrWyPLuNsy9KTpANrbYHpwFop6Tcp7YDtseW/tja+IbapeMWBqUFnyefcXCfUPCJYz93QQVMGttCc/9unBev+1B9Hs/SPTzfr+RU7ddvljXRLfJysAfxnLklZuQVasTVZSzYmatXuY4656h4W6fKmYRrWsYEGtongzQ8AXIT8fTzVNDy4zJu1Z+YW2IpGnMh2qb53IOWkMnIKdCwzT8cy87TpQKrbbUSE+DoCk3OAClBUHT9uCwGchbMu0tC3b1/FxsZq7ty5LuuOHz+uBg0a6O2339att97qKNIwf/58jRgxQpKUlJSkmJgYlyIN69at02WXXSZJWrdunbp163bhFmmoiNxM6dAGaf9aW2A6sF7KKzUs7+ElRbY/FZhiu0nBZYfGs5GRk68P1x/Q7FV7lZhmu34mwMdTI7rEanzPxhdlQYG8giL9vOuoliQk6putycrJP1UtqkOMVcM6NtCQDlEKD67Y9BoAANxJO5lvD06u4enAiezTlmD3sEhRVn+310A1rBegyBA/rn/FReecVbF7+OGHNXjwYMXGxiojI0OLFi3SM888o+XLl6t79+564okndP311ysqKkr79u3Tww8/rP3792vbtm0KDrZ9inLPPffo888/19y5cxUaGqopU6bo+PHjLmW+ExMTHaNSd955p+Li4i6uMt9FhdLh308Fpv1rpfRDru3qNjpV+KFhdymsuW3EqorkFxbp898S9daPexzzqD09LLq6XZTuurKJ2jawVtm+aqKiIqMN+1O0ZOMhfbk5SSn2MumS1DgsUMM62ootVPQibgDAWcjLss24SEqQcjOksGZS/VZSvUskz4tjxN4YoxNZeS7T9kr+nHeae0CFBvqoXQOr2sdY7V/rKCLEl9CEWu2cBaTx48fru+++U1JSkqxWq9q3b6+///3v6t+/v7KzszV8+HBt3LhRqampioqKUp8+ffTvf//b6VqgnJwc/e1vf9MHH3zgdKPYkm1OnDjhcqPYGTNmcKPY1APSgXWnrmU6vEVSqV+fXx376JI9MEV3krzPfkTDGKOfdx3T2z/t0ardxxzLe1xST3de2US9mtevVX9YdyRnaEnCIX2WkKhDqdmO5fWDfXVt+2gN7xStdg2steqYAaBGycuyXaebmGALRIkbpWM7JePmzb+Hl1SvqVS/pe0R3vKiC07FioqMjmXmlhmeDqVkq8BNCfP6wb5q38CqdjHFwamO6gfX0EsXgDNwXu+DVFPVyoBUWk6adHC9bXRp/1rp4K9SQbZzG08fW0gqLv4Q200KrHdWu91yKE3v/LxHn/+W5Lj2pmVksO64oomu7RAtH68Lc97zodRsfZaQqKUJh5yqDgX5emlQ20gN6xitHpeEyZNKUwBQtfJO2j70S9xoC0SJG23FjdyFoeBoKbqj5F9XOrrD9ig9Jb1YyeAU3upUgLoIg1OxnPxC7UjO0G+H0rT5YKp+O5imXUcy3d73Kcrqd2qkKaaO2jWwKjTQpxp6DZw9ApIukoBUWmG+lPzbqcB0YJ2U6VrwQvWanbqOqWF3KbSJ7SYclXQoNVuzV+3Vol/2KyvPNh86MsRP43o20k2XNbwgChSknszTF5uTtDQhUb/sPeFY7uPpod4t6mt4pwa6qmU41YIAoKrkZ0vJ9jBUPDJ0dHsZYShKiupoC0TRnWzfl7721hgp7aA9LG2Tjmy3be/odinP/T2K5OFtD04tTgWn8Fa2/w8vwuCUnVeorUnptsB0KE2bD6Zp99FMuXuHGFPX3zHC1D7GqrYNrLL6X3yvGS48BCRdpAGpNGOklL2nSosfWGf7D6O0wPolyot3txWC8Kr4J0RpJ/O14Jc/Nef/9ulohu1mvcG+XhoV31C3Xd5YkdaaVbQgO69Q3247rKUJh/TjzqNON2qMbxyq4R0baHDbKCr2AcDZys+2XU9bPDKUlCAd2SYZN0UGgiJOhaDoTrZQFBx55vt2BCd7WDqy3Ragju44fXAqnqJXHKAuwuCUmVugrYnp+s0+yrT5UJr2Hsty27ZRvQC1i6njmKLXtoFVQb7cxwk1CwFJBKQynTwhHfjlVGA69D+pMNe5jZefraR48ZS82Msk/zqn3XRuQaGWbkzU2z/v0W77ncW9PCwa2jFad17ZRC0jq+/3UFBYpP/747iWbjykr39Pdox4SVLrqBAN7xStaztEK8rqX219BIALWn6OLQwlbbQHok3Ska3uw1Bg+KkQVByIQqLOTz9LBqcj204FqNMFp7BmtsBUv5U9QLW86IJTWna+fj+U5hhl+u1Qqg6cyHZpZ7FITcIC1d4+La99jFWto0O4+S2qFQFJBKQKK8i1fapXHJj2r5WyT5RqZLF9glYcmBp2k+o0LHNaXlGR0codR/TWT3ucpq31al5fd13ZRN0vqXdeihsYY5RwIFVLExL1+W+JOpaZ51gXG+qvYR0aaFjHaDWLcH+fCgBAGQpy7dcMJZyaKndkm1RU4No2sL7zqFB0J9vUuZpW5KaoSEo/6DxF74h9xCnf/cjJqeBUqjhEaOOLJjilZOVp8yHbCNNvB1O1+WCa4/YgJXlYpGbhwWoXY1UH+zVNLSODmcKO84aAJALSGTNGOrbrVGnx/WulE3+4tguOOlUpr2G8FNFO8nT9ZCjhQKre/ukPLd+SrOLrP9s2CNGdV16iq9tGyusc3Mjuj6OZWrrxkJZuStSfx086locG+mhI+ygN6xitSxvWpQIdAFREQa59ZCjhVCA6sk0qyndtGxDmfL1QdEcppEHNC0OV4RSc7IGpMsEpvNWpkafQJm7/r6xtjmbkasuhNPvUvFRtOpjmmIJfkpeHRS0ig52uaWoeEXzBFntCzUZAEgGpSmUeOTW6tH+t7T/J0p8SegdKMV1OBaaYrpLvqZGZP49n6d2f9+rjDQccN1iNqeuv8T0ba0SXWAWe5Vzlw+k5WrYpUUsTErX5UJpjeYCPpwa0jtCwTg3Us2kYdxYHgPIU5NmmxZUsoHB4axlhqJ5rAQVrzIUdhiqjqEhKO1CqOERxcDrp/jmePrZCSSWLQzim6tXu4HQ4PccWmOyFIH47mKYTWXku7Xw8PdQqyjbS1L5BHbWLsapZeNA5+UAVFxcCkghI51TeSSnxfyWq5f0i5aY5t7F4SBFtTwWm2G6StYFOZOVp3po/9d6afY4/jFZ/b43uFqcxPRpV6p4L6Tn5Wr45WUs3HdLqP447qu14eVh0ZfP6GtYxWv1bRzDnGQDcKcizvaEvWVr7yFap0PVNq/zruhZQsMZePGGoMhzBqcQUvYoGp+Jrm4pHnuo2rrXByRijxLQcR6nxzfbQlJbtGsb9vD3UOirE6ZqmJvWDuO0GKoWAJALSeVVUZPvj7whMa6XU/a7trA1tYalhN+VGXab/HgjSO6v+1D77NDgfLw9df2kD3X5FE11SP8jtrnLyC/XDjiNasjFR3+844nS38C5xdTWsUwNd0y6K+zQAQEmF+bY3646RoQTbNUTuwpBfHdcCCuVcd4oKcglOJYpDVCg4lSgOUUuDkzFGB05k67dDtmuZfjuYpi2H0pSR63ptW4CPp9pGl7yxrVWN6gXKg9CEMhCQRECqdumJp+7FtH+N7W7ope9x4WuViemqXX5t9f6hSP03OUI5so0g9WsVobt7NVGXRqEqLDJat+e4liQc0ldbkpWRc+oPZfOIIA3r2EBDO0QrNjTgfB4hANRMhfm2N94lCygkb3GtWCpJflbXAgp14ghD51NRkZS237U4xLGd5QensOalquq1kuo2qnXBqajIaN/xLMcI0+aDadqSmKaTea7VEYN9vdTWcWNb2xS92FB/rjmGJAKSJAJSjZObIR389VRgOvirSznVIouX9vk01fdZjbW+qIU2FLVQdExDHU7P0eH0U/+xR1n9NLRjtIZ1aKBWUcH84QNw8SossL2hLr5eqHhkqMC1iph8rVJ0B+epcnUbEYZqKqfgVPIGuDukAtfS2pIkT9+yq+p51J5qcYVFRnuOZuq3g7bKeb8dStPWxHTlFhS5tLX6eztGmNrH2ApBRFn9eO9wESIgiYBU4xUW2P4TLw5M+9dKGUkuzfYWRWiridMhz1hZY1urTbvOat2uszz8+Z3iHDBGKiqsdZ/AopYoLJCO7Th1w9XEjbaRIXdvln2tUlR756lyoU0IQ7VBUZGU+qeb4hA7KxacIlpLjXvbzg2P2lP4IL+wSLsOZ2rzoVPXNG1LSnfcDL6ksCAftWtgddzctn2MVeEhNeum9qh6BCQRkC44xtiuWypRLc8c2SqLyjg9g6Nsf+zrNbNNMwhrZnuExNSqP/g4R7JTbeXrj++xf/1DOr7b9n1Omq06V3CUFBxpfxR/H33q58D6BCmcO0WFtilWJQsoJG92/wbYJ9geguyjQ9GdbNeo8Lfw4uIITqWLQ5QRnALCpGb9bY9LrrIV4qhlcgsKtTM50+mapp2HM1RQ5PreIiLE11FqvJ19xCksqOKFo1DzEZBEQKoVslOlQ7/a/sgf2ykd2237mnWk7Od4+UthTV2DU72mkk/gees6aoDcTOlEcQDa7RyGTh47++1bPKTA8FIBys3XgHq8UUX5igpt958rWVo7ebP76098glxLa4c24RxD2YoKT404Hdlmq0L7xw9SXsapNhYP270Nm/WXmg2wVaGtpaONOfmF2paU7nRN064jGXKTmdSgjr99pMk2ytQ22qq6FIG6YBGQRECq1bJTbW94j+20vako/npij/t7dRQLibEHphLBKax5zbyjOyomP1s6sfdU8CkeFTq+W8pMLv+5QRFS6CVSvSb2r5fYgnRgfSnrqG3KZ0ay7Wt6ie8zkqXMw5JxvUDYLQ8vKcg+EhUSVXaY8qvDeVhbGCPlpksnT0jZKVL2Celk8deSy05IJ4/b/n65u+GoT5BtVKhkIAq9hDCEs1eQZ5uxsWuFtOsb20hTScHRUrN+UrOBUpNeTvc1rI1O5hVoa2J6iXLjqdpzLEvu3iE3qOOvtg1C1Dbaqrb20FSZW5Sg+hCQREC6KBUW2D4lKxmcioPUyeNlP88nyPbGuGR4qtfM9obZ2//89R/uFeTZfq8lp8Ed/8MWiNMOSmVNw5Qk/1Db7zHUHn6Kw1BoE8nvLP4uFBVKWcecQ5S7r1lHy+9fSV5+pxmNsk/v83VfAh/nSH6Oc6BxCTlugk92iuvNtE/HO/DUNUPFBRTqXVKrLqxHDZbyp7T7G1tY2vOj85Q8D28prodtZKnZANv/kRfBhzkZOfn6PTHdNjXPHpr+PO6+qmBEiK/aRlvVpoFVbaND1C7GqsgQCkHUNAQkEZBQyskTJUabSgSnE3vLGQmw2O79UTo4hTWXgsIviv8gzpvCAlu1ppLT4IqnxqUeKH+0xjekRAgqFYaqe059Yb5ttKm8EJWRZHtDXVE+wW6ujSr9NZJwX1pRoe36suKQk51SKvCUXmYPO2WVWa4IL38pINQW1APq2r+G2s5Lx/ehtkpyYc0IQ6gZ8nOkP1fZwtLOr6WUvc7r68SdCkuNeko+F88tNtKy87U1MV2/J9ruz7QlMV1/HM10O9JUL9DHEZjaNrCNNFFyvHoRkERAQgUV5Ekp++yhaZdziMpJK/t5viGnglO9pvYA1dxWStWLoXa3ioqk9EMliiL8cer7lH3lT4/0Djg1Ha5eU+cwFBh24YfV/BzblEB3ASo90f5zsvM1A6fjV8c5OLmb3hcUIXl6n7PDOieMkfKyygg5KWUHn+xUVXg0rzSLpy3UuISbuqdCTsnvi9cRUlEbHP/DPhVvhbRvlfPNhb38pEZXSM0H2q5fqtuo2rpZXbJyC7QtKd0RmLYcStOuI5kqdHNRU4if7T5NbRtY1cYenBpzc9vzhoAkAhLOkjG2KVROwckenlL/dL3pbTGLh/3T4JLByR6kAupd+G/kT8cY24jJ8d3OAej4H7ZPId3dm6WYp69t6lu9S0p8tY8GBUfW/teuInIzpIzDp5nal1T+61xaYP3TF5oIrH9uRjcK8yswkuMm+JR8g1ZZPsGlRnPKGNUJqHtqmW8I1/0Akq34zd6fTl27lH7QeX1Yc/voUn+pYQ/J6+IsaJCTX6gdyRnaUjzSdChdO5IzlFfo+t4h0MdTbaKtalN8XVMDqy6pHygvT/7mVDUCkghIOIcKcm3XvxSPNB0rUTCivE/4/eu6VtcLa26/8/kF9Cm+MbZrukpOgyv+/sRelxsAO/Hwsh2voyhCialxlGivGsbYRj9LBiaXIGV/lDdqV5LF0zbaVF6QCqxvKzRwMqXiU9gqMyJWmqdPqXBTegSnjFGdC+nfGlCTGWOrilcclvavcZ4O7RMkNeltC0tN+0vWBtXW1Zogr6BIu45k6PdDtgp6WxJt92nKyXcNTb5eHmoVFaK2DULUroFVbaKtah4RLB8v/o88GwQkEZBQDYpHTxxFInadGoFKPaAyp/d4eNnuWRLW3FaivHi6Xr2mtjd11SU7xf01Qcf3SLnlTD+0eNiu3QotFYDqXSJZG3LvoJqiqMgWVE5XaCLzcNkjplXCIvlZywk3bkKOf6itbD+jikDNkZ0q7fnhVGAqfUuOiHanyojHdOX/AkkFhUXacyzLMcq05VCafk9MU1ae63W33p4WtYgMdhSDaNfAqpaRwfLz5trFiiIgiYCEGibvpC1gFAen47tOjT65K+9bLCDMfXCqE1c1/7nkZpYKQCW+L6/yn2Qb8XGUyG56KgzVjeM6rNqksMC17LnLaFSS7d5S3gGu09PKncYWagtHFCcAapeiIil5ky0o7VohHfxVTh8S+lmlS/rawlLTflJQ/Wrrak1TVGS073iWtiSm63f7SNOWQ+lKy3Yd8ff0sKhZeJDaRFttpccbWNU6KkSBvoRPdwhIIiDhAmGM7SL84lEnR3DaZStoUBZPH9t1Oo5CEc1OBSk/q3Pb/GzblMCSIehE8b2CDpffv6AIe1GEJs6jQXUbX1SVi1ABRUVMkQTgXtZx6Y/vbGFp97elKndabGXtiyvjRXfib0kpxhgdTMm2F4I4Ndp0PMv1ekyLRWoSFuionNemQYjaRFtl9Wd6MQFJBCTUArmZ9iltu52vdzq+q/yL8IMibGHJYrFNhyt9EW1pAfXcXxMU2qTW3xwQAHCeFRVKhzbYSojvWiEl/+a8PiDMPhWvv3TJVdV/u4Yayhij5PQcp6l5Ww6lKznd/fuDhqEBtuuZShSDCA28uIpoEJBEQEItVlQkpR0oVZbc/n1msvvn+FrdBKBLasa9ggAAF6/0JNuo0q4V0h8rnYu3WDyk2PhT1y5FtOXaw9M4mpGrLYlptul5h9K1JTFNB1Oy3baNtvo5rmdqaw9O4SF+57nH5w8BSQQkXKRy0k8FJ1N0KgxdDCXGAQAXtoI86cC6U4Uejm5zXh8cLTXrJzUbKDXpxSyHCko9mecIS7bRpnTtPeb++uf6wb6nbm5rf0Rb/WrFDW4JSCIgAQAAXNBS958KS3t+lApKjIR4eEtxPU5duxTWjA8CKyEjJ19bE9MdN7fdcihNfxzNlJv726pugLf95rZWR+nxhqEBF1xoIiCJgAQAAFBr5OdIf66yhaWdX9tuPl5SnbhTYalRTwoJnYGTeQXalpSh3xPTtPlgmrYkpmvX4QwVuElNwX5eahN96nqmtg1C1DgsSJ4eNTc0EZBEQAIAAKi1jv9hH11aIe1bJRWWqOjm5Sc1ukJqPtB2/VLdRtXWzQtdTn6hdh7OcJqitz0pQ3mFrvfHC/DxVOuoEPtok+1r0/AgeXvWjKqEBCQRkAAAAC4KuZnS3p9OTccrXb01rLl9dKm/1LCH5HVxVW+ravmFRdp1OPNUMYjEdG1NTFd2vusNbn28PNQqMlhvje6iSGv1FoAgIImABAAAcNExRjqy7VRY2r9GMiXeuPsESU1628JS0/6StUG1dbU2KSwy2nM00+k+Tb8npiszt0A+nh7a8q+B8vGq3pEkApIISAAAABe97FRpzw+nAlPWEef1Ee1OlRGP6Sp5elVHL2uloiKjP0+c1J/Hs9S7RXh1d4eAJBGQAAAAUEJRkZS8yRaUdq2QDv4qqcTbYD+rdElfW1hq2k8Kql9tXUXVIyCJgAQAAIByZB2X/vjOFpZ2fytlp5RYaZGiO52qjBfdSfKoGcUGcGYISCIgAQAAoIKKCqVDG2wlxHetkJJ/c14fECZ1vEnq8SAjSxcoApIISAAAADhD6Um2UaVdK6Q/Vkp5GbblXv7SZbcTlC5ABCQRkAAAAFAFCvJsU/F+es42yiQRlC5ABCQRkAAAAFCFjLGNKv0wjaB0ASIgiYAEAACAc4CgdEEiIImABAAAgHOorKDUdbx0+YNSUPXf+wenEJBEQAIAAMB5QFC6IBCQREACAADAeURQqtEISCIgAQAAoBoQlGokApIISAAAAKhGBKUahYAkAhIAAABqAGOk3d/Zg9KvtmUEpfOOgCQCEgAAAGoQglK1IiCJgAQAAIAaiKBULSqTDTwqs+E33nhD7du3V0hIiEJCQtS9e3d99dVXjvXGGD3xxBOKjo6Wv7+/evfurd9//91pG7m5uZowYYLCwsIUGBiooUOH6uDBg05tUlJSNHr0aFmtVlmtVo0ePVqpqamV6SoAAABQ81gsUrN+0u3fSjd/IjXoIhVkS2tmSC+3l75+RMo8Ut29vKhVKiDFxMTomWee0a+//qpff/1VV111lYYNG+YIQc8++6xefPFFzZgxQ+vXr1dkZKT69++vjIwMxzYmTpyoxYsXa9GiRVq1apUyMzM1ZMgQFRYWOtqMGjVKCQkJWr58uZYvX66EhASNHj26ig4ZAAAAqGYEpRrrrKfYhYaG6rnnntO4ceMUHR2tiRMn6u9//7sk22hRRESEpk+frrvuuktpaWmqX7++5s2bp5EjR0qSEhMTFRsbqy+//FIDBw7Utm3b1Lp1a61du1bx8fGSpLVr16p79+7avn27WrRoUaF+McUOAAAAF4zypt71eEAKjqje/l3gztkUu5IKCwu1aNEiZWVlqXv37tq7d6+Sk5M1YMAARxtfX1/16tVLq1evliRt2LBB+fn5Tm2io6PVtm1bR5s1a9bIarU6wpEkdevWTVar1dHGndzcXKWnpzs9AAAAgAtCeSNKr3SwjShlHK7uXl4UKh2QNm/erKCgIPn6+uruu+/W4sWL1bp1ayUnJ0uSIiKc021ERIRjXXJysnx8fFS3bt1y24SHu16cFh4e7mjjzrRp0xzXLFmtVsXGxlb20AAAAIDqRVCqdpUOSC1atFBCQoLWrl2re+65R2PGjNHWrVsd6y0Wi1N7Y4zLstJKt3HX/nTbmTp1qtLS0hyPAwcOVPSQAAAAgJqFoFRtKh2QfHx81LRpU3Xp0kXTpk1Thw4d9MorrygyMlKSXEZ5jhw54hhVioyMVF5enlJSUsptc/iw6y/76NGjLqNTJfn6+jqq6xU/AAAAgAtayaB0C0HpfDjja5CKGWOUm5urxo0bKzIyUt98841jXV5enn788Uf16NFDktS5c2d5e3s7tUlKStKWLVscbbp37660tDT98ssvjjbr1q1TWlqaow0AAABwUbFYpKYEpfPBqzKNH374YQ0ePFixsbHKyMjQokWL9MMPP2j58uWyWCyaOHGinn76aTVr1kzNmjXT008/rYCAAI0aNUqSZLVaNX78eE2ePFn16tVTaGiopkyZonbt2qlfv36SpFatWmnQoEG644479NZbb0mS7rzzTg0ZMqTCFewAAACAWqk4KF3SV/rjO2mlverdmhnS+llUvasClQpIhw8f1ujRo5WUlCSr1ar27dtr+fLl6t+/vyTpoYceUnZ2tu69916lpKQoPj5eK1asUHBwsGMbL730kry8vDRixAhlZ2erb9++mjt3rjw9PR1tFixYoAceeMBR7W7o0KGaMWNGVRwvAAAAcOEjKJ0zZ30fpJqK+yABAADgomGMc1CSuI9SCZXJBgQkAAAAoLYoDko/PCMdXG9bRlAiIEkEJAAAAFzE3AYlP6nLeOnyBy+6oERAEgEJAAAAICjZEJBEQAIAAAAcLvKgREASAQkAAABwYYz0x/fSD9MuqqBUmWxw1jeKBQAAAHCBsFikpn2l8d9It3wqxXSVCnKkta9Lr7SXlj980d9wloAEAAAAXGwISmUiIAEAAAAXK4KSC65BAgAAAGDjuEbpGengL7ZlteAaJYo0iIAEAAAAnLFaFpQISCIgAQAAAGetzKA0zh6UIqu3fxVEQBIBCQAAAKgyF3hQIiCJgAQAAABUuQs0KBGQREACAAAAzhljpD0rpZXTLoigxI1iAQAAAJw7Fot0yVXS+BXS6MVSzGX28uAzpVc6SMunShnJ1d3LM0JAAgAAAHBmKhKUso5Vdy8rhYAEAAAA4OyUFZTWv2v7egHxqu4OAAAAAKglioNSkz62a5SO7pCsMdXdq0ohIAEAAACoWsVB6ZKrqrsnlcYUOwAAAACwIyABAAAAgB0BCQAAAADsCEgAAAAAYEdAAgAAAAA7AhIAAAAA2BGQAAAAAMCOgAQAAAAAdgQkAAAAALAjIAEAAACAHQEJAAAAAOwISAAAAABgR0ACAAAAADsCEgAAAADYEZAAAAAAwI6ABAAAAAB2BCQAAAAAsCMgAQAAAIAdAQkAAAAA7AhIAAAAAGBHQAIAAAAAOwISAAAAANgRkAAAAADAjoAEAAAAAHYEJAAAAACwIyABAAAAgB0BCQAAAADsCEgAAAAAYFepgDRt2jR17dpVwcHBCg8P1/Dhw7Vjxw6nNmPHjpXFYnF6dOvWzalNbm6uJkyYoLCwMAUGBmro0KE6ePCgU5uUlBSNHj1aVqtVVqtVo0ePVmpq6pkdJQAAAABUQKUC0o8//qj77rtPa9eu1TfffKOCggINGDBAWVlZTu0GDRqkpKQkx+PLL790Wj9x4kQtXrxYixYt0qpVq5SZmakhQ4aosLDQ0WbUqFFKSEjQ8uXLtXz5ciUkJGj06NFncagAAAAAUD6LMcac6ZOPHj2q8PBw/fjjj7ryyisl2UaQUlNTtWTJErfPSUtLU/369TVv3jyNHDlSkpSYmKjY2Fh9+eWXGjhwoLZt26bWrVtr7dq1io+PlyStXbtW3bt31/bt29WiRQuX7ebm5io3N9fxc3p6umJjY5WWlqaQkJAzPUQAAAAAF7j09HRZrdYKZYOzugYpLS1NkhQaGuq0/IcfflB4eLiaN2+uO+64Q0eOHHGs27Bhg/Lz8zVgwADHsujoaLVt21arV6+WJK1Zs0ZWq9URjiSpW7duslqtjjalTZs2zTEdz2q1KjY29mwODQAAAMBF6IwDkjFGkyZNUs+ePdW2bVvH8sGDB2vBggX6/vvv9cILL2j9+vW66qqrHKM7ycnJ8vHxUd26dZ22FxERoeTkZEeb8PBwl32Gh4c72pQ2depUpaWlOR4HDhw400MDAAAAcJHyOtMn3n///frtt9+0atUqp+XF0+YkqW3bturSpYvi4uL0xRdf6Lrrritze8YYWSwWx88lvy+rTUm+vr7y9fWt7GEAAAAAgMMZjSBNmDBBn332mVauXKmYmJhy20ZFRSkuLk67du2SJEVGRiovL08pKSlO7Y4cOaKIiAhHm8OHD7ts6+jRo442AAAAAFDVKhWQjDG6//779emnn+r7779X48aNT/uc48eP68CBA4qKipIkde7cWd7e3vrmm28cbZKSkrRlyxb16NFDktS9e3elpaXpl19+cbRZt26d0tLSHG0AAAAAoKpVqordvffeqw8++EBLly51qiRntVrl7++vzMxMPfHEE7r++usVFRWlffv26eGHH9b+/fu1bds2BQcHS5Luueceff7555o7d65CQ0M1ZcoUHT9+XBs2bJCnp6ck27VMiYmJeuuttyRJd955p+Li4rRs2bIK9bUylSoAAAAA1F6VyQaVCkhlXf8zZ84cjR07VtnZ2Ro+fLg2btyo1NRURUVFqU+fPvr3v//tVFUuJydHf/vb3/TBBx8oOztbffv21cyZM53anDhxQg888IA+++wzSdLQoUM1Y8YM1alTp0J9JSABAAAAkM5hQLqQEJAAAAAASOfxPkgAAAAAUJsQkAAAAADAjoAEAAAAAHYEJAAAAACwIyABAAAAgB0BCQAAAADsCEgAAAAAYEdAAgAAAAA7AhIAAAAA2BGQAAAAAMCOgAQAAAAAdgQkAAAAALAjIAEAAACAHQEJAAAAAOwISAAAAABgR0ACAAAAADsCEgAAAADYEZAAAAAAwI6ABAAAAAB2BCQAAAAAsCMgAQAAAIAdAQkAAAAA7AhIAAAAAGBHQAIAAAAAOwISAAAAANgRkAAAAADAjoAEAAAAAHYEJAAAAACwIyABAAAAgB0BCQAAAADsCEgAAAAAYEdAAgAAAAA7AhIAAAAA2BGQAAAAAMCOgAQAAAAAdl7V3QEAAACcW4WFhcrPz6/ubgDnjLe3tzw9PatkWwQkAACAWsoYo+TkZKWmplZ3V4Bzrk6dOoqMjJTFYjmr7RCQAAAAaqnicBQeHq6AgICzfuMI1ETGGJ08eVJHjhyRJEVFRZ3V9ghIAAAAtVBhYaEjHNWrV6+6uwOcU/7+/pKkI0eOKDw8/Kym21GkAQAAoBYqvuYoICCgmnsCnB/F5/rZXm9HQAIAAKjFmFaHi0VVnesEJAAAAACwIyABAAAAgB0BCQAAADVOcnKyJkyYoCZNmsjX11exsbG69tpr9d1330myTadasmSJy/MmTpyo3r17O34eO3asLBaLLBaLvL291aRJE02ZMkVZWVlOz3vvvfd02WWXKTAwUMHBwbryyiv1+eefn8tDRA1FQAIAAECNsm/fPnXu3Fnff/+9nn32WW3evFnLly9Xnz59dN9991V6e4MGDVJSUpL27Nmjp556SjNnztSUKVMc66dMmaK77rpLI0aM0KZNm/TLL7/oiiuu0LBhwzRjxoyqPDRcACjzDQAAgBrl3nvvlcVi0S+//KLAwEDH8jZt2mjcuHGV3p6vr68iIyMlSaNGjdLKlSu1ZMkSvfHGG1q7dq1eeOEFvfrqq5owYYLjOf/5z3+Uk5OjSZMmadiwYYqNjT37A8MFoVIjSNOmTVPXrl0VHBys8PBwDR8+XDt27HBqY4zRE088oejoaPn7+6t37976/fffndrk5uZqwoQJCgsLU2BgoIYOHaqDBw86tUlJSdHo0aNltVpltVo1evRo7gINAABwhowxOplXUC0PY0yF+3nixAktX75c9913n1M4KlanTp2zfi38/f0dpaAXLlyooKAg3XXXXS7tJk+erPz8fH3yySdnvU9cOCo1gvTjjz/qvvvuU9euXVVQUKBHHnlEAwYM0NatWx0n8LPPPqsXX3xRc+fOVfPmzfXUU0+pf//+2rFjh4KDgyXZ5oYuW7ZMixYtUr169TR58mQNGTJEGzZscNzUadSoUTp48KCWL18uSbrzzjs1evRoLVu2rCqPHwAA4KKQnV+o1o99XS373vrkQAX4VOxt5+7du2WMUcuWLc9JX3755Rd98MEH6tu3ryRp586duuSSS+Tj4+PSNjo6WlarVTt37jwnfUHNVKmAVBxWis2ZM0fh4eHasGGDrrzyShlj9PLLL+uRRx7RddddJ8l2wVtERIQ++OAD3XXXXUpLS9OsWbM0b9489evXT5I0f/58xcbG6ttvv9XAgQO1bds2LV++XGvXrlV8fLwk6Z133lH37t21Y8cOtWjRoiqOHQAAADVM8WhTVd6/6fPPP1dQUJAKCgqUn5+vYcOG6bXXXqtwf7iX1MXlrK5BSktLkySFhoZKkvbu3avk5GQNGDDA0cbX11e9evXS6tWrddddd2nDhg3Kz893ahMdHa22bdtq9erVGjhwoNasWSOr1eoIR5LUrVs3Wa1WrV692m1Ays3NVW5uruPn9PT0szk0AACAWsXf21NbnxxYbfuuqGbNmslisWjbtm0aPnx4me2Cg4Md70VLSk1NldVqdVrWp08fvfHGG/L29lZ0dLS8vb0d65o3b65Vq1YpLy/PZRQpMTFR6enpatasWYX7jwvfGVexM8Zo0qRJ6tmzp9q2bSvJVo5RkiIiIpzaRkREONYlJyfLx8dHdevWLbdNeHi4yz7Dw8MdbUqbNm2a43olq9XKhXQAAAAlWCwWBfh4VcujMiMwoaGhGjhwoF5//XWXUtySHNekt2zZUuvXr3daZ4zRhg0bXD5MDwwMVNOmTRUXF+cUjiTpxhtvVGZmpt566y2XfT3//PPy9vbW9ddfX+H+48J3xiNI999/v3777TetWrXKZV3pfwQVGZos3cZd+/K2M3XqVE2aNMnxc3p6OiEJAADgAjRz5kz16NFDl112mZ588km1b99eBQUF+uabb/TGG29o27ZtmjJlisaMGaOWLVtqwIABys7O1ttvv60//vijUqXAu3fvrgcffFB/+9vflJeXp+HDhys/P1/z58/XK6+8opdffpn3lBeZMwpIEyZM0GeffaaffvpJMTExjuXF5ROTk5MVFRXlWH7kyBHHqFJkZKTy8vKUkpLiNIp05MgR9ejRw9Hm8OHDLvs9evSoy+hUMV9fX/n6+p7J4QAAAKAGady4sf73v//pP//5jyZPnqykpCTVr19fnTt31htvvCFJGjFihIwxev755/XII4/Iz89PnTp10s8//6y4uLhK7e/ll19W+/bt9cYbb+jRRx+VxWLRpZdeqiVLlujaa689F4eIGsxiKlF30RijCRMmaPHixfrhhx9c5mMaYxQdHa3/9//+nx566CFJUl5ensLDwzV9+nRHkYb69etr/vz5GjFihCQpKSlJMTEx+vLLLx1FGlq3bq1169bpsssukyStW7dO3bp10/bt2ytUpCE9PV1Wq1VpaWkKCQmp8AsCAABQG+Tk5Gjv3r1q3Lix/Pz8qrs7wDlX3jlfmWxQqRGk++67Tx988IGWLl2q4OBgx/VAVqtV/v7+slgsmjhxop5++mk1a9ZMzZo109NPP62AgACNGjXK0Xb8+PGaPHmy6tWrp9DQUE2ZMkXt2rVzVLVr1aqVBg0apDvuuMMxH/TOO+/UkCFDqGAHAAAA4JypVEAqHtLs3bu30/I5c+Zo7NixkqSHHnpI2dnZuvfee5WSkqL4+HitWLHCcQ8kSXrppZfk5eWlESNGKDs7W3379tXcuXMd90CSpAULFuiBBx5wVLsbOnSoZsyYcSbHCAAAAAAVUqkpdhcSptgBAICLGVPscLGpqil2Z1zmGwAAAABqGwISAAAAANgRkAAAAADAjoAEAAAAAHYEJAAAAACwIyABAAAAgB0BCQAAAADsCEgAAACoUcaOHSuLxaK7777bZd29994ri8WisWPHOpYdOHBA48ePV3R0tHx8fBQXF6cHH3xQx48fd3pu7969ZbFYtGjRIqflL7/8sho1auTUpqxHcTtJ+v333zVixAjVr19fvr6+atasmR599FGdPHmyUse7ceNG3XDDDYqIiJCfn5+aN2+uO+64Qzt37nRq99577+myyy5TYGCggoODdeWVV+rzzz93avPDDz/IYrEoNTW1zP19/vnn6t27t4KDgxUQEKCuXbtq7ty5btt+8skn6t27t6xWq4KCgtS+fXs9+eSTOnHihFO77Oxs1a1bV6GhocrOznbZTqNGjRyvob+/vxo1aqQRI0bo+++/d7vfihzruUJAAgAAQI0TGxurRYsWOb3ZzsnJ0cKFC9WwYUPHsj179qhLly7auXOnFi5cqN27d+vNN9/Ud999p+7du7u8kffz89M///lP5efnu93vp59+qqSkJCUlJemXX36RJH377beOZevXr5ckrV27VvHx8crLy9MXX3yhnTt36umnn9Z7772n/v37Ky8vr0LH+fnnn6tbt27Kzc3VggULtG3bNs2bN09Wq1WPPvqoo92UKVN01113acSIEdq0aZN++eUXXXHFFRo2bJhmzJhRsRdV0muvvaZhw4apR48eWrdunX777TfdeOONuvvuuzVlyhSnto888ohGjhyprl276quvvtKWLVv0wgsvaNOmTZo3b55T208++URt27ZV69at9emnn7rd95NPPqmkpCTt2LFD77//vurUqaN+/frpP//5j1O7qjrWM2ZqqbS0NCPJpKWlVXdXAAAAzrvs7GyzdetWk52dXd1dqbQxY8aYYcOGmXbt2pn58+c7li9YsMC0a9fODBs2zIwZM8YYY8ygQYNMTEyMOXnypNM2kpKSTEBAgLn77rsdy3r16mVuu+02ExYWZl5//XXH8pdeesnExcW59GPv3r1Gktm4caPT8qKiItO6dWvTpUsXU1hY6LQuISHBWCwW88wzz5z2OLOyskxYWJgZPny42/UpKSnGGGPWrFljJJlXX33Vpc2kSZOMt7e32b9/vzHGmJUrVxpJjueWtH//fuPt7W0mTZrksu7VV181kszatWuNMcasW7fOSDIvv/xyuX0r1rt3b/Pmm2+aN954w/Tp08elfVxcnHnppZdclj/22GPGw8PDbN++vdLHWlp553xlsgEjSAAAABcDY6S8rOp5GHNGXb7ttts0Z84cx8+zZ8/WuHHjHD+fOHFCX3/9te699175+/s7PTcyMlI333yzPvzwQ5kS+w8JCdHDDz+sJ598UllZWWfUr4SEBG3dulWTJk2Sh4fz2+kOHTqoX79+Wrhw4Wm38/XXX+vYsWN66KGH3K6vU6eOJGnhwoUKCgrSXXfd5dJm8uTJys/P1yeffHLa/f33v/9Vfn6+y0iRJN11110KCgpy9HvBggUKCgrSvffeW27fJOmPP/7QmjVrNGLECI0YMUKrV6/Wnj17TtsfSXrwwQdljNHSpUslVd2xng2vc7p1AAAA1Az5J6Wno6tn3w8nSj6BlX7a6NGjNXXqVO3bt08Wi0X/93//p0WLFumHH36QJO3atUvGGLVq1crt81u1aqWUlBQdPXpU4eHhjuX33nuvXnnlFb344otO09gqqvjaoPL2u2rVqtNuZ9euXZKkli1bnnZ/l1xyiXx8fFzWRUdHy2q1ulyvVNZ2rFaroqKiXNb5+PioSZMmju3s2rVLTZo0kbe392m3O3v2bA0ePFh169aVJA0aNEizZ8/WU089ddrnhoaGKjw8XPv27XP0sSqO9WwwggQAAIAaKSwsTNdcc43ee+89zZkzR9dcc43CwsIq/PzikSOLxeK03NfXV08++aSee+45HTt2rEr7XLzf0vssr3/na3+V2U5Ft1lYWKj33ntPt9xyi2PZLbfcovfee0+FhYWV3m9Vtj1TjCABAABcDLwDbCM51bXvMzRu3Djdf//9kqTXX3/daV3Tpk1lsVi0detWDR8+3OW527dvV926dd2GqltuuUXPP/+8nnrqKafKdBXRvHlzSdLWrVvVsWNHt/tt1qxZhbezfft2de/evdx2q1atUl5ensvISmJiotLT0yu8v7S0NCUmJio62nk0MS8vT3v27NFVV13ltM/8/PxyR5G+/vprHTp0SCNHjnRaXlhYqBUrVmjw4MHl9un48eM6evSoGjduXKXHejYYQQIAALgYWCy2aW7V8TiLT/wHDRqkvLw85eXlaeDAgU7r6tWrp/79+2vmzJkupaWTk5O1YMECjRw50u2Ig4eHh6ZNm6Y33njDMb2rojp27KiWLVvqpZdeUlFRkdO6TZs26dtvv9VNN9102u0MGDBAYWFhevbZZ92uLy7VfeONNyozM1NvvfWWS5vnn39e3t7euv7660+7v+uvv15eXl564YUXXNa9+eabysrKcvR71KhRyszM1MyZM8vt26xZs3TjjTcqISHB6XHzzTdr1qxZp+3TK6+8Ig8PD0fArapjPRuMIAEAAKDG8vT01LZt2xzflzZjxgz16NFDAwcO1FNPPaXGjRvr999/19/+9jc1aNDApYR0Sddcc43i4+P11ltvKSIiosJ9slgsevfddzVgwABdf/31mjp1qiIjI7Vu3TpNnjxZ3bt318SJE0+7ncDAQL377ru64YYbNHToUD3wwANq2rSpjh07po8++kj79+/XokWL1L17dz344IP629/+pry8PA0fPlz5+fmaP3++XnnlFb388suKjY112vbmzZsVHBzstKxjx4569tlnNWXKFPn5+Wn06NHy9vbW0qVL9fDDD2vy5MmKj4+XJMXHx+uhhx7S5MmTdejQIf3lL39RdHS0o4x6z549NWrUKC1btkyfffaZ2rZt67SvMWPG6JprrtHRo0dVv359SVJGRoaSk5OVn5+vvXv3av78+Xr33Xc1bdo0NW3aVJLO6Fir3Gnr3F2gKPMNAAAuZrWhzHdZSpb5NsaYffv2mbFjx5rIyEjj7e1tYmNjzYQJE8yxY8ecnterVy/z4IMPOi1bvXq1kVSpMt/FfvvtN3P99debevXqGW9vb3PJJZeYf/7znyYrK6uCR2qzfv16c91115n69esbX19f07RpU3PnnXeaXbt2ObWbNWuW6dKli/H39zcBAQGmZ8+e5rPPPnNqU1zm292j2NKlS80VV1xhAgMDjZ+fn+ncubOZPXu22759+OGH5sorrzTBwcEmMDDQtG/f3jz55JMmJSXFPP/886ZOnTomLy/P5Xn5+fkmNDTUvPDCC8YYW5nv4n74+PiYhg0bmhEjRpjvv//e7X4rcqylVVWZb4sxVXR1WA2Tnp4uq9WqtLQ0hYSEVHd3AAAAzqucnBzt3btXjRs3lp+fX3V3BzjnyjvnK5MNuAYJAAAAAOwISAAAAMA5UHyzVXePNm3aVHf3UAaKNAAAAADnwNChQx1FD0qryA1YUT0ISAAAAMA5EBwc7FJJDjUfU+wAAAAAwI6ABAAAAAB2BCQAAAAAsCMgAQAAAIAdAQkAAAAA7AhIAAAAAGBHQAIAAECNMnbsWA0fPlzXXnut+vXr57bNmjVrZLFY9L///c+x7JNPPlHv3r1ltVoVFBSk9u3b68knn9SJEyfOV9dRCxCQAAAAUCONHz9e33//vf7880+XdbNnz1bHjh116aWXSpIeeeQRjRw5Ul27dtVXX32lLVu26IUXXtCmTZs0b9688911XMC4USwAAABqpCFDhig8PFxz587V448/7lh+8uRJffjhh3r66aclSb/88ouefvppvfzyy3rwwQcd7Ro1aqT+/fsrNTX1fHcdFzACEgAAwEXAGKPsguxq2be/l78sFkuln+fl5aVbb71Vc+fO1WOPPebYxscff6y8vDzdfPPNkqQFCxYoKChI9957r9vt1KlT54z7josPAQkAAOAikF2QrfgP4qtl3+tGrVOAd8AZPXfcuHF67rnn9MMPP6hPnz6SbNPrrrvuOtWtW1eStGvXLjVp0kTe3t5V1mdcvLgGCQAAADVWy5Yt1aNHD82ePVuS9Mcff+jnn3/WuHHjHG2MMWc0QgW4wwgSAADARcDfy1/rRq2rtn2fjfHjx+v+++/X66+/rjlz5iguLk59+/Z1rG/evLlWrVql/Px8RpFw1hhBAgAAuAhYLBYFeAdUy+NsR3dGjBghT09PffDBB3rvvfd02223OW1z1KhRyszM1MyZM90+nyINqAxGkAAAAFCjBQUFaeTIkXr44YeVlpamsWPHOq2Pj4/XQw89pMmTJ+vQoUP6y1/+oujoaO3evVtvvvmmevbs6VTdDigPI0gAAACo8caPH6+UlBT169dPDRs2dFk/ffp0ffDBB1q3bp0GDhyoNm3aaNKkSWrfvr3GjBlTDT3GhcpijDHV3YlzIT09XVarVWlpaQoJCanu7gAAAJxXOTk52rt3rxo3biw/P7/q7g5wzpV3zlcmGzCCBAAAAAB2BCQAAAAAsCMgAQAAAIAdAQkAAAAA7AhIAAAAAGBHQAIAAKjFioqKqrsLwHlRVec6N4oFAACohXx8fOTh4aHExETVr19fPj4+slgs1d0toMoZY5SXl6ejR4/Kw8NDPj4+Z7U9AhIAAEAt5OHhocaNGyspKUmJiYnV3R3gnAsICFDDhg3l4XF2k+QqHZB++uknPffcc9qwYYOSkpK0ePFiDR8+3LF+7Nixeu+995yeEx8fr7Vr1zp+zs3N1ZQpU7Rw4UJlZ2erb9++mjlzpmJiYhxtUlJS9MADD+izzz6TJA0dOlSvvfaa6tSpU9kuAwAAXJR8fHzUsGFDFRQUqLCwsLq7A5wznp6e8vLyqpJR0koHpKysLHXo0EG33Xabrr/+erdtBg0apDlz5jh+Lj3MNXHiRC1btkyLFi1SvXr1NHnyZA0ZMkQbNmyQp6enJGnUqFE6ePCgli9fLkm68847NXr0aC1btqyyXQYAALhoWSwWeXt7y9vbu7q7AlwQKh2QBg8erMGDB5fbxtfXV5GRkW7XpaWladasWZo3b5769esnSZo/f75iY2P17bffauDAgdq2bZuWL1+utWvXKj4+XpL0zjvvqHv37tqxY4datGjhst3c3Fzl5uY6fk5PT6/soQEAAAC4yJ2TKnY//PCDwsPD1bx5c91xxx06cuSIY92GDRuUn5+vAQMGOJZFR0erbdu2Wr16tSRpzZo1slqtjnAkSd26dZPVanW0KW3atGmyWq2OR2xs7Lk4NAAAAAC1WJUHpMGDB2vBggX6/vvv9cILL2j9+vW66qqrHKM7ycnJ8vHxUd26dZ2eFxERoeTkZEeb8PBwl22Hh4c72pQ2depUpaWlOR4HDhyo4iMDAAAAUNtVeRW7kSNHOr5v27atunTpori4OH3xxRe67rrrynyeMcbpoip3F1iVblOSr6+vfH19z6LnAAAAAC525/xGsVFRUYqLi9OuXbskSZGRkcrLy1NKSopTuyNHjigiIsLR5vDhwy7bOnr0qKMNAAAAAFS1cx6Qjh8/rgMHDigqKkqS1LlzZ3l7e+ubb75xtElKStKWLVvUo0cPSVL37t2VlpamX375xdFm3bp1SktLc7QBAAAAgKpW6Sl2mZmZ2r17t+PnvXv3KiEhQaGhoQoNDdUTTzyh66+/XlFRUdq3b58efvhhhYWF6S9/+YskyWq1avz48Zo8ebLq1aun0NBQTZkyRe3atXNUtWvVqpUGDRqkO+64Q2+99ZYkW5nvIUOGuK1gBwAAAABVodIB6ddff1WfPn0cP0+aNEmSNGbMGL3xxhvavHmz3n//faWmpioqKkp9+vTRhx9+qODgYMdzXnrpJXl5eWnEiBGOG8XOnTvXcQ8kSVqwYIEeeOABR7W7oUOHasaMGWd8oAAAAABwOhZjjKnuTpwL6enpslqtSktLU0hISHV3BwAAAEA1qUw2OOfXIAEAAADAhYKABAAAAAB2BCQAAAAAsCMgAQAAAIAdAQkAAAAA7AhIAAAAAGBHQAIAAAAAOwISAAAAANgRkAAAAADAjoAEAAAAAHYEJAAAAACwIyABAAAAgB0BCQAAAADsCEgAAAAAYEdAAgAAAAA7AhIAAAAA2BGQAAAAAMCOgAQAAAAAdgQkAAAAALAjIAEAAACAHQEJAAAAAOwISAAAAABgR0ACAAAAADsCEgAAAADYEZAAAAAAwI6ABAAAAAB2BCQAAAAAsCMgAQAAAIAdAQkAAAAA7AhIAAAAAGBHQAIAAAAAOwISAAAAANgRkAAAAADAjoAEAAAAAHYEJAAAAACwIyABAAAAgB0BCQAAAADsCEgAAAAAYEdAAgAAAAA7AhIAAAAA2BGQAAAAAMCOgAQAAAAAdgQkAAAAALAjIAEAAACAHQEJAAAAAOwISAAAAABgV+mA9NNPP+naa69VdHS0LBaLlixZ4rTeGKMnnnhC0dHR8vf3V+/evfX77787tcnNzdWECRMUFhamwMBADR06VAcPHnRqk5KSotGjR8tqtcpqtWr06NFKTU2t9AECAAAAQEVVOiBlZWWpQ4cOmjFjhtv1zz77rF588UXNmDFD69evV2RkpPr376+MjAxHm4kTJ2rx4sVatGiRVq1apczMTA0ZMkSFhYWONqNGjVJCQoKWL1+u5cuXKyEhQaNHjz6DQwQAAACAirEYY8wZP9li0eLFizV8+HBJttGj6OhoTZw4UX//+98l2UaLIiIiNH36dN11111KS0tT/fr1NW/ePI0cOVKSlJiYqNjYWH355ZcaOHCgtm3bptatW2vt2rWKj4+XJK1du1bdu3fX9u3b1aJFi9P2LT09XVarVWlpaQoJCTnTQwQAAABwgatMNqjSa5D27t2r5ORkDRgwwLHM19dXvXr10urVqyVJGzZsUH5+vlOb6OhotW3b1tFmzZo1slqtjnAkSd26dZPVanW0KS03N1fp6elODwAAAACojCoNSMnJyZKkiIgIp+URERGOdcnJyfLx8VHdunXLbRMeHu6y/fDwcEeb0qZNm+a4XslqtSo2NvasjwcAAADAxeWcVLGzWCxOPxtjXJaVVrqNu/blbWfq1KlKS0tzPA4cOHAGPQcAAABwMavSgBQZGSlJLqM8R44ccYwqRUZGKi8vTykpKeW2OXz4sMv2jx496jI6VczX11chISFODwAAAACojCoNSI0bN1ZkZKS++eYbx7K8vDz9+OOP6tGjhySpc+fO8vb2dmqTlJSkLVu2ONp0795daWlp+uWXXxxt1q1bp7S0NEcbAAAAAKhqXpV9QmZmpnbv3u34ee/evUpISFBoaKgaNmyoiRMn6umnn1azZs3UrFkzPf300woICNCoUaMkSVarVePHj9fkyZNVr149hYaGasqUKWrXrp369esnSWrVqpUGDRqkO+64Q2+99ZYk6c4779SQIUMqVMEOAAAAAM5EpQPSr7/+qj59+jh+njRpkiRpzJgxmjt3rh566CFlZ2fr3nvvVUpKiuLj47VixQoFBwc7nvPSSy/Jy8tLI0aMUHZ2tvr27au5c+fK09PT0WbBggV64IEHHNXuhg4dWua9lwAAAACgKpzVfZBqMu6DBAAAAECqxvsgAQAAAMCFjIAEAAAAAHYEJAAAAACwIyABAAAAgB0BCQAAAADsCEgAAAAAYEdAAgAAAAA7AhIAAAAA2BGQAAAAAMCOgAQAAAAAdgQkAAAAALAjIAEAAACAHQEJAAAAAOwISAAAAABgR0ACAAAAADsCEgAAAADYEZAAAAAAwI6ABAAAAAB2BCQAAAAAsCMgAQAAAIAdAQkAAAAA7AhIAAAAAGBHQAIAAAAAOwISAAAAANgRkAAAAADAjoAEAAAAAHYEJAAAAACwIyABAAAAgB0BCQAAAADsCEgAAAAAYEdAAgAAAAA7AhIAAAAA2BGQAAAAAMCOgAQAAAAAdgQkAAAAALAjIAEAAACAHQEJAAAAAOwISAAAAABgR0ACAAAAADsCEgAAAADYEZAAAAAAwI6ABAAAAAB2BCQAAAAAsCMgAQAAAIAdAQkAAAAA7AhIAAAAAGBX5QHpiSeekMVicXpERkY61htj9MQTTyg6Olr+/v7q3bu3fv/9d6dt5ObmasKECQoLC1NgYKCGDh2qgwcPVnVXAQAAAMDJORlBatOmjZKSkhyPzZs3O9Y9++yzevHFFzVjxgytX79ekZGR6t+/vzIyMhxtJk6cqMWLF2vRokVatWqVMjMzNWTIEBUWFp6L7gIAAACAJMnrnGzUy8tp1KiYMUYvv/yyHnnkEV133XWSpPfee08RERH64IMPdNdddyktLU2zZs3SvHnz1K9fP0nS/PnzFRsbq2+//VYDBw48F10GAAAAgHMzgrRr1y5FR0ercePGuvHGG7Vnzx5J0t69e5WcnKwBAwY42vr6+qpXr15avXq1JGnDhg3Kz893ahMdHa22bds62riTm5ur9PR0pwcAAAAAVEaVB6T4+Hi9//77+vrrr/XOO+8oOTlZPXr00PHjx5WcnCxJioiIcHpORESEY11ycrJ8fHxUt27dMtu4M23aNFmtVscjNja2io8MAAAAQG1X5QFp8ODBuv7669WuXTv169dPX3zxhSTbVLpiFovF6TnGGJdlpZ2uzdSpU5WWluZ4HDhw4CyOAgAAAMDF6JyX+Q4MDFS7du20a9cux3VJpUeCjhw54hhVioyMVF5enlJSUsps446vr69CQkKcHgAAAABQGec8IOXm5mrbtm2KiopS48aNFRkZqW+++caxPi8vTz/++KN69OghSercubO8vb2d2iQlJWnLli2ONgAAAABwLlR5FbspU6bo2muvVcOGDXXkyBE99dRTSk9P15gxY2SxWDRx4kQ9/fTTatasmZo1a6ann35aAQEBGjVqlCTJarVq/Pjxmjx5surVq6fQ0FBNmTLFMWUPAAAAAM6VKg9IBw8e1E033aRjx46pfv366tatm9auXau4uDhJ0kMPPaTs7Gzde++9SklJUXx8vFasWKHg4GDHNl566SV5eXlpxIgRys7OVt++fTV37lx5enpWdXcBAAAAwMFijDHV3YlzIT09XVarVWlpaVyPBAAAAFzEKpMNzvk1SAAAAABwoSAgAQAAAIAdAQkAAAAA7AhIAAAAAGBHQAIAAAAAOwISAAAAANgRkAAAAADAjoAEAAAAAHYEJAAAAACwIyABAAAAgB0BCQAAAADsCEgAAAAAYEdAAgAAAAA7AhIAAAAA2BGQAAAAAMCOgAQAAAAAdgQkAAAAALAjIAEAAACAHQEJAAAAAOwISAAAAABgR0ACAAAAADsCEgAAAADYEZAAAAAAwI6ABAAAAAB2BCQAAAAAsCMgAQAAAIAdAQkAAAAA7AhIAAAAAGBHQAIAAAAAOwISAAAAANgRkAAAAADAjoAEAAAAAHYEJAAAAACwIyABAAAAgB0BCQAAAADsCEgAAAAAYEdAAgAAAAA7AhIAAAAA2BGQAAAAAMCOgAQAAAAAdgQkAAAAALAjIAEAAACAHQEJAAAAAOwISAAAAABgR0ACAAAAADsCEgAAAADYEZAAAAAAwK7GB6SZM2eqcePG8vPzU+fOnfXzzz9Xd5cAAAAA1FI1OiB9+OGHmjhxoh555BFt3LhRV1xxhQYPHqz9+/dXd9cAAAAA1EIWY4yp7k6UJT4+XpdeeqneeOMNx7JWrVpp+PDhmjZtWrnPTU9Pl9VqVVpamkJCQs51V8u17fg2Hcw8WK19uFDV4NMTQCkWi6W6u3DBqel/44xqdv+A2sqi8/P39Hz93b4q9ip5eniel32VpTLZwOs89anS8vLytGHDBv3jH/9wWj5gwACtXr3apX1ubq5yc3MdP6enp5/zPlbUxzs/1sc7P67ubgAAAADn3fqb11d7QKqMGhuQjh07psLCQkVERDgtj4iIUHJyskv7adOm6V//+tf56l6lNAxuqEvDL63ubgAALmLnc4TvfH36jcpjVLDmq+kjy2fCw1Kjr+pxUWMDUrHSf9CNMW7/yE+dOlWTJk1y/Jyenq7Y2Nhz3r+KGNt2rMa2HVvd3QAAAABwGjU2IIWFhcnT09NltOjIkSMuo0qS5OvrK19f3/PVPQAAAAC1UI0d7/Lx8VHnzp31zTffOC3/5ptv1KNHj2rqFQAAAIDarMaOIEnSpEmTNHr0aHXp0kXdu3fX22+/rf379+vuu++u7q4BAAAAqIVqdEAaOXKkjh8/rieffFJJSUlq27atvvzyS8XFxVV31wAAAADUQjX6PkhnoybdBwkAAABA9alMNqix1yABAAAAwPlGQAIAAAAAOwISAAAAANgRkAAAAADAjoAEAAAAAHYEJAAAAACwIyABAAAAgB0BCQAAAADsCEgAAAAAYEdAAgAAAAA7AhIAAAAA2BGQAAAAAMCOgAQAAAAAdl7V3YFzxRgjSUpPT6/mngAAAACoTsWZoDgjlKfWBqSMjAxJUmxsbDX3BAAAAEBNkJGRIavVWm4bi6lIjLoAFRUVKTExUcHBwbJYLNXal/T0dMXGxurAgQMKCQmp1r7g4sA5h/ONcw7nE+cbzjfOuQufMUYZGRmKjo6Wh0f5VxnV2hEkDw8PxcTEVHc3nISEhPCPCucV5xzON845nE+cbzjfOOcubKcbOSpGkQYAAAAAsCMgAQAAAIAdAek88PX11eOPPy5fX9/q7gouEpxzON8453A+cb7hfOOcu7jU2iINAAAAAFBZjCABAAAAgB0BCQAAAADsCEgAAAAAYEdAAgAAAAC7WhWQpk2bpq5duyo4OFjh4eEaPny4duzY4dTGGKMnnnhC0dHR8vf3V+/evfX777871p84cUITJkxQixYtFBAQoIYNG+qBBx5QWlqa233m5uaqY8eOslgsSkhIOG0fN2/erF69esnf318NGjTQk08+qZJ1MpKSkjRq1Ci1aNFCHh4emjhxYoWPf+bMmWrcuLH8/PzUuXNn/fzzz07rDx8+rLFjxyo6OloBAQEaNGiQdu3aVeHtw1VtOOdWrVqlyy+/XPXq1ZO/v79atmypl1566bTb/emnn3TttdcqOjpaFotFS5YscWnz6aefauDAgQoLC6twf1G22nC+/fDDD7JYLC6P7du3l7tdzrfqURvOubFjx7o959q0aVPudityzpV01113yWKx6OWXXz5tn+FebTjfJOn1119Xq1at5O/vrxYtWuj9998/7XY532qWWhWQfvzxR913331au3atvvnmGxUUFGjAgAHKyspytHn22Wf14osvasaMGVq/fr0iIyPVv39/ZWRkSJISExOVmJio559/Xps3b9bcuXO1fPlyjR8/3u0+H3roIUVHR1eof+np6erfv7+io6O1fv16vfbaa3r++ef14osvOtrk5uaqfv36euSRR9ShQ4cKH/uHH36oiRMn6pFHHtHGjRt1xRVXaPDgwdq/f78k2x+U4cOHa8+ePVq6dKk2btyouLg49evXz+n1QeXUhnMuMDBQ999/v3766Sdt27ZN//znP/XPf/5Tb7/9drnbzsrKUocOHTRjxoxy21x++eV65plnKtRflK82nG/FduzYoaSkJMejWbNm5W6b86161IZz7pVXXnE61w4cOKDQ0FDdcMMN5W67IudcsSVLlmjdunUV7jfcqw3n2xtvvKGpU6fqiSee0O+//65//etfuu+++7Rs2bJyt835VsOYWuzIkSNGkvnxxx+NMcYUFRWZyMhI88wzzzja5OTkGKvVat58880yt/PRRx8ZHx8fk5+f77T8yy+/NC1btjS///67kWQ2btxYbn9mzpxprFarycnJcSybNm2aiY6ONkVFRS7te/XqZR588MEKHKkxl112mbn77rudlrVs2dL84x//MMYYs2PHDiPJbNmyxbG+oKDAhIaGmnfeeadC+8DpXejnXLG//OUv5pZbbil32yVJMosXLy5z/d69eyvUX1TOhXi+rVy50kgyKSkplTzaUzjfqs+FeM6VtnjxYmOxWMy+fftOd7gO5Z1zBw8eNA0aNDBbtmwxcXFx5qWXXqrwdlG+C/F86969u5kyZYrT8x588EFz+eWXV+iYjeF8qwlq1QhSacXDqaGhoZKkvXv3Kjk5WQMGDHC08fX1Va9evbR69epytxMSEiIvLy/HssOHD+uOO+7QvHnzFBAQUKH+rFmzRr169XK6ydjAgQOVmJioffv2VebQnOTl5WnDhg1OxyVJAwYMcBxXbm6uJMnPz8+x3tPTUz4+Plq1atUZ7xvOasM5t3HjRq1evVq9evWq0D5QfS7k861Tp06KiopS3759tXLlygptH9XvQj7nis2aNUv9+vVTXFxchfZRnqKiIo0ePVp/+9vfTjtlD5V3IZ5vubm5Tu+1JMnf31+//PKL8vPzK7SfsnC+nT+1NiAZYzRp0iT17NlTbdu2lSQlJydLkiIiIpzaRkREONaVdvz4cf373//WXXfd5bTtsWPH6u6771aXLl0q3Kfk5GS3+y7ZtzNx7NgxFRYWlntcLVu2VFxcnKZOnaqUlBTl5eXpmWeeUXJyspKSks543zjlQj/nYmJi5Ovrqy5duui+++7T7bffXuH94Py7UM+3qKgovf322/rkk0/06aefqkWLFurbt69++umnCu8H1eNCPedKSkpK0ldffVVlf9+mT58uLy8vPfDAA1WyPZxyoZ5vAwcO1LvvvqsNGzbIGKNff/1Vs2fPVn5+vo4dO1bhfbnD+Xb+1NqAdP/99+u3337TwoULXdZZLBann40xLssk21zTa665Rq1bt9bjjz/uWP7aa68pPT1dU6dOLXP/bdq0UVBQkIKCgjR48OBy9+1ueVl+/vlnx3aDgoK0YMGCCh2Xt7e3PvnkE+3cuVOhoaEKCAjQDz/8oMGDB8vT07NC+0b5LvRz7ueff9avv/6qN998Uy+//LLjOMo751B9LtTzrUWLFrrjjjt06aWXqnv37po5c6auueYaPf/885I432qyC/WcK2nu3LmqU6eOhg8f7lh2pufchg0b9Morr2ju3LkV/j8cFXehnm+PPvqoBg8erG7dusnb21vDhg3T2LFjJdlm7nC+XRi8Tt/kwjNhwgR99tln+umnnxQTE+NYHhkZKcmW8qOiohzLjxw54vKJQEZGhgYNGqSgoCAtXrxY3t7ejnXff/+91q5d6zTEKkldunTRzTffrPfee09ffvmlYyjV39/fsf/Sn3AcOXJEkuunIWXp0qWLU5WViIgI+fr6ytPT0+22S263c+fOSkhIUFpamvLy8lS/fn3Fx8dX6tMTuFcbzrnGjRtLktq1a6fDhw/riSee0E033eT2nEP1qg3nW0ndunXT/PnzHfvgfKt5asM5Z4zR7NmzNXr0aPn4+Djt40zOuZ9//llHjhxRw4YNHcsKCws1efJkvfzyy2c1df5idyGfb/7+/po9e7beeustHT582DFqHhwcrLCwMAUHB3O+XQjO4/VO51xRUZG57777THR0tNm5c6fb9ZGRkWb69OmOZbm5uS4X96WlpZlu3bqZXr16maysLJft/Pnnn2bz5s2Ox9dff20kmf/+97/mwIEDZfZv5syZpk6dOiY3N9ex7JlnnqmyIg333HOP07JWrVo5ijS4s3PnTuPh4WG+/vrrCu0DrmrbOVfsySefNHFxcac7fAdx0fx5UVvPt+uvv9706dPntMdfjPPt/KlN51xxgZDNmzdX6jUwxv05d+zYMac+b9682URHR5u///3vZvv27ZXeB2rX+VbSlVdeaW666abTHn8xzrfqV6sC0j333GOsVqv54YcfTFJSkuNx8uRJR5tnnnnGWK1W8+mnn5rNmzebm266yURFRZn09HRjjDHp6ekmPj7etGvXzuzevdtpOwUFBW73W9H/jFNTU01ERIS56aabzObNm82nn35qQkJCzPPPP+/UbuPGjWbjxo2mc+fOZtSoUWbjxo3m999/L3fbixYtMt7e3mbWrFlm69atZuLEiSYwMNCpSs9HH31kVq5caf744w+zZMkSExcXZ6677rpyt4vy1YZzbsaMGeazzz4zO3fuNDt37jSzZ882ISEh5pFHHil32xkZGY5zVZJ58cUXzcaNG82ff/7paHP8+HGzceNG88UXXxhJZtGiRWbjxo0mKSnpdC8t3KgN59tLL71kFi9ebHbu3Gm2bNli/vGPfxhJ5pNPPil325xv1aM2nHPFbrnlFhMfH1/hY6/IOVcaVcXOTm0433bs2GHmzZtndu7cadatW2dGjhxpQkNDzd69e8vdNudbzVKrApIkt485c+Y42hQVFZnHH3/cREZGGl9fX3PllVc6fZpU/AmTu0dZJ3dlPq387bffzBVXXGF8fX1NZGSkeeKJJ1w+dXC374p8mv/666+buLg44+PjYy699FJHWcxir7zyiomJiTHe3t6mYcOG5p///KfTpyCovNpwzr366qumTZs2JiAgwISEhJhOnTqZmTNnmsLCwnK3W1a/x4wZ42gzZ84ct20ef/zx0/YbrmrD+TZ9+nRzySWXGD8/P1O3bl3Ts2dP88UXX5x2u5xv1aM2nHPG2N7Y+vv7m7fffrvCx16Rc6403rCendpwvm3dutV07NjR+Pv7m5CQEDNs2LAKjfBwvtUsFmNK3f4XAAAAAC5StbaKHQAAAABUFgEJAAAAAOwISAAAAABgR0ACAAAAADsCEgAAAADYEZAAAAAAwI6ABAAAAAB2BCQAAAAAsCMgAQAAAIAdAQkAUKaxY8fKYrG4PHbv3l3mukGDBjltY+PGjbrhhhsUEREhPz8/NW/eXHfccYd27twpSdq3b58sFosSEhJc9t+7d29NnDjRZfkHH3wgT09P3X333ZU+JmOM3n77bcXHxysoKEh16tRRly5d9PLLL+vkyZNObQ8ePCgfHx+1bNnS7bZKHndQUJA6dOiguXPnut3nO++8o+7duyskJERBQUFq06aNHnzwQe3evdul/en2CwA4dwhIAIByDRo0SElJSU6Pxo0bl7lu4cKFjud+/vnn6tatm3Jzc7VgwQJt27ZN8+bNk9Vq1aOPPnrGfZo9e7YeeughLVq0yCXUnM7o0aM1ceJEDRs2TCtXrlRCQoIeffRRLV26VCtWrHBqO3fuXI0YMUInT57U//3f/7nd3pw5c5SUlKRNmzZp5MiRuu222/T111871htjNGrUKD3wwAO6+uqrtWLFCv3222969dVX5e/vr6eeesplmxXZLwDg3PCq7g4AAGo2X19fRUZGVnrdyZMnddttt+nqq6/W4sWLHcsbN26s+Ph4paamnlF/9u3bp9WrV+uTTz7RypUr9d///le33nprhZ770UcfacGCBVqyZImGDRvmWN6oUSMNHTpU6enpjmXGGM2ZM0czZ85UTEyMZs2apcsvv9xlm3Xq1HG8Bg8//LBeeOEFrVixQgMHDpQkffjhh1q0aJGWLl2qoUOHOp7XpEkT9e3bV8YYp+1VdL8AgHODESQAwDnx9ddf69ixY3rooYfcrq9Tp84ZbXf27Nm65pprZLVadcstt2jWrFkVfu6CBQvUokULp3BUzGKxyGq1On5euXKlTp48qX79+mn06NH66KOPlJGRUea2CwsL9dFHH+nEiRPy9vZ2LF+4cKFatGjhFI5K77ekyu4XAFC1CEgAgHJ9/vnnCgoKcjxuuOGGMtcFBQXp3//+tyRp165dklTh62h69Ojhsq2ff/7ZqU1RUZHmzp2rW265RZJ04403as2aNW6v43Fn165datGiRYXazpo1SzfeeKM8PT3Vpk0bNW3aVB9++KFLu5tuuklBQUHy9fXVyJEjFRoaqttvv92xfufOnS77nDhxouMYY2Jizmi/AIBzg4AEAChXnz59lJCQ4Hi8+uqrZa5LSEjQfffdJ0kuU8dO58MPP3TZVpcuXZzarFixQllZWRo8eLAkKSwsTAMGDNDs2bMrtA9jjMuIjTupqan69NNPHUFMkm655Ra3+3nppZeUkJCgb775Rh07dtRLL72kpk2bOrUpvc9HHnlECQkJeuyxx5SZmXlG+wUAnBtcgwQAKFdgYKDLG/6KrGvevLkkafv27erevftp9xMbG+uyLX9/f6efZ8+erRMnTiggIMCxrKioSBs3btS///1veXp6lruP5s2ba9u2baftywcffKCcnBzFx8c7lhljVFRUpK1bt6p169aO5ZGRkWratKmaNm2qjz/+WJ06dVKXLl0cbZo1a6bt27c7bb9+/fqqX7++wsPDz3i/AIBzgxEkAMA5MWDAAIWFhenZZ591u76yRRqOHz+upUuXatGiRS4jTZmZmfrqq69Ou41Ro0Zp586dWrp0qcs6Y4zS0tIk2aa5TZ482WkfmzZtUp8+fcodzWnatKmuv/56TZ061bHspptu0o4dO9zus7Qz3S8AoOowggQAOGO5ublKTk52Wubl5aWwsDAFBgbq3Xff1Q033KChQ4fqgQceUNOmTXXs2DF99NFH2r9/vxYtWlThfc2bN0/16tXTDTfcIA8P58/3hgwZolmzZmnIkCHlbmPEiBFavHixbrrpJj366KPq37+/6tevr82bN+ull17ShAkT1KhRI/3vf//TggULXK6fuummm/TII49o2rRpToUYSpo8ebI6dOigX3/9VV26dNGNN96oTz/9VDfeeKOmTp2qgQMHKiIiQn/++ac+/PBDx6hXQkLCWe0XAFA1GEECAJyx5cuXKyoqyunRs2dPx/phw4Zp9erV8vb21qhRo9SyZUvddNNNSktLc3v/n/LMnj1bf/nLX1zCkSRdf/31+vzzz3X48OFyt2GxWPTBB/+/vTtGTSCIwgD85wrbWwsLegULBbFaz+BBxGpL8QK2ASsLwRPsVWy3tTTNJE1MERISlO+DqaZ4r/2ZNzOv2W63OR6PmUwmGY/H2Ww2aZom8/k8+/0+dV3ffVxiuVym7/ucTqcva4xGo8xms6zX64+ah8Mhu90u5/M50+k0w+Ewq9Uqg8EgXdclyY/rAvA7Xm7fvUULAADwpJwgAQAAFAISAE9jsVh8+kvpfbVt+9/tAfAAjNgB8DQul0uu1+vdvaqqUlXVH3cEwKMRkAAAAAojdgAAAIWABAAAUAhIAAAAhYAEAABQCEgAAACFgAQAAFAISAAAAMUbTI8DpG0rdwAAAAAASUVORK5CYII=",
>>>>>>> a370929109f7601a0c01054445168fe7946a4cb4
      "text/plain": [
       "<Figure size 1000x600 with 1 Axes>"
      ]
     },
     "metadata": {},
     "output_type": "display_data"
    }
   ],
   "source": [
    "# Evolución de métricas clave\n",
    "metrics = ['CUPO', 'MONTO_COLOCADO', 'IVC']\n",
    "for metric in metrics:\n",
    "    df_colocado.groupby(df_colocado['FECHA_CARGA'])[metric].mean().plot(kind='line', figsize=(10, 6), label=metric)\n",
    "plt.title('Evolución Temporal de Métricas Clave')\n",
    "plt.legend()\n",
    "plt.show()"
   ]
  },
  {
   "cell_type": "markdown",
   "metadata": {},
   "source": [
    "## Analisis de las variables categoricas"
   ]
  },
  {
   "cell_type": "markdown",
   "metadata": {},
   "source": [
    "group_colocation / global_colocation >1 mas probable a aceptar la colocacion de credito \n",
    "\n",
    "group_colocation / global_colocation <1  menos probable a aceptar la colocacion de credito "
   ]
  },
  {
   "cell_type": "code",
<<<<<<< HEAD
   "execution_count": 168,
=======
   "execution_count": 11,
>>>>>>> a370929109f7601a0c01054445168fe7946a4cb4
   "metadata": {},
   "outputs": [
    {
     "data": {
      "text/plain": [
<<<<<<< HEAD
       "np.float64(0.01219881943669294)"
      ]
     },
     "execution_count": 168,
=======
       "np.float64(0.012260240747949997)"
      ]
     },
     "execution_count": 11,
>>>>>>> a370929109f7601a0c01054445168fe7946a4cb4
     "metadata": {},
     "output_type": "execute_result"
    }
   ],
   "source": [
    "global_colocation_ratio = df_colocado['COLOCADO'].mean()\n",
    "global_colocation_ratio"
   ]
  },
  {
   "cell_type": "code",
<<<<<<< HEAD
   "execution_count": 169,
=======
   "execution_count": 12,
>>>>>>> a370929109f7601a0c01054445168fe7946a4cb4
   "metadata": {},
   "outputs": [
    {
     "data": {
      "text/plain": [
       "CONTACTABILIDAD_TOTAL\n",
<<<<<<< HEAD
       "AC    4783323\n",
       "ND     394883\n",
       "Name: count, dtype: int64"
      ]
     },
     "execution_count": 169,
=======
       "AC    4783638\n",
       "ND     394890\n",
       "Name: count, dtype: int64"
      ]
     },
     "execution_count": 12,
>>>>>>> a370929109f7601a0c01054445168fe7946a4cb4
     "metadata": {},
     "output_type": "execute_result"
    }
   ],
   "source": [
    "df_colocado.CONTACTABILIDAD_TOTAL.value_counts()"
   ]
  },
  {
   "cell_type": "code",
<<<<<<< HEAD
   "execution_count": 170,
=======
   "execution_count": 13,
>>>>>>> a370929109f7601a0c01054445168fe7946a4cb4
   "metadata": {},
   "outputs": [
    {
     "name": "stdout",
     "output_type": "stream",
     "text": [
      "Análisis para la variable: SEGMENTO\n"
     ]
    },
    {
     "data": {
      "text/html": [
       "<div>\n",
       "<style scoped>\n",
       "    .dataframe tbody tr th:only-of-type {\n",
       "        vertical-align: middle;\n",
       "    }\n",
       "\n",
       "    .dataframe tbody tr th {\n",
       "        vertical-align: top;\n",
       "    }\n",
       "\n",
       "    .dataframe thead th {\n",
       "        text-align: right;\n",
       "    }\n",
       "</style>\n",
       "<table border=\"1\" class=\"dataframe\">\n",
       "  <thead>\n",
       "    <tr style=\"text-align: right;\">\n",
       "      <th></th>\n",
       "      <th>colocation_rate</th>\n",
       "      <th>n_samples</th>\n",
       "      <th>diff</th>\n",
       "      <th>acceptance_ratio</th>\n",
       "    </tr>\n",
       "    <tr>\n",
       "      <th>SEGMENTO</th>\n",
       "      <th></th>\n",
       "      <th></th>\n",
       "      <th></th>\n",
       "      <th></th>\n",
       "    </tr>\n",
       "  </thead>\n",
       "  <tbody>\n",
       "    <tr>\n",
       "      <th>SEGMENTO1</th>\n",
<<<<<<< HEAD
       "      <td>0.012383</td>\n",
       "      <td>4251287</td>\n",
       "      <td>0.000184</td>\n",
       "      <td>1.015104</td>\n",
       "    </tr>\n",
       "    <tr>\n",
       "      <th>SEGMENTO2</th>\n",
       "      <td>0.014315</td>\n",
       "      <td>108488</td>\n",
       "      <td>0.002116</td>\n",
       "      <td>1.173470</td>\n",
       "    </tr>\n",
       "    <tr>\n",
       "      <th>SEGMENTO3</th>\n",
       "      <td>0.011399</td>\n",
       "      <td>578229</td>\n",
       "      <td>-0.000800</td>\n",
       "      <td>0.934402</td>\n",
       "    </tr>\n",
       "    <tr>\n",
       "      <th>SEGMENTO4</th>\n",
       "      <td>0.009865</td>\n",
       "      <td>213168</td>\n",
       "      <td>-0.002333</td>\n",
       "      <td>0.808722</td>\n",
       "    </tr>\n",
       "    <tr>\n",
       "      <th>SEGMENTO5</th>\n",
       "      <td>0.012772</td>\n",
       "      <td>21219</td>\n",
       "      <td>0.000573</td>\n",
       "      <td>1.046952</td>\n",
       "    </tr>\n",
       "    <tr>\n",
       "      <th>SEGMENTO6</th>\n",
       "      <td>0.001036</td>\n",
       "      <td>5789</td>\n",
       "      <td>-0.011162</td>\n",
       "      <td>0.084963</td>\n",
=======
       "      <td>0.012451</td>\n",
       "      <td>4251578</td>\n",
       "      <td>0.000190</td>\n",
       "      <td>1.015532</td>\n",
       "    </tr>\n",
       "    <tr>\n",
       "      <th>SEGMENTO2</th>\n",
       "      <td>0.014351</td>\n",
       "      <td>108492</td>\n",
       "      <td>0.002091</td>\n",
       "      <td>1.170555</td>\n",
       "    </tr>\n",
       "    <tr>\n",
       "      <th>SEGMENTO3</th>\n",
       "      <td>0.011436</td>\n",
       "      <td>578251</td>\n",
       "      <td>-0.000824</td>\n",
       "      <td>0.932788</td>\n",
       "    </tr>\n",
       "    <tr>\n",
       "      <th>SEGMENTO4</th>\n",
       "      <td>0.009879</td>\n",
       "      <td>213171</td>\n",
       "      <td>-0.002381</td>\n",
       "      <td>0.805807</td>\n",
       "    </tr>\n",
       "    <tr>\n",
       "      <th>SEGMENTO5</th>\n",
       "      <td>0.012818</td>\n",
       "      <td>21220</td>\n",
       "      <td>0.000558</td>\n",
       "      <td>1.045501</td>\n",
       "    </tr>\n",
       "    <tr>\n",
       "      <th>SEGMENTO6</th>\n",
       "      <td>0.001209</td>\n",
       "      <td>5790</td>\n",
       "      <td>-0.011051</td>\n",
       "      <td>0.098610</td>\n",
>>>>>>> a370929109f7601a0c01054445168fe7946a4cb4
       "    </tr>\n",
       "    <tr>\n",
       "      <th>SEGMENTO7</th>\n",
       "      <td>0.000000</td>\n",
       "      <td>26</td>\n",
<<<<<<< HEAD
       "      <td>-0.012199</td>\n",
=======
       "      <td>-0.012260</td>\n",
>>>>>>> a370929109f7601a0c01054445168fe7946a4cb4
       "      <td>0.000000</td>\n",
       "    </tr>\n",
       "  </tbody>\n",
       "</table>\n",
       "</div>"
      ],
      "text/plain": [
       "           colocation_rate  n_samples      diff  acceptance_ratio\n",
       "SEGMENTO                                                         \n",
<<<<<<< HEAD
       "SEGMENTO1         0.012383    4251287  0.000184          1.015104\n",
       "SEGMENTO2         0.014315     108488  0.002116          1.173470\n",
       "SEGMENTO3         0.011399     578229 -0.000800          0.934402\n",
       "SEGMENTO4         0.009865     213168 -0.002333          0.808722\n",
       "SEGMENTO5         0.012772      21219  0.000573          1.046952\n",
       "SEGMENTO6         0.001036       5789 -0.011162          0.084963\n",
       "SEGMENTO7         0.000000         26 -0.012199          0.000000"
=======
       "SEGMENTO1         0.012451    4251578  0.000190          1.015532\n",
       "SEGMENTO2         0.014351     108492  0.002091          1.170555\n",
       "SEGMENTO3         0.011436     578251 -0.000824          0.932788\n",
       "SEGMENTO4         0.009879     213171 -0.002381          0.805807\n",
       "SEGMENTO5         0.012818      21220  0.000558          1.045501\n",
       "SEGMENTO6         0.001209       5790 -0.011051          0.098610\n",
       "SEGMENTO7         0.000000         26 -0.012260          0.000000"
>>>>>>> a370929109f7601a0c01054445168fe7946a4cb4
      ]
     },
     "metadata": {},
     "output_type": "display_data"
    },
    {
     "name": "stdout",
     "output_type": "stream",
     "text": [
      "\n",
      "--------------------------------------------------\n",
      "\n",
      "Análisis para la variable: REGION\n"
     ]
    },
    {
     "data": {
      "text/html": [
       "<div>\n",
       "<style scoped>\n",
       "    .dataframe tbody tr th:only-of-type {\n",
       "        vertical-align: middle;\n",
       "    }\n",
       "\n",
       "    .dataframe tbody tr th {\n",
       "        vertical-align: top;\n",
       "    }\n",
       "\n",
       "    .dataframe thead th {\n",
       "        text-align: right;\n",
       "    }\n",
       "</style>\n",
       "<table border=\"1\" class=\"dataframe\">\n",
       "  <thead>\n",
       "    <tr style=\"text-align: right;\">\n",
       "      <th></th>\n",
       "      <th>colocation_rate</th>\n",
       "      <th>n_samples</th>\n",
       "      <th>diff</th>\n",
       "      <th>acceptance_ratio</th>\n",
       "    </tr>\n",
       "    <tr>\n",
       "      <th>REGION</th>\n",
       "      <th></th>\n",
       "      <th></th>\n",
       "      <th></th>\n",
       "      <th></th>\n",
       "    </tr>\n",
       "  </thead>\n",
       "  <tbody>\n",
       "    <tr>\n",
       "      <th>CENTRO</th>\n",
<<<<<<< HEAD
       "      <td>0.018349</td>\n",
       "      <td>1614128</td>\n",
       "      <td>0.006150</td>\n",
       "      <td>1.504130</td>\n",
       "    </tr>\n",
       "    <tr>\n",
       "      <th>NORTE</th>\n",
       "      <td>0.009968</td>\n",
       "      <td>2760088</td>\n",
       "      <td>-0.002231</td>\n",
       "      <td>0.817141</td>\n",
       "    </tr>\n",
       "    <tr>\n",
       "      <th>SUR</th>\n",
       "      <td>0.007510</td>\n",
       "      <td>803990</td>\n",
       "      <td>-0.004689</td>\n",
       "      <td>0.615637</td>\n",
=======
       "      <td>0.018435</td>\n",
       "      <td>1614270</td>\n",
       "      <td>0.006175</td>\n",
       "      <td>1.503638</td>\n",
       "    </tr>\n",
       "    <tr>\n",
       "      <th>NORTE</th>\n",
       "      <td>0.010023</td>\n",
       "      <td>2760241</td>\n",
       "      <td>-0.002237</td>\n",
       "      <td>0.817524</td>\n",
       "    </tr>\n",
       "    <tr>\n",
       "      <th>SUR</th>\n",
       "      <td>0.007543</td>\n",
       "      <td>804017</td>\n",
       "      <td>-0.004717</td>\n",
       "      <td>0.615271</td>\n",
>>>>>>> a370929109f7601a0c01054445168fe7946a4cb4
       "    </tr>\n",
       "  </tbody>\n",
       "</table>\n",
       "</div>"
      ],
      "text/plain": [
       "        colocation_rate  n_samples      diff  acceptance_ratio\n",
       "REGION                                                        \n",
<<<<<<< HEAD
       "CENTRO         0.018349    1614128  0.006150          1.504130\n",
       "NORTE          0.009968    2760088 -0.002231          0.817141\n",
       "SUR            0.007510     803990 -0.004689          0.615637"
=======
       "CENTRO         0.018435    1614270  0.006175          1.503638\n",
       "NORTE          0.010023    2760241 -0.002237          0.817524\n",
       "SUR            0.007543     804017 -0.004717          0.615271"
>>>>>>> a370929109f7601a0c01054445168fe7946a4cb4
      ]
     },
     "metadata": {},
     "output_type": "display_data"
    },
    {
     "name": "stdout",
     "output_type": "stream",
     "text": [
      "\n",
      "--------------------------------------------------\n",
      "\n",
      "Análisis para la variable: TIPO_APROBACION\n"
     ]
    },
    {
     "data": {
      "text/html": [
       "<div>\n",
       "<style scoped>\n",
       "    .dataframe tbody tr th:only-of-type {\n",
       "        vertical-align: middle;\n",
       "    }\n",
       "\n",
       "    .dataframe tbody tr th {\n",
       "        vertical-align: top;\n",
       "    }\n",
       "\n",
       "    .dataframe thead th {\n",
       "        text-align: right;\n",
       "    }\n",
       "</style>\n",
       "<table border=\"1\" class=\"dataframe\">\n",
       "  <thead>\n",
       "    <tr style=\"text-align: right;\">\n",
       "      <th></th>\n",
       "      <th>colocation_rate</th>\n",
       "      <th>n_samples</th>\n",
       "      <th>diff</th>\n",
       "      <th>acceptance_ratio</th>\n",
       "    </tr>\n",
       "    <tr>\n",
       "      <th>TIPO_APROBACION</th>\n",
       "      <th></th>\n",
       "      <th></th>\n",
       "      <th></th>\n",
       "      <th></th>\n",
       "    </tr>\n",
       "  </thead>\n",
       "  <tbody>\n",
       "    <tr>\n",
       "      <th>TIPO1</th>\n",
<<<<<<< HEAD
       "      <td>0.018632</td>\n",
       "      <td>3048969</td>\n",
       "      <td>0.006433</td>\n",
       "      <td>1.527377</td>\n",
       "    </tr>\n",
       "    <tr>\n",
       "      <th>TIPO2</th>\n",
       "      <td>0.002987</td>\n",
       "      <td>2129237</td>\n",
       "      <td>-0.009212</td>\n",
       "      <td>0.244820</td>\n",
=======
       "      <td>0.018732</td>\n",
       "      <td>3049279</td>\n",
       "      <td>0.006472</td>\n",
       "      <td>1.527863</td>\n",
       "    </tr>\n",
       "    <tr>\n",
       "      <th>TIPO2</th>\n",
       "      <td>0.002992</td>\n",
       "      <td>2129249</td>\n",
       "      <td>-0.009268</td>\n",
       "      <td>0.244052</td>\n",
>>>>>>> a370929109f7601a0c01054445168fe7946a4cb4
       "    </tr>\n",
       "  </tbody>\n",
       "</table>\n",
       "</div>"
      ],
      "text/plain": [
       "                 colocation_rate  n_samples      diff  acceptance_ratio\n",
       "TIPO_APROBACION                                                        \n",
<<<<<<< HEAD
       "TIPO1                   0.018632    3048969  0.006433          1.527377\n",
       "TIPO2                   0.002987    2129237 -0.009212          0.244820"
=======
       "TIPO1                   0.018732    3049279  0.006472          1.527863\n",
       "TIPO2                   0.002992    2129249 -0.009268          0.244052"
>>>>>>> a370929109f7601a0c01054445168fe7946a4cb4
      ]
     },
     "metadata": {},
     "output_type": "display_data"
    },
    {
     "name": "stdout",
     "output_type": "stream",
     "text": [
      "\n",
      "--------------------------------------------------\n",
      "\n",
      "Análisis para la variable: CANAL\n"
     ]
    },
    {
     "data": {
      "text/html": [
       "<div>\n",
       "<style scoped>\n",
       "    .dataframe tbody tr th:only-of-type {\n",
       "        vertical-align: middle;\n",
       "    }\n",
       "\n",
       "    .dataframe tbody tr th {\n",
       "        vertical-align: top;\n",
       "    }\n",
       "\n",
       "    .dataframe thead th {\n",
       "        text-align: right;\n",
       "    }\n",
       "</style>\n",
       "<table border=\"1\" class=\"dataframe\">\n",
       "  <thead>\n",
       "    <tr style=\"text-align: right;\">\n",
       "      <th></th>\n",
       "      <th>colocation_rate</th>\n",
       "      <th>n_samples</th>\n",
       "      <th>diff</th>\n",
       "      <th>acceptance_ratio</th>\n",
       "    </tr>\n",
       "    <tr>\n",
       "      <th>CANAL</th>\n",
       "      <th></th>\n",
       "      <th></th>\n",
       "      <th></th>\n",
       "      <th></th>\n",
       "    </tr>\n",
       "  </thead>\n",
       "  <tbody>\n",
       "    <tr>\n",
       "      <th>ONLINE</th>\n",
<<<<<<< HEAD
       "      <td>0.019735</td>\n",
       "      <td>2374901</td>\n",
       "      <td>0.007536</td>\n",
       "      <td>1.617791</td>\n",
       "    </tr>\n",
       "    <tr>\n",
       "      <th>PRESENCIAL</th>\n",
       "      <td>0.005814</td>\n",
       "      <td>2803305</td>\n",
       "      <td>-0.006385</td>\n",
       "      <td>0.476621</td>\n",
=======
       "      <td>0.019849</td>\n",
       "      <td>2375176</td>\n",
       "      <td>0.007588</td>\n",
       "      <td>1.618943</td>\n",
       "    </tr>\n",
       "    <tr>\n",
       "      <th>PRESENCIAL</th>\n",
       "      <td>0.005831</td>\n",
       "      <td>2803352</td>\n",
       "      <td>-0.006429</td>\n",
       "      <td>0.475592</td>\n",
>>>>>>> a370929109f7601a0c01054445168fe7946a4cb4
       "    </tr>\n",
       "  </tbody>\n",
       "</table>\n",
       "</div>"
      ],
      "text/plain": [
       "            colocation_rate  n_samples      diff  acceptance_ratio\n",
       "CANAL                                                             \n",
<<<<<<< HEAD
       "ONLINE             0.019735    2374901  0.007536          1.617791\n",
       "PRESENCIAL         0.005814    2803305 -0.006385          0.476621"
=======
       "ONLINE             0.019849    2375176  0.007588          1.618943\n",
       "PRESENCIAL         0.005831    2803352 -0.006429          0.475592"
>>>>>>> a370929109f7601a0c01054445168fe7946a4cb4
      ]
     },
     "metadata": {},
     "output_type": "display_data"
    },
    {
     "name": "stdout",
     "output_type": "stream",
     "text": [
      "\n",
      "--------------------------------------------------\n",
      "\n",
      "Análisis para la variable: SUB_PERFIL_RIESGOS\n"
     ]
    },
    {
     "data": {
      "text/html": [
       "<div>\n",
       "<style scoped>\n",
       "    .dataframe tbody tr th:only-of-type {\n",
       "        vertical-align: middle;\n",
       "    }\n",
       "\n",
       "    .dataframe tbody tr th {\n",
       "        vertical-align: top;\n",
       "    }\n",
       "\n",
       "    .dataframe thead th {\n",
       "        text-align: right;\n",
       "    }\n",
       "</style>\n",
       "<table border=\"1\" class=\"dataframe\">\n",
       "  <thead>\n",
       "    <tr style=\"text-align: right;\">\n",
       "      <th></th>\n",
       "      <th>colocation_rate</th>\n",
       "      <th>n_samples</th>\n",
       "      <th>diff</th>\n",
       "      <th>acceptance_ratio</th>\n",
       "    </tr>\n",
       "    <tr>\n",
       "      <th>SUB_PERFIL_RIESGOS</th>\n",
       "      <th></th>\n",
       "      <th></th>\n",
       "      <th></th>\n",
       "      <th></th>\n",
       "    </tr>\n",
       "  </thead>\n",
       "  <tbody>\n",
       "    <tr>\n",
       "      <th>PERFIL1</th>\n",
<<<<<<< HEAD
       "      <td>0.016016</td>\n",
       "      <td>2639660</td>\n",
       "      <td>0.003817</td>\n",
       "      <td>1.312920</td>\n",
       "    </tr>\n",
       "    <tr>\n",
       "      <th>PERFIL2</th>\n",
       "      <td>0.011772</td>\n",
       "      <td>1077071</td>\n",
       "      <td>-0.000427</td>\n",
       "      <td>0.964990</td>\n",
       "    </tr>\n",
       "    <tr>\n",
       "      <th>PERFIL3</th>\n",
       "      <td>0.006715</td>\n",
       "      <td>672572</td>\n",
       "      <td>-0.005484</td>\n",
       "      <td>0.550424</td>\n",
       "    </tr>\n",
       "    <tr>\n",
       "      <th>PERFIL4</th>\n",
       "      <td>0.004685</td>\n",
       "      <td>788903</td>\n",
       "      <td>-0.007514</td>\n",
       "      <td>0.384052</td>\n",
=======
       "      <td>0.016109</td>\n",
       "      <td>2639909</td>\n",
       "      <td>0.003849</td>\n",
       "      <td>1.313913</td>\n",
       "    </tr>\n",
       "    <tr>\n",
       "      <th>PERFIL2</th>\n",
       "      <td>0.011825</td>\n",
       "      <td>1077129</td>\n",
       "      <td>-0.000435</td>\n",
       "      <td>0.964496</td>\n",
       "    </tr>\n",
       "    <tr>\n",
       "      <th>PERFIL3</th>\n",
       "      <td>0.006726</td>\n",
       "      <td>672580</td>\n",
       "      <td>-0.005534</td>\n",
       "      <td>0.548630</td>\n",
       "    </tr>\n",
       "    <tr>\n",
       "      <th>PERFIL4</th>\n",
       "      <td>0.004694</td>\n",
       "      <td>788910</td>\n",
       "      <td>-0.007566</td>\n",
       "      <td>0.382849</td>\n",
>>>>>>> a370929109f7601a0c01054445168fe7946a4cb4
       "    </tr>\n",
       "  </tbody>\n",
       "</table>\n",
       "</div>"
      ],
      "text/plain": [
       "                    colocation_rate  n_samples      diff  acceptance_ratio\n",
       "SUB_PERFIL_RIESGOS                                                        \n",
<<<<<<< HEAD
       "PERFIL1                    0.016016    2639660  0.003817          1.312920\n",
       "PERFIL2                    0.011772    1077071 -0.000427          0.964990\n",
       "PERFIL3                    0.006715     672572 -0.005484          0.550424\n",
       "PERFIL4                    0.004685     788903 -0.007514          0.384052"
=======
       "PERFIL1                    0.016109    2639909  0.003849          1.313913\n",
       "PERFIL2                    0.011825    1077129 -0.000435          0.964496\n",
       "PERFIL3                    0.006726     672580 -0.005534          0.548630\n",
       "PERFIL4                    0.004694     788910 -0.007566          0.382849"
>>>>>>> a370929109f7601a0c01054445168fe7946a4cb4
      ]
     },
     "metadata": {},
     "output_type": "display_data"
    },
    {
     "name": "stdout",
     "output_type": "stream",
     "text": [
      "\n",
      "--------------------------------------------------\n",
      "\n",
      "Análisis para la variable: CLIENTE_BG\n"
     ]
    },
    {
     "data": {
      "text/html": [
       "<div>\n",
       "<style scoped>\n",
       "    .dataframe tbody tr th:only-of-type {\n",
       "        vertical-align: middle;\n",
       "    }\n",
       "\n",
       "    .dataframe tbody tr th {\n",
       "        vertical-align: top;\n",
       "    }\n",
       "\n",
       "    .dataframe thead th {\n",
       "        text-align: right;\n",
       "    }\n",
       "</style>\n",
       "<table border=\"1\" class=\"dataframe\">\n",
       "  <thead>\n",
       "    <tr style=\"text-align: right;\">\n",
       "      <th></th>\n",
       "      <th>colocation_rate</th>\n",
       "      <th>n_samples</th>\n",
       "      <th>diff</th>\n",
       "      <th>acceptance_ratio</th>\n",
       "    </tr>\n",
       "    <tr>\n",
       "      <th>CLIENTE_BG</th>\n",
       "      <th></th>\n",
       "      <th></th>\n",
       "      <th></th>\n",
       "      <th></th>\n",
       "    </tr>\n",
       "  </thead>\n",
       "  <tbody>\n",
       "    <tr>\n",
       "      <th>CLIENTE_TIPO1</th>\n",
<<<<<<< HEAD
       "      <td>0.023166</td>\n",
       "      <td>2442303</td>\n",
       "      <td>0.010967</td>\n",
       "      <td>1.899023</td>\n",
       "    </tr>\n",
       "    <tr>\n",
       "      <th>CLIENTE_TIPO2</th>\n",
       "      <td>0.002409</td>\n",
       "      <td>2735903</td>\n",
       "      <td>-0.009790</td>\n",
       "      <td>0.197454</td>\n",
=======
       "      <td>0.023264</td>\n",
       "      <td>2442548</td>\n",
       "      <td>0.011004</td>\n",
       "      <td>1.897501</td>\n",
       "    </tr>\n",
       "    <tr>\n",
       "      <th>CLIENTE_TIPO2</th>\n",
       "      <td>0.002437</td>\n",
       "      <td>2735980</td>\n",
       "      <td>-0.009823</td>\n",
       "      <td>0.198755</td>\n",
>>>>>>> a370929109f7601a0c01054445168fe7946a4cb4
       "    </tr>\n",
       "  </tbody>\n",
       "</table>\n",
       "</div>"
      ],
      "text/plain": [
       "               colocation_rate  n_samples      diff  acceptance_ratio\n",
       "CLIENTE_BG                                                           \n",
<<<<<<< HEAD
       "CLIENTE_TIPO1         0.023166    2442303  0.010967          1.899023\n",
       "CLIENTE_TIPO2         0.002409    2735903 -0.009790          0.197454"
=======
       "CLIENTE_TIPO1         0.023264    2442548  0.011004          1.897501\n",
       "CLIENTE_TIPO2         0.002437    2735980 -0.009823          0.198755"
>>>>>>> a370929109f7601a0c01054445168fe7946a4cb4
      ]
     },
     "metadata": {},
     "output_type": "display_data"
    },
    {
     "name": "stdout",
     "output_type": "stream",
     "text": [
      "\n",
      "--------------------------------------------------\n",
      "\n",
      "Análisis para la variable: APROBACION_MES_ANTERIOR\n"
     ]
    },
    {
     "data": {
      "text/html": [
       "<div>\n",
       "<style scoped>\n",
       "    .dataframe tbody tr th:only-of-type {\n",
       "        vertical-align: middle;\n",
       "    }\n",
       "\n",
       "    .dataframe tbody tr th {\n",
       "        vertical-align: top;\n",
       "    }\n",
       "\n",
       "    .dataframe thead th {\n",
       "        text-align: right;\n",
       "    }\n",
       "</style>\n",
       "<table border=\"1\" class=\"dataframe\">\n",
       "  <thead>\n",
       "    <tr style=\"text-align: right;\">\n",
       "      <th></th>\n",
       "      <th>colocation_rate</th>\n",
       "      <th>n_samples</th>\n",
       "      <th>diff</th>\n",
       "      <th>acceptance_ratio</th>\n",
       "    </tr>\n",
       "    <tr>\n",
       "      <th>APROBACION_MES_ANTERIOR</th>\n",
       "      <th></th>\n",
       "      <th></th>\n",
       "      <th></th>\n",
       "      <th></th>\n",
       "    </tr>\n",
       "  </thead>\n",
       "  <tbody>\n",
       "    <tr>\n",
<<<<<<< HEAD
       "      <th>Ninguno</th>\n",
       "      <td>0.027382</td>\n",
       "      <td>603137</td>\n",
       "      <td>0.015183</td>\n",
       "      <td>2.244630</td>\n",
       "    </tr>\n",
       "    <tr>\n",
       "      <th>TIPO1</th>\n",
       "      <td>0.011795</td>\n",
       "      <td>3013643</td>\n",
       "      <td>-0.000404</td>\n",
       "      <td>0.966899</td>\n",
       "    </tr>\n",
       "    <tr>\n",
       "      <th>TIPO2</th>\n",
       "      <td>0.007122</td>\n",
       "      <td>1554679</td>\n",
       "      <td>-0.005077</td>\n",
       "      <td>0.583805</td>\n",
       "    </tr>\n",
       "    <tr>\n",
       "      <th>TIPO3</th>\n",
       "      <td>0.005187</td>\n",
       "      <td>6747</td>\n",
       "      <td>-0.007011</td>\n",
       "      <td>0.425245</td>\n",
=======
       "      <th>TIPO1</th>\n",
       "      <td>0.011857</td>\n",
       "      <td>3013833</td>\n",
       "      <td>-0.000403</td>\n",
       "      <td>0.967136</td>\n",
       "    </tr>\n",
       "    <tr>\n",
       "      <th>TIPO2</th>\n",
       "      <td>0.007149</td>\n",
       "      <td>1554721</td>\n",
       "      <td>-0.005112</td>\n",
       "      <td>0.583068</td>\n",
       "    </tr>\n",
       "    <tr>\n",
       "      <th>TIPO3</th>\n",
       "      <td>0.005335</td>\n",
       "      <td>6748</td>\n",
       "      <td>-0.006925</td>\n",
       "      <td>0.435139</td>\n",
>>>>>>> a370929109f7601a0c01054445168fe7946a4cb4
       "    </tr>\n",
       "  </tbody>\n",
       "</table>\n",
       "</div>"
      ],
      "text/plain": [
       "                         colocation_rate  n_samples      diff  \\\n",
       "APROBACION_MES_ANTERIOR                                         \n",
<<<<<<< HEAD
       "Ninguno                         0.027382     603137  0.015183   \n",
       "TIPO1                           0.011795    3013643 -0.000404   \n",
       "TIPO2                           0.007122    1554679 -0.005077   \n",
       "TIPO3                           0.005187       6747 -0.007011   \n",
       "\n",
       "                         acceptance_ratio  \n",
       "APROBACION_MES_ANTERIOR                    \n",
       "Ninguno                          2.244630  \n",
       "TIPO1                            0.966899  \n",
       "TIPO2                            0.583805  \n",
       "TIPO3                            0.425245  "
=======
       "TIPO1                           0.011857    3013833 -0.000403   \n",
       "TIPO2                           0.007149    1554721 -0.005112   \n",
       "TIPO3                           0.005335       6748 -0.006925   \n",
       "\n",
       "                         acceptance_ratio  \n",
       "APROBACION_MES_ANTERIOR                    \n",
       "TIPO1                            0.967136  \n",
       "TIPO2                            0.583068  \n",
       "TIPO3                            0.435139  "
>>>>>>> a370929109f7601a0c01054445168fe7946a4cb4
      ]
     },
     "metadata": {},
     "output_type": "display_data"
    },
    {
     "name": "stdout",
     "output_type": "stream",
     "text": [
      "\n",
      "--------------------------------------------------\n",
      "\n",
      "Análisis para la variable: PRODUCTO_MES_ANTERIOR\n"
     ]
    },
    {
     "data": {
      "text/html": [
       "<div>\n",
       "<style scoped>\n",
       "    .dataframe tbody tr th:only-of-type {\n",
       "        vertical-align: middle;\n",
       "    }\n",
       "\n",
       "    .dataframe tbody tr th {\n",
       "        vertical-align: top;\n",
       "    }\n",
       "\n",
       "    .dataframe thead th {\n",
       "        text-align: right;\n",
       "    }\n",
       "</style>\n",
       "<table border=\"1\" class=\"dataframe\">\n",
       "  <thead>\n",
       "    <tr style=\"text-align: right;\">\n",
       "      <th></th>\n",
       "      <th>colocation_rate</th>\n",
       "      <th>n_samples</th>\n",
       "      <th>diff</th>\n",
       "      <th>acceptance_ratio</th>\n",
       "    </tr>\n",
       "    <tr>\n",
       "      <th>PRODUCTO_MES_ANTERIOR</th>\n",
       "      <th></th>\n",
       "      <th></th>\n",
       "      <th></th>\n",
       "      <th></th>\n",
       "    </tr>\n",
       "  </thead>\n",
       "  <tbody>\n",
       "    <tr>\n",
<<<<<<< HEAD
       "      <th>Ninguno</th>\n",
       "      <td>0.027382</td>\n",
       "      <td>603137</td>\n",
       "      <td>0.015183</td>\n",
       "      <td>2.244630</td>\n",
       "    </tr>\n",
       "    <tr>\n",
       "      <th>Producto1</th>\n",
       "      <td>0.009533</td>\n",
       "      <td>4079040</td>\n",
       "      <td>-0.002666</td>\n",
       "      <td>0.781479</td>\n",
       "    </tr>\n",
       "    <tr>\n",
       "      <th>Producto2</th>\n",
       "      <td>0.015606</td>\n",
       "      <td>469958</td>\n",
       "      <td>0.003407</td>\n",
       "      <td>1.279275</td>\n",
       "    </tr>\n",
       "    <tr>\n",
       "      <th>Producto3</th>\n",
       "      <td>0.016608</td>\n",
       "      <td>26071</td>\n",
       "      <td>0.004410</td>\n",
       "      <td>1.361484</td>\n",
=======
       "      <th>Producto1</th>\n",
       "      <td>0.009576</td>\n",
       "      <td>4079217</td>\n",
       "      <td>-0.002684</td>\n",
       "      <td>0.781070</td>\n",
       "    </tr>\n",
       "    <tr>\n",
       "      <th>Producto2</th>\n",
       "      <td>0.015719</td>\n",
       "      <td>470012</td>\n",
       "      <td>0.003459</td>\n",
       "      <td>1.282091</td>\n",
       "    </tr>\n",
       "    <tr>\n",
       "      <th>Producto3</th>\n",
       "      <td>0.016684</td>\n",
       "      <td>26073</td>\n",
       "      <td>0.004424</td>\n",
       "      <td>1.360816</td>\n",
>>>>>>> a370929109f7601a0c01054445168fe7946a4cb4
       "    </tr>\n",
       "  </tbody>\n",
       "</table>\n",
       "</div>"
      ],
      "text/plain": [
       "                       colocation_rate  n_samples      diff  acceptance_ratio\n",
       "PRODUCTO_MES_ANTERIOR                                                        \n",
<<<<<<< HEAD
       "Ninguno                       0.027382     603137  0.015183          2.244630\n",
       "Producto1                     0.009533    4079040 -0.002666          0.781479\n",
       "Producto2                     0.015606     469958  0.003407          1.279275\n",
       "Producto3                     0.016608      26071  0.004410          1.361484"
=======
       "Producto1                     0.009576    4079217 -0.002684          0.781070\n",
       "Producto2                     0.015719     470012  0.003459          1.282091\n",
       "Producto3                     0.016684      26073  0.004424          1.360816"
>>>>>>> a370929109f7601a0c01054445168fe7946a4cb4
      ]
     },
     "metadata": {},
     "output_type": "display_data"
    },
    {
     "name": "stdout",
     "output_type": "stream",
     "text": [
      "\n",
      "--------------------------------------------------\n",
      "\n",
      "Análisis para la variable: CONTACTABILIDAD_TOTAL\n"
     ]
    },
    {
     "data": {
      "text/html": [
       "<div>\n",
       "<style scoped>\n",
       "    .dataframe tbody tr th:only-of-type {\n",
       "        vertical-align: middle;\n",
       "    }\n",
       "\n",
       "    .dataframe tbody tr th {\n",
       "        vertical-align: top;\n",
       "    }\n",
       "\n",
       "    .dataframe thead th {\n",
       "        text-align: right;\n",
       "    }\n",
       "</style>\n",
       "<table border=\"1\" class=\"dataframe\">\n",
       "  <thead>\n",
       "    <tr style=\"text-align: right;\">\n",
       "      <th></th>\n",
       "      <th>colocation_rate</th>\n",
       "      <th>n_samples</th>\n",
       "      <th>diff</th>\n",
       "      <th>acceptance_ratio</th>\n",
       "    </tr>\n",
       "    <tr>\n",
       "      <th>CONTACTABILIDAD_TOTAL</th>\n",
       "      <th></th>\n",
       "      <th></th>\n",
       "      <th></th>\n",
       "      <th></th>\n",
       "    </tr>\n",
       "  </thead>\n",
       "  <tbody>\n",
       "    <tr>\n",
       "      <th>AC</th>\n",
<<<<<<< HEAD
       "      <td>0.013063</td>\n",
       "      <td>4783323</td>\n",
       "      <td>0.000864</td>\n",
       "      <td>1.070815</td>\n",
       "    </tr>\n",
       "    <tr>\n",
       "      <th>ND</th>\n",
       "      <td>0.001735</td>\n",
       "      <td>394883</td>\n",
       "      <td>-0.010464</td>\n",
       "      <td>0.142202</td>\n",
=======
       "      <td>0.013128</td>\n",
       "      <td>4783638</td>\n",
       "      <td>0.000867</td>\n",
       "      <td>1.070751</td>\n",
       "    </tr>\n",
       "    <tr>\n",
       "      <th>ND</th>\n",
       "      <td>0.001752</td>\n",
       "      <td>394890</td>\n",
       "      <td>-0.010508</td>\n",
       "      <td>0.142932</td>\n",
>>>>>>> a370929109f7601a0c01054445168fe7946a4cb4
       "    </tr>\n",
       "  </tbody>\n",
       "</table>\n",
       "</div>"
      ],
      "text/plain": [
       "                       colocation_rate  n_samples      diff  acceptance_ratio\n",
       "CONTACTABILIDAD_TOTAL                                                        \n",
<<<<<<< HEAD
       "AC                            0.013063    4783323  0.000864          1.070815\n",
       "ND                            0.001735     394883 -0.010464          0.142202"
=======
       "AC                            0.013128    4783638  0.000867          1.070751\n",
       "ND                            0.001752     394890 -0.010508          0.142932"
>>>>>>> a370929109f7601a0c01054445168fe7946a4cb4
      ]
     },
     "metadata": {},
     "output_type": "display_data"
    },
    {
     "name": "stdout",
     "output_type": "stream",
     "text": [
      "\n",
      "--------------------------------------------------\n",
      "\n"
     ]
    }
   ],
   "source": [
    "# Cálculo de la tasa global de colocación\n",
    "global_colocation_ratio = df_colocado['COLOCADO'].mean()\n",
    "\n",
    "# Variables categóricas a analizar\n",
    "cat_vars = ['SEGMENTO', 'REGION', 'TIPO_APROBACION', 'CANAL', 'SUB_PERFIL_RIESGOS',\"CLIENTE_BG\", \"APROBACION_MES_ANTERIOR\",\"PRODUCTO_MES_ANTERIOR\",\"CONTACTABILIDAD_TOTAL\"]\n",
    "\n",
    "# Iterar sobre cada variable categórica\n",
    "for c in cat_vars:\n",
    "    print(f\"Análisis para la variable: {c}\")\n",
    "    # Agrupación por la variable categórica\n",
    "    df_group = df_colocado.groupby(c)['COLOCADO'].agg(['mean', 'count']).rename(columns={\n",
    "        'mean': 'colocation_rate',\n",
    "        'count': 'n_samples'\n",
    "    })\n",
    "    # Cálculo de diferencia y riesgo relativo\n",
    "    df_group['diff'] = df_group['colocation_rate'] - global_colocation_ratio\n",
    "    df_group['acceptance_ratio'] = df_group['colocation_rate'] / global_colocation_ratio\n",
    "\n",
    "    # Mostrar resultados\n",
    "    display(df_group)\n",
    "    print(\"\\n\" + \"-\" * 50 + \"\\n\")\n"
   ]
  },
  {
   "cell_type": "markdown",
   "metadata": {},
   "source": [
    "* Segmentos: Es recomendable centrar las campañas de marketing en los segmentos con alta tasa de aceptación como SEGMENTO1 y SEGMENTO2. Además, los segmentos de mayor riesgo (SEGMENTO6 y SEGMENTO7) podrían beneficiarse de un enfoque diferenciado.\n",
    "\n",
    "* Regiones: Las estrategias de colocación de créditos deben centrarse más en la región CENTRO, que tiene la tasa de aceptación más alta. Las regiones NORTE y SUR pueden necesitar esfuerzos adicionales para mejorar la tasa de aceptación.\n",
    "\n",
    "* Tipo de Aprobación: Las personas con TIPO1 tienen una mayor probabilidad de aceptación, por lo que una posible estrategia sería reducir las barreras para que más personas pasen a TIPO1.\n",
    "\n",
    "* Canal de Venta: La colocación online muestra una alta tasa de aceptación en comparación con la colocación presencial. Esto sugiere que el canal digital debería ser priorizado en futuras campañas.\n",
    "\n",
    "* Sub Perfil de Riesgo: Los individuos con PERFIL1 tienen la mayor probabilidad de aceptar créditos. Las estrategias para los perfiles de riesgo alto (PERFIL3 y PERFIL4) podrían enfocarse en la gestión del riesgo o en ofrecer condiciones más atractivas.\n",
    "\n"
   ]
  },
  {
   "cell_type": "markdown",
   "metadata": {},
   "source": [
    "## Mutual information"
   ]
  },
  {
   "cell_type": "markdown",
   "metadata": {},
   "source": [
    "El mutual information score es una medida que evalúa la dependencia entre dos variables. Un valor más alto indica una mayor relación entre las variables, lo que sugiere que una variable es más informativa sobre la otra. En este caso, estamos utilizando el mutual_info_score para medir la relación entre las variables categóricas y la variable COLOCADO (aceptación de crédito)."
   ]
  },
  {
   "cell_type": "code",
<<<<<<< HEAD
   "execution_count": 171,
=======
   "execution_count": 14,
>>>>>>> a370929109f7601a0c01054445168fe7946a4cb4
   "metadata": {},
   "outputs": [],
   "source": [
    "from sklearn.metrics import mutual_info_score"
   ]
  },
  {
   "cell_type": "code",
<<<<<<< HEAD
   "execution_count": 172,
=======
   "execution_count": 15,
>>>>>>> a370929109f7601a0c01054445168fe7946a4cb4
   "metadata": {},
   "outputs": [],
   "source": [
    "def mutual_info_aceptance_score(series):\n",
    "    return mutual_info_score(series, df_colocado.COLOCADO)"
   ]
  },
  {
   "cell_type": "code",
<<<<<<< HEAD
   "execution_count": 173,
   "metadata": {},
   "outputs": [
    {
     "data": {
      "text/plain": [
       "CLIENTE_BG                 0.004997\n",
       "TIPO_APROBACION            0.002949\n",
       "CANAL                      0.002046\n",
       "APROBACION_MES_ANTERIOR    0.001209\n",
       "PRODUCTO_MES_ANTERIOR      0.001119\n",
       "SUB_PERFIL_RIESGOS         0.000942\n",
       "REGION                     0.000705\n",
       "CONTACTABILIDAD_TOTAL      0.000572\n",
       "SEGMENTO                   0.000028\n",
       "dtype: float64"
      ]
     },
     "execution_count": 173,
     "metadata": {},
     "output_type": "execute_result"
=======
   "execution_count": 16,
   "metadata": {},
   "outputs": [
    {
     "ename": "TypeError",
     "evalue": "'<' not supported between instances of 'str' and 'NoneType'",
     "output_type": "error",
     "traceback": [
      "\u001b[1;31m---------------------------------------------------------------------------\u001b[0m",
      "\u001b[1;31mTypeError\u001b[0m                                 Traceback (most recent call last)",
      "Cell \u001b[1;32mIn[16], line 1\u001b[0m\n\u001b[1;32m----> 1\u001b[0m mi \u001b[38;5;241m=\u001b[39m \u001b[43mdf_colocado\u001b[49m\u001b[43m[\u001b[49m\u001b[43mcat_vars\u001b[49m\u001b[43m]\u001b[49m\u001b[38;5;241;43m.\u001b[39;49m\u001b[43mapply\u001b[49m\u001b[43m(\u001b[49m\u001b[43mmutual_info_aceptance_score\u001b[49m\u001b[43m)\u001b[49m\n\u001b[0;32m      2\u001b[0m mi\u001b[38;5;241m.\u001b[39msort_values(ascending\u001b[38;5;241m=\u001b[39m\u001b[38;5;28;01mFalse\u001b[39;00m)\n",
      "File \u001b[1;32m~\\anaconda3\\envs\\colocacion_de_creditos\\Lib\\site-packages\\pandas\\core\\frame.py:10374\u001b[0m, in \u001b[0;36mDataFrame.apply\u001b[1;34m(self, func, axis, raw, result_type, args, by_row, engine, engine_kwargs, **kwargs)\u001b[0m\n\u001b[0;32m  10360\u001b[0m \u001b[38;5;28;01mfrom\u001b[39;00m \u001b[38;5;21;01mpandas\u001b[39;00m\u001b[38;5;21;01m.\u001b[39;00m\u001b[38;5;21;01mcore\u001b[39;00m\u001b[38;5;21;01m.\u001b[39;00m\u001b[38;5;21;01mapply\u001b[39;00m \u001b[38;5;28;01mimport\u001b[39;00m frame_apply\n\u001b[0;32m  10362\u001b[0m op \u001b[38;5;241m=\u001b[39m frame_apply(\n\u001b[0;32m  10363\u001b[0m     \u001b[38;5;28mself\u001b[39m,\n\u001b[0;32m  10364\u001b[0m     func\u001b[38;5;241m=\u001b[39mfunc,\n\u001b[1;32m   (...)\u001b[0m\n\u001b[0;32m  10372\u001b[0m     kwargs\u001b[38;5;241m=\u001b[39mkwargs,\n\u001b[0;32m  10373\u001b[0m )\n\u001b[1;32m> 10374\u001b[0m \u001b[38;5;28;01mreturn\u001b[39;00m \u001b[43mop\u001b[49m\u001b[38;5;241;43m.\u001b[39;49m\u001b[43mapply\u001b[49m\u001b[43m(\u001b[49m\u001b[43m)\u001b[49m\u001b[38;5;241m.\u001b[39m__finalize__(\u001b[38;5;28mself\u001b[39m, method\u001b[38;5;241m=\u001b[39m\u001b[38;5;124m\"\u001b[39m\u001b[38;5;124mapply\u001b[39m\u001b[38;5;124m\"\u001b[39m)\n",
      "File \u001b[1;32m~\\anaconda3\\envs\\colocacion_de_creditos\\Lib\\site-packages\\pandas\\core\\apply.py:916\u001b[0m, in \u001b[0;36mFrameApply.apply\u001b[1;34m(self)\u001b[0m\n\u001b[0;32m    913\u001b[0m \u001b[38;5;28;01melif\u001b[39;00m \u001b[38;5;28mself\u001b[39m\u001b[38;5;241m.\u001b[39mraw:\n\u001b[0;32m    914\u001b[0m     \u001b[38;5;28;01mreturn\u001b[39;00m \u001b[38;5;28mself\u001b[39m\u001b[38;5;241m.\u001b[39mapply_raw(engine\u001b[38;5;241m=\u001b[39m\u001b[38;5;28mself\u001b[39m\u001b[38;5;241m.\u001b[39mengine, engine_kwargs\u001b[38;5;241m=\u001b[39m\u001b[38;5;28mself\u001b[39m\u001b[38;5;241m.\u001b[39mengine_kwargs)\n\u001b[1;32m--> 916\u001b[0m \u001b[38;5;28;01mreturn\u001b[39;00m \u001b[38;5;28;43mself\u001b[39;49m\u001b[38;5;241;43m.\u001b[39;49m\u001b[43mapply_standard\u001b[49m\u001b[43m(\u001b[49m\u001b[43m)\u001b[49m\n",
      "File \u001b[1;32m~\\anaconda3\\envs\\colocacion_de_creditos\\Lib\\site-packages\\pandas\\core\\apply.py:1063\u001b[0m, in \u001b[0;36mFrameApply.apply_standard\u001b[1;34m(self)\u001b[0m\n\u001b[0;32m   1061\u001b[0m \u001b[38;5;28;01mdef\u001b[39;00m \u001b[38;5;21mapply_standard\u001b[39m(\u001b[38;5;28mself\u001b[39m):\n\u001b[0;32m   1062\u001b[0m     \u001b[38;5;28;01mif\u001b[39;00m \u001b[38;5;28mself\u001b[39m\u001b[38;5;241m.\u001b[39mengine \u001b[38;5;241m==\u001b[39m \u001b[38;5;124m\"\u001b[39m\u001b[38;5;124mpython\u001b[39m\u001b[38;5;124m\"\u001b[39m:\n\u001b[1;32m-> 1063\u001b[0m         results, res_index \u001b[38;5;241m=\u001b[39m \u001b[38;5;28;43mself\u001b[39;49m\u001b[38;5;241;43m.\u001b[39;49m\u001b[43mapply_series_generator\u001b[49m\u001b[43m(\u001b[49m\u001b[43m)\u001b[49m\n\u001b[0;32m   1064\u001b[0m     \u001b[38;5;28;01melse\u001b[39;00m:\n\u001b[0;32m   1065\u001b[0m         results, res_index \u001b[38;5;241m=\u001b[39m \u001b[38;5;28mself\u001b[39m\u001b[38;5;241m.\u001b[39mapply_series_numba()\n",
      "File \u001b[1;32m~\\anaconda3\\envs\\colocacion_de_creditos\\Lib\\site-packages\\pandas\\core\\apply.py:1081\u001b[0m, in \u001b[0;36mFrameApply.apply_series_generator\u001b[1;34m(self)\u001b[0m\n\u001b[0;32m   1078\u001b[0m \u001b[38;5;28;01mwith\u001b[39;00m option_context(\u001b[38;5;124m\"\u001b[39m\u001b[38;5;124mmode.chained_assignment\u001b[39m\u001b[38;5;124m\"\u001b[39m, \u001b[38;5;28;01mNone\u001b[39;00m):\n\u001b[0;32m   1079\u001b[0m     \u001b[38;5;28;01mfor\u001b[39;00m i, v \u001b[38;5;129;01min\u001b[39;00m \u001b[38;5;28menumerate\u001b[39m(series_gen):\n\u001b[0;32m   1080\u001b[0m         \u001b[38;5;66;03m# ignore SettingWithCopy here in case the user mutates\u001b[39;00m\n\u001b[1;32m-> 1081\u001b[0m         results[i] \u001b[38;5;241m=\u001b[39m \u001b[38;5;28;43mself\u001b[39;49m\u001b[38;5;241;43m.\u001b[39;49m\u001b[43mfunc\u001b[49m\u001b[43m(\u001b[49m\u001b[43mv\u001b[49m\u001b[43m,\u001b[49m\u001b[43m \u001b[49m\u001b[38;5;241;43m*\u001b[39;49m\u001b[38;5;28;43mself\u001b[39;49m\u001b[38;5;241;43m.\u001b[39;49m\u001b[43margs\u001b[49m\u001b[43m,\u001b[49m\u001b[43m \u001b[49m\u001b[38;5;241;43m*\u001b[39;49m\u001b[38;5;241;43m*\u001b[39;49m\u001b[38;5;28;43mself\u001b[39;49m\u001b[38;5;241;43m.\u001b[39;49m\u001b[43mkwargs\u001b[49m\u001b[43m)\u001b[49m\n\u001b[0;32m   1082\u001b[0m         \u001b[38;5;28;01mif\u001b[39;00m \u001b[38;5;28misinstance\u001b[39m(results[i], ABCSeries):\n\u001b[0;32m   1083\u001b[0m             \u001b[38;5;66;03m# If we have a view on v, we need to make a copy because\u001b[39;00m\n\u001b[0;32m   1084\u001b[0m             \u001b[38;5;66;03m#  series_generator will swap out the underlying data\u001b[39;00m\n\u001b[0;32m   1085\u001b[0m             results[i] \u001b[38;5;241m=\u001b[39m results[i]\u001b[38;5;241m.\u001b[39mcopy(deep\u001b[38;5;241m=\u001b[39m\u001b[38;5;28;01mFalse\u001b[39;00m)\n",
      "Cell \u001b[1;32mIn[15], line 2\u001b[0m, in \u001b[0;36mmutual_info_aceptance_score\u001b[1;34m(series)\u001b[0m\n\u001b[0;32m      1\u001b[0m \u001b[38;5;28;01mdef\u001b[39;00m \u001b[38;5;21mmutual_info_aceptance_score\u001b[39m(series):\n\u001b[1;32m----> 2\u001b[0m     \u001b[38;5;28;01mreturn\u001b[39;00m \u001b[43mmutual_info_score\u001b[49m\u001b[43m(\u001b[49m\u001b[43mseries\u001b[49m\u001b[43m,\u001b[49m\u001b[43m \u001b[49m\u001b[43mdf_colocado\u001b[49m\u001b[38;5;241;43m.\u001b[39;49m\u001b[43mCOLOCADO\u001b[49m\u001b[43m)\u001b[49m\n",
      "File \u001b[1;32m~\\anaconda3\\envs\\colocacion_de_creditos\\Lib\\site-packages\\sklearn\\utils\\_param_validation.py:213\u001b[0m, in \u001b[0;36mvalidate_params.<locals>.decorator.<locals>.wrapper\u001b[1;34m(*args, **kwargs)\u001b[0m\n\u001b[0;32m    207\u001b[0m \u001b[38;5;28;01mtry\u001b[39;00m:\n\u001b[0;32m    208\u001b[0m     \u001b[38;5;28;01mwith\u001b[39;00m config_context(\n\u001b[0;32m    209\u001b[0m         skip_parameter_validation\u001b[38;5;241m=\u001b[39m(\n\u001b[0;32m    210\u001b[0m             prefer_skip_nested_validation \u001b[38;5;129;01mor\u001b[39;00m global_skip_validation\n\u001b[0;32m    211\u001b[0m         )\n\u001b[0;32m    212\u001b[0m     ):\n\u001b[1;32m--> 213\u001b[0m         \u001b[38;5;28;01mreturn\u001b[39;00m \u001b[43mfunc\u001b[49m\u001b[43m(\u001b[49m\u001b[38;5;241;43m*\u001b[39;49m\u001b[43margs\u001b[49m\u001b[43m,\u001b[49m\u001b[43m \u001b[49m\u001b[38;5;241;43m*\u001b[39;49m\u001b[38;5;241;43m*\u001b[39;49m\u001b[43mkwargs\u001b[49m\u001b[43m)\u001b[49m\n\u001b[0;32m    214\u001b[0m \u001b[38;5;28;01mexcept\u001b[39;00m InvalidParameterError \u001b[38;5;28;01mas\u001b[39;00m e:\n\u001b[0;32m    215\u001b[0m     \u001b[38;5;66;03m# When the function is just a wrapper around an estimator, we allow\u001b[39;00m\n\u001b[0;32m    216\u001b[0m     \u001b[38;5;66;03m# the function to delegate validation to the estimator, but we replace\u001b[39;00m\n\u001b[0;32m    217\u001b[0m     \u001b[38;5;66;03m# the name of the estimator by the name of the function in the error\u001b[39;00m\n\u001b[0;32m    218\u001b[0m     \u001b[38;5;66;03m# message to avoid confusion.\u001b[39;00m\n\u001b[0;32m    219\u001b[0m     msg \u001b[38;5;241m=\u001b[39m re\u001b[38;5;241m.\u001b[39msub(\n\u001b[0;32m    220\u001b[0m         \u001b[38;5;124mr\u001b[39m\u001b[38;5;124m\"\u001b[39m\u001b[38;5;124mparameter of \u001b[39m\u001b[38;5;124m\\\u001b[39m\u001b[38;5;124mw+ must be\u001b[39m\u001b[38;5;124m\"\u001b[39m,\n\u001b[0;32m    221\u001b[0m         \u001b[38;5;124mf\u001b[39m\u001b[38;5;124m\"\u001b[39m\u001b[38;5;124mparameter of \u001b[39m\u001b[38;5;132;01m{\u001b[39;00mfunc\u001b[38;5;241m.\u001b[39m\u001b[38;5;18m__qualname__\u001b[39m\u001b[38;5;132;01m}\u001b[39;00m\u001b[38;5;124m must be\u001b[39m\u001b[38;5;124m\"\u001b[39m,\n\u001b[0;32m    222\u001b[0m         \u001b[38;5;28mstr\u001b[39m(e),\n\u001b[0;32m    223\u001b[0m     )\n",
      "File \u001b[1;32m~\\anaconda3\\envs\\colocacion_de_creditos\\Lib\\site-packages\\sklearn\\metrics\\cluster\\_supervised.py:887\u001b[0m, in \u001b[0;36mmutual_info_score\u001b[1;34m(labels_true, labels_pred, contingency)\u001b[0m\n\u001b[0;32m    821\u001b[0m \u001b[38;5;250m\u001b[39m\u001b[38;5;124;03m\"\"\"Mutual Information between two clusterings.\u001b[39;00m\n\u001b[0;32m    822\u001b[0m \n\u001b[0;32m    823\u001b[0m \u001b[38;5;124;03mThe Mutual Information is a measure of the similarity between two labels\u001b[39;00m\n\u001b[1;32m   (...)\u001b[0m\n\u001b[0;32m    884\u001b[0m \u001b[38;5;124;03mnp.float64(0.056...)\u001b[39;00m\n\u001b[0;32m    885\u001b[0m \u001b[38;5;124;03m\"\"\"\u001b[39;00m\n\u001b[0;32m    886\u001b[0m \u001b[38;5;28;01mif\u001b[39;00m contingency \u001b[38;5;129;01mis\u001b[39;00m \u001b[38;5;28;01mNone\u001b[39;00m:\n\u001b[1;32m--> 887\u001b[0m     labels_true, labels_pred \u001b[38;5;241m=\u001b[39m \u001b[43mcheck_clusterings\u001b[49m\u001b[43m(\u001b[49m\u001b[43mlabels_true\u001b[49m\u001b[43m,\u001b[49m\u001b[43m \u001b[49m\u001b[43mlabels_pred\u001b[49m\u001b[43m)\u001b[49m\n\u001b[0;32m    888\u001b[0m     contingency \u001b[38;5;241m=\u001b[39m contingency_matrix(labels_true, labels_pred, sparse\u001b[38;5;241m=\u001b[39m\u001b[38;5;28;01mTrue\u001b[39;00m)\n\u001b[0;32m    889\u001b[0m \u001b[38;5;28;01melse\u001b[39;00m:\n",
      "File \u001b[1;32m~\\anaconda3\\envs\\colocacion_de_creditos\\Lib\\site-packages\\sklearn\\metrics\\cluster\\_supervised.py:57\u001b[0m, in \u001b[0;36mcheck_clusterings\u001b[1;34m(labels_true, labels_pred)\u001b[0m\n\u001b[0;32m     43\u001b[0m labels_true \u001b[38;5;241m=\u001b[39m check_array(\n\u001b[0;32m     44\u001b[0m     labels_true,\n\u001b[0;32m     45\u001b[0m     ensure_2d\u001b[38;5;241m=\u001b[39m\u001b[38;5;28;01mFalse\u001b[39;00m,\n\u001b[0;32m     46\u001b[0m     ensure_min_samples\u001b[38;5;241m=\u001b[39m\u001b[38;5;241m0\u001b[39m,\n\u001b[0;32m     47\u001b[0m     dtype\u001b[38;5;241m=\u001b[39m\u001b[38;5;28;01mNone\u001b[39;00m,\n\u001b[0;32m     48\u001b[0m )\n\u001b[0;32m     50\u001b[0m labels_pred \u001b[38;5;241m=\u001b[39m check_array(\n\u001b[0;32m     51\u001b[0m     labels_pred,\n\u001b[0;32m     52\u001b[0m     ensure_2d\u001b[38;5;241m=\u001b[39m\u001b[38;5;28;01mFalse\u001b[39;00m,\n\u001b[0;32m     53\u001b[0m     ensure_min_samples\u001b[38;5;241m=\u001b[39m\u001b[38;5;241m0\u001b[39m,\n\u001b[0;32m     54\u001b[0m     dtype\u001b[38;5;241m=\u001b[39m\u001b[38;5;28;01mNone\u001b[39;00m,\n\u001b[0;32m     55\u001b[0m )\n\u001b[1;32m---> 57\u001b[0m type_label \u001b[38;5;241m=\u001b[39m \u001b[43mtype_of_target\u001b[49m\u001b[43m(\u001b[49m\u001b[43mlabels_true\u001b[49m\u001b[43m)\u001b[49m\n\u001b[0;32m     58\u001b[0m type_pred \u001b[38;5;241m=\u001b[39m type_of_target(labels_pred)\n\u001b[0;32m     60\u001b[0m \u001b[38;5;28;01mif\u001b[39;00m \u001b[38;5;124m\"\u001b[39m\u001b[38;5;124mcontinuous\u001b[39m\u001b[38;5;124m\"\u001b[39m \u001b[38;5;129;01min\u001b[39;00m (type_pred, type_label):\n",
      "File \u001b[1;32m~\\anaconda3\\envs\\colocacion_de_creditos\\Lib\\site-packages\\sklearn\\utils\\multiclass.py:404\u001b[0m, in \u001b[0;36mtype_of_target\u001b[1;34m(y, input_name)\u001b[0m\n\u001b[0;32m    402\u001b[0m \u001b[38;5;28;01mif\u001b[39;00m issparse(first_row_or_val):\n\u001b[0;32m    403\u001b[0m     first_row_or_val \u001b[38;5;241m=\u001b[39m first_row_or_val\u001b[38;5;241m.\u001b[39mdata\n\u001b[1;32m--> 404\u001b[0m \u001b[38;5;28;01mif\u001b[39;00m \u001b[43mxp\u001b[49m\u001b[38;5;241;43m.\u001b[39;49m\u001b[43munique_values\u001b[49m\u001b[43m(\u001b[49m\u001b[43my\u001b[49m\u001b[43m)\u001b[49m\u001b[38;5;241m.\u001b[39mshape[\u001b[38;5;241m0\u001b[39m] \u001b[38;5;241m>\u001b[39m \u001b[38;5;241m2\u001b[39m \u001b[38;5;129;01mor\u001b[39;00m (y\u001b[38;5;241m.\u001b[39mndim \u001b[38;5;241m==\u001b[39m \u001b[38;5;241m2\u001b[39m \u001b[38;5;129;01mand\u001b[39;00m \u001b[38;5;28mlen\u001b[39m(first_row_or_val) \u001b[38;5;241m>\u001b[39m \u001b[38;5;241m1\u001b[39m):\n\u001b[0;32m    405\u001b[0m     \u001b[38;5;66;03m# [1, 2, 3] or [[1., 2., 3]] or [[1, 2]]\u001b[39;00m\n\u001b[0;32m    406\u001b[0m     \u001b[38;5;28;01mreturn\u001b[39;00m \u001b[38;5;124m\"\u001b[39m\u001b[38;5;124mmulticlass\u001b[39m\u001b[38;5;124m\"\u001b[39m \u001b[38;5;241m+\u001b[39m suffix\n\u001b[0;32m    407\u001b[0m \u001b[38;5;28;01melse\u001b[39;00m:\n",
      "File \u001b[1;32m~\\anaconda3\\envs\\colocacion_de_creditos\\Lib\\site-packages\\sklearn\\utils\\_array_api.py:407\u001b[0m, in \u001b[0;36m_NumPyAPIWrapper.unique_values\u001b[1;34m(self, x)\u001b[0m\n\u001b[0;32m    406\u001b[0m \u001b[38;5;28;01mdef\u001b[39;00m \u001b[38;5;21munique_values\u001b[39m(\u001b[38;5;28mself\u001b[39m, x):\n\u001b[1;32m--> 407\u001b[0m     \u001b[38;5;28;01mreturn\u001b[39;00m \u001b[43mnumpy\u001b[49m\u001b[38;5;241;43m.\u001b[39;49m\u001b[43munique\u001b[49m\u001b[43m(\u001b[49m\u001b[43mx\u001b[49m\u001b[43m)\u001b[49m\n",
      "File \u001b[1;32m~\\anaconda3\\envs\\colocacion_de_creditos\\Lib\\site-packages\\numpy\\lib\\_arraysetops_impl.py:291\u001b[0m, in \u001b[0;36munique\u001b[1;34m(ar, return_index, return_inverse, return_counts, axis, equal_nan)\u001b[0m\n\u001b[0;32m    289\u001b[0m ar \u001b[38;5;241m=\u001b[39m np\u001b[38;5;241m.\u001b[39masanyarray(ar)\n\u001b[0;32m    290\u001b[0m \u001b[38;5;28;01mif\u001b[39;00m axis \u001b[38;5;129;01mis\u001b[39;00m \u001b[38;5;28;01mNone\u001b[39;00m:\n\u001b[1;32m--> 291\u001b[0m     ret \u001b[38;5;241m=\u001b[39m \u001b[43m_unique1d\u001b[49m\u001b[43m(\u001b[49m\u001b[43mar\u001b[49m\u001b[43m,\u001b[49m\u001b[43m \u001b[49m\u001b[43mreturn_index\u001b[49m\u001b[43m,\u001b[49m\u001b[43m \u001b[49m\u001b[43mreturn_inverse\u001b[49m\u001b[43m,\u001b[49m\u001b[43m \u001b[49m\u001b[43mreturn_counts\u001b[49m\u001b[43m,\u001b[49m\u001b[43m \u001b[49m\n\u001b[0;32m    292\u001b[0m \u001b[43m                    \u001b[49m\u001b[43mequal_nan\u001b[49m\u001b[38;5;241;43m=\u001b[39;49m\u001b[43mequal_nan\u001b[49m\u001b[43m,\u001b[49m\u001b[43m \u001b[49m\u001b[43minverse_shape\u001b[49m\u001b[38;5;241;43m=\u001b[39;49m\u001b[43mar\u001b[49m\u001b[38;5;241;43m.\u001b[39;49m\u001b[43mshape\u001b[49m\u001b[43m,\u001b[49m\u001b[43m \u001b[49m\u001b[43maxis\u001b[49m\u001b[38;5;241;43m=\u001b[39;49m\u001b[38;5;28;43;01mNone\u001b[39;49;00m\u001b[43m)\u001b[49m\n\u001b[0;32m    293\u001b[0m     \u001b[38;5;28;01mreturn\u001b[39;00m _unpack_tuple(ret)\n\u001b[0;32m    295\u001b[0m \u001b[38;5;66;03m# axis was specified and not None\u001b[39;00m\n",
      "File \u001b[1;32m~\\anaconda3\\envs\\colocacion_de_creditos\\Lib\\site-packages\\numpy\\lib\\_arraysetops_impl.py:358\u001b[0m, in \u001b[0;36m_unique1d\u001b[1;34m(ar, return_index, return_inverse, return_counts, equal_nan, inverse_shape, axis)\u001b[0m\n\u001b[0;32m    356\u001b[0m     aux \u001b[38;5;241m=\u001b[39m ar[perm]\n\u001b[0;32m    357\u001b[0m \u001b[38;5;28;01melse\u001b[39;00m:\n\u001b[1;32m--> 358\u001b[0m     ar\u001b[38;5;241m.\u001b[39msort()\n\u001b[0;32m    359\u001b[0m     aux \u001b[38;5;241m=\u001b[39m ar\n\u001b[0;32m    360\u001b[0m mask \u001b[38;5;241m=\u001b[39m np\u001b[38;5;241m.\u001b[39mempty(aux\u001b[38;5;241m.\u001b[39mshape, dtype\u001b[38;5;241m=\u001b[39mnp\u001b[38;5;241m.\u001b[39mbool)\n",
      "\u001b[1;31mTypeError\u001b[0m: '<' not supported between instances of 'str' and 'NoneType'"
     ]
>>>>>>> a370929109f7601a0c01054445168fe7946a4cb4
    }
   ],
   "source": [
    "mi = df_colocado[cat_vars].apply(mutual_info_aceptance_score)\n",
    "mi.sort_values(ascending=False)"
   ]
  },
  {
   "cell_type": "markdown",
   "metadata": {},
   "source": [
    "El análisis de información mutua muestra que CLIENTE_BG tiene la mayor relación con la colocación de crédito, seguido por TIPO_APROBACION y CANAL. Esto sugiere que el perfil del cliente y el canal de contratación son factores clave para predecir la aceptación de créditos. En cambio, REGION, CONTACTABILIDAD_TOTAL y SEGMENTO tienen una relación mucho más débil, indicando que su influencia es mínima en la decisión de colocación.\n"
   ]
  },
  {
   "cell_type": "markdown",
   "metadata": {},
   "source": [
    "## Importancia de caracteristicas numericas"
   ]
  },
  {
   "cell_type": "code",
<<<<<<< HEAD
   "execution_count": 174,
=======
   "execution_count": null,
>>>>>>> a370929109f7601a0c01054445168fe7946a4cb4
   "metadata": {},
   "outputs": [],
   "source": [
    "numeric_col=['N_VECES_CAMPAÑA', 'N_VECES_CAMPAÑA_CONT', 'IVC', 'score_aceptacion',\n",
    "       'SCORE', 'CUPO', 'MONTO_COLOCADO']"
   ]
  },
  {
   "cell_type": "code",
<<<<<<< HEAD
   "execution_count": 175,
   "metadata": {},
   "outputs": [
    {
     "data": {
      "text/plain": [
       "MONTO_COLOCADO          0.736399\n",
       "IVC                     0.123667\n",
       "score_aceptacion        0.095828\n",
       "N_VECES_CAMPAÑA_CONT    0.047018\n",
       "N_VECES_CAMPAÑA         0.024950\n",
       "SCORE                   0.014009\n",
       "CUPO                    0.013665\n",
       "dtype: float64"
      ]
     },
     "execution_count": 175,
     "metadata": {},
     "output_type": "execute_result"
    }
   ],
=======
   "execution_count": null,
   "metadata": {},
   "outputs": [],
>>>>>>> a370929109f7601a0c01054445168fe7946a4cb4
   "source": [
    "df_colocado[numeric_col].corrwith(df_colocado.COLOCADO).abs().sort_values(ascending=False)"
   ]
  },
  {
   "cell_type": "markdown",
   "metadata": {},
   "source": [
    "El análisis se basó en la correlación absoluta entre las variables numéricas y la colocación de crédito, utilizando el método de correlación de Pearson. Esto permitió identificar qué factores están más estrechamente relacionados con la aceptación del crédito. Los resultados indican que el monto colocado es el factor más influyente, mientras que otras variables como el score de crédito o el cupo ofertado tienen una relación mucho más débil, sugiriendo que la cantidad efectiva colocada y la relación con el banco son determinantes clave."
   ]
  },
  {
   "cell_type": "markdown",
   "metadata": {},
   "source": [
    "tenemos un analisis que hacer que score de aceptacion tiene una relacion baja con repecto si fue colocado o no , por lo que podriamos indicar que este  no es un buen indicador para poder indicar si el credito es colocado."
   ]
  },
  {
   "cell_type": "markdown",
   "metadata": {},
   "source": []
  },
  {
   "cell_type": "code",
<<<<<<< HEAD
   "execution_count": 176,
=======
   "execution_count": null,
>>>>>>> a370929109f7601a0c01054445168fe7946a4cb4
   "metadata": {},
   "outputs": [],
   "source": [
    "# en base a la importancia de las caracteristicas las variables categoricas con las que nos vamos a quedar son las siguientes"
   ]
  },
  {
   "cell_type": "code",
<<<<<<< HEAD
   "execution_count": 177,
=======
   "execution_count": null,
>>>>>>> a370929109f7601a0c01054445168fe7946a4cb4
   "metadata": {},
   "outputs": [],
   "source": [
    "# Selección de columnas relevantes según el análisis anterior\n",
    "columns_to_keep = [\n",
    "    'MONTO_COLOCADO', \n",
    "    'CLIENTE_BG', \n",
    "    'TIPO_APROBACION', \n",
    "    'CANAL', \n",
    "    'IVC', \n",
<<<<<<< HEAD
    "    'score_aceptacion',\n",
    "    \"COLOCADO\"\n",
    "]\n",
    "\n",
    "# Mantener solo las columnas relevantes\n",
    "df_colocado_filtered = df_colocado[columns_to_keep]\n",
=======
    "    'score_aceptacion'\n",
    "]\n",
    "\n",
    "# Mantener solo las columnas relevantes\n",
    "df_colocado = df_colocado[columns_to_keep]\n",
>>>>>>> a370929109f7601a0c01054445168fe7946a4cb4
    "\n"
   ]
  },
  {
<<<<<<< HEAD
   "cell_type": "code",
   "execution_count": 178,
   "metadata": {},
   "outputs": [
    {
     "data": {
      "text/html": [
       "<div>\n",
       "<style scoped>\n",
       "    .dataframe tbody tr th:only-of-type {\n",
       "        vertical-align: middle;\n",
       "    }\n",
       "\n",
       "    .dataframe tbody tr th {\n",
       "        vertical-align: top;\n",
       "    }\n",
       "\n",
       "    .dataframe thead th {\n",
       "        text-align: right;\n",
       "    }\n",
       "</style>\n",
       "<table border=\"1\" class=\"dataframe\">\n",
       "  <thead>\n",
       "    <tr style=\"text-align: right;\">\n",
       "      <th></th>\n",
       "      <th>MONTO_COLOCADO</th>\n",
       "      <th>CLIENTE_BG</th>\n",
       "      <th>TIPO_APROBACION</th>\n",
       "      <th>CANAL</th>\n",
       "      <th>IVC</th>\n",
       "      <th>score_aceptacion</th>\n",
       "      <th>COLOCADO</th>\n",
       "    </tr>\n",
       "  </thead>\n",
       "  <tbody>\n",
       "    <tr>\n",
       "      <th>0</th>\n",
       "      <td>0.0</td>\n",
       "      <td>CLIENTE_TIPO2</td>\n",
       "      <td>TIPO1</td>\n",
       "      <td>ONLINE</td>\n",
       "      <td>0</td>\n",
       "      <td>306</td>\n",
       "      <td>0</td>\n",
       "    </tr>\n",
       "    <tr>\n",
       "      <th>1</th>\n",
       "      <td>0.0</td>\n",
       "      <td>CLIENTE_TIPO2</td>\n",
       "      <td>TIPO1</td>\n",
       "      <td>ONLINE</td>\n",
       "      <td>0</td>\n",
       "      <td>306</td>\n",
       "      <td>0</td>\n",
       "    </tr>\n",
       "    <tr>\n",
       "      <th>2</th>\n",
       "      <td>0.0</td>\n",
       "      <td>CLIENTE_TIPO2</td>\n",
       "      <td>TIPO1</td>\n",
       "      <td>ONLINE</td>\n",
       "      <td>0</td>\n",
       "      <td>449</td>\n",
       "      <td>0</td>\n",
       "    </tr>\n",
       "    <tr>\n",
       "      <th>3</th>\n",
       "      <td>0.0</td>\n",
       "      <td>CLIENTE_TIPO2</td>\n",
       "      <td>TIPO1</td>\n",
       "      <td>ONLINE</td>\n",
       "      <td>0</td>\n",
       "      <td>306</td>\n",
       "      <td>0</td>\n",
       "    </tr>\n",
       "    <tr>\n",
       "      <th>4</th>\n",
       "      <td>0.0</td>\n",
       "      <td>CLIENTE_TIPO2</td>\n",
       "      <td>TIPO1</td>\n",
       "      <td>ONLINE</td>\n",
       "      <td>0</td>\n",
       "      <td>306</td>\n",
       "      <td>0</td>\n",
       "    </tr>\n",
       "  </tbody>\n",
       "</table>\n",
       "</div>"
      ],
      "text/plain": [
       "   MONTO_COLOCADO     CLIENTE_BG TIPO_APROBACION   CANAL  IVC  \\\n",
       "0             0.0  CLIENTE_TIPO2           TIPO1  ONLINE    0   \n",
       "1             0.0  CLIENTE_TIPO2           TIPO1  ONLINE    0   \n",
       "2             0.0  CLIENTE_TIPO2           TIPO1  ONLINE    0   \n",
       "3             0.0  CLIENTE_TIPO2           TIPO1  ONLINE    0   \n",
       "4             0.0  CLIENTE_TIPO2           TIPO1  ONLINE    0   \n",
       "\n",
       "   score_aceptacion  COLOCADO  \n",
       "0               306         0  \n",
       "1               306         0  \n",
       "2               449         0  \n",
       "3               306         0  \n",
       "4               306         0  "
      ]
     },
     "execution_count": 178,
     "metadata": {},
     "output_type": "execute_result"
    }
   ],
   "source": [
    "df_colocado_filtered.head()"
   ]
  },
  {
=======
>>>>>>> a370929109f7601a0c01054445168fe7946a4cb4
   "cell_type": "markdown",
   "metadata": {},
   "source": [
    "# Codificacion de variables cateforicas"
   ]
  },
  {
   "cell_type": "code",
<<<<<<< HEAD
   "execution_count": 179,
=======
   "execution_count": null,
>>>>>>> a370929109f7601a0c01054445168fe7946a4cb4
   "metadata": {},
   "outputs": [],
   "source": [
    "#import pandas as pd\n",
    "#from sklearn.preprocessing import LabelEncoder\n",
    "\n",
    "## Codificación One-Hot Encoding para variables nominales\n",
    "#df_colocado = pd.get_dummies(df_colocado, columns=['SEGMENTO', 'REGION', 'TIPO_APROBACION', \n",
    "#                                                   'CANAL', 'SUB_PERFIL_RIESGOS', \n",
    "#                                                   'APROBACION_MES_ANTERIOR', 'PRODUCTO_MES_ANTERIOR'])\n",
    "#\n",
    "## Codificación Label Encoding para variables binarias\n",
    "#le = LabelEncoder()\n",
    "#df_colocado['CLIENTE_BG'] = le.fit_transform(df_colocado['CLIENTE_BG'])\n",
    "#df_colocado['CONTACTABILIDAD_TOTAL'] = le.fit_transform(df_colocado['CONTACTABILIDAD_TOTAL'])\n",
    "#\n",
    "## Eliminar columnas originales que se codificaron con get_dummies\n",
    "#df_colocado = df_colocado.drop(columns=['SEGMENTO', 'REGION', 'TIPO_APROBACION', \n",
    "#                                         'CANAL', 'SUB_PERFIL_RIESGOS', \n",
    "#                                         'APROBACION_MES_ANTERIOR', 'PRODUCTO_MES_ANTERIOR'])"
   ]
  },
  {
   "cell_type": "code",
<<<<<<< HEAD
   "execution_count": 180,
=======
   "execution_count": null,
>>>>>>> a370929109f7601a0c01054445168fe7946a4cb4
   "metadata": {},
   "outputs": [],
   "source": [
    "from sklearn.preprocessing import LabelEncoder\n",
    "\n",
    "# Codificación One-Hot Encoding para las variables categóricas\n",
<<<<<<< HEAD
    "df_colocado_filtered = pd.get_dummies(df_colocado_filtered, columns=['TIPO_APROBACION', 'CANAL'])\n",
    "\n",
    "# Codificación Label Encoding para las variables binarias\n",
    "le = LabelEncoder()\n",
    "df_colocado_filtered['CLIENTE_BG'] = le.fit_transform(df_colocado_filtered['CLIENTE_BG'])\n"
=======
    "df_colocado = pd.get_dummies(df_colocado, columns=['TIPO_APROBACION', 'CANAL'])\n",
    "\n",
    "# Codificación Label Encoding para las variables binarias\n",
    "le = LabelEncoder()\n",
    "df_colocado['CLIENTE_BG'] = le.fit_transform(df_colocado['CLIENTE_BG'])\n"
>>>>>>> a370929109f7601a0c01054445168fe7946a4cb4
   ]
  },
  {
   "cell_type": "code",
<<<<<<< HEAD
   "execution_count": 181,
   "metadata": {},
   "outputs": [
    {
     "data": {
      "text/html": [
       "<div>\n",
       "<style scoped>\n",
       "    .dataframe tbody tr th:only-of-type {\n",
       "        vertical-align: middle;\n",
       "    }\n",
       "\n",
       "    .dataframe tbody tr th {\n",
       "        vertical-align: top;\n",
       "    }\n",
       "\n",
       "    .dataframe thead th {\n",
       "        text-align: right;\n",
       "    }\n",
       "</style>\n",
       "<table border=\"1\" class=\"dataframe\">\n",
       "  <thead>\n",
       "    <tr style=\"text-align: right;\">\n",
       "      <th></th>\n",
       "      <th>MONTO_COLOCADO</th>\n",
       "      <th>CLIENTE_BG</th>\n",
       "      <th>IVC</th>\n",
       "      <th>score_aceptacion</th>\n",
       "      <th>COLOCADO</th>\n",
       "      <th>TIPO_APROBACION_TIPO1</th>\n",
       "      <th>TIPO_APROBACION_TIPO2</th>\n",
       "      <th>CANAL_ONLINE</th>\n",
       "      <th>CANAL_PRESENCIAL</th>\n",
       "    </tr>\n",
       "  </thead>\n",
       "  <tbody>\n",
       "    <tr>\n",
       "      <th>0</th>\n",
       "      <td>0.0</td>\n",
       "      <td>1</td>\n",
       "      <td>0</td>\n",
       "      <td>306</td>\n",
       "      <td>0</td>\n",
       "      <td>True</td>\n",
       "      <td>False</td>\n",
       "      <td>True</td>\n",
       "      <td>False</td>\n",
       "    </tr>\n",
       "    <tr>\n",
       "      <th>1</th>\n",
       "      <td>0.0</td>\n",
       "      <td>1</td>\n",
       "      <td>0</td>\n",
       "      <td>306</td>\n",
       "      <td>0</td>\n",
       "      <td>True</td>\n",
       "      <td>False</td>\n",
       "      <td>True</td>\n",
       "      <td>False</td>\n",
       "    </tr>\n",
       "    <tr>\n",
       "      <th>2</th>\n",
       "      <td>0.0</td>\n",
       "      <td>1</td>\n",
       "      <td>0</td>\n",
       "      <td>449</td>\n",
       "      <td>0</td>\n",
       "      <td>True</td>\n",
       "      <td>False</td>\n",
       "      <td>True</td>\n",
       "      <td>False</td>\n",
       "    </tr>\n",
       "    <tr>\n",
       "      <th>3</th>\n",
       "      <td>0.0</td>\n",
       "      <td>1</td>\n",
       "      <td>0</td>\n",
       "      <td>306</td>\n",
       "      <td>0</td>\n",
       "      <td>True</td>\n",
       "      <td>False</td>\n",
       "      <td>True</td>\n",
       "      <td>False</td>\n",
       "    </tr>\n",
       "    <tr>\n",
       "      <th>4</th>\n",
       "      <td>0.0</td>\n",
       "      <td>1</td>\n",
       "      <td>0</td>\n",
       "      <td>306</td>\n",
       "      <td>0</td>\n",
       "      <td>True</td>\n",
       "      <td>False</td>\n",
       "      <td>True</td>\n",
       "      <td>False</td>\n",
       "    </tr>\n",
       "  </tbody>\n",
       "</table>\n",
       "</div>"
      ],
      "text/plain": [
       "   MONTO_COLOCADO  CLIENTE_BG  IVC  score_aceptacion  COLOCADO  \\\n",
       "0             0.0           1    0               306         0   \n",
       "1             0.0           1    0               306         0   \n",
       "2             0.0           1    0               449         0   \n",
       "3             0.0           1    0               306         0   \n",
       "4             0.0           1    0               306         0   \n",
       "\n",
       "   TIPO_APROBACION_TIPO1  TIPO_APROBACION_TIPO2  CANAL_ONLINE  \\\n",
       "0                   True                  False          True   \n",
       "1                   True                  False          True   \n",
       "2                   True                  False          True   \n",
       "3                   True                  False          True   \n",
       "4                   True                  False          True   \n",
       "\n",
       "   CANAL_PRESENCIAL  \n",
       "0             False  \n",
       "1             False  \n",
       "2             False  \n",
       "3             False  \n",
       "4             False  "
      ]
     },
     "execution_count": 181,
     "metadata": {},
     "output_type": "execute_result"
    }
   ],
   "source": [
    "df_colocado_filtered.head()"
=======
   "execution_count": null,
   "metadata": {},
   "outputs": [],
   "source": [
    "df_colocado.head()"
>>>>>>> a370929109f7601a0c01054445168fe7946a4cb4
   ]
  },
  {
   "cell_type": "markdown",
   "metadata": {},
   "source": [
<<<<<<< HEAD
=======
    "Se utiliza para las variables categóricas que no tienen un orden inherente, es decir, las categorías no pueden ser ordenadas o clasificadas de forma natural como lo son ['SEGMENTO', 'REGION', 'TIPO_APROBACION', \n",
    "                                                   'CANAL', 'SUB_PERFIL_RIESGOS', \n",
    "                                                   'APROBACION_MES_ANTERIOR', 'PRODUCTO_MES_ANTERIOR']"
   ]
  },
  {
   "cell_type": "code",
   "execution_count": null,
   "metadata": {},
   "outputs": [],
   "source": [
>>>>>>> a370929109f7601a0c01054445168fe7946a4cb4
    "El Label Encoding convierte las categorías en valores numéricos (0 o 1). Dado que estas variables tienen solo dos categorías posibles, la codificación de estas categorías numéricas no introduce un orden que el modelo no pueda interpretar"
   ]
  },
  {
   "cell_type": "markdown",
   "metadata": {},
   "source": [
    "# separar dataset "
   ]
  },
  {
   "cell_type": "code",
<<<<<<< HEAD
   "execution_count": 182,
=======
   "execution_count": null,
>>>>>>> a370929109f7601a0c01054445168fe7946a4cb4
   "metadata": {},
   "outputs": [],
   "source": [
    "# eliminamos la variable identificacion y la variable producto porque tiene un solo valor por lo cual no nos va aportar a nuestro model\n",
    "# df_colocado.drop(columns=['COLOCADO'])"
   ]
  },
  {
   "cell_type": "code",
<<<<<<< HEAD
   "execution_count": 183,
=======
   "execution_count": null,
>>>>>>> a370929109f7601a0c01054445168fe7946a4cb4
   "metadata": {},
   "outputs": [],
   "source": [
    "# Importar las librerías necesarias\n",
    "from imblearn.under_sampling import RandomUnderSampler\n",
    "from sklearn.model_selection import train_test_split\n"
   ]
  },
  {
   "cell_type": "code",
<<<<<<< HEAD
   "execution_count": 184,
=======
   "execution_count": null,
>>>>>>> a370929109f7601a0c01054445168fe7946a4cb4
   "metadata": {},
   "outputs": [],
   "source": [
    "# eliminamos la variable identificacion y la variable producto porque tiene un solo valor por lo cual no nos va aportar a nuestro modelo\n",
<<<<<<< HEAD
    "X = df_colocado_filtered.drop(columns=['COLOCADO'])  \n",
=======
    "X = df_colocado.drop(columns=['COLOCADO',\"PERIODO_COMERCIAL\",\"PRODUCTO\",\"FECHA_CARGA\",\"FECHA_VIGENCIA\",\"fecha_liquidacion\"])  \n",
>>>>>>> a370929109f7601a0c01054445168fe7946a4cb4
    "y = df_colocado['COLOCADO']  # Etiqueta (clase)\n",
    "\n",
    "# Dividir los datos en entrenamiento y prueba (opcional, pero recomendado)\n",
    "X_train, X_test, y_train, y_test = train_test_split(X, y, test_size=0.2, random_state=42)"
   ]
  },
  {
   "cell_type": "code",
<<<<<<< HEAD
   "execution_count": 185,
   "metadata": {},
   "outputs": [
    {
     "name": "stdout",
     "output_type": "stream",
     "text": [
      "train x size :  (4142564, 8)\n",
      "test x size :  (1035642, 8)\n",
      "train y size :  (4142564,)\n",
      "test y size :  (1035642,)\n"
     ]
    }
   ],
   "source": [
    "print(\"train x size : \", X_train.shape)\n",
    "print(\"test x size : \", X_test.shape)\n",
    "print(\"train y size : \", y_train.shape)\n",
    "print(\"test y size : \", y_test.shape)"
=======
   "execution_count": null,
   "metadata": {},
   "outputs": [],
   "source": [
    "X_train.head()"
>>>>>>> a370929109f7601a0c01054445168fe7946a4cb4
   ]
  },
  {
   "cell_type": "markdown",
   "metadata": {},
   "source": [
    "Tratamiento el desbalance de las clases "
   ]
  },
  {
   "cell_type": "code",
<<<<<<< HEAD
   "execution_count": 188,
   "metadata": {},
   "outputs": [
    {
     "data": {
      "text/plain": [
       "COLOCADO\n",
       "0    5115038\n",
       "1      63168\n",
       "Name: count, dtype: int64"
      ]
     },
     "execution_count": 188,
     "metadata": {},
     "output_type": "execute_result"
    }
   ],
=======
   "execution_count": null,
   "metadata": {},
   "outputs": [],
>>>>>>> a370929109f7601a0c01054445168fe7946a4cb4
   "source": [
    "value_counts = df_colocado['COLOCADO'].value_counts()\n",
    "value_counts"
   ]
  },
  {
   "cell_type": "markdown",
   "metadata": {},
   "source": [
    "como tenemos un balance significativo queremos aplicar tecnicas de remuestreo para que la cantidad de valores para cada variables sean iguales y no cree ningun sesgo en el modelo "
   ]
  },
  {
   "cell_type": "code",
<<<<<<< HEAD
   "execution_count": 189,
   "metadata": {},
   "outputs": [
    {
     "name": "stdout",
     "output_type": "stream",
     "text": [
      "Distribución original de clases en y_train: COLOCADO\n",
      "0    4091962\n",
      "1      50602\n",
      "Name: count, dtype: int64\n",
      "Distribución de clases después de submuestreo: COLOCADO\n",
      "0    50602\n",
      "1    50602\n",
      "Name: count, dtype: int64\n"
     ]
    }
   ],
=======
   "execution_count": null,
   "metadata": {},
   "outputs": [],
>>>>>>> a370929109f7601a0c01054445168fe7946a4cb4
   "source": [
    "# Inicializar el RandomUnderSampler\n",
    "rus = RandomUnderSampler(random_state=42)\n",
    "\n",
    "# Aplicar el submuestreo a los datos de entrenamiento\n",
    "X_resampled, y_resampled = rus.fit_resample(X_train, y_train)\n",
    "\n",
    "# Verificar las clases balanceadas\n",
    "print(f\"Distribución original de clases en y_train: {y_train.value_counts()}\")\n",
    "print(f\"Distribución de clases después de submuestreo: {y_resampled.value_counts()}\")\n"
   ]
  },
  {
   "cell_type": "markdown",
   "metadata": {},
   "source": [
    "## Random fores classifier "
   ]
  },
  {
   "cell_type": "code",
<<<<<<< HEAD
   "execution_count": 192,
=======
   "execution_count": null,
>>>>>>> a370929109f7601a0c01054445168fe7946a4cb4
   "metadata": {},
   "outputs": [],
   "source": [
    "from sklearn.ensemble import RandomForestClassifier\n",
    "from sklearn.metrics import roc_auc_score\n"
   ]
  },
  {
   "cell_type": "code",
<<<<<<< HEAD
   "execution_count": 193,
=======
   "execution_count": null,
>>>>>>> a370929109f7601a0c01054445168fe7946a4cb4
   "metadata": {},
   "outputs": [],
   "source": [
    "scores = []\n",
    "\n",
    "for d in [5, 10, 15]:\n",
    "    for n in range(10, 201, 10):\n",
    "        rf = RandomForestClassifier(n_estimators=n,\n",
    "                                    max_depth=d,\n",
    "                                    random_state=1)\n",
<<<<<<< HEAD
    "        rf.fit(X_resampled, y_resampled)\n",
=======
    "        rf.fit(X_train, y_train)\n",
>>>>>>> a370929109f7601a0c01054445168fe7946a4cb4
    "\n",
    "        y_pred = rf.predict_proba(X_test)[:, 1]\n",
    "        auc = roc_auc_score(y_test, y_pred)\n",
    "\n",
    "        scores.append((d, n, auc))"
   ]
  },
  {
   "cell_type": "code",
<<<<<<< HEAD
   "execution_count": 194,
=======
   "execution_count": null,
>>>>>>> a370929109f7601a0c01054445168fe7946a4cb4
   "metadata": {},
   "outputs": [],
   "source": [
    "columns = ['max_depth', 'n_estimators', 'auc']\n",
    "df_scores = pd.DataFrame(scores, columns=columns)"
   ]
  },
  {
   "cell_type": "code",
<<<<<<< HEAD
   "execution_count": 195,
   "metadata": {},
   "outputs": [
    {
     "data": {
      "text/plain": [
       "<matplotlib.legend.Legend at 0x25c0395b890>"
      ]
     },
     "execution_count": 195,
     "metadata": {},
     "output_type": "execute_result"
    },
    {
     "data": {
      "image/png": "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",
      "text/plain": [
       "<Figure size 640x480 with 1 Axes>"
      ]
     },
     "metadata": {},
     "output_type": "display_data"
    }
   ],
=======
   "execution_count": null,
   "metadata": {},
   "outputs": [],
>>>>>>> a370929109f7601a0c01054445168fe7946a4cb4
   "source": [
    "for d in [5, 10, 15]:\n",
    "    df_subset = df_scores[df_scores.max_depth == d]\n",
    "    \n",
    "    plt.plot(df_subset.n_estimators, df_subset.auc,\n",
    "             label='max_depth=%d' % d)\n",
    "\n",
    "plt.legend()"
   ]
  },
  {
   "cell_type": "code",
<<<<<<< HEAD
   "execution_count": 196,
=======
   "execution_count": null,
>>>>>>> a370929109f7601a0c01054445168fe7946a4cb4
   "metadata": {},
   "outputs": [],
   "source": [
    "max_depth = 10"
   ]
  },
  {
   "cell_type": "code",
<<<<<<< HEAD
   "execution_count": 197,
=======
   "execution_count": null,
>>>>>>> a370929109f7601a0c01054445168fe7946a4cb4
   "metadata": {},
   "outputs": [],
   "source": [
    "scores = []\n",
    "\n",
    "for s in [1, 3, 5, 10, 50]:\n",
    "    for n in range(10, 201, 10):\n",
    "        rf = RandomForestClassifier(n_estimators=n,\n",
    "                                    max_depth=max_depth,\n",
    "                                    min_samples_leaf=s,\n",
    "                                    random_state=1)\n",
<<<<<<< HEAD
    "        rf.fit(X_resampled, y_resampled)\n",
=======
    "        rf.fit(X_train, y_train)\n",
>>>>>>> a370929109f7601a0c01054445168fe7946a4cb4
    "\n",
    "        y_pred = rf.predict_proba(X_test)[:, 1]\n",
    "        auc = roc_auc_score(y_test, y_pred)\n",
    "\n",
    "        scores.append((s, n, auc))"
   ]
  },
  {
   "cell_type": "code",
<<<<<<< HEAD
   "execution_count": 198,
=======
   "execution_count": null,
>>>>>>> a370929109f7601a0c01054445168fe7946a4cb4
   "metadata": {},
   "outputs": [],
   "source": [
    "columns = ['min_samples_leaf', 'n_estimators', 'auc']\n",
    "df_scores = pd.DataFrame(scores, columns=columns)"
   ]
  },
  {
   "cell_type": "code",
<<<<<<< HEAD
   "execution_count": 199,
   "metadata": {},
   "outputs": [
    {
     "data": {
      "text/plain": [
       "<matplotlib.legend.Legend at 0x25c0396c710>"
      ]
     },
     "execution_count": 199,
     "metadata": {},
     "output_type": "execute_result"
    },
    {
     "data": {
      "image/png": "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",
      "text/plain": [
       "<Figure size 640x480 with 1 Axes>"
      ]
     },
     "metadata": {},
     "output_type": "display_data"
    }
   ],
=======
   "execution_count": null,
   "metadata": {},
   "outputs": [],
>>>>>>> a370929109f7601a0c01054445168fe7946a4cb4
   "source": [
    "colors = ['black', 'blue', 'orange', 'red', 'grey']\n",
    "values = [1, 3, 5, 10, 50]\n",
    "\n",
    "for s, col in zip(values, colors):\n",
    "    df_subset = df_scores[df_scores.min_samples_leaf == s]\n",
    "    \n",
    "    plt.plot(df_subset.n_estimators, df_subset.auc,\n",
    "             color=col,\n",
    "             label='min_samples_leaf=%d' % s)\n",
    "\n",
    "plt.legend()"
   ]
<<<<<<< HEAD
  },
  {
   "cell_type": "markdown",
   "metadata": {},
   "source": [
    "## XGboost classifier"
   ]
  },
  {
   "cell_type": "code",
   "execution_count": null,
   "metadata": {},
   "outputs": [],
   "source": [
    "import xgboost as xgb"
   ]
  },
  {
   "cell_type": "code",
   "execution_count": null,
   "metadata": {},
   "outputs": [],
   "source": [
    "# Preparación de los datos\n",
    "dtrain = xgb.DMatrix(X_train, label=y_train)  # Datos de entrenamiento\n",
    "dval = xgb.DMatrix(X_test, label=y_test)        # Datos de validación\n",
    "\n",
    "# Preparar la lista de evaluación\n",
    "watchlist = [(dtrain, 'train'), (dval, 'eval')]\n"
   ]
  },
  {
   "cell_type": "code",
   "execution_count": null,
   "metadata": {},
   "outputs": [],
   "source": [
    "# Diccionario para almacenar los resultados\n",
    "scores = {}\n",
    "\n",
    "# Parámetros de XGBoost\n",
    "xgb_params = {\n",
    "    'eta': 0.1, \n",
    "    'max_depth': 6,\n",
    "    'min_child_weight': 1,\n",
    "    'objective': 'binary:logistic',\n",
    "    'eval_metric': 'auc',\n",
    "    'nthread': 8,\n",
    "    'seed': 1,\n",
    "    'verbosity': 1,\n",
    "}\n",
    "\n",
    "# Entrenamiento del modelo\n",
    "%%capture output\n",
    "model = xgb.train(xgb_params, dtrain, num_boost_round=200,\n",
    "                  verbose_eval=5,\n",
    "                  evals=watchlist)"
   ]
  },
  {
   "cell_type": "code",
   "execution_count": null,
   "metadata": {},
   "outputs": [],
   "source": [
    "# Guardar los resultados\n",
    "key = 'eta=%s' % (xgb_params['eta'])\n",
    "scores[key] = parse_xgb_output(output)  # Aquí necesitas una función que procese el output\n",
    "key\n",
    "\n",
    "# Graficar los resultados\n",
    "for eta, df_score in scores.items():\n",
    "    plt.plot(df_score.num_iter, df_score.val_auc, label=eta)\n",
    "\n",
    "plt.ylim(0.8, 0.84)\n",
    "plt.legend()"
   ]
  },
  {
   "cell_type": "code",
   "execution_count": null,
   "metadata": {},
   "outputs": [],
   "source": [
    "\n",
    "# Cambiar el valor de 'max_depth' y hacer el entrenamiento\n",
    "xgb_params['max_depth'] = 10\n",
    "model = xgb.train(xgb_params, dtrain, num_boost_round=200,\n",
    "                  verbose_eval=5,\n",
    "                  evals=watchlist)\n",
    "\n",
    "key = 'max_depth=%s' % (xgb_params['max_depth'])\n",
    "scores[key] = parse_xgb_output(output)  # Aquí necesitas procesar el output\n",
    "del scores['max_depth=10']  # Borrar un conjunto específico si es necesario\n"
   ]
  },
  {
   "cell_type": "code",
   "execution_count": null,
   "metadata": {},
   "outputs": [],
   "source": [
    "# Graficar los resultados para max_depth\n",
    "for max_depth, df_score in scores.items():\n",
    "    plt.plot(df_score.num_iter, df_score.val_auc, label=max_depth)\n",
    "\n",
    "plt.ylim(0.8, 0.84)\n",
    "plt.legend()"
   ]
  },
  {
   "cell_type": "code",
   "execution_count": null,
   "metadata": {},
   "outputs": [],
   "source": [
    "# Ajustar para min_child_weight y repetir el proceso de entrenamiento y graficado\n",
    "xgb_params['min_child_weight'] = 30\n",
    "model = xgb.train(xgb_params, dtrain, num_boost_round=200,\n",
    "                  verbose_eval=5,\n",
    "                  evals=watchlist)\n",
    "\n",
    "key = 'min_child_weight=%s' % (xgb_params['min_child_weight'])\n",
    "scores[key] = parse_xgb_output(output)\n",
    "for min_child_weight, df_score in scores.items():\n",
    "    plt.plot(df_score.num_iter, df_score.val_auc, label=min_child_weight)\n",
    "\n",
    "plt.ylim(0.82, 0.84)\n",
    "plt.legend()\n",
    "\n",
    "plt.show()"
   ]
=======
>>>>>>> a370929109f7601a0c01054445168fe7946a4cb4
  }
 ],
 "metadata": {
  "kernelspec": {
<<<<<<< HEAD
   "display_name": "colocacion_de_creditos",
=======
   "display_name": "Python 3 (ipykernel)",
>>>>>>> a370929109f7601a0c01054445168fe7946a4cb4
   "language": "python",
   "name": "python3"
  },
  "language_info": {
   "codemirror_mode": {
    "name": "ipython",
    "version": 3
   },
   "file_extension": ".py",
   "mimetype": "text/x-python",
   "name": "python",
   "nbconvert_exporter": "python",
   "pygments_lexer": "ipython3",
   "version": "3.11.11"
  }
 },
 "nbformat": 4,
<<<<<<< HEAD
 "nbformat_minor": 2
=======
 "nbformat_minor": 4
>>>>>>> a370929109f7601a0c01054445168fe7946a4cb4
}
