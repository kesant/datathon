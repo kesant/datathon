{
 "cells": [
  {
   "cell_type": "code",
   "execution_count": 2,
   "metadata": {},
   "outputs": [],
   "source": [
    "import pandas as pd \n",
    "import numpy as np\n",
    "import matplotlib.pyplot as plt\n",
    "import seaborn as sns"
   ]
  },
  {
   "cell_type": "code",
   "execution_count": 3,
   "metadata": {},
   "outputs": [],
   "source": [
    "from colocacion_de_creditos.utils.paths import data_dir"
   ]
  },
  {
   "cell_type": "code",
   "execution_count": 4,
   "metadata": {},
   "outputs": [],
   "source": [
    "df_colocado=pd.read_parquet(data_dir(\"interim\", \"datos_colocacion_limpios.parquet\"))"
   ]
  },
  {
   "cell_type": "code",
   "execution_count": 5,
   "metadata": {},
   "outputs": [
    {
     "data": {
      "text/html": [
       "<div>\n",
       "<style scoped>\n",
       "    .dataframe tbody tr th:only-of-type {\n",
       "        vertical-align: middle;\n",
       "    }\n",
       "\n",
       "    .dataframe tbody tr th {\n",
       "        vertical-align: top;\n",
       "    }\n",
       "\n",
       "    .dataframe thead th {\n",
       "        text-align: right;\n",
       "    }\n",
       "</style>\n",
       "<table border=\"1\" class=\"dataframe\">\n",
       "  <thead>\n",
       "    <tr style=\"text-align: right;\">\n",
       "      <th></th>\n",
       "      <th>IDENTIFICACION</th>\n",
       "      <th>PRODUCTO</th>\n",
       "      <th>PERIODO_COMERCIAL</th>\n",
       "      <th>SEGMENTO</th>\n",
       "      <th>FECHA_CARGA</th>\n",
       "      <th>FECHA_VIGENCIA</th>\n",
       "      <th>REGION</th>\n",
       "      <th>N_VECES_CAMPAÑA</th>\n",
       "      <th>N_VECES_CAMPAÑA_CONT</th>\n",
       "      <th>TIPO_APROBACION</th>\n",
       "      <th>...</th>\n",
       "      <th>score_aceptacion</th>\n",
       "      <th>SUB_PERFIL_RIESGOS</th>\n",
       "      <th>SCORE</th>\n",
       "      <th>CUPO</th>\n",
       "      <th>APROBACION_MES_ANTERIOR</th>\n",
       "      <th>PRODUCTO_MES_ANTERIOR</th>\n",
       "      <th>CONTACTABILIDAD_TOTAL</th>\n",
       "      <th>COLOCADO</th>\n",
       "      <th>fecha_liquidacion</th>\n",
       "      <th>MONTO_COLOCADO</th>\n",
       "    </tr>\n",
       "  </thead>\n",
       "  <tbody>\n",
       "    <tr>\n",
       "      <th>0</th>\n",
       "      <td>0000001</td>\n",
       "      <td>Producto1</td>\n",
       "      <td>2024-01-01</td>\n",
       "      <td>SEGMENTO1</td>\n",
       "      <td>2024-02-08</td>\n",
       "      <td>2024-02-08</td>\n",
       "      <td>SUR</td>\n",
       "      <td>16</td>\n",
       "      <td>5</td>\n",
       "      <td>TIPO1</td>\n",
       "      <td>...</td>\n",
       "      <td>306</td>\n",
       "      <td>PERFIL2</td>\n",
       "      <td>979</td>\n",
       "      <td>9882.41</td>\n",
       "      <td>TIPO1</td>\n",
       "      <td>Producto1</td>\n",
       "      <td>AC</td>\n",
       "      <td>0</td>\n",
       "      <td>Ninguno</td>\n",
       "      <td>0.0</td>\n",
       "    </tr>\n",
       "    <tr>\n",
       "      <th>1</th>\n",
       "      <td>0000001</td>\n",
       "      <td>Producto1</td>\n",
       "      <td>2024-02-01</td>\n",
       "      <td>SEGMENTO1</td>\n",
       "      <td>2024-03-10</td>\n",
       "      <td>2024-03-10</td>\n",
       "      <td>SUR</td>\n",
       "      <td>17</td>\n",
       "      <td>6</td>\n",
       "      <td>TIPO1</td>\n",
       "      <td>...</td>\n",
       "      <td>306</td>\n",
       "      <td>PERFIL2</td>\n",
       "      <td>969</td>\n",
       "      <td>9882.41</td>\n",
       "      <td>TIPO1</td>\n",
       "      <td>Producto1</td>\n",
       "      <td>AC</td>\n",
       "      <td>0</td>\n",
       "      <td>Ninguno</td>\n",
       "      <td>0.0</td>\n",
       "    </tr>\n",
       "    <tr>\n",
       "      <th>2</th>\n",
       "      <td>0000001</td>\n",
       "      <td>Producto1</td>\n",
       "      <td>2024-03-01</td>\n",
       "      <td>SEGMENTO1</td>\n",
       "      <td>2024-04-08</td>\n",
       "      <td>2024-04-08</td>\n",
       "      <td>SUR</td>\n",
       "      <td>18</td>\n",
       "      <td>7</td>\n",
       "      <td>TIPO1</td>\n",
       "      <td>...</td>\n",
       "      <td>449</td>\n",
       "      <td>PERFIL2</td>\n",
       "      <td>969</td>\n",
       "      <td>9882.41</td>\n",
       "      <td>TIPO1</td>\n",
       "      <td>Producto1</td>\n",
       "      <td>AC</td>\n",
       "      <td>0</td>\n",
       "      <td>Ninguno</td>\n",
       "      <td>0.0</td>\n",
       "    </tr>\n",
       "    <tr>\n",
       "      <th>3</th>\n",
       "      <td>0000001</td>\n",
       "      <td>Producto1</td>\n",
       "      <td>2024-04-01</td>\n",
       "      <td>SEGMENTO1</td>\n",
       "      <td>2024-05-10</td>\n",
       "      <td>2024-05-10</td>\n",
       "      <td>SUR</td>\n",
       "      <td>19</td>\n",
       "      <td>8</td>\n",
       "      <td>TIPO1</td>\n",
       "      <td>...</td>\n",
       "      <td>306</td>\n",
       "      <td>PERFIL2</td>\n",
       "      <td>969</td>\n",
       "      <td>9336.83</td>\n",
       "      <td>TIPO1</td>\n",
       "      <td>Producto1</td>\n",
       "      <td>AC</td>\n",
       "      <td>0</td>\n",
       "      <td>Ninguno</td>\n",
       "      <td>0.0</td>\n",
       "    </tr>\n",
       "    <tr>\n",
       "      <th>4</th>\n",
       "      <td>0000001</td>\n",
       "      <td>Producto1</td>\n",
       "      <td>2024-05-01</td>\n",
       "      <td>SEGMENTO1</td>\n",
       "      <td>2024-06-11</td>\n",
       "      <td>2024-06-11</td>\n",
       "      <td>SUR</td>\n",
       "      <td>20</td>\n",
       "      <td>9</td>\n",
       "      <td>TIPO1</td>\n",
       "      <td>...</td>\n",
       "      <td>306</td>\n",
       "      <td>PERFIL2</td>\n",
       "      <td>969</td>\n",
       "      <td>8830.22</td>\n",
       "      <td>TIPO1</td>\n",
       "      <td>Producto1</td>\n",
       "      <td>AC</td>\n",
       "      <td>0</td>\n",
       "      <td>Ninguno</td>\n",
       "      <td>0.0</td>\n",
       "    </tr>\n",
       "  </tbody>\n",
       "</table>\n",
       "<p>5 rows × 23 columns</p>\n",
       "</div>"
      ],
      "text/plain": [
       "  IDENTIFICACION   PRODUCTO PERIODO_COMERCIAL   SEGMENTO FECHA_CARGA  \\\n",
       "0        0000001  Producto1        2024-01-01  SEGMENTO1  2024-02-08   \n",
       "1        0000001  Producto1        2024-02-01  SEGMENTO1  2024-03-10   \n",
       "2        0000001  Producto1        2024-03-01  SEGMENTO1  2024-04-08   \n",
       "3        0000001  Producto1        2024-04-01  SEGMENTO1  2024-05-10   \n",
       "4        0000001  Producto1        2024-05-01  SEGMENTO1  2024-06-11   \n",
       "\n",
       "  FECHA_VIGENCIA REGION  N_VECES_CAMPAÑA  N_VECES_CAMPAÑA_CONT  \\\n",
       "0     2024-02-08    SUR               16                     5   \n",
       "1     2024-03-10    SUR               17                     6   \n",
       "2     2024-04-08    SUR               18                     7   \n",
       "3     2024-05-10    SUR               19                     8   \n",
       "4     2024-06-11    SUR               20                     9   \n",
       "\n",
       "  TIPO_APROBACION  ... score_aceptacion SUB_PERFIL_RIESGOS  SCORE     CUPO  \\\n",
       "0           TIPO1  ...              306            PERFIL2    979  9882.41   \n",
       "1           TIPO1  ...              306            PERFIL2    969  9882.41   \n",
       "2           TIPO1  ...              449            PERFIL2    969  9882.41   \n",
       "3           TIPO1  ...              306            PERFIL2    969  9336.83   \n",
       "4           TIPO1  ...              306            PERFIL2    969  8830.22   \n",
       "\n",
       "  APROBACION_MES_ANTERIOR  PRODUCTO_MES_ANTERIOR  CONTACTABILIDAD_TOTAL  \\\n",
       "0                   TIPO1              Producto1                     AC   \n",
       "1                   TIPO1              Producto1                     AC   \n",
       "2                   TIPO1              Producto1                     AC   \n",
       "3                   TIPO1              Producto1                     AC   \n",
       "4                   TIPO1              Producto1                     AC   \n",
       "\n",
       "  COLOCADO fecha_liquidacion MONTO_COLOCADO  \n",
       "0        0           Ninguno            0.0  \n",
       "1        0           Ninguno            0.0  \n",
       "2        0           Ninguno            0.0  \n",
       "3        0           Ninguno            0.0  \n",
       "4        0           Ninguno            0.0  \n",
       "\n",
       "[5 rows x 23 columns]"
      ]
     },
     "execution_count": 5,
     "metadata": {},
     "output_type": "execute_result"
    }
   ],
   "source": [
    "df_colocado.head()"
   ]
  },
  {
   "cell_type": "code",
   "execution_count": 6,
   "metadata": {},
   "outputs": [
    {
     "data": {
      "text/html": [
       "<div>\n",
       "<style scoped>\n",
       "    .dataframe tbody tr th:only-of-type {\n",
       "        vertical-align: middle;\n",
       "    }\n",
       "\n",
       "    .dataframe tbody tr th {\n",
       "        vertical-align: top;\n",
       "    }\n",
       "\n",
       "    .dataframe thead th {\n",
       "        text-align: right;\n",
       "    }\n",
       "</style>\n",
       "<table border=\"1\" class=\"dataframe\">\n",
       "  <thead>\n",
       "    <tr style=\"text-align: right;\">\n",
       "      <th></th>\n",
       "      <th>PERIODO_COMERCIAL</th>\n",
       "      <th>FECHA_CARGA</th>\n",
       "      <th>N_VECES_CAMPAÑA</th>\n",
       "      <th>N_VECES_CAMPAÑA_CONT</th>\n",
       "      <th>IVC</th>\n",
       "      <th>score_aceptacion</th>\n",
       "      <th>SCORE</th>\n",
       "      <th>CUPO</th>\n",
       "      <th>COLOCADO</th>\n",
       "      <th>MONTO_COLOCADO</th>\n",
       "    </tr>\n",
       "  </thead>\n",
       "  <tbody>\n",
       "    <tr>\n",
       "      <th>count</th>\n",
       "      <td>5178206</td>\n",
       "      <td>5178206</td>\n",
       "      <td>5.178206e+06</td>\n",
       "      <td>5.178206e+06</td>\n",
       "      <td>5.178206e+06</td>\n",
       "      <td>5.178206e+06</td>\n",
       "      <td>5.178206e+06</td>\n",
       "      <td>5.178206e+06</td>\n",
       "      <td>5.178206e+06</td>\n",
       "      <td>5.178206e+06</td>\n",
       "    </tr>\n",
       "    <tr>\n",
       "      <th>mean</th>\n",
       "      <td>2024-05-19 07:52:08.712146688</td>\n",
       "      <td>2024-06-30 18:37:20.245522688</td>\n",
       "      <td>1.714739e+01</td>\n",
       "      <td>4.224367e+00</td>\n",
       "      <td>8.740660e-01</td>\n",
       "      <td>5.549038e+02</td>\n",
       "      <td>9.581922e+02</td>\n",
       "      <td>3.472878e+03</td>\n",
       "      <td>1.219882e-02</td>\n",
       "      <td>4.018796e+01</td>\n",
       "    </tr>\n",
       "    <tr>\n",
       "      <th>min</th>\n",
       "      <td>2024-01-01 00:00:00</td>\n",
       "      <td>2024-02-08 00:00:00</td>\n",
       "      <td>0.000000e+00</td>\n",
       "      <td>0.000000e+00</td>\n",
       "      <td>0.000000e+00</td>\n",
       "      <td>3.400000e+01</td>\n",
       "      <td>7.000000e+02</td>\n",
       "      <td>8.024000e+02</td>\n",
       "      <td>0.000000e+00</td>\n",
       "      <td>0.000000e+00</td>\n",
       "    </tr>\n",
       "    <tr>\n",
       "      <th>25%</th>\n",
       "      <td>2024-03-01 00:00:00</td>\n",
       "      <td>2024-04-08 00:00:00</td>\n",
       "      <td>1.000000e+01</td>\n",
       "      <td>1.000000e+00</td>\n",
       "      <td>0.000000e+00</td>\n",
       "      <td>3.540000e+02</td>\n",
       "      <td>9.470000e+02</td>\n",
       "      <td>8.024000e+02</td>\n",
       "      <td>0.000000e+00</td>\n",
       "      <td>0.000000e+00</td>\n",
       "    </tr>\n",
       "    <tr>\n",
       "      <th>50%</th>\n",
       "      <td>2024-06-01 00:00:00</td>\n",
       "      <td>2024-07-12 00:00:00</td>\n",
       "      <td>1.700000e+01</td>\n",
       "      <td>3.000000e+00</td>\n",
       "      <td>0.000000e+00</td>\n",
       "      <td>5.420000e+02</td>\n",
       "      <td>9.700000e+02</td>\n",
       "      <td>2.750900e+03</td>\n",
       "      <td>0.000000e+00</td>\n",
       "      <td>0.000000e+00</td>\n",
       "    </tr>\n",
       "    <tr>\n",
       "      <th>75%</th>\n",
       "      <td>2024-08-01 00:00:00</td>\n",
       "      <td>2024-09-13 00:00:00</td>\n",
       "      <td>2.400000e+01</td>\n",
       "      <td>7.000000e+00</td>\n",
       "      <td>2.000000e+00</td>\n",
       "      <td>7.840000e+02</td>\n",
       "      <td>9.820000e+02</td>\n",
       "      <td>4.465580e+03</td>\n",
       "      <td>0.000000e+00</td>\n",
       "      <td>0.000000e+00</td>\n",
       "    </tr>\n",
       "    <tr>\n",
       "      <th>max</th>\n",
       "      <td>2024-10-01 00:00:00</td>\n",
       "      <td>2024-11-17 00:00:00</td>\n",
       "      <td>5.800000e+01</td>\n",
       "      <td>3.500000e+01</td>\n",
       "      <td>8.000000e+00</td>\n",
       "      <td>9.760000e+02</td>\n",
       "      <td>9.940000e+02</td>\n",
       "      <td>2.925050e+04</td>\n",
       "      <td>1.000000e+00</td>\n",
       "      <td>9.744800e+04</td>\n",
       "    </tr>\n",
       "    <tr>\n",
       "      <th>std</th>\n",
       "      <td>NaN</td>\n",
       "      <td>NaN</td>\n",
       "      <td>9.460086e+00</td>\n",
       "      <td>3.821526e+00</td>\n",
       "      <td>1.295362e+00</td>\n",
       "      <td>2.373318e+02</td>\n",
       "      <td>3.645655e+01</td>\n",
       "      <td>3.755199e+03</td>\n",
       "      <td>1.097725e-01</td>\n",
       "      <td>4.910872e+02</td>\n",
       "    </tr>\n",
       "  </tbody>\n",
       "</table>\n",
       "</div>"
      ],
      "text/plain": [
       "                   PERIODO_COMERCIAL                    FECHA_CARGA  \\\n",
       "count                        5178206                        5178206   \n",
       "mean   2024-05-19 07:52:08.712146688  2024-06-30 18:37:20.245522688   \n",
       "min              2024-01-01 00:00:00            2024-02-08 00:00:00   \n",
       "25%              2024-03-01 00:00:00            2024-04-08 00:00:00   \n",
       "50%              2024-06-01 00:00:00            2024-07-12 00:00:00   \n",
       "75%              2024-08-01 00:00:00            2024-09-13 00:00:00   \n",
       "max              2024-10-01 00:00:00            2024-11-17 00:00:00   \n",
       "std                              NaN                            NaN   \n",
       "\n",
       "       N_VECES_CAMPAÑA  N_VECES_CAMPAÑA_CONT           IVC  score_aceptacion  \\\n",
       "count     5.178206e+06          5.178206e+06  5.178206e+06      5.178206e+06   \n",
       "mean      1.714739e+01          4.224367e+00  8.740660e-01      5.549038e+02   \n",
       "min       0.000000e+00          0.000000e+00  0.000000e+00      3.400000e+01   \n",
       "25%       1.000000e+01          1.000000e+00  0.000000e+00      3.540000e+02   \n",
       "50%       1.700000e+01          3.000000e+00  0.000000e+00      5.420000e+02   \n",
       "75%       2.400000e+01          7.000000e+00  2.000000e+00      7.840000e+02   \n",
       "max       5.800000e+01          3.500000e+01  8.000000e+00      9.760000e+02   \n",
       "std       9.460086e+00          3.821526e+00  1.295362e+00      2.373318e+02   \n",
       "\n",
       "              SCORE          CUPO      COLOCADO  MONTO_COLOCADO  \n",
       "count  5.178206e+06  5.178206e+06  5.178206e+06    5.178206e+06  \n",
       "mean   9.581922e+02  3.472878e+03  1.219882e-02    4.018796e+01  \n",
       "min    7.000000e+02  8.024000e+02  0.000000e+00    0.000000e+00  \n",
       "25%    9.470000e+02  8.024000e+02  0.000000e+00    0.000000e+00  \n",
       "50%    9.700000e+02  2.750900e+03  0.000000e+00    0.000000e+00  \n",
       "75%    9.820000e+02  4.465580e+03  0.000000e+00    0.000000e+00  \n",
       "max    9.940000e+02  2.925050e+04  1.000000e+00    9.744800e+04  \n",
       "std    3.645655e+01  3.755199e+03  1.097725e-01    4.910872e+02  "
      ]
     },
     "execution_count": 6,
     "metadata": {},
     "output_type": "execute_result"
    }
   ],
   "source": [
    "df_colocado.describe()"
   ]
  },
  {
   "cell_type": "code",
   "execution_count": 8,
   "metadata": {},
   "outputs": [
    {
     "data": {
      "image/png": "[encoded data removed]",
      "text/plain": [
       "<Figure size 700x700 with 1 Axes>"
      ]
     },
     "metadata": {},
     "output_type": "display_data"
    }
   ],
   "source": [
    "# Contamos los valores en la columna 'COLOCADO'\n",
    "value_counts = df_colocado['COLOCADO'].value_counts()\n",
    "\n",
    "# Crear gráfico de pastel\n",
    "plt.figure(figsize=(7, 7))\n",
    "plt.pie(value_counts, labels=['Colocado (1)', 'No Colocado (0)'], autopct='%1.1f%%', startangle=90, colors=['#66b3ff', '#ff6666'])\n",
    "plt.title('Distribución de la variable COLOCADO')\n",
    "plt.show()"
   ]
  },
  {
   "cell_type": "markdown",
   "metadata": {},
   "source": [
    "Observamos que tenemos un desbalance claro en los datos que tenemos "
   ]
  },
  {
   "cell_type": "code",
   "execution_count": 9,
   "metadata": {},
   "outputs": [
    {
     "data": {
      "text/plain": [
       "Index(['N_VECES_CAMPAÑA', 'N_VECES_CAMPAÑA_CONT', 'IVC', 'score_aceptacion',\n",
       "       'SCORE', 'CUPO', 'COLOCADO', 'MONTO_COLOCADO'],\n",
       "      dtype='object')"
      ]
     },
     "execution_count": 9,
     "metadata": {},
     "output_type": "execute_result"
    }
   ],
   "source": [
    "numerical_columns = df_colocado.select_dtypes(include=['number']).columns\n",
    "numerical_columns"
   ]
  },
  {
   "cell_type": "code",
   "execution_count": 10,
   "metadata": {},
   "outputs": [
    {
     "data": {
      "text/plain": [
       "Index(['IDENTIFICACION', 'PRODUCTO', 'PERIODO_COMERCIAL', 'SEGMENTO',\n",
       "       'FECHA_CARGA', 'FECHA_VIGENCIA', 'REGION', 'TIPO_APROBACION', 'CANAL',\n",
       "       'CLIENTE_BG', 'SUB_PERFIL_RIESGOS', 'APROBACION_MES_ANTERIOR',\n",
       "       'PRODUCTO_MES_ANTERIOR', 'CONTACTABILIDAD_TOTAL', 'fecha_liquidacion'],\n",
       "      dtype='object')"
      ]
     },
     "execution_count": 10,
     "metadata": {},
     "output_type": "execute_result"
    }
   ],
   "source": [
    "categorical_columnns = df_colocado.select_dtypes(exclude=['number']).columns\n",
    "categorical_columnns\n"
   ]
  },
  {
   "cell_type": "code",
   "execution_count": 11,
   "metadata": {},
   "outputs": [
    {
     "data": {
      "image/png": "[encoded data removed]",
      "text/plain": [
       "<Figure size 1000x600 with 1 Axes>"
      ]
     },
     "metadata": {},
     "output_type": "display_data"
    }
   ],
   "source": [
    "# Evolución temporal de la tasa de colocación\n",
    "monthly_placement = df_colocado.groupby(df_colocado['PERIODO_COMERCIAL'])['COLOCADO'].mean()\n",
    "monthly_placement.plot(kind='line', title='Evolución Temporal de la Tasa de Colocación', figsize=(10, 6))\n",
    "plt.ylabel('Tasa de Colocación')\n",
    "plt.show()\n",
    "\n"
   ]
  },
  {
   "cell_type": "markdown",
   "metadata": {},
   "source": [
    "se obser que durante lo"
   ]
  },
  {
   "cell_type": "code",
   "execution_count": 12,
   "metadata": {},
   "outputs": [
    {
     "data": {
      "image/png": "[encoded data removed]",
      "text/plain": [
       "<Figure size 1000x600 with 1 Axes>"
      ]
     },
     "metadata": {},
     "output_type": "display_data"
    }
   ],
   "source": [
    "# Evolución de métricas clave\n",
    "metrics = ['CUPO', 'MONTO_COLOCADO', 'IVC']\n",
    "for metric in metrics:\n",
    "    df_colocado.groupby(df_colocado['FECHA_CARGA'])[metric].mean().plot(kind='line', figsize=(10, 6), label=metric)\n",
    "plt.title('Evolución Temporal de Métricas Clave')\n",
    "plt.legend()\n",
    "plt.show()"
   ]
  },
  {
   "cell_type": "markdown",
   "metadata": {},
   "source": [
    "## Analisis de las variables categoricas"
   ]
  },
  {
   "cell_type": "markdown",
   "metadata": {},
   "source": [
    "group_colocation / global_colocation >1 mas probable a aceptar la colocacion de credito \n",
    "\n",
    "group_colocation / global_colocation <1  menos probable a aceptar la colocacion de credito "
   ]
  },
  {
   "cell_type": "code",
   "execution_count": 13,
   "metadata": {},
   "outputs": [
    {
     "data": {
      "text/plain": [
       "np.float64(0.01219881943669294)"
      ]
     },
     "execution_count": 13,
     "metadata": {},
     "output_type": "execute_result"
    }
   ],
   "source": [
    "global_colocation_ratio = df_colocado['COLOCADO'].mean()\n",
    "global_colocation_ratio"
   ]
  },
  {
   "cell_type": "code",
   "execution_count": 14,
   "metadata": {},
   "outputs": [
    {
     "data": {
      "text/plain": [
       "CONTACTABILIDAD_TOTAL\n",
       "AC    4783323\n",
       "ND     394883\n",
       "Name: count, dtype: int64"
      ]
     },
     "execution_count": 14,
     "metadata": {},
     "output_type": "execute_result"
    }
   ],
   "source": [
    "df_colocado.CONTACTABILIDAD_TOTAL.value_counts()"
   ]
  },
  {
   "cell_type": "code",
   "execution_count": 15,
   "metadata": {},
   "outputs": [
    {
     "name": "stdout",
     "output_type": "stream",
     "text": [
      "Análisis para la variable: SEGMENTO\n"
     ]
    },
    {
     "data": {
      "text/html": [
       "<div>\n",
       "<style scoped>\n",
       "    .dataframe tbody tr th:only-of-type {\n",
       "        vertical-align: middle;\n",
       "    }\n",
       "\n",
       "    .dataframe tbody tr th {\n",
       "        vertical-align: top;\n",
       "    }\n",
       "\n",
       "    .dataframe thead th {\n",
       "        text-align: right;\n",
       "    }\n",
       "</style>\n",
       "<table border=\"1\" class=\"dataframe\">\n",
       "  <thead>\n",
       "    <tr style=\"text-align: right;\">\n",
       "      <th></th>\n",
       "      <th>colocation_rate</th>\n",
       "      <th>n_samples</th>\n",
       "      <th>diff</th>\n",
       "      <th>acceptance_ratio</th>\n",
       "    </tr>\n",
       "    <tr>\n",
       "      <th>SEGMENTO</th>\n",
       "      <th></th>\n",
       "      <th></th>\n",
       "      <th></th>\n",
       "      <th></th>\n",
       "    </tr>\n",
       "  </thead>\n",
       "  <tbody>\n",
       "    <tr>\n",
       "      <th>SEGMENTO1</th>\n",
       "      <td>0.012383</td>\n",
       "      <td>4251287</td>\n",
       "      <td>0.000184</td>\n",
       "      <td>1.015104</td>\n",
       "    </tr>\n",
       "    <tr>\n",
       "      <th>SEGMENTO2</th>\n",
       "      <td>0.014315</td>\n",
       "      <td>108488</td>\n",
       "      <td>0.002116</td>\n",
       "      <td>1.173470</td>\n",
       "    </tr>\n",
       "    <tr>\n",
       "      <th>SEGMENTO3</th>\n",
       "      <td>0.011399</td>\n",
       "      <td>578229</td>\n",
       "      <td>-0.000800</td>\n",
       "      <td>0.934402</td>\n",
       "    </tr>\n",
       "    <tr>\n",
       "      <th>SEGMENTO4</th>\n",
       "      <td>0.009865</td>\n",
       "      <td>213168</td>\n",
       "      <td>-0.002333</td>\n",
       "      <td>0.808722</td>\n",
       "    </tr>\n",
       "    <tr>\n",
       "      <th>SEGMENTO5</th>\n",
       "      <td>0.012772</td>\n",
       "      <td>21219</td>\n",
       "      <td>0.000573</td>\n",
       "      <td>1.046952</td>\n",
       "    </tr>\n",
       "    <tr>\n",
       "      <th>SEGMENTO6</th>\n",
       "      <td>0.001036</td>\n",
       "      <td>5789</td>\n",
       "      <td>-0.011162</td>\n",
       "      <td>0.084963</td>\n",
       "    </tr>\n",
       "    <tr>\n",
       "      <th>SEGMENTO7</th>\n",
       "      <td>0.000000</td>\n",
       "      <td>26</td>\n",
       "      <td>-0.012199</td>\n",
       "      <td>0.000000</td>\n",
       "    </tr>\n",
       "  </tbody>\n",
       "</table>\n",
       "</div>"
      ],
      "text/plain": [
       "           colocation_rate  n_samples      diff  acceptance_ratio\n",
       "SEGMENTO                                                         \n",
       "SEGMENTO1         0.012383    4251287  0.000184          1.015104\n",
       "SEGMENTO2         0.014315     108488  0.002116          1.173470\n",
       "SEGMENTO3         0.011399     578229 -0.000800          0.934402\n",
       "SEGMENTO4         0.009865     213168 -0.002333          0.808722\n",
       "SEGMENTO5         0.012772      21219  0.000573          1.046952\n",
       "SEGMENTO6         0.001036       5789 -0.011162          0.084963\n",
       "SEGMENTO7         0.000000         26 -0.012199          0.000000"
      ]
     },
     "metadata": {},
     "output_type": "display_data"
    },
    {
     "name": "stdout",
     "output_type": "stream",
     "text": [
      "\n",
      "--------------------------------------------------\n",
      "\n",
      "Análisis para la variable: REGION\n"
     ]
    },
    {
     "data": {
      "text/html": [
       "<div>\n",
       "<style scoped>\n",
       "    .dataframe tbody tr th:only-of-type {\n",
       "        vertical-align: middle;\n",
       "    }\n",
       "\n",
       "    .dataframe tbody tr th {\n",
       "        vertical-align: top;\n",
       "    }\n",
       "\n",
       "    .dataframe thead th {\n",
       "        text-align: right;\n",
       "    }\n",
       "</style>\n",
       "<table border=\"1\" class=\"dataframe\">\n",
       "  <thead>\n",
       "    <tr style=\"text-align: right;\">\n",
       "      <th></th>\n",
       "      <th>colocation_rate</th>\n",
       "      <th>n_samples</th>\n",
       "      <th>diff</th>\n",
       "      <th>acceptance_ratio</th>\n",
       "    </tr>\n",
       "    <tr>\n",
       "      <th>REGION</th>\n",
       "      <th></th>\n",
       "      <th></th>\n",
       "      <th></th>\n",
       "      <th></th>\n",
       "    </tr>\n",
       "  </thead>\n",
       "  <tbody>\n",
       "    <tr>\n",
       "      <th>CENTRO</th>\n",
       "      <td>0.018349</td>\n",
       "      <td>1614128</td>\n",
       "      <td>0.006150</td>\n",
       "      <td>1.504130</td>\n",
       "    </tr>\n",
       "    <tr>\n",
       "      <th>NORTE</th>\n",
       "      <td>0.009968</td>\n",
       "      <td>2760088</td>\n",
       "      <td>-0.002231</td>\n",
       "      <td>0.817141</td>\n",
       "    </tr>\n",
       "    <tr>\n",
       "      <th>SUR</th>\n",
       "      <td>0.007510</td>\n",
       "      <td>803990</td>\n",
       "      <td>-0.004689</td>\n",
       "      <td>0.615637</td>\n",
       "    </tr>\n",
       "  </tbody>\n",
       "</table>\n",
       "</div>"
      ],
      "text/plain": [
       "        colocation_rate  n_samples      diff  acceptance_ratio\n",
       "REGION                                                        \n",
       "CENTRO         0.018349    1614128  0.006150          1.504130\n",
       "NORTE          0.009968    2760088 -0.002231          0.817141\n",
       "SUR            0.007510     803990 -0.004689          0.615637"
      ]
     },
     "metadata": {},
     "output_type": "display_data"
    },
    {
     "name": "stdout",
     "output_type": "stream",
     "text": [
      "\n",
      "--------------------------------------------------\n",
      "\n",
      "Análisis para la variable: TIPO_APROBACION\n"
     ]
    },
    {
     "data": {
      "text/html": [
       "<div>\n",
       "<style scoped>\n",
       "    .dataframe tbody tr th:only-of-type {\n",
       "        vertical-align: middle;\n",
       "    }\n",
       "\n",
       "    .dataframe tbody tr th {\n",
       "        vertical-align: top;\n",
       "    }\n",
       "\n",
       "    .dataframe thead th {\n",
       "        text-align: right;\n",
       "    }\n",
       "</style>\n",
       "<table border=\"1\" class=\"dataframe\">\n",
       "  <thead>\n",
       "    <tr style=\"text-align: right;\">\n",
       "      <th></th>\n",
       "      <th>colocation_rate</th>\n",
       "      <th>n_samples</th>\n",
       "      <th>diff</th>\n",
       "      <th>acceptance_ratio</th>\n",
       "    </tr>\n",
       "    <tr>\n",
       "      <th>TIPO_APROBACION</th>\n",
       "      <th></th>\n",
       "      <th></th>\n",
       "      <th></th>\n",
       "      <th></th>\n",
       "    </tr>\n",
       "  </thead>\n",
       "  <tbody>\n",
       "    <tr>\n",
       "      <th>TIPO1</th>\n",
       "      <td>0.018632</td>\n",
       "      <td>3048969</td>\n",
       "      <td>0.006433</td>\n",
       "      <td>1.527377</td>\n",
       "    </tr>\n",
       "    <tr>\n",
       "      <th>TIPO2</th>\n",
       "      <td>0.002987</td>\n",
       "      <td>2129237</td>\n",
       "      <td>-0.009212</td>\n",
       "      <td>0.244820</td>\n",
       "    </tr>\n",
       "  </tbody>\n",
       "</table>\n",
       "</div>"
      ],
      "text/plain": [
       "                 colocation_rate  n_samples      diff  acceptance_ratio\n",
       "TIPO_APROBACION                                                        \n",
       "TIPO1                   0.018632    3048969  0.006433          1.527377\n",
       "TIPO2                   0.002987    2129237 -0.009212          0.244820"
      ]
     },
     "metadata": {},
     "output_type": "display_data"
    },
    {
     "name": "stdout",
     "output_type": "stream",
     "text": [
      "\n",
      "--------------------------------------------------\n",
      "\n",
      "Análisis para la variable: CANAL\n"
     ]
    },
    {
     "data": {
      "text/html": [
       "<div>\n",
       "<style scoped>\n",
       "    .dataframe tbody tr th:only-of-type {\n",
       "        vertical-align: middle;\n",
       "    }\n",
       "\n",
       "    .dataframe tbody tr th {\n",
       "        vertical-align: top;\n",
       "    }\n",
       "\n",
       "    .dataframe thead th {\n",
       "        text-align: right;\n",
       "    }\n",
       "</style>\n",
       "<table border=\"1\" class=\"dataframe\">\n",
       "  <thead>\n",
       "    <tr style=\"text-align: right;\">\n",
       "      <th></th>\n",
       "      <th>colocation_rate</th>\n",
       "      <th>n_samples</th>\n",
       "      <th>diff</th>\n",
       "      <th>acceptance_ratio</th>\n",
       "    </tr>\n",
       "    <tr>\n",
       "      <th>CANAL</th>\n",
       "      <th></th>\n",
       "      <th></th>\n",
       "      <th></th>\n",
       "      <th></th>\n",
       "    </tr>\n",
       "  </thead>\n",
       "  <tbody>\n",
       "    <tr>\n",
       "      <th>ONLINE</th>\n",
       "      <td>0.019735</td>\n",
       "      <td>2374901</td>\n",
       "      <td>0.007536</td>\n",
       "      <td>1.617791</td>\n",
       "    </tr>\n",
       "    <tr>\n",
       "      <th>PRESENCIAL</th>\n",
       "      <td>0.005814</td>\n",
       "      <td>2803305</td>\n",
       "      <td>-0.006385</td>\n",
       "      <td>0.476621</td>\n",
       "    </tr>\n",
       "  </tbody>\n",
       "</table>\n",
       "</div>"
      ],
      "text/plain": [
       "            colocation_rate  n_samples      diff  acceptance_ratio\n",
       "CANAL                                                             \n",
       "ONLINE             0.019735    2374901  0.007536          1.617791\n",
       "PRESENCIAL         0.005814    2803305 -0.006385          0.476621"
      ]
     },
     "metadata": {},
     "output_type": "display_data"
    },
    {
     "name": "stdout",
     "output_type": "stream",
     "text": [
      "\n",
      "--------------------------------------------------\n",
      "\n",
      "Análisis para la variable: SUB_PERFIL_RIESGOS\n"
     ]
    },
    {
     "data": {
      "text/html": [
       "<div>\n",
       "<style scoped>\n",
       "    .dataframe tbody tr th:only-of-type {\n",
       "        vertical-align: middle;\n",
       "    }\n",
       "\n",
       "    .dataframe tbody tr th {\n",
       "        vertical-align: top;\n",
       "    }\n",
       "\n",
       "    .dataframe thead th {\n",
       "        text-align: right;\n",
       "    }\n",
       "</style>\n",
       "<table border=\"1\" class=\"dataframe\">\n",
       "  <thead>\n",
       "    <tr style=\"text-align: right;\">\n",
       "      <th></th>\n",
       "      <th>colocation_rate</th>\n",
       "      <th>n_samples</th>\n",
       "      <th>diff</th>\n",
       "      <th>acceptance_ratio</th>\n",
       "    </tr>\n",
       "    <tr>\n",
       "      <th>SUB_PERFIL_RIESGOS</th>\n",
       "      <th></th>\n",
       "      <th></th>\n",
       "      <th></th>\n",
       "      <th></th>\n",
       "    </tr>\n",
       "  </thead>\n",
       "  <tbody>\n",
       "    <tr>\n",
       "      <th>PERFIL1</th>\n",
       "      <td>0.016016</td>\n",
       "      <td>2639660</td>\n",
       "      <td>0.003817</td>\n",
       "      <td>1.312920</td>\n",
       "    </tr>\n",
       "    <tr>\n",
       "      <th>PERFIL2</th>\n",
       "      <td>0.011772</td>\n",
       "      <td>1077071</td>\n",
       "      <td>-0.000427</td>\n",
       "      <td>0.964990</td>\n",
       "    </tr>\n",
       "    <tr>\n",
       "      <th>PERFIL3</th>\n",
       "      <td>0.006715</td>\n",
       "      <td>672572</td>\n",
       "      <td>-0.005484</td>\n",
       "      <td>0.550424</td>\n",
       "    </tr>\n",
       "    <tr>\n",
       "      <th>PERFIL4</th>\n",
       "      <td>0.004685</td>\n",
       "      <td>788903</td>\n",
       "      <td>-0.007514</td>\n",
       "      <td>0.384052</td>\n",
       "    </tr>\n",
       "  </tbody>\n",
       "</table>\n",
       "</div>"
      ],
      "text/plain": [
       "                    colocation_rate  n_samples      diff  acceptance_ratio\n",
       "SUB_PERFIL_RIESGOS                                                        \n",
       "PERFIL1                    0.016016    2639660  0.003817          1.312920\n",
       "PERFIL2                    0.011772    1077071 -0.000427          0.964990\n",
       "PERFIL3                    0.006715     672572 -0.005484          0.550424\n",
       "PERFIL4                    0.004685     788903 -0.007514          0.384052"
      ]
     },
     "metadata": {},
     "output_type": "display_data"
    },
    {
     "name": "stdout",
     "output_type": "stream",
     "text": [
      "\n",
      "--------------------------------------------------\n",
      "\n",
      "Análisis para la variable: CLIENTE_BG\n"
     ]
    },
    {
     "data": {
      "text/html": [
       "<div>\n",
       "<style scoped>\n",
       "    .dataframe tbody tr th:only-of-type {\n",
       "        vertical-align: middle;\n",
       "    }\n",
       "\n",
       "    .dataframe tbody tr th {\n",
       "        vertical-align: top;\n",
       "    }\n",
       "\n",
       "    .dataframe thead th {\n",
       "        text-align: right;\n",
       "    }\n",
       "</style>\n",
       "<table border=\"1\" class=\"dataframe\">\n",
       "  <thead>\n",
       "    <tr style=\"text-align: right;\">\n",
       "      <th></th>\n",
       "      <th>colocation_rate</th>\n",
       "      <th>n_samples</th>\n",
       "      <th>diff</th>\n",
       "      <th>acceptance_ratio</th>\n",
       "    </tr>\n",
       "    <tr>\n",
       "      <th>CLIENTE_BG</th>\n",
       "      <th></th>\n",
       "      <th></th>\n",
       "      <th></th>\n",
       "      <th></th>\n",
       "    </tr>\n",
       "  </thead>\n",
       "  <tbody>\n",
       "    <tr>\n",
       "      <th>CLIENTE_TIPO1</th>\n",
       "      <td>0.023166</td>\n",
       "      <td>2442303</td>\n",
       "      <td>0.010967</td>\n",
       "      <td>1.899023</td>\n",
       "    </tr>\n",
       "    <tr>\n",
       "      <th>CLIENTE_TIPO2</th>\n",
       "      <td>0.002409</td>\n",
       "      <td>2735903</td>\n",
       "      <td>-0.009790</td>\n",
       "      <td>0.197454</td>\n",
       "    </tr>\n",
       "  </tbody>\n",
       "</table>\n",
       "</div>"
      ],
      "text/plain": [
       "               colocation_rate  n_samples      diff  acceptance_ratio\n",
       "CLIENTE_BG                                                           \n",
       "CLIENTE_TIPO1         0.023166    2442303  0.010967          1.899023\n",
       "CLIENTE_TIPO2         0.002409    2735903 -0.009790          0.197454"
      ]
     },
     "metadata": {},
     "output_type": "display_data"
    },
    {
     "name": "stdout",
     "output_type": "stream",
     "text": [
      "\n",
      "--------------------------------------------------\n",
      "\n",
      "Análisis para la variable: APROBACION_MES_ANTERIOR\n"
     ]
    },
    {
     "data": {
      "text/html": [
       "<div>\n",
       "<style scoped>\n",
       "    .dataframe tbody tr th:only-of-type {\n",
       "        vertical-align: middle;\n",
       "    }\n",
       "\n",
       "    .dataframe tbody tr th {\n",
       "        vertical-align: top;\n",
       "    }\n",
       "\n",
       "    .dataframe thead th {\n",
       "        text-align: right;\n",
       "    }\n",
       "</style>\n",
       "<table border=\"1\" class=\"dataframe\">\n",
       "  <thead>\n",
       "    <tr style=\"text-align: right;\">\n",
       "      <th></th>\n",
       "      <th>colocation_rate</th>\n",
       "      <th>n_samples</th>\n",
       "      <th>diff</th>\n",
       "      <th>acceptance_ratio</th>\n",
       "    </tr>\n",
       "    <tr>\n",
       "      <th>APROBACION_MES_ANTERIOR</th>\n",
       "      <th></th>\n",
       "      <th></th>\n",
       "      <th></th>\n",
       "      <th></th>\n",
       "    </tr>\n",
       "  </thead>\n",
       "  <tbody>\n",
       "    <tr>\n",
       "      <th>Ninguno</th>\n",
       "      <td>0.027382</td>\n",
       "      <td>603137</td>\n",
       "      <td>0.015183</td>\n",
       "      <td>2.244630</td>\n",
       "    </tr>\n",
       "    <tr>\n",
       "      <th>TIPO1</th>\n",
       "      <td>0.011795</td>\n",
       "      <td>3013643</td>\n",
       "      <td>-0.000404</td>\n",
       "      <td>0.966899</td>\n",
       "    </tr>\n",
       "    <tr>\n",
       "      <th>TIPO2</th>\n",
       "      <td>0.007122</td>\n",
       "      <td>1554679</td>\n",
       "      <td>-0.005077</td>\n",
       "      <td>0.583805</td>\n",
       "    </tr>\n",
       "    <tr>\n",
       "      <th>TIPO3</th>\n",
       "      <td>0.005187</td>\n",
       "      <td>6747</td>\n",
       "      <td>-0.007011</td>\n",
       "      <td>0.425245</td>\n",
       "    </tr>\n",
       "  </tbody>\n",
       "</table>\n",
       "</div>"
      ],
      "text/plain": [
       "                         colocation_rate  n_samples      diff  \\\n",
       "APROBACION_MES_ANTERIOR                                         \n",
       "Ninguno                         0.027382     603137  0.015183   \n",
       "TIPO1                           0.011795    3013643 -0.000404   \n",
       "TIPO2                           0.007122    1554679 -0.005077   \n",
       "TIPO3                           0.005187       6747 -0.007011   \n",
       "\n",
       "                         acceptance_ratio  \n",
       "APROBACION_MES_ANTERIOR                    \n",
       "Ninguno                          2.244630  \n",
       "TIPO1                            0.966899  \n",
       "TIPO2                            0.583805  \n",
       "TIPO3                            0.425245  "
      ]
     },
     "metadata": {},
     "output_type": "display_data"
    },
    {
     "name": "stdout",
     "output_type": "stream",
     "text": [
      "\n",
      "--------------------------------------------------\n",
      "\n",
      "Análisis para la variable: PRODUCTO_MES_ANTERIOR\n"
     ]
    },
    {
     "data": {
      "text/html": [
       "<div>\n",
       "<style scoped>\n",
       "    .dataframe tbody tr th:only-of-type {\n",
       "        vertical-align: middle;\n",
       "    }\n",
       "\n",
       "    .dataframe tbody tr th {\n",
       "        vertical-align: top;\n",
       "    }\n",
       "\n",
       "    .dataframe thead th {\n",
       "        text-align: right;\n",
       "    }\n",
       "</style>\n",
       "<table border=\"1\" class=\"dataframe\">\n",
       "  <thead>\n",
       "    <tr style=\"text-align: right;\">\n",
       "      <th></th>\n",
       "      <th>colocation_rate</th>\n",
       "      <th>n_samples</th>\n",
       "      <th>diff</th>\n",
       "      <th>acceptance_ratio</th>\n",
       "    </tr>\n",
       "    <tr>\n",
       "      <th>PRODUCTO_MES_ANTERIOR</th>\n",
       "      <th></th>\n",
       "      <th></th>\n",
       "      <th></th>\n",
       "      <th></th>\n",
       "    </tr>\n",
       "  </thead>\n",
       "  <tbody>\n",
       "    <tr>\n",
       "      <th>Ninguno</th>\n",
       "      <td>0.027382</td>\n",
       "      <td>603137</td>\n",
       "      <td>0.015183</td>\n",
       "      <td>2.244630</td>\n",
       "    </tr>\n",
       "    <tr>\n",
       "      <th>Producto1</th>\n",
       "      <td>0.009533</td>\n",
       "      <td>4079040</td>\n",
       "      <td>-0.002666</td>\n",
       "      <td>0.781479</td>\n",
       "    </tr>\n",
       "    <tr>\n",
       "      <th>Producto2</th>\n",
       "      <td>0.015606</td>\n",
       "      <td>469958</td>\n",
       "      <td>0.003407</td>\n",
       "      <td>1.279275</td>\n",
       "    </tr>\n",
       "    <tr>\n",
       "      <th>Producto3</th>\n",
       "      <td>0.016608</td>\n",
       "      <td>26071</td>\n",
       "      <td>0.004410</td>\n",
       "      <td>1.361484</td>\n",
       "    </tr>\n",
       "  </tbody>\n",
       "</table>\n",
       "</div>"
      ],
      "text/plain": [
       "                       colocation_rate  n_samples      diff  acceptance_ratio\n",
       "PRODUCTO_MES_ANTERIOR                                                        \n",
       "Ninguno                       0.027382     603137  0.015183          2.244630\n",
       "Producto1                     0.009533    4079040 -0.002666          0.781479\n",
       "Producto2                     0.015606     469958  0.003407          1.279275\n",
       "Producto3                     0.016608      26071  0.004410          1.361484"
      ]
     },
     "metadata": {},
     "output_type": "display_data"
    },
    {
     "name": "stdout",
     "output_type": "stream",
     "text": [
      "\n",
      "--------------------------------------------------\n",
      "\n",
      "Análisis para la variable: CONTACTABILIDAD_TOTAL\n"
     ]
    },
    {
     "data": {
      "text/html": [
       "<div>\n",
       "<style scoped>\n",
       "    .dataframe tbody tr th:only-of-type {\n",
       "        vertical-align: middle;\n",
       "    }\n",
       "\n",
       "    .dataframe tbody tr th {\n",
       "        vertical-align: top;\n",
       "    }\n",
       "\n",
       "    .dataframe thead th {\n",
       "        text-align: right;\n",
       "    }\n",
       "</style>\n",
       "<table border=\"1\" class=\"dataframe\">\n",
       "  <thead>\n",
       "    <tr style=\"text-align: right;\">\n",
       "      <th></th>\n",
       "      <th>colocation_rate</th>\n",
       "      <th>n_samples</th>\n",
       "      <th>diff</th>\n",
       "      <th>acceptance_ratio</th>\n",
       "    </tr>\n",
       "    <tr>\n",
       "      <th>CONTACTABILIDAD_TOTAL</th>\n",
       "      <th></th>\n",
       "      <th></th>\n",
       "      <th></th>\n",
       "      <th></th>\n",
       "    </tr>\n",
       "  </thead>\n",
       "  <tbody>\n",
       "    <tr>\n",
       "      <th>AC</th>\n",
       "      <td>0.013063</td>\n",
       "      <td>4783323</td>\n",
       "      <td>0.000864</td>\n",
       "      <td>1.070815</td>\n",
       "    </tr>\n",
       "    <tr>\n",
       "      <th>ND</th>\n",
       "      <td>0.001735</td>\n",
       "      <td>394883</td>\n",
       "      <td>-0.010464</td>\n",
       "      <td>0.142202</td>\n",
       "    </tr>\n",
       "  </tbody>\n",
       "</table>\n",
       "</div>"
      ],
      "text/plain": [
       "                       colocation_rate  n_samples      diff  acceptance_ratio\n",
       "CONTACTABILIDAD_TOTAL                                                        \n",
       "AC                            0.013063    4783323  0.000864          1.070815\n",
       "ND                            0.001735     394883 -0.010464          0.142202"
      ]
     },
     "metadata": {},
     "output_type": "display_data"
    },
    {
     "name": "stdout",
     "output_type": "stream",
     "text": [
      "\n",
      "--------------------------------------------------\n",
      "\n"
     ]
    }
   ],
   "source": [
    "# Cálculo de la tasa global de colocación\n",
    "global_colocation_ratio = df_colocado['COLOCADO'].mean()\n",
    "\n",
    "# Variables categóricas a analizar\n",
    "cat_vars = ['SEGMENTO', 'REGION', 'TIPO_APROBACION', 'CANAL', 'SUB_PERFIL_RIESGOS',\"CLIENTE_BG\", \"APROBACION_MES_ANTERIOR\",\"PRODUCTO_MES_ANTERIOR\",\"CONTACTABILIDAD_TOTAL\"]\n",
    "\n",
    "# Iterar sobre cada variable categórica\n",
    "for c in cat_vars:\n",
    "    print(f\"Análisis para la variable: {c}\")\n",
    "    # Agrupación por la variable categórica\n",
    "    df_group = df_colocado.groupby(c)['COLOCADO'].agg(['mean', 'count']).rename(columns={\n",
    "        'mean': 'colocation_rate',\n",
    "        'count': 'n_samples'\n",
    "    })\n",
    "    # Cálculo de diferencia y riesgo relativo\n",
    "    df_group['diff'] = df_group['colocation_rate'] - global_colocation_ratio\n",
    "    df_group['acceptance_ratio'] = df_group['colocation_rate'] / global_colocation_ratio\n",
    "\n",
    "    # Mostrar resultados\n",
    "    display(df_group)\n",
    "    print(\"\\n\" + \"-\" * 50 + \"\\n\")\n"
   ]
  },
  {
   "cell_type": "markdown",
   "metadata": {},
   "source": [
    "* Segmentos: Es recomendable centrar las campañas de marketing en los segmentos con alta tasa de aceptación como SEGMENTO1 y SEGMENTO2. Además, los segmentos de mayor riesgo (SEGMENTO6 y SEGMENTO7) podrían beneficiarse de un enfoque diferenciado.\n",
    "\n",
    "* Regiones: Las estrategias de colocación de créditos deben centrarse más en la región CENTRO, que tiene la tasa de aceptación más alta. Las regiones NORTE y SUR pueden necesitar esfuerzos adicionales para mejorar la tasa de aceptación.\n",
    "\n",
    "* Tipo de Aprobación: Las personas con TIPO1 tienen una mayor probabilidad de aceptación, por lo que una posible estrategia sería reducir las barreras para que más personas pasen a TIPO1.\n",
    "\n",
    "* Canal de Venta: La colocación online muestra una alta tasa de aceptación en comparación con la colocación presencial. Esto sugiere que el canal digital debería ser priorizado en futuras campañas.\n",
    "\n",
    "* Sub Perfil de Riesgo: Los individuos con PERFIL1 tienen la mayor probabilidad de aceptar créditos. Las estrategias para los perfiles de riesgo alto (PERFIL3 y PERFIL4) podrían enfocarse en la gestión del riesgo o en ofrecer condiciones más atractivas.\n",
    "\n"
   ]
  },
  {
   "cell_type": "markdown",
   "metadata": {},
   "source": [
    "## Mutual information"
   ]
  },
  {
   "cell_type": "markdown",
   "metadata": {},
   "source": [
    "El mutual information score es una medida que evalúa la dependencia entre dos variables. Un valor más alto indica una mayor relación entre las variables, lo que sugiere que una variable es más informativa sobre la otra. En este caso, estamos utilizando el mutual_info_score para medir la relación entre las variables categóricas y la variable COLOCADO (aceptación de crédito)."
   ]
  },
  {
   "cell_type": "code",
   "execution_count": 16,
   "metadata": {},
   "outputs": [],
   "source": [
    "from sklearn.metrics import mutual_info_score"
   ]
  },
  {
   "cell_type": "code",
   "execution_count": 17,
   "metadata": {},
   "outputs": [],
   "source": [
    "def mutual_info_aceptance_score(series):\n",
    "    return mutual_info_score(series, df_colocado.COLOCADO)"
   ]
  },
  {
   "cell_type": "code",
   "execution_count": 18,
   "metadata": {},
   "outputs": [
    {
     "data": {
      "text/plain": [
       "CLIENTE_BG                 0.004997\n",
       "TIPO_APROBACION            0.002949\n",
       "CANAL                      0.002046\n",
       "APROBACION_MES_ANTERIOR    0.001209\n",
       "PRODUCTO_MES_ANTERIOR      0.001119\n",
       "SUB_PERFIL_RIESGOS         0.000942\n",
       "REGION                     0.000705\n",
       "CONTACTABILIDAD_TOTAL      0.000572\n",
       "SEGMENTO                   0.000028\n",
       "dtype: float64"
      ]
     },
     "execution_count": 18,
     "metadata": {},
     "output_type": "execute_result"
    }
   ],
   "source": [
    "mi = df_colocado[cat_vars].apply(mutual_info_aceptance_score)\n",
    "mi.sort_values(ascending=False)"
   ]
  },
  {
   "cell_type": "markdown",
   "metadata": {},
   "source": [
    "El análisis de información mutua muestra que CLIENTE_BG tiene la mayor relación con la colocación de crédito, seguido por TIPO_APROBACION y CANAL. Esto sugiere que el perfil del cliente y el canal de contratación son factores clave para predecir la aceptación de créditos. En cambio, REGION, CONTACTABILIDAD_TOTAL y SEGMENTO tienen una relación mucho más débil, indicando que su influencia es mínima en la decisión de colocación.\n"
   ]
  },
  {
   "cell_type": "markdown",
   "metadata": {},
   "source": [
    "## Importancia de caracteristicas numericas"
   ]
  },
  {
   "cell_type": "code",
   "execution_count": 19,
   "metadata": {},
   "outputs": [],
   "source": [
    "numeric_col=['N_VECES_CAMPAÑA', 'N_VECES_CAMPAÑA_CONT', 'IVC', 'score_aceptacion',\n",
    "       'SCORE', 'CUPO', 'MONTO_COLOCADO']"
   ]
  },
  {
   "cell_type": "code",
   "execution_count": 20,
   "metadata": {},
   "outputs": [
    {
     "data": {
      "text/plain": [
       "MONTO_COLOCADO          0.736399\n",
       "IVC                     0.123667\n",
       "score_aceptacion        0.095828\n",
       "N_VECES_CAMPAÑA_CONT    0.047018\n",
       "N_VECES_CAMPAÑA         0.024950\n",
       "SCORE                   0.014009\n",
       "CUPO                    0.013665\n",
       "dtype: float64"
      ]
     },
     "execution_count": 20,
     "metadata": {},
     "output_type": "execute_result"
    }
   ],
   "source": [
    "df_colocado[numeric_col].corrwith(df_colocado.COLOCADO).abs().sort_values(ascending=False)"
   ]
  },
  {
   "cell_type": "markdown",
   "metadata": {},
   "source": [
    "El análisis se basó en la correlación absoluta entre las variables numéricas y la colocación de crédito, utilizando el método de correlación de Pearson. Esto permitió identificar qué factores están más estrechamente relacionados con la aceptación del crédito. Los resultados indican que el monto colocado es el factor más influyente, mientras que otras variables como el score de crédito o el cupo ofertado tienen una relación mucho más débil, sugiriendo que la cantidad efectiva colocada y la relación con el banco son determinantes clave."
   ]
  },
  {
   "cell_type": "markdown",
   "metadata": {},
   "source": [
    "tenemos un analisis que hacer que score de aceptacion tiene una relacion baja con repecto si fue colocado o no , por lo que podriamos indicar que este  no es un buen indicador para poder indicar si el credito es colocado."
   ]
  },
  {
   "cell_type": "markdown",
   "metadata": {},
   "source": []
  },
  {
   "cell_type": "code",
   "execution_count": 21,
   "metadata": {},
   "outputs": [],
   "source": [
    "# en base a la importancia de las caracteristicas las variables categoricas con las que nos vamos a quedar son las siguientes"
   ]
  },
  {
   "cell_type": "code",
   "execution_count": 22,
   "metadata": {},
   "outputs": [],
   "source": [
    "# Selección de columnas relevantes según el análisis anterior\n",
    "columns_to_keep = ['N_VECES_CAMPAÑA',\n",
    "       'N_VECES_CAMPAÑA_CONT', 'TIPO_APROBACION', 'CANAL', 'CLIENTE_BG', 'IVC',\n",
    "       'score_aceptacion', 'SCORE', 'CUPO',\n",
    "       'APROBACION_MES_ANTERIOR', 'PRODUCTO_MES_ANTERIOR'\n",
    "       , 'COLOCADO']\n",
    "\n",
    "# Mantener solo las columnas relevantes\n",
    "df_colocado_filtered = df_colocado[columns_to_keep]\n",
    "\n"
   ]
  },
  {
   "cell_type": "code",
   "execution_count": 23,
   "metadata": {},
   "outputs": [
    {
     "data": {
      "text/html": [
       "<div>\n",
       "<style scoped>\n",
       "    .dataframe tbody tr th:only-of-type {\n",
       "        vertical-align: middle;\n",
       "    }\n",
       "\n",
       "    .dataframe tbody tr th {\n",
       "        vertical-align: top;\n",
       "    }\n",
       "\n",
       "    .dataframe thead th {\n",
       "        text-align: right;\n",
       "    }\n",
       "</style>\n",
       "<table border=\"1\" class=\"dataframe\">\n",
       "  <thead>\n",
       "    <tr style=\"text-align: right;\">\n",
       "      <th></th>\n",
       "      <th>N_VECES_CAMPAÑA</th>\n",
       "      <th>N_VECES_CAMPAÑA_CONT</th>\n",
       "      <th>TIPO_APROBACION</th>\n",
       "      <th>CANAL</th>\n",
       "      <th>CLIENTE_BG</th>\n",
       "      <th>IVC</th>\n",
       "      <th>score_aceptacion</th>\n",
       "      <th>SCORE</th>\n",
       "      <th>CUPO</th>\n",
       "      <th>APROBACION_MES_ANTERIOR</th>\n",
       "      <th>PRODUCTO_MES_ANTERIOR</th>\n",
       "      <th>COLOCADO</th>\n",
       "    </tr>\n",
       "  </thead>\n",
       "  <tbody>\n",
       "    <tr>\n",
       "      <th>0</th>\n",
       "      <td>16</td>\n",
       "      <td>5</td>\n",
       "      <td>TIPO1</td>\n",
       "      <td>ONLINE</td>\n",
       "      <td>CLIENTE_TIPO2</td>\n",
       "      <td>0</td>\n",
       "      <td>306</td>\n",
       "      <td>979</td>\n",
       "      <td>9882.41</td>\n",
       "      <td>TIPO1</td>\n",
       "      <td>Producto1</td>\n",
       "      <td>0</td>\n",
       "    </tr>\n",
       "    <tr>\n",
       "      <th>1</th>\n",
       "      <td>17</td>\n",
       "      <td>6</td>\n",
       "      <td>TIPO1</td>\n",
       "      <td>ONLINE</td>\n",
       "      <td>CLIENTE_TIPO2</td>\n",
       "      <td>0</td>\n",
       "      <td>306</td>\n",
       "      <td>969</td>\n",
       "      <td>9882.41</td>\n",
       "      <td>TIPO1</td>\n",
       "      <td>Producto1</td>\n",
       "      <td>0</td>\n",
       "    </tr>\n",
       "    <tr>\n",
       "      <th>2</th>\n",
       "      <td>18</td>\n",
       "      <td>7</td>\n",
       "      <td>TIPO1</td>\n",
       "      <td>ONLINE</td>\n",
       "      <td>CLIENTE_TIPO2</td>\n",
       "      <td>0</td>\n",
       "      <td>449</td>\n",
       "      <td>969</td>\n",
       "      <td>9882.41</td>\n",
       "      <td>TIPO1</td>\n",
       "      <td>Producto1</td>\n",
       "      <td>0</td>\n",
       "    </tr>\n",
       "    <tr>\n",
       "      <th>3</th>\n",
       "      <td>19</td>\n",
       "      <td>8</td>\n",
       "      <td>TIPO1</td>\n",
       "      <td>ONLINE</td>\n",
       "      <td>CLIENTE_TIPO2</td>\n",
       "      <td>0</td>\n",
       "      <td>306</td>\n",
       "      <td>969</td>\n",
       "      <td>9336.83</td>\n",
       "      <td>TIPO1</td>\n",
       "      <td>Producto1</td>\n",
       "      <td>0</td>\n",
       "    </tr>\n",
       "    <tr>\n",
       "      <th>4</th>\n",
       "      <td>20</td>\n",
       "      <td>9</td>\n",
       "      <td>TIPO1</td>\n",
       "      <td>ONLINE</td>\n",
       "      <td>CLIENTE_TIPO2</td>\n",
       "      <td>0</td>\n",
       "      <td>306</td>\n",
       "      <td>969</td>\n",
       "      <td>8830.22</td>\n",
       "      <td>TIPO1</td>\n",
       "      <td>Producto1</td>\n",
       "      <td>0</td>\n",
       "    </tr>\n",
       "  </tbody>\n",
       "</table>\n",
       "</div>"
      ],
      "text/plain": [
       "   N_VECES_CAMPAÑA  N_VECES_CAMPAÑA_CONT TIPO_APROBACION   CANAL  \\\n",
       "0               16                     5           TIPO1  ONLINE   \n",
       "1               17                     6           TIPO1  ONLINE   \n",
       "2               18                     7           TIPO1  ONLINE   \n",
       "3               19                     8           TIPO1  ONLINE   \n",
       "4               20                     9           TIPO1  ONLINE   \n",
       "\n",
       "      CLIENTE_BG  IVC  score_aceptacion  SCORE     CUPO  \\\n",
       "0  CLIENTE_TIPO2    0               306    979  9882.41   \n",
       "1  CLIENTE_TIPO2    0               306    969  9882.41   \n",
       "2  CLIENTE_TIPO2    0               449    969  9882.41   \n",
       "3  CLIENTE_TIPO2    0               306    969  9336.83   \n",
       "4  CLIENTE_TIPO2    0               306    969  8830.22   \n",
       "\n",
       "  APROBACION_MES_ANTERIOR PRODUCTO_MES_ANTERIOR  COLOCADO  \n",
       "0                   TIPO1             Producto1         0  \n",
       "1                   TIPO1             Producto1         0  \n",
       "2                   TIPO1             Producto1         0  \n",
       "3                   TIPO1             Producto1         0  \n",
       "4                   TIPO1             Producto1         0  "
      ]
     },
     "execution_count": 23,
     "metadata": {},
     "output_type": "execute_result"
    }
   ],
   "source": [
    "df_colocado_filtered.head()"
   ]
  },
  {
   "cell_type": "markdown",
   "metadata": {},
   "source": [
    "# Codificacion de variables cateforicas"
   ]
  },
  {
   "cell_type": "code",
   "execution_count": 24,
   "metadata": {},
   "outputs": [],
   "source": [
    "#import pandas as pd\n",
    "#from sklearn.preprocessing import LabelEncoder\n",
    "\n",
    "## Codificación One-Hot Encoding para variables nominales\n",
    "#df_colocado = pd.get_dummies(df_colocado, columns=['SEGMENTO', 'REGION', 'TIPO_APROBACION', \n",
    "#                                                   'CANAL', 'SUB_PERFIL_RIESGOS', \n",
    "#                                                   'APROBACION_MES_ANTERIOR', 'PRODUCTO_MES_ANTERIOR'])\n",
    "#\n",
    "## Codificación Label Encoding para variables binarias\n",
    "#le = LabelEncoder()\n",
    "#df_colocado['CLIENTE_BG'] = le.fit_transform(df_colocado['CLIENTE_BG'])\n",
    "#df_colocado['CONTACTABILIDAD_TOTAL'] = le.fit_transform(df_colocado['CONTACTABILIDAD_TOTAL'])\n",
    "#\n",
    "## Eliminar columnas originales que se codificaron con get_dummies\n",
    "#df_colocado = df_colocado.drop(columns=['SEGMENTO', 'REGION', 'TIPO_APROBACION', \n",
    "#                                         'CANAL', 'SUB_PERFIL_RIESGOS', \n",
    "#                                         'APROBACION_MES_ANTERIOR', 'PRODUCTO_MES_ANTERIOR'])"
   ]
  },
  {
   "cell_type": "code",
   "execution_count": 25,
   "metadata": {},
   "outputs": [],
   "source": [
    "from sklearn.preprocessing import LabelEncoder\n",
    "columns_to_keep = ['TIPO_APROBACION', 'CANAL', 'CLIENTE_BG',\n",
    "       'APROBACION_MES_ANTERIOR', 'PRODUCTO_MES_ANTERIOR']\n",
    "df_colocado_filtered = pd.get_dummies(df_colocado_filtered, columns=columns_to_keep)\n"
   ]
  },
  {
   "cell_type": "code",
   "execution_count": 26,
   "metadata": {},
   "outputs": [
    {
     "data": {
      "text/html": [
       "<div>\n",
       "<style scoped>\n",
       "    .dataframe tbody tr th:only-of-type {\n",
       "        vertical-align: middle;\n",
       "    }\n",
       "\n",
       "    .dataframe tbody tr th {\n",
       "        vertical-align: top;\n",
       "    }\n",
       "\n",
       "    .dataframe thead th {\n",
       "        text-align: right;\n",
       "    }\n",
       "</style>\n",
       "<table border=\"1\" class=\"dataframe\">\n",
       "  <thead>\n",
       "    <tr style=\"text-align: right;\">\n",
       "      <th></th>\n",
       "      <th>N_VECES_CAMPAÑA</th>\n",
       "      <th>N_VECES_CAMPAÑA_CONT</th>\n",
       "      <th>IVC</th>\n",
       "      <th>score_aceptacion</th>\n",
       "      <th>SCORE</th>\n",
       "      <th>CUPO</th>\n",
       "      <th>COLOCADO</th>\n",
       "      <th>TIPO_APROBACION_TIPO1</th>\n",
       "      <th>TIPO_APROBACION_TIPO2</th>\n",
       "      <th>CANAL_ONLINE</th>\n",
       "      <th>...</th>\n",
       "      <th>CLIENTE_BG_CLIENTE_TIPO1</th>\n",
       "      <th>CLIENTE_BG_CLIENTE_TIPO2</th>\n",
       "      <th>APROBACION_MES_ANTERIOR_Ninguno</th>\n",
       "      <th>APROBACION_MES_ANTERIOR_TIPO1</th>\n",
       "      <th>APROBACION_MES_ANTERIOR_TIPO2</th>\n",
       "      <th>APROBACION_MES_ANTERIOR_TIPO3</th>\n",
       "      <th>PRODUCTO_MES_ANTERIOR_Ninguno</th>\n",
       "      <th>PRODUCTO_MES_ANTERIOR_Producto1</th>\n",
       "      <th>PRODUCTO_MES_ANTERIOR_Producto2</th>\n",
       "      <th>PRODUCTO_MES_ANTERIOR_Producto3</th>\n",
       "    </tr>\n",
       "  </thead>\n",
       "  <tbody>\n",
       "    <tr>\n",
       "      <th>0</th>\n",
       "      <td>16</td>\n",
       "      <td>5</td>\n",
       "      <td>0</td>\n",
       "      <td>306</td>\n",
       "      <td>979</td>\n",
       "      <td>9882.41</td>\n",
       "      <td>0</td>\n",
       "      <td>True</td>\n",
       "      <td>False</td>\n",
       "      <td>True</td>\n",
       "      <td>...</td>\n",
       "      <td>False</td>\n",
       "      <td>True</td>\n",
       "      <td>False</td>\n",
       "      <td>True</td>\n",
       "      <td>False</td>\n",
       "      <td>False</td>\n",
       "      <td>False</td>\n",
       "      <td>True</td>\n",
       "      <td>False</td>\n",
       "      <td>False</td>\n",
       "    </tr>\n",
       "    <tr>\n",
       "      <th>1</th>\n",
       "      <td>17</td>\n",
       "      <td>6</td>\n",
       "      <td>0</td>\n",
       "      <td>306</td>\n",
       "      <td>969</td>\n",
       "      <td>9882.41</td>\n",
       "      <td>0</td>\n",
       "      <td>True</td>\n",
       "      <td>False</td>\n",
       "      <td>True</td>\n",
       "      <td>...</td>\n",
       "      <td>False</td>\n",
       "      <td>True</td>\n",
       "      <td>False</td>\n",
       "      <td>True</td>\n",
       "      <td>False</td>\n",
       "      <td>False</td>\n",
       "      <td>False</td>\n",
       "      <td>True</td>\n",
       "      <td>False</td>\n",
       "      <td>False</td>\n",
       "    </tr>\n",
       "    <tr>\n",
       "      <th>2</th>\n",
       "      <td>18</td>\n",
       "      <td>7</td>\n",
       "      <td>0</td>\n",
       "      <td>449</td>\n",
       "      <td>969</td>\n",
       "      <td>9882.41</td>\n",
       "      <td>0</td>\n",
       "      <td>True</td>\n",
       "      <td>False</td>\n",
       "      <td>True</td>\n",
       "      <td>...</td>\n",
       "      <td>False</td>\n",
       "      <td>True</td>\n",
       "      <td>False</td>\n",
       "      <td>True</td>\n",
       "      <td>False</td>\n",
       "      <td>False</td>\n",
       "      <td>False</td>\n",
       "      <td>True</td>\n",
       "      <td>False</td>\n",
       "      <td>False</td>\n",
       "    </tr>\n",
       "    <tr>\n",
       "      <th>3</th>\n",
       "      <td>19</td>\n",
       "      <td>8</td>\n",
       "      <td>0</td>\n",
       "      <td>306</td>\n",
       "      <td>969</td>\n",
       "      <td>9336.83</td>\n",
       "      <td>0</td>\n",
       "      <td>True</td>\n",
       "      <td>False</td>\n",
       "      <td>True</td>\n",
       "      <td>...</td>\n",
       "      <td>False</td>\n",
       "      <td>True</td>\n",
       "      <td>False</td>\n",
       "      <td>True</td>\n",
       "      <td>False</td>\n",
       "      <td>False</td>\n",
       "      <td>False</td>\n",
       "      <td>True</td>\n",
       "      <td>False</td>\n",
       "      <td>False</td>\n",
       "    </tr>\n",
       "    <tr>\n",
       "      <th>4</th>\n",
       "      <td>20</td>\n",
       "      <td>9</td>\n",
       "      <td>0</td>\n",
       "      <td>306</td>\n",
       "      <td>969</td>\n",
       "      <td>8830.22</td>\n",
       "      <td>0</td>\n",
       "      <td>True</td>\n",
       "      <td>False</td>\n",
       "      <td>True</td>\n",
       "      <td>...</td>\n",
       "      <td>False</td>\n",
       "      <td>True</td>\n",
       "      <td>False</td>\n",
       "      <td>True</td>\n",
       "      <td>False</td>\n",
       "      <td>False</td>\n",
       "      <td>False</td>\n",
       "      <td>True</td>\n",
       "      <td>False</td>\n",
       "      <td>False</td>\n",
       "    </tr>\n",
       "  </tbody>\n",
       "</table>\n",
       "<p>5 rows × 21 columns</p>\n",
       "</div>"
      ],
      "text/plain": [
       "   N_VECES_CAMPAÑA  N_VECES_CAMPAÑA_CONT  IVC  score_aceptacion  SCORE  \\\n",
       "0               16                     5    0               306    979   \n",
       "1               17                     6    0               306    969   \n",
       "2               18                     7    0               449    969   \n",
       "3               19                     8    0               306    969   \n",
       "4               20                     9    0               306    969   \n",
       "\n",
       "      CUPO  COLOCADO  TIPO_APROBACION_TIPO1  TIPO_APROBACION_TIPO2  \\\n",
       "0  9882.41         0                   True                  False   \n",
       "1  9882.41         0                   True                  False   \n",
       "2  9882.41         0                   True                  False   \n",
       "3  9336.83         0                   True                  False   \n",
       "4  8830.22         0                   True                  False   \n",
       "\n",
       "   CANAL_ONLINE  ...  CLIENTE_BG_CLIENTE_TIPO1  CLIENTE_BG_CLIENTE_TIPO2  \\\n",
       "0          True  ...                     False                      True   \n",
       "1          True  ...                     False                      True   \n",
       "2          True  ...                     False                      True   \n",
       "3          True  ...                     False                      True   \n",
       "4          True  ...                     False                      True   \n",
       "\n",
       "   APROBACION_MES_ANTERIOR_Ninguno  APROBACION_MES_ANTERIOR_TIPO1  \\\n",
       "0                            False                           True   \n",
       "1                            False                           True   \n",
       "2                            False                           True   \n",
       "3                            False                           True   \n",
       "4                            False                           True   \n",
       "\n",
       "   APROBACION_MES_ANTERIOR_TIPO2  APROBACION_MES_ANTERIOR_TIPO3  \\\n",
       "0                          False                          False   \n",
       "1                          False                          False   \n",
       "2                          False                          False   \n",
       "3                          False                          False   \n",
       "4                          False                          False   \n",
       "\n",
       "   PRODUCTO_MES_ANTERIOR_Ninguno  PRODUCTO_MES_ANTERIOR_Producto1  \\\n",
       "0                          False                             True   \n",
       "1                          False                             True   \n",
       "2                          False                             True   \n",
       "3                          False                             True   \n",
       "4                          False                             True   \n",
       "\n",
       "   PRODUCTO_MES_ANTERIOR_Producto2  PRODUCTO_MES_ANTERIOR_Producto3  \n",
       "0                            False                            False  \n",
       "1                            False                            False  \n",
       "2                            False                            False  \n",
       "3                            False                            False  \n",
       "4                            False                            False  \n",
       "\n",
       "[5 rows x 21 columns]"
      ]
     },
     "execution_count": 26,
     "metadata": {},
     "output_type": "execute_result"
    }
   ],
   "source": [
    "df_colocado_filtered.head()"
   ]
  },
  {
   "cell_type": "markdown",
   "metadata": {},
   "source": [
    "El Label Encoding convierte las categorías en valores numéricos (0 o 1). Dado que estas variables tienen solo dos categorías posibles, la codificación de estas categorías numéricas no introduce un orden que el modelo no pueda interpretar"
   ]
  },
  {
   "cell_type": "markdown",
   "metadata": {},
   "source": [
    "# separar dataset "
   ]
  },
  {
   "cell_type": "code",
   "execution_count": 27,
   "metadata": {},
   "outputs": [],
   "source": [
    "# eliminamos la variable identificacion y la variable producto porque tiene un solo valor por lo cual no nos va aportar a nuestro model\n",
    "# df_colocado.drop(columns=['COLOCADO'])"
   ]
  },
  {
   "cell_type": "code",
   "execution_count": 28,
   "metadata": {},
   "outputs": [],
   "source": [
    "# Importar las librerías necesarias\n",
    "from imblearn.under_sampling import RandomUnderSampler\n",
    "from sklearn.model_selection import train_test_split\n"
   ]
  },
  {
   "cell_type": "code",
   "execution_count": 29,
   "metadata": {},
   "outputs": [],
   "source": [
    "# eliminamos la variable identificacion y la variable producto porque tiene un solo valor por lo cual no nos va aportar a nuestro modelo\n",
    "X = df_colocado_filtered.drop(columns=['COLOCADO'])  \n",
    "y = df_colocado['COLOCADO']  # Etiqueta (clase)\n",
    "\n",
    "# Dividir los datos en entrenamiento y prueba (opcional, pero recomendado)\n",
    "X_train, X_test, y_train, y_test = train_test_split(X, y, test_size=0.2, random_state=42)"
   ]
  },
  {
   "cell_type": "code",
   "execution_count": 30,
   "metadata": {},
   "outputs": [
    {
     "name": "stdout",
     "output_type": "stream",
     "text": [
      "train x size :  (4142564, 20)\n",
      "test x size :  (1035642, 20)\n",
      "train y size :  (4142564,)\n",
      "test y size :  (1035642,)\n"
     ]
    }
   ],
   "source": [
    "print(\"train x size : \", X_train.shape)\n",
    "print(\"test x size : \", X_test.shape)\n",
    "print(\"train y size : \", y_train.shape)\n",
    "print(\"test y size : \", y_test.shape)"
   ]
  },
  {
   "cell_type": "markdown",
   "metadata": {},
   "source": [
    "Tratamiento el desbalance de las clases "
   ]
  },
  {
   "cell_type": "code",
   "execution_count": 31,
   "metadata": {},
   "outputs": [
    {
     "data": {
      "text/plain": [
       "COLOCADO\n",
       "0    5115038\n",
       "1      63168\n",
       "Name: count, dtype: int64"
      ]
     },
     "execution_count": 31,
     "metadata": {},
     "output_type": "execute_result"
    }
   ],
   "source": [
    "value_counts = df_colocado['COLOCADO'].value_counts()\n",
    "value_counts"
   ]
  },
  {
   "cell_type": "markdown",
   "metadata": {},
   "source": [
    "como tenemos un balance significativo queremos aplicar tecnicas de remuestreo para que la cantidad de valores para cada variables sean iguales y no cree ningun sesgo en el modelo "
   ]
  },
  {
   "cell_type": "code",
   "execution_count": 32,
   "metadata": {},
   "outputs": [
    {
     "name": "stdout",
     "output_type": "stream",
     "text": [
      "Distribución original de clases en y_train: COLOCADO\n",
      "0    4091962\n",
      "1      50602\n",
      "Name: count, dtype: int64\n",
      "Distribución de clases después de submuestreo: COLOCADO\n",
      "0    50602\n",
      "1    50602\n",
      "Name: count, dtype: int64\n"
     ]
    }
   ],
   "source": [
    "# Inicializar el RandomUnderSampler\n",
    "rus = RandomUnderSampler(random_state=42)\n",
    "\n",
    "# Aplicar el submuestreo a los datos de entrenamiento\n",
    "X_resampled, y_resampled = rus.fit_resample(X_train, y_train)\n",
    "\n",
    "# Verificar las clases balanceadas\n",
    "print(f\"Distribución original de clases en y_train: {y_train.value_counts()}\")\n",
    "print(f\"Distribución de clases después de submuestreo: {y_resampled.value_counts()}\")\n"
   ]
  },
  {
   "cell_type": "markdown",
   "metadata": {},
   "source": [
    "## Random fores classifier "
   ]
  },
  {
   "cell_type": "code",
   "execution_count": 33,
   "metadata": {},
   "outputs": [],
   "source": [
    "from sklearn.ensemble import RandomForestClassifier\n",
    "from sklearn.metrics import roc_auc_score\n"
   ]
  },
  {
   "cell_type": "code",
   "execution_count": 34,
   "metadata": {},
   "outputs": [],
   "source": [
    "scores = []\n",
    "\n",
    "for d in [5, 10, 15]:\n",
    "    for n in range(10, 201, 10):\n",
    "        rf = RandomForestClassifier(n_estimators=n,\n",
    "                                    max_depth=d,\n",
    "                                    random_state=1)\n",
    "        rf.fit(X_resampled, y_resampled)\n",
    "\n",
    "        y_pred = rf.predict_proba(X_test)[:, 1]\n",
    "        auc = roc_auc_score(y_test, y_pred)\n",
    "\n",
    "        scores.append((d, n, auc))"
   ]
  },
  {
   "cell_type": "code",
   "execution_count": 35,
   "metadata": {},
   "outputs": [],
   "source": [
    "columns = ['max_depth', 'n_estimators', 'auc']\n",
    "df_scores = pd.DataFrame(scores, columns=columns)"
   ]
  },
  {
   "cell_type": "code",
   "execution_count": 36,
   "metadata": {},
   "outputs": [
    {
     "data": {
      "text/plain": [
       "<matplotlib.legend.Legend at 0x2809376c090>"
      ]
     },
     "execution_count": 36,
     "metadata": {},
     "output_type": "execute_result"
    },
    {
     "data": {
      "image/png": "[encoded data removed]",
      "text/plain": [
       "<Figure size 640x480 with 1 Axes>"
      ]
     },
     "metadata": {},
     "output_type": "display_data"
    }
   ],
   "source": [
    "for d in [5, 10, 15]:\n",
    "    df_subset = df_scores[df_scores.max_depth == d]\n",
    "    \n",
    "    plt.plot(df_subset.n_estimators, df_subset.auc,\n",
    "             label='max_depth=%d' % d)\n",
    "\n",
    "plt.legend()"
   ]
  },
  {
   "cell_type": "code",
   "execution_count": 37,
   "metadata": {},
   "outputs": [],
   "source": [
    "max_depth = 15"
   ]
  },
  {
   "cell_type": "code",
   "execution_count": 38,
   "metadata": {},
   "outputs": [],
   "source": [
    "scores = []\n",
    "\n",
    "for s in [1, 3, 5, 10, 50]:\n",
    "    for n in range(10, 201, 10):\n",
    "        rf = RandomForestClassifier(n_estimators=n,\n",
    "                                    max_depth=max_depth,\n",
    "                                    min_samples_leaf=s,\n",
    "                                    random_state=1)\n",
    "        rf.fit(X_resampled, y_resampled)\n",
    "\n",
    "        y_pred = rf.predict_proba(X_test)[:, 1]\n",
    "        auc = roc_auc_score(y_test, y_pred)\n",
    "\n",
    "        scores.append((s, n, auc))"
   ]
  },
  {
   "cell_type": "code",
   "execution_count": 39,
   "metadata": {},
   "outputs": [],
   "source": [
    "columns = ['min_samples_leaf', 'n_estimators', 'auc']\n",
    "df_scores = pd.DataFrame(scores, columns=columns)"
   ]
  },
  {
   "cell_type": "code",
   "execution_count": 40,
   "metadata": {},
   "outputs": [
    {
     "data": {
      "text/plain": [
       "<matplotlib.legend.Legend at 0x2811dd65d50>"
      ]
     },
     "execution_count": 40,
     "metadata": {},
     "output_type": "execute_result"
    },
    {
     "data": {
      "image/png": "[encoded data removed]",
      "text/plain": [
       "<Figure size 640x480 with 1 Axes>"
      ]
     },
     "metadata": {},
     "output_type": "display_data"
    }
   ],
   "source": [
    "colors = ['black', 'blue', 'orange', 'red', 'grey']\n",
    "values = [1, 3, 5, 10, 50]\n",
    "\n",
    "for s, col in zip(values, colors):\n",
    "    df_subset = df_scores[df_scores.min_samples_leaf == s]\n",
    "    \n",
    "    plt.plot(df_subset.n_estimators, df_subset.auc,\n",
    "             color=col,\n",
    "             label='min_samples_leaf=%d' % s)\n",
    "\n",
    "plt.legend()"
   ]
  },
  {
   "cell_type": "markdown",
   "metadata": {},
   "source": [
    "## XGboost classifier"
   ]
  },
  {
   "cell_type": "code",
   "execution_count": null,
   "metadata": {},
   "outputs": [],
   "source": [
    "import xgboost as xgb"
   ]
  },
  {
   "cell_type": "code",
   "execution_count": null,
   "metadata": {},
   "outputs": [],
   "source": [
    "# Preparación de los datos\n",
    "dtrain = xgb.DMatrix(X_train, label=y_train)  # Datos de entrenamiento\n",
    "dval = xgb.DMatrix(X_test, label=y_test)        # Datos de validación\n",
    "\n",
    "# Preparar la lista de evaluación\n",
    "watchlist = [(dtrain, 'train'), (dval, 'eval')]\n"
   ]
  },
  {
   "cell_type": "code",
   "execution_count": null,
   "metadata": {},
   "outputs": [],
   "source": [
    "# Diccionario para almacenar los resultados\n",
    "scores = {}\n",
    "\n",
    "# Parámetros de XGBoost\n",
    "xgb_params = {\n",
    "    'eta': 0.1, \n",
    "    'max_depth': 6,\n",
    "    'min_child_weight': 1,\n",
    "    'objective': 'binary:logistic',\n",
    "    'eval_metric': 'auc',\n",
    "    'nthread': 8,\n",
    "    'seed': 1,\n",
    "    'verbosity': 1,\n",
    "}\n",
    "\n",
    "# Entrenamiento del modelo\n",
    "%%capture output\n",
    "model = xgb.train(xgb_params, dtrain, num_boost_round=200,\n",
    "                  verbose_eval=5,\n",
    "                  evals=watchlist)"
   ]
  },
  {
   "cell_type": "code",
   "execution_count": null,
   "metadata": {},
   "outputs": [],
   "source": [
    "# Guardar los resultados\n",
    "key = 'eta=%s' % (xgb_params['eta'])\n",
    "scores[key] = parse_xgb_output(output)  # Aquí necesitas una función que procese el output\n",
    "key\n",
    "\n",
    "# Graficar los resultados\n",
    "for eta, df_score in scores.items():\n",
    "    plt.plot(df_score.num_iter, df_score.val_auc, label=eta)\n",
    "\n",
    "plt.ylim(0.8, 0.84)\n",
    "plt.legend()"
   ]
  },
  {
   "cell_type": "code",
   "execution_count": null,
   "metadata": {},
   "outputs": [],
   "source": [
    "\n",
    "# Cambiar el valor de 'max_depth' y hacer el entrenamiento\n",
    "xgb_params['max_depth'] = 10\n",
    "model = xgb.train(xgb_params, dtrain, num_boost_round=200,\n",
    "                  verbose_eval=5,\n",
    "                  evals=watchlist)\n",
    "\n",
    "key = 'max_depth=%s' % (xgb_params['max_depth'])\n",
    "scores[key] = parse_xgb_output(output)  # Aquí necesitas procesar el output\n",
    "del scores['max_depth=10']  # Borrar un conjunto específico si es necesario\n"
   ]
  },
  {
   "cell_type": "code",
   "execution_count": null,
   "metadata": {},
   "outputs": [],
   "source": [
    "# Graficar los resultados para max_depth\n",
    "for max_depth, df_score in scores.items():\n",
    "    plt.plot(df_score.num_iter, df_score.val_auc, label=max_depth)\n",
    "\n",
    "plt.ylim(0.8, 0.84)\n",
    "plt.legend()"
   ]
  },
  {
   "cell_type": "code",
   "execution_count": null,
   "metadata": {},
   "outputs": [],
   "source": [
    "# Ajustar para min_child_weight y repetir el proceso de entrenamiento y graficado\n",
    "xgb_params['min_child_weight'] = 30\n",
    "model = xgb.train(xgb_params, dtrain, num_boost_round=200,\n",
    "                  verbose_eval=5,\n",
    "                  evals=watchlist)\n",
    "\n",
    "key = 'min_child_weight=%s' % (xgb_params['min_child_weight'])\n",
    "scores[key] = parse_xgb_output(output)\n",
    "for min_child_weight, df_score in scores.items():\n",
    "    plt.plot(df_score.num_iter, df_score.val_auc, label=min_child_weight)\n",
    "\n",
    "plt.ylim(0.82, 0.84)\n",
    "plt.legend()\n",
    "\n",
    "plt.show()"
   ]
  }
 ],
 "metadata": {
  "kernelspec": {
   "display_name": "colocacion_de_creditos",
   "language": "python",
   "name": "python3"
  },
  "language_info": {
   "codemirror_mode": {
    "name": "ipython",
    "version": 3
   },
   "file_extension": ".py",
   "mimetype": "text/x-python",
   "name": "python",
   "nbconvert_exporter": "python",
   "pygments_lexer": "ipython3",
   "version": "3.11.11"
  }
 },
 "nbformat": 4,
 "nbformat_minor": 2
}
