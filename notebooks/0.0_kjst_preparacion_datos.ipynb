{
 "cells": [
  {
   "cell_type": "code",
   "execution_count": 18,
   "metadata": {},
   "outputs": [
    {
     "name": "stdout",
     "output_type": "stream",
     "text": [
      "The autoreload extension is already loaded. To reload it, use:\n",
      "  %reload_ext autoreload\n"
     ]
    }
   ],
   "source": [
    "%load_ext autoreload\n",
    "%autoreload 2"
   ]
  },
  {
   "cell_type": "code",
   "execution_count": 19,
   "metadata": {},
   "outputs": [],
   "source": [
    "import pandas as pd \n",
    "import numpy as np\n",
    "import matplotlib.pyplot as plt\n",
    "import seaborn as sns"
   ]
  },
  {
   "cell_type": "code",
   "execution_count": 20,
   "metadata": {},
   "outputs": [],
   "source": [
    "from colocacion_de_creditos.utils.paths import data_dir"
   ]
  },
  {
   "cell_type": "code",
   "execution_count": 21,
   "metadata": {},
   "outputs": [],
   "source": [
    "df_colocacion=pd.read_parquet(data_dir(\"raw\",\"df_final_estudiantes.parquet\"))"
   ]
  },
  {
   "cell_type": "code",
   "execution_count": 22,
   "metadata": {},
   "outputs": [
    {
     "data": {
      "text/html": [
       "<div>\n",
       "<style scoped>\n",
       "    .dataframe tbody tr th:only-of-type {\n",
       "        vertical-align: middle;\n",
       "    }\n",
       "\n",
       "    .dataframe tbody tr th {\n",
       "        vertical-align: top;\n",
       "    }\n",
       "\n",
       "    .dataframe thead th {\n",
       "        text-align: right;\n",
       "    }\n",
       "</style>\n",
       "<table border=\"1\" class=\"dataframe\">\n",
       "  <thead>\n",
       "    <tr style=\"text-align: right;\">\n",
       "      <th></th>\n",
       "      <th>IDENTIFICACION</th>\n",
       "      <th>PRODUCTO</th>\n",
       "      <th>PERIODO_COMERCIAL</th>\n",
       "      <th>SEGMENTO</th>\n",
       "      <th>FECHA_CARGA</th>\n",
       "      <th>FECHA_VIGENCIA</th>\n",
       "      <th>REGION</th>\n",
       "      <th>N_VECES_CAMPAÑA</th>\n",
       "      <th>N_VECES_CAMPAÑA_CONT</th>\n",
       "      <th>TIPO_APROBACION</th>\n",
       "      <th>...</th>\n",
       "      <th>APROBACION_MES_ANTERIOR</th>\n",
       "      <th>PRODUCTO_MES_ANTERIOR</th>\n",
       "      <th>MONTO_COLOCADO</th>\n",
       "      <th>fecha_liquidacion</th>\n",
       "      <th>CANAL_VENTA</th>\n",
       "      <th>CONTACTABILIDAD_CELULAR</th>\n",
       "      <th>CONTACTABILIDAD_EMAIL</th>\n",
       "      <th>CONTACTABILIDAD_FIJO</th>\n",
       "      <th>CONTACTABILIDAD_TOTAL</th>\n",
       "      <th>COLOCADO</th>\n",
       "    </tr>\n",
       "  </thead>\n",
       "  <tbody>\n",
       "    <tr>\n",
       "      <th>0</th>\n",
       "      <td>0523373</td>\n",
       "      <td>Producto1</td>\n",
       "      <td>202408</td>\n",
       "      <td>SEGMENTO1</td>\n",
       "      <td>2024-08-22</td>\n",
       "      <td>2024-09-13</td>\n",
       "      <td>NORTE</td>\n",
       "      <td>19</td>\n",
       "      <td>5</td>\n",
       "      <td>TIPO1</td>\n",
       "      <td>...</td>\n",
       "      <td>TIPO1</td>\n",
       "      <td>Producto1</td>\n",
       "      <td>NaN</td>\n",
       "      <td>None</td>\n",
       "      <td>None</td>\n",
       "      <td>AC</td>\n",
       "      <td>MK</td>\n",
       "      <td>AC</td>\n",
       "      <td>AC</td>\n",
       "      <td>0</td>\n",
       "    </tr>\n",
       "    <tr>\n",
       "      <th>1</th>\n",
       "      <td>0523373</td>\n",
       "      <td>Producto1</td>\n",
       "      <td>202405</td>\n",
       "      <td>SEGMENTO1</td>\n",
       "      <td>2024-05-11</td>\n",
       "      <td>2024-06-11</td>\n",
       "      <td>NORTE</td>\n",
       "      <td>16</td>\n",
       "      <td>2</td>\n",
       "      <td>TIPO1</td>\n",
       "      <td>...</td>\n",
       "      <td>TIPO1</td>\n",
       "      <td>Producto1</td>\n",
       "      <td>NaN</td>\n",
       "      <td>None</td>\n",
       "      <td>None</td>\n",
       "      <td>AC</td>\n",
       "      <td>MK</td>\n",
       "      <td>AC</td>\n",
       "      <td>AC</td>\n",
       "      <td>0</td>\n",
       "    </tr>\n",
       "    <tr>\n",
       "      <th>2</th>\n",
       "      <td>0523373</td>\n",
       "      <td>Producto1</td>\n",
       "      <td>202406</td>\n",
       "      <td>SEGMENTO1</td>\n",
       "      <td>2024-06-12</td>\n",
       "      <td>2024-07-12</td>\n",
       "      <td>NORTE</td>\n",
       "      <td>17</td>\n",
       "      <td>3</td>\n",
       "      <td>TIPO1</td>\n",
       "      <td>...</td>\n",
       "      <td>TIPO1</td>\n",
       "      <td>Producto1</td>\n",
       "      <td>NaN</td>\n",
       "      <td>None</td>\n",
       "      <td>None</td>\n",
       "      <td>AC</td>\n",
       "      <td>MK</td>\n",
       "      <td>AC</td>\n",
       "      <td>AC</td>\n",
       "      <td>0</td>\n",
       "    </tr>\n",
       "    <tr>\n",
       "      <th>3</th>\n",
       "      <td>0523374</td>\n",
       "      <td>Producto1</td>\n",
       "      <td>202403</td>\n",
       "      <td>SEGMENTO1</td>\n",
       "      <td>2024-03-11</td>\n",
       "      <td>2024-04-08</td>\n",
       "      <td>NORTE</td>\n",
       "      <td>21</td>\n",
       "      <td>7</td>\n",
       "      <td>TIPO1</td>\n",
       "      <td>...</td>\n",
       "      <td>TIPO1</td>\n",
       "      <td>Producto1</td>\n",
       "      <td>NaN</td>\n",
       "      <td>None</td>\n",
       "      <td>None</td>\n",
       "      <td>AC</td>\n",
       "      <td>AC</td>\n",
       "      <td>AC</td>\n",
       "      <td>AC</td>\n",
       "      <td>0</td>\n",
       "    </tr>\n",
       "    <tr>\n",
       "      <th>4</th>\n",
       "      <td>0523374</td>\n",
       "      <td>Producto1</td>\n",
       "      <td>202402</td>\n",
       "      <td>SEGMENTO1</td>\n",
       "      <td>2024-02-08</td>\n",
       "      <td>2024-03-10</td>\n",
       "      <td>NORTE</td>\n",
       "      <td>20</td>\n",
       "      <td>6</td>\n",
       "      <td>TIPO1</td>\n",
       "      <td>...</td>\n",
       "      <td>TIPO1</td>\n",
       "      <td>Producto1</td>\n",
       "      <td>NaN</td>\n",
       "      <td>None</td>\n",
       "      <td>None</td>\n",
       "      <td>AC</td>\n",
       "      <td>AC</td>\n",
       "      <td>AC</td>\n",
       "      <td>AC</td>\n",
       "      <td>0</td>\n",
       "    </tr>\n",
       "  </tbody>\n",
       "</table>\n",
       "<p>5 rows × 27 columns</p>\n",
       "</div>"
      ],
      "text/plain": [
       "  IDENTIFICACION   PRODUCTO  PERIODO_COMERCIAL   SEGMENTO FECHA_CARGA  \\\n",
       "0        0523373  Producto1             202408  SEGMENTO1  2024-08-22   \n",
       "1        0523373  Producto1             202405  SEGMENTO1  2024-05-11   \n",
       "2        0523373  Producto1             202406  SEGMENTO1  2024-06-12   \n",
       "3        0523374  Producto1             202403  SEGMENTO1  2024-03-11   \n",
       "4        0523374  Producto1             202402  SEGMENTO1  2024-02-08   \n",
       "\n",
       "  FECHA_VIGENCIA REGION  N_VECES_CAMPAÑA  N_VECES_CAMPAÑA_CONT  \\\n",
       "0     2024-09-13  NORTE               19                     5   \n",
       "1     2024-06-11  NORTE               16                     2   \n",
       "2     2024-07-12  NORTE               17                     3   \n",
       "3     2024-04-08  NORTE               21                     7   \n",
       "4     2024-03-10  NORTE               20                     6   \n",
       "\n",
       "  TIPO_APROBACION  ... APROBACION_MES_ANTERIOR PRODUCTO_MES_ANTERIOR  \\\n",
       "0           TIPO1  ...                   TIPO1             Producto1   \n",
       "1           TIPO1  ...                   TIPO1             Producto1   \n",
       "2           TIPO1  ...                   TIPO1             Producto1   \n",
       "3           TIPO1  ...                   TIPO1             Producto1   \n",
       "4           TIPO1  ...                   TIPO1             Producto1   \n",
       "\n",
       "   MONTO_COLOCADO  fecha_liquidacion CANAL_VENTA  CONTACTABILIDAD_CELULAR  \\\n",
       "0             NaN               None        None                       AC   \n",
       "1             NaN               None        None                       AC   \n",
       "2             NaN               None        None                       AC   \n",
       "3             NaN               None        None                       AC   \n",
       "4             NaN               None        None                       AC   \n",
       "\n",
       "   CONTACTABILIDAD_EMAIL CONTACTABILIDAD_FIJO CONTACTABILIDAD_TOTAL  COLOCADO  \n",
       "0                     MK                   AC                    AC         0  \n",
       "1                     MK                   AC                    AC         0  \n",
       "2                     MK                   AC                    AC         0  \n",
       "3                     AC                   AC                    AC         0  \n",
       "4                     AC                   AC                    AC         0  \n",
       "\n",
       "[5 rows x 27 columns]"
      ]
     },
     "execution_count": 22,
     "metadata": {},
     "output_type": "execute_result"
    }
   ],
   "source": [
    "df_colocacion.head()"
   ]
  },
  {
   "cell_type": "code",
   "execution_count": 23,
   "metadata": {},
   "outputs": [
    {
     "data": {
      "text/plain": [
       "(5178528, 27)"
      ]
     },
     "execution_count": 23,
     "metadata": {},
     "output_type": "execute_result"
    }
   ],
   "source": [
    "df_colocacion.shape"
   ]
  },
  {
   "cell_type": "code",
   "execution_count": 24,
   "metadata": {},
   "outputs": [
    {
     "name": "stdout",
     "output_type": "stream",
     "text": [
      "<class 'pandas.core.frame.DataFrame'>\n",
      "RangeIndex: 5178528 entries, 0 to 5178527\n",
      "Data columns (total 27 columns):\n",
      " #   Column                   Dtype  \n",
      "---  ------                   -----  \n",
      " 0   IDENTIFICACION           object \n",
      " 1   PRODUCTO                 object \n",
      " 2   PERIODO_COMERCIAL        int64  \n",
      " 3   SEGMENTO                 object \n",
      " 4   FECHA_CARGA              object \n",
      " 5   FECHA_VIGENCIA           object \n",
      " 6   REGION                   object \n",
      " 7   N_VECES_CAMPAÑA          int64  \n",
      " 8   N_VECES_CAMPAÑA_CONT     int64  \n",
      " 9   TIPO_APROBACION          object \n",
      " 10  CANAL                    object \n",
      " 11  CLIENTE_BG               object \n",
      " 12  IVC                      int64  \n",
      " 13  score_aceptacion         int64  \n",
      " 14  SUB_PERFIL_RIESGOS       object \n",
      " 15  SCORE                    int64  \n",
      " 16  CUPO                     float64\n",
      " 17  APROBACION_MES_ANTERIOR  object \n",
      " 18  PRODUCTO_MES_ANTERIOR    object \n",
      " 19  MONTO_COLOCADO           float64\n",
      " 20  fecha_liquidacion        object \n",
      " 21  CANAL_VENTA              object \n",
      " 22  CONTACTABILIDAD_CELULAR  object \n",
      " 23  CONTACTABILIDAD_EMAIL    object \n",
      " 24  CONTACTABILIDAD_FIJO     object \n",
      " 25  CONTACTABILIDAD_TOTAL    object \n",
      " 26  COLOCADO                 int64  \n",
      "dtypes: float64(2), int64(7), object(18)\n",
      "memory usage: 1.0+ GB\n"
     ]
    }
   ],
   "source": [
    "df_colocacion.info()"
   ]
  },
  {
   "cell_type": "code",
   "execution_count": 25,
   "metadata": {},
   "outputs": [
    {
     "data": {
      "text/plain": [
       "IDENTIFICACION                   0\n",
       "PRODUCTO                         0\n",
       "PERIODO_COMERCIAL                0\n",
       "SEGMENTO                         0\n",
       "FECHA_CARGA                      0\n",
       "FECHA_VIGENCIA                   0\n",
       "REGION                           0\n",
       "N_VECES_CAMPAÑA                  0\n",
       "N_VECES_CAMPAÑA_CONT             0\n",
       "TIPO_APROBACION                  0\n",
       "CANAL                            0\n",
       "CLIENTE_BG                       0\n",
       "IVC                              0\n",
       "score_aceptacion                 0\n",
       "SUB_PERFIL_RIESGOS               0\n",
       "SCORE                            0\n",
       "CUPO                             0\n",
       "APROBACION_MES_ANTERIOR     603226\n",
       "PRODUCTO_MES_ANTERIOR       603226\n",
       "MONTO_COLOCADO             5115038\n",
       "fecha_liquidacion          5115038\n",
       "CANAL_VENTA                5115038\n",
       "CONTACTABILIDAD_CELULAR     170496\n",
       "CONTACTABILIDAD_EMAIL        82292\n",
       "CONTACTABILIDAD_FIJO        792987\n",
       "CONTACTABILIDAD_TOTAL            0\n",
       "COLOCADO                         0\n",
       "dtype: int64"
      ]
     },
     "execution_count": 25,
     "metadata": {},
     "output_type": "execute_result"
    }
   ],
   "source": [
    "df_colocacion.isna().sum()"
   ]
  },
  {
   "cell_type": "code",
   "execution_count": 26,
   "metadata": {},
   "outputs": [
    {
     "data": {
      "text/plain": [
       "IDENTIFICACION              0.000000\n",
       "PRODUCTO                    0.000000\n",
       "PERIODO_COMERCIAL           0.000000\n",
       "SEGMENTO                    0.000000\n",
       "FECHA_CARGA                 0.000000\n",
       "FECHA_VIGENCIA              0.000000\n",
       "REGION                      0.000000\n",
       "N_VECES_CAMPAÑA             0.000000\n",
       "N_VECES_CAMPAÑA_CONT        0.000000\n",
       "TIPO_APROBACION             0.000000\n",
       "CANAL                       0.000000\n",
       "CLIENTE_BG                  0.000000\n",
       "IVC                         0.000000\n",
       "score_aceptacion            0.000000\n",
       "SUB_PERFIL_RIESGOS          0.000000\n",
       "SCORE                       0.000000\n",
       "CUPO                        0.000000\n",
       "APROBACION_MES_ANTERIOR    11.648600\n",
       "PRODUCTO_MES_ANTERIOR      11.648600\n",
       "MONTO_COLOCADO             98.773976\n",
       "fecha_liquidacion          98.773976\n",
       "CANAL_VENTA                98.773976\n",
       "CONTACTABILIDAD_CELULAR     3.292364\n",
       "CONTACTABILIDAD_EMAIL       1.589100\n",
       "CONTACTABILIDAD_FIJO       15.312981\n",
       "CONTACTABILIDAD_TOTAL       0.000000\n",
       "COLOCADO                    0.000000\n",
       "dtype: float64"
      ]
     },
     "execution_count": 26,
     "metadata": {},
     "output_type": "execute_result"
    }
   ],
   "source": [
    "porcentaje_nulos = df_colocacion.isnull().mean() * 100\n",
    "porcentaje_nulos"
   ]
  },
  {
   "cell_type": "markdown",
   "metadata": {},
   "source": [
    "podemos visualizar que las unicos valores nulos que tenemos son , APROBACION_MES_ANTERIOR,PRODUCTO_MES_ANTERIOR que hace referencia a que quizas no estuvieron en campaña el mes anterior.\n",
    "las variables de MONTO_COLOCADO,fecha_liquidacion,CANAL_VENTA , tenemos una gran cantidad de valores nulos debido que solo se colocaron 63490 creditos mientras que los otros no.\n",
    "y tenemos tambien valores nulos en la contactibilidad tanto de email, fijo  y celular que pueden ser posibles debido a que no se proporcionaron datos para ese tipo de contactibilidad."
   ]
  },
  {
   "cell_type": "code",
   "execution_count": 27,
   "metadata": {},
   "outputs": [
    {
     "name": "stdout",
     "output_type": "stream",
     "text": [
      "CONTACTABILIDAD_CELULAR\n",
      "AC    4626733\n",
      "ND     381064\n",
      "BC        235\n",
      "Name: count, dtype: int64\n",
      "['AC' 'ND' None 'BC']\n"
     ]
    }
   ],
   "source": [
    "print(df_colocacion.CONTACTABILIDAD_CELULAR.value_counts())\n",
    "print(df_colocacion.CONTACTABILIDAD_CELULAR.unique())"
   ]
  },
  {
   "cell_type": "code",
   "execution_count": 28,
   "metadata": {},
   "outputs": [
    {
     "name": "stdout",
     "output_type": "stream",
     "text": [
      "CONTACTABILIDAD_EMAIL\n",
      "AC    2804609\n",
      "MK    1078662\n",
      "ND     613636\n",
      "       599329\n",
      "Name: count, dtype: int64\n",
      "['MK' 'AC' 'ND' '' None]\n"
     ]
    }
   ],
   "source": [
    "print(df_colocacion.CONTACTABILIDAD_EMAIL.value_counts())\n",
    "print(df_colocacion.CONTACTABILIDAD_EMAIL.unique())"
   ]
  },
  {
   "cell_type": "code",
   "execution_count": 29,
   "metadata": {},
   "outputs": [
    {
     "name": "stdout",
     "output_type": "stream",
     "text": [
      "CONTACTABILIDAD_FIJO\n",
      "AC    2663348\n",
      "ND    1721063\n",
      "BC        703\n",
      "NV        427\n",
      "Name: count, dtype: int64\n",
      "['AC' 'ND' None 'NV' 'BC']\n"
     ]
    }
   ],
   "source": [
    "print(df_colocacion.CONTACTABILIDAD_FIJO.value_counts())\n",
    "print(df_colocacion.CONTACTABILIDAD_FIJO.unique())"
   ]
  },
  {
   "cell_type": "code",
   "execution_count": 30,
   "metadata": {},
   "outputs": [
    {
     "name": "stdout",
     "output_type": "stream",
     "text": [
      "CONTACTABILIDAD_TOTAL\n",
      "AC    4783638\n",
      "ND     394890\n",
      "Name: count, dtype: int64\n",
      "['AC' 'ND']\n"
     ]
    }
   ],
   "source": [
    "print(df_colocacion.CONTACTABILIDAD_TOTAL.value_counts())\n",
    "print(df_colocacion.CONTACTABILIDAD_TOTAL.unique())"
   ]
  },
  {
   "cell_type": "markdown",
   "metadata": {},
   "source": [
    "para las variables   APROBACION_MES_ANTERIOR y PRODUCTO_MES_ANTERIOR como estos valores representan una situación donde no se ha tenido ninguna interacción previa, podrías reemplazar los valores nulos por \"Ninguno\""
   ]
  },
  {
   "cell_type": "code",
   "execution_count": 31,
   "metadata": {},
   "outputs": [],
   "source": [
    "columnas_nulos=[\"APROBACION_MES_ANTERIOR\",\"PRODUCTO_MES_ANTERIOR\"]\n",
    "df_colocacion[columnas_nulos] = df_colocacion[columnas_nulos].fillna('Ninguno')"
   ]
  },
  {
   "cell_type": "code",
   "execution_count": 32,
   "metadata": {},
   "outputs": [],
   "source": [
    "df_colocacion['MONTO_COLOCADO'] = df_colocacion['MONTO_COLOCADO'].fillna(0)  # Imputar 0 cuando no se ha liquidado\n",
    "df_colocacion['fecha_liquidacion'] = df_colocacion['fecha_liquidacion'].fillna('Ninguno')  # Fecha predeterminada para registros sin fecha"
   ]
  },
  {
   "cell_type": "markdown",
   "metadata": {},
   "source": [
    "Se eliminarán las columnas CANAL_VENTA debido a que la variable CANAL ya contiene la misma información, lo que hace que CANAL_VENTA sea redundante en este contexto. Además, las variables relacionadas con los niveles de CONTACTABILIDAD_CELULAR, CONTACTABILIDAD_EMAIL y CONTACTABILIDAD_FIJO también se eliminarán, ya que trabajaremos con la variable CONTACTABILIDAD_TOTAL, la cual ya encapsula el nivel total de contacto del cliente a través de todos los medios posibles."
   ]
  },
  {
   "cell_type": "code",
   "execution_count": 33,
   "metadata": {},
   "outputs": [],
   "source": [
    "df_colocacion.drop(columns=[\"CANAL_VENTA\",\"CONTACTABILIDAD_EMAIL\",\"CONTACTABILIDAD_FIJO\",\"CONTACTABILIDAD_CELULAR\"],inplace=True)"
   ]
  },
  {
   "cell_type": "code",
   "execution_count": 37,
   "metadata": {},
   "outputs": [
    {
     "data": {
      "text/plain": [
       "IDENTIFICACION             0\n",
       "PRODUCTO                   0\n",
       "PERIODO_COMERCIAL          0\n",
       "SEGMENTO                   0\n",
       "FECHA_CARGA                0\n",
       "FECHA_VIGENCIA             0\n",
       "REGION                     0\n",
       "N_VECES_CAMPAÑA            0\n",
       "N_VECES_CAMPAÑA_CONT       0\n",
       "TIPO_APROBACION            0\n",
       "CANAL                      0\n",
       "CLIENTE_BG                 0\n",
       "IVC                        0\n",
       "score_aceptacion           0\n",
       "SUB_PERFIL_RIESGOS         0\n",
       "SCORE                      0\n",
       "CUPO                       0\n",
       "APROBACION_MES_ANTERIOR    0\n",
       "PRODUCTO_MES_ANTERIOR      0\n",
       "MONTO_COLOCADO             0\n",
       "fecha_liquidacion          0\n",
       "CONTACTABILIDAD_TOTAL      0\n",
       "COLOCADO                   0\n",
       "dtype: int64"
      ]
     },
     "execution_count": 37,
     "metadata": {},
     "output_type": "execute_result"
    }
   ],
   "source": [
    "df_colocacion.isna().sum()"
   ]
  },
  {
   "cell_type": "code",
   "execution_count": 38,
   "metadata": {},
   "outputs": [
    {
     "data": {
      "text/html": [
       "<div>\n",
       "<style scoped>\n",
       "    .dataframe tbody tr th:only-of-type {\n",
       "        vertical-align: middle;\n",
       "    }\n",
       "\n",
       "    .dataframe tbody tr th {\n",
       "        vertical-align: top;\n",
       "    }\n",
       "\n",
       "    .dataframe thead th {\n",
       "        text-align: right;\n",
       "    }\n",
       "</style>\n",
       "<table border=\"1\" class=\"dataframe\">\n",
       "  <thead>\n",
       "    <tr style=\"text-align: right;\">\n",
       "      <th></th>\n",
       "      <th>IDENTIFICACION</th>\n",
       "      <th>PRODUCTO</th>\n",
       "      <th>PERIODO_COMERCIAL</th>\n",
       "      <th>SEGMENTO</th>\n",
       "      <th>FECHA_CARGA</th>\n",
       "      <th>FECHA_VIGENCIA</th>\n",
       "      <th>REGION</th>\n",
       "      <th>N_VECES_CAMPAÑA</th>\n",
       "      <th>N_VECES_CAMPAÑA_CONT</th>\n",
       "      <th>TIPO_APROBACION</th>\n",
       "      <th>...</th>\n",
       "      <th>score_aceptacion</th>\n",
       "      <th>SUB_PERFIL_RIESGOS</th>\n",
       "      <th>SCORE</th>\n",
       "      <th>CUPO</th>\n",
       "      <th>APROBACION_MES_ANTERIOR</th>\n",
       "      <th>PRODUCTO_MES_ANTERIOR</th>\n",
       "      <th>MONTO_COLOCADO</th>\n",
       "      <th>fecha_liquidacion</th>\n",
       "      <th>CONTACTABILIDAD_TOTAL</th>\n",
       "      <th>COLOCADO</th>\n",
       "    </tr>\n",
       "  </thead>\n",
       "  <tbody>\n",
       "    <tr>\n",
       "      <th>2673113</th>\n",
       "      <td>0171498</td>\n",
       "      <td>Producto1</td>\n",
       "      <td>202401</td>\n",
       "      <td>SEGMENTO1</td>\n",
       "      <td>2024-01-09</td>\n",
       "      <td>2024-02-08</td>\n",
       "      <td>CENTRO</td>\n",
       "      <td>16</td>\n",
       "      <td>2</td>\n",
       "      <td>TIPO1</td>\n",
       "      <td>...</td>\n",
       "      <td>633</td>\n",
       "      <td>PERFIL1</td>\n",
       "      <td>950</td>\n",
       "      <td>3803.09</td>\n",
       "      <td>TIPO1</td>\n",
       "      <td>Producto1</td>\n",
       "      <td>1075.190</td>\n",
       "      <td>2024-02-03</td>\n",
       "      <td>AC</td>\n",
       "      <td>1</td>\n",
       "    </tr>\n",
       "    <tr>\n",
       "      <th>2673114</th>\n",
       "      <td>0171498</td>\n",
       "      <td>Producto1</td>\n",
       "      <td>202401</td>\n",
       "      <td>SEGMENTO1</td>\n",
       "      <td>2024-01-09</td>\n",
       "      <td>2024-02-08</td>\n",
       "      <td>CENTRO</td>\n",
       "      <td>16</td>\n",
       "      <td>2</td>\n",
       "      <td>TIPO1</td>\n",
       "      <td>...</td>\n",
       "      <td>633</td>\n",
       "      <td>PERFIL1</td>\n",
       "      <td>950</td>\n",
       "      <td>3803.09</td>\n",
       "      <td>TIPO1</td>\n",
       "      <td>Producto1</td>\n",
       "      <td>1055.705</td>\n",
       "      <td>2024-01-22</td>\n",
       "      <td>AC</td>\n",
       "      <td>1</td>\n",
       "    </tr>\n",
       "    <tr>\n",
       "      <th>2673115</th>\n",
       "      <td>0171498</td>\n",
       "      <td>Producto1</td>\n",
       "      <td>202401</td>\n",
       "      <td>SEGMENTO1</td>\n",
       "      <td>2024-01-09</td>\n",
       "      <td>2024-02-08</td>\n",
       "      <td>CENTRO</td>\n",
       "      <td>16</td>\n",
       "      <td>2</td>\n",
       "      <td>TIPO1</td>\n",
       "      <td>...</td>\n",
       "      <td>633</td>\n",
       "      <td>PERFIL1</td>\n",
       "      <td>950</td>\n",
       "      <td>3803.09</td>\n",
       "      <td>TIPO1</td>\n",
       "      <td>Producto1</td>\n",
       "      <td>1192.100</td>\n",
       "      <td>2024-01-31</td>\n",
       "      <td>AC</td>\n",
       "      <td>1</td>\n",
       "    </tr>\n",
       "    <tr>\n",
       "      <th>2673116</th>\n",
       "      <td>0171498</td>\n",
       "      <td>Producto1</td>\n",
       "      <td>202401</td>\n",
       "      <td>SEGMENTO1</td>\n",
       "      <td>2024-01-09</td>\n",
       "      <td>2024-02-08</td>\n",
       "      <td>CENTRO</td>\n",
       "      <td>16</td>\n",
       "      <td>2</td>\n",
       "      <td>TIPO1</td>\n",
       "      <td>...</td>\n",
       "      <td>633</td>\n",
       "      <td>PERFIL1</td>\n",
       "      <td>950</td>\n",
       "      <td>3803.09</td>\n",
       "      <td>TIPO1</td>\n",
       "      <td>Producto1</td>\n",
       "      <td>997.250</td>\n",
       "      <td>2024-01-14</td>\n",
       "      <td>AC</td>\n",
       "      <td>1</td>\n",
       "    </tr>\n",
       "    <tr>\n",
       "      <th>2673117</th>\n",
       "      <td>0171498</td>\n",
       "      <td>Producto1</td>\n",
       "      <td>202401</td>\n",
       "      <td>SEGMENTO1</td>\n",
       "      <td>2024-01-09</td>\n",
       "      <td>2024-02-08</td>\n",
       "      <td>CENTRO</td>\n",
       "      <td>16</td>\n",
       "      <td>2</td>\n",
       "      <td>TIPO1</td>\n",
       "      <td>...</td>\n",
       "      <td>633</td>\n",
       "      <td>PERFIL1</td>\n",
       "      <td>950</td>\n",
       "      <td>3803.09</td>\n",
       "      <td>TIPO1</td>\n",
       "      <td>Producto1</td>\n",
       "      <td>1055.705</td>\n",
       "      <td>2024-01-26</td>\n",
       "      <td>AC</td>\n",
       "      <td>1</td>\n",
       "    </tr>\n",
       "  </tbody>\n",
       "</table>\n",
       "<p>5 rows × 23 columns</p>\n",
       "</div>"
      ],
      "text/plain": [
       "        IDENTIFICACION   PRODUCTO  PERIODO_COMERCIAL   SEGMENTO FECHA_CARGA  \\\n",
       "2673113        0171498  Producto1             202401  SEGMENTO1  2024-01-09   \n",
       "2673114        0171498  Producto1             202401  SEGMENTO1  2024-01-09   \n",
       "2673115        0171498  Producto1             202401  SEGMENTO1  2024-01-09   \n",
       "2673116        0171498  Producto1             202401  SEGMENTO1  2024-01-09   \n",
       "2673117        0171498  Producto1             202401  SEGMENTO1  2024-01-09   \n",
       "\n",
       "        FECHA_VIGENCIA  REGION  N_VECES_CAMPAÑA  N_VECES_CAMPAÑA_CONT  \\\n",
       "2673113     2024-02-08  CENTRO               16                     2   \n",
       "2673114     2024-02-08  CENTRO               16                     2   \n",
       "2673115     2024-02-08  CENTRO               16                     2   \n",
       "2673116     2024-02-08  CENTRO               16                     2   \n",
       "2673117     2024-02-08  CENTRO               16                     2   \n",
       "\n",
       "        TIPO_APROBACION  ... score_aceptacion SUB_PERFIL_RIESGOS  SCORE  \\\n",
       "2673113           TIPO1  ...              633            PERFIL1    950   \n",
       "2673114           TIPO1  ...              633            PERFIL1    950   \n",
       "2673115           TIPO1  ...              633            PERFIL1    950   \n",
       "2673116           TIPO1  ...              633            PERFIL1    950   \n",
       "2673117           TIPO1  ...              633            PERFIL1    950   \n",
       "\n",
       "            CUPO APROBACION_MES_ANTERIOR  PRODUCTO_MES_ANTERIOR  \\\n",
       "2673113  3803.09                   TIPO1              Producto1   \n",
       "2673114  3803.09                   TIPO1              Producto1   \n",
       "2673115  3803.09                   TIPO1              Producto1   \n",
       "2673116  3803.09                   TIPO1              Producto1   \n",
       "2673117  3803.09                   TIPO1              Producto1   \n",
       "\n",
       "         MONTO_COLOCADO fecha_liquidacion CONTACTABILIDAD_TOTAL  COLOCADO  \n",
       "2673113        1075.190        2024-02-03                    AC         1  \n",
       "2673114        1055.705        2024-01-22                    AC         1  \n",
       "2673115        1192.100        2024-01-31                    AC         1  \n",
       "2673116         997.250        2024-01-14                    AC         1  \n",
       "2673117        1055.705        2024-01-26                    AC         1  \n",
       "\n",
       "[5 rows x 23 columns]"
      ]
     },
     "execution_count": 38,
     "metadata": {},
     "output_type": "execute_result"
    }
   ],
   "source": [
    "df_colocacion[df_colocacion.IDENTIFICACION==\"0171498\"]"
   ]
  },
  {
   "cell_type": "markdown",
   "metadata": {},
   "source": [
    "a partir de esta observacion podemos ver que tenemos valores repetidos  ,una persona solo puede estar una vez por perido, pueden haber 2 periodos por mes .\n",
    "una persona puede dividir las liquidaciones en algunas fechas por ello las filas repetidas."
   ]
  },
  {
   "cell_type": "markdown",
   "metadata": {},
   "source": [
    "observamos que las unicas columnas que cambian son el monto colocado ya que se paga el monto por parte  y la fecha de liquidacion que es la fecha en que se hace la acreditacion, por lo que vamos a agrupar por identificador y por fecha de campaña , vamos a sumar los montos colocados y dejar la ultima fecha de liquidacion "
   ]
  },
  {
   "cell_type": "code",
   "execution_count": 40,
   "metadata": {},
   "outputs": [],
   "source": [
    "df_colocacion=df_colocacion.sort_values(by=[\"IDENTIFICACION\",\"PERIODO_COMERCIAL\",\"fecha_liquidacion\"])"
   ]
  },
  {
   "cell_type": "code",
   "execution_count": 41,
   "metadata": {},
   "outputs": [
    {
     "data": {
      "text/plain": [
       "Index(['IDENTIFICACION', 'PRODUCTO', 'PERIODO_COMERCIAL', 'SEGMENTO',\n",
       "       'FECHA_CARGA', 'FECHA_VIGENCIA', 'REGION', 'N_VECES_CAMPAÑA',\n",
       "       'N_VECES_CAMPAÑA_CONT', 'TIPO_APROBACION', 'CANAL', 'CLIENTE_BG', 'IVC',\n",
       "       'score_aceptacion', 'SUB_PERFIL_RIESGOS', 'SCORE', 'CUPO',\n",
       "       'APROBACION_MES_ANTERIOR', 'PRODUCTO_MES_ANTERIOR',\n",
       "       'CONTACTABILIDAD_TOTAL', 'COLOCADO'],\n",
       "      dtype='object')"
      ]
     },
     "execution_count": 41,
     "metadata": {},
     "output_type": "execute_result"
    }
   ],
   "source": [
    "#las unicas variables que se repiten son monto colocado y fecha de liquidacion de estos\n",
    "columnas_no_cambian=df_colocacion.drop(columns=[\"MONTO_COLOCADO\",\"fecha_liquidacion\"]).columns\n",
    "columnas_no_cambian"
   ]
  },
  {
   "cell_type": "code",
   "execution_count": 42,
   "metadata": {},
   "outputs": [],
   "source": [
    "df_colocacion_agrupado = (\n",
    "    df_colocacion.groupby(['IDENTIFICACION','PERIODO_COMERCIAL'], as_index=False)\n",
    "      .agg({\n",
    "          # Para las columnas categóricas, tomar el primer valor\n",
    "          **{col: 'first' for col in columnas_no_cambian},\n",
    "          # Para las columnas numéricas, aplicar la suma\n",
    "          'fecha_liquidacion': 'last',\n",
    "          'MONTO_COLOCADO': 'sum'\n",
    "      })\n",
    ")"
   ]
  },
  {
   "cell_type": "code",
   "execution_count": 43,
   "metadata": {},
   "outputs": [
    {
     "data": {
      "text/html": [
       "<div>\n",
       "<style scoped>\n",
       "    .dataframe tbody tr th:only-of-type {\n",
       "        vertical-align: middle;\n",
       "    }\n",
       "\n",
       "    .dataframe tbody tr th {\n",
       "        vertical-align: top;\n",
       "    }\n",
       "\n",
       "    .dataframe thead th {\n",
       "        text-align: right;\n",
       "    }\n",
       "</style>\n",
       "<table border=\"1\" class=\"dataframe\">\n",
       "  <thead>\n",
       "    <tr style=\"text-align: right;\">\n",
       "      <th></th>\n",
       "      <th>IDENTIFICACION</th>\n",
       "      <th>PRODUCTO</th>\n",
       "      <th>PERIODO_COMERCIAL</th>\n",
       "      <th>SEGMENTO</th>\n",
       "      <th>FECHA_CARGA</th>\n",
       "      <th>FECHA_VIGENCIA</th>\n",
       "      <th>REGION</th>\n",
       "      <th>N_VECES_CAMPAÑA</th>\n",
       "      <th>N_VECES_CAMPAÑA_CONT</th>\n",
       "      <th>TIPO_APROBACION</th>\n",
       "      <th>...</th>\n",
       "      <th>score_aceptacion</th>\n",
       "      <th>SUB_PERFIL_RIESGOS</th>\n",
       "      <th>SCORE</th>\n",
       "      <th>CUPO</th>\n",
       "      <th>APROBACION_MES_ANTERIOR</th>\n",
       "      <th>PRODUCTO_MES_ANTERIOR</th>\n",
       "      <th>CONTACTABILIDAD_TOTAL</th>\n",
       "      <th>COLOCADO</th>\n",
       "      <th>fecha_liquidacion</th>\n",
       "      <th>MONTO_COLOCADO</th>\n",
       "    </tr>\n",
       "  </thead>\n",
       "  <tbody>\n",
       "    <tr>\n",
       "      <th>756741</th>\n",
       "      <td>0171498</td>\n",
       "      <td>Producto1</td>\n",
       "      <td>202401</td>\n",
       "      <td>SEGMENTO1</td>\n",
       "      <td>2024-01-09</td>\n",
       "      <td>2024-02-08</td>\n",
       "      <td>CENTRO</td>\n",
       "      <td>16</td>\n",
       "      <td>2</td>\n",
       "      <td>TIPO1</td>\n",
       "      <td>...</td>\n",
       "      <td>633</td>\n",
       "      <td>PERFIL1</td>\n",
       "      <td>950</td>\n",
       "      <td>3803.09</td>\n",
       "      <td>TIPO1</td>\n",
       "      <td>Producto1</td>\n",
       "      <td>AC</td>\n",
       "      <td>1</td>\n",
       "      <td>2024-02-03</td>\n",
       "      <td>5375.95</td>\n",
       "    </tr>\n",
       "  </tbody>\n",
       "</table>\n",
       "<p>1 rows × 23 columns</p>\n",
       "</div>"
      ],
      "text/plain": [
       "       IDENTIFICACION   PRODUCTO  PERIODO_COMERCIAL   SEGMENTO FECHA_CARGA  \\\n",
       "756741        0171498  Producto1             202401  SEGMENTO1  2024-01-09   \n",
       "\n",
       "       FECHA_VIGENCIA  REGION  N_VECES_CAMPAÑA  N_VECES_CAMPAÑA_CONT  \\\n",
       "756741     2024-02-08  CENTRO               16                     2   \n",
       "\n",
       "       TIPO_APROBACION  ... score_aceptacion SUB_PERFIL_RIESGOS  SCORE  \\\n",
       "756741           TIPO1  ...              633            PERFIL1    950   \n",
       "\n",
       "           CUPO APROBACION_MES_ANTERIOR  PRODUCTO_MES_ANTERIOR  \\\n",
       "756741  3803.09                   TIPO1              Producto1   \n",
       "\n",
       "        CONTACTABILIDAD_TOTAL COLOCADO fecha_liquidacion MONTO_COLOCADO  \n",
       "756741                     AC        1        2024-02-03        5375.95  \n",
       "\n",
       "[1 rows x 23 columns]"
      ]
     },
     "execution_count": 43,
     "metadata": {},
     "output_type": "execute_result"
    }
   ],
   "source": [
    "df_colocacion_agrupado[df_colocacion_agrupado.IDENTIFICACION==\"0171498\"]"
   ]
  },
  {
   "cell_type": "markdown",
   "metadata": {},
   "source": [
    "observamos que despues de realizar esta transformacion obtenemos los datos ya corregidos , por lo que volvemos a analizar"
   ]
  },
  {
   "cell_type": "code",
   "execution_count": 44,
   "metadata": {},
   "outputs": [
    {
     "name": "stdout",
     "output_type": "stream",
     "text": [
      "tamaño del los datos antes de tratarlos (5178528, 23)\n",
      "tamaño del los datos despues de tratarlos (5178206, 23)\n"
     ]
    }
   ],
   "source": [
    "print(\"tamaño del los datos antes de tratarlos\",df_colocacion.shape)\n",
    "print(\"tamaño del los datos despues de tratarlos\",df_colocacion_agrupado.shape)\n"
   ]
  },
  {
   "cell_type": "code",
   "execution_count": 49,
   "metadata": {},
   "outputs": [],
   "source": [
    "#tranaformamos los tipos de datos de fechas a  tipo datetime \n",
    "df_colocacion_agrupado.FECHA_CARGA=pd.to_datetime(df_colocacion_agrupado.FECHA_CARGA)\n",
    "df_colocacion_agrupado.FECHA_CARGA=pd.to_datetime(df_colocacion_agrupado.FECHA_VIGENCIA)"
   ]
  },
  {
   "cell_type": "code",
   "execution_count": 50,
   "metadata": {},
   "outputs": [],
   "source": [
    "df_colocacion_agrupado.PERIODO_COMERCIAL=pd.to_datetime(df_colocacion_agrupado.PERIODO_COMERCIAL, format='%Y%m')"
   ]
  },
  {
   "cell_type": "markdown",
   "metadata": {},
   "source": [
    "Anlizamos las varibles numericas y categoricas"
   ]
  },
  {
   "cell_type": "code",
   "execution_count": 51,
   "metadata": {},
   "outputs": [
    {
     "data": {
      "text/plain": [
       "Index(['N_VECES_CAMPAÑA', 'N_VECES_CAMPAÑA_CONT', 'IVC', 'score_aceptacion',\n",
       "       'SCORE', 'CUPO', 'COLOCADO', 'MONTO_COLOCADO'],\n",
       "      dtype='object')"
      ]
     },
     "execution_count": 51,
     "metadata": {},
     "output_type": "execute_result"
    }
   ],
   "source": [
    "numericas_columns = df_colocacion_agrupado.select_dtypes(include=['number']).columns\n",
    "numericas_columns"
   ]
  },
  {
   "cell_type": "code",
   "execution_count": 52,
   "metadata": {},
   "outputs": [
    {
     "data": {
      "text/plain": [
       "Index(['IDENTIFICACION', 'PRODUCTO', 'PERIODO_COMERCIAL', 'SEGMENTO',\n",
       "       'FECHA_CARGA', 'FECHA_VIGENCIA', 'REGION', 'TIPO_APROBACION', 'CANAL',\n",
       "       'CLIENTE_BG', 'SUB_PERFIL_RIESGOS', 'APROBACION_MES_ANTERIOR',\n",
       "       'PRODUCTO_MES_ANTERIOR', 'CONTACTABILIDAD_TOTAL', 'fecha_liquidacion'],\n",
       "      dtype='object')"
      ]
     },
     "execution_count": 52,
     "metadata": {},
     "output_type": "execute_result"
    }
   ],
   "source": [
    "categorical_columnns = df_colocacion_agrupado.select_dtypes(exclude=['number']).columns\n",
    "categorical_columnns\n"
   ]
  },
  {
   "cell_type": "code",
   "execution_count": 56,
   "metadata": {},
   "outputs": [
    {
     "name": "stdout",
     "output_type": "stream",
     "text": [
      "columna: IDENTIFICACION -> valores únicos: ['0000001' '0000002' '0000003' ... '1171032' '1171033' '1171034']\n",
      "columna: PRODUCTO -> valores únicos: ['Producto1']\n",
      "columna: PERIODO_COMERCIAL -> valores únicos: <DatetimeArray>\n",
      "['2024-01-01 00:00:00', '2024-02-01 00:00:00', '2024-03-01 00:00:00',\n",
      " '2024-04-01 00:00:00', '2024-05-01 00:00:00', '2024-06-01 00:00:00',\n",
      " '2024-07-01 00:00:00', '2024-10-01 00:00:00', '2024-08-01 00:00:00',\n",
      " '2024-09-01 00:00:00']\n",
      "Length: 10, dtype: datetime64[ns]\n",
      "columna: SEGMENTO -> valores únicos: ['SEGMENTO1' 'SEGMENTO3' 'SEGMENTO4' 'SEGMENTO2' 'SEGMENTO5' 'SEGMENTO6'\n",
      " 'SEGMENTO7']\n",
      "columna: FECHA_CARGA -> valores únicos: <DatetimeArray>\n",
      "['2024-02-08 00:00:00', '2024-03-10 00:00:00', '2024-04-08 00:00:00',\n",
      " '2024-05-10 00:00:00', '2024-06-11 00:00:00', '2024-07-12 00:00:00',\n",
      " '2024-08-21 00:00:00', '2024-11-17 00:00:00', '2024-09-13 00:00:00',\n",
      " '2024-10-18 00:00:00']\n",
      "Length: 10, dtype: datetime64[ns]\n",
      "columna: FECHA_VIGENCIA -> valores únicos: ['2024-02-08' '2024-03-10' '2024-04-08' '2024-05-10' '2024-06-11'\n",
      " '2024-07-12' '2024-08-21' '2024-11-17' '2024-09-13' '2024-10-18']\n",
      "columna: REGION -> valores únicos: ['SUR' 'NORTE' 'CENTRO']\n",
      "columna: TIPO_APROBACION -> valores únicos: ['TIPO1' 'TIPO2']\n",
      "columna: CANAL -> valores únicos: ['ONLINE' 'PRESENCIAL']\n",
      "columna: CLIENTE_BG -> valores únicos: ['CLIENTE_TIPO2' 'CLIENTE_TIPO1']\n",
      "columna: SUB_PERFIL_RIESGOS -> valores únicos: ['PERFIL2' 'PERFIL1' 'PERFIL3' 'PERFIL4']\n",
      "columna: APROBACION_MES_ANTERIOR -> valores únicos: ['TIPO1' 'Ninguno' 'TIPO2' 'TIPO3']\n",
      "columna: PRODUCTO_MES_ANTERIOR -> valores únicos: ['Producto1' 'Producto2' 'Ninguno' 'Producto3']\n",
      "columna: CONTACTABILIDAD_TOTAL -> valores únicos: ['AC' 'ND']\n",
      "columna: fecha_liquidacion -> valores únicos: ['Ninguno' '2024-07-04' '2024-03-26' '2024-08-06' '2024-08-13'\n",
      " '2024-02-17' '2024-06-27' '2024-03-22' '2024-04-18' '2024-04-10'\n",
      " '2024-09-02' '2024-07-01' '2024-09-03' '2024-08-12' '2024-07-30'\n",
      " '2024-04-17' '2024-01-30' '2024-06-15' '2024-01-21' '2024-06-10'\n",
      " '2024-05-06' '2024-05-30' '2024-08-29' '2024-10-18' '2024-10-09'\n",
      " '2024-02-21' '2024-07-09' '2024-11-07' '2024-08-07' '2024-11-05'\n",
      " '2024-08-26' '2024-10-07' '2024-09-06' '2024-06-05' '2024-07-16'\n",
      " '2024-04-25' '2024-02-27' '2024-10-01' '2024-09-26' '2024-02-14'\n",
      " '2024-03-27' '2024-05-15' '2024-10-03' '2024-04-22' '2024-09-16'\n",
      " '2024-05-01' '2024-04-30' '2024-06-20' '2024-03-14' '2024-07-25'\n",
      " '2024-10-16' '2024-07-18' '2024-03-07' '2024-05-09' '2024-06-21'\n",
      " '2024-09-23' '2024-09-01' '2024-06-14' '2024-06-06' '2024-09-04'\n",
      " '2024-02-25' '2024-07-15' '2024-07-10' '2024-04-26' '2024-08-28'\n",
      " '2024-05-31' '2024-11-14' '2024-01-25' '2024-03-05' '2024-08-16'\n",
      " '2024-10-28' '2024-08-02' '2024-02-02' '2024-09-13' '2024-04-08'\n",
      " '2024-08-27' '2024-09-05' '2024-06-18' '2024-10-05' '2024-10-23'\n",
      " '2024-04-01' '2024-01-17' '2024-08-14' '2024-02-16' '2024-11-15'\n",
      " '2024-10-10' '2024-05-02' '2024-07-08' '2024-02-29' '2024-06-28'\n",
      " '2024-06-17' '2024-05-22' '2024-03-28' '2024-07-29' '2024-08-24'\n",
      " '2024-10-14' '2024-08-15' '2024-05-07' '2024-02-01' '2024-03-15'\n",
      " '2024-09-10' '2024-10-22' '2024-05-23' '2024-05-17' '2024-04-24'\n",
      " '2024-04-23' '2024-07-05' '2024-09-21' '2024-08-08' '2024-01-31'\n",
      " '2024-01-12' '2024-03-01' '2024-09-19' '2024-03-08' '2024-02-22'\n",
      " '2024-02-20' '2024-09-20' '2024-07-17' '2024-01-18' '2024-07-06'\n",
      " '2024-07-31' '2024-04-11' '2024-01-22' '2024-05-28' '2024-06-03'\n",
      " '2024-03-19' '2024-09-30' '2024-01-10' '2024-05-10' '2024-01-11'\n",
      " '2024-02-15' '2024-07-19' '2024-03-06' '2024-10-17' '2024-01-26'\n",
      " '2024-04-04' '2024-03-25' '2024-06-11' '2024-09-17' '2024-08-23'\n",
      " '2024-10-21' '2024-08-01' '2024-09-25' '2024-04-16' '2024-05-08'\n",
      " '2024-05-16' '2024-08-05' '2024-08-19' '2024-06-24' '2024-04-19'\n",
      " '2024-09-27' '2024-09-18' '2024-06-07' '2024-09-09' '2024-10-15'\n",
      " '2024-02-26' '2024-10-31' '2024-08-18' '2024-08-21' '2024-04-29'\n",
      " '2024-10-30' '2024-01-19' '2024-04-15' '2024-10-24' '2024-08-30'\n",
      " '2024-10-29' '2024-11-06' '2024-06-12' '2024-10-25' '2024-07-24'\n",
      " '2024-05-13' '2024-09-12' '2024-06-26' '2024-07-26' '2024-06-25'\n",
      " '2024-02-23' '2024-02-19' '2024-03-11' '2024-07-11' '2024-03-18'\n",
      " '2024-09-24' '2024-05-14' '2024-03-17' '2024-08-03' '2024-02-06'\n",
      " '2024-10-27' '2024-01-23' '2024-03-20' '2024-07-03' '2024-03-04'\n",
      " '2024-07-22' '2024-01-15' '2024-01-29' '2024-05-25' '2024-06-23'\n",
      " '2024-08-17' '2024-11-09' '2024-03-29' '2024-03-12' '2024-01-24'\n",
      " '2024-08-31' '2024-10-02' '2024-04-09' '2024-10-06' '2024-06-09'\n",
      " '2024-02-03' '2024-05-11' '2024-03-13' '2024-11-11' '2024-04-06'\n",
      " '2024-03-02' '2024-04-02' '2024-09-11' '2024-05-27' '2024-10-04'\n",
      " '2024-05-21' '2024-06-04' '2024-11-02' '2024-05-29' '2024-08-20'\n",
      " '2024-02-08' '2024-07-20' '2024-06-13' '2024-05-20' '2024-02-12'\n",
      " '2024-03-03' '2024-11-12' '2024-05-19' '2024-07-27' '2024-01-16'\n",
      " '2024-04-05' '2024-02-09' '2024-03-30' '2024-07-12' '2024-09-22'\n",
      " '2024-07-02' '2024-07-21' '2024-02-07' '2024-08-22' '2024-07-23'\n",
      " '2024-02-18' '2024-06-19' '2024-11-08' '2024-01-09' '2024-10-08'\n",
      " '2024-10-11' '2024-01-28' '2024-11-13' '2024-09-15' '2024-04-20'\n",
      " '2024-10-26' '2024-06-02' '2024-11-01' '2024-06-08' '2024-01-14'\n",
      " '2024-03-21' '2024-05-12' '2024-04-03' '2024-05-26' '2024-02-24'\n",
      " '2024-02-28' '2024-04-14' '2024-04-13' '2024-11-10' '2024-06-29'\n",
      " '2024-08-09' '2024-03-24' '2024-04-12' '2024-03-23' '2024-10-12'\n",
      " '2024-04-27' '2024-08-11' '2024-09-14' '2024-11-04' '2024-11-16'\n",
      " '2024-03-16' '2024-11-03' '2024-03-31' '2024-04-28' '2024-08-10'\n",
      " '2024-08-25' '2024-02-13' '2024-10-13' '2024-06-01' '2024-05-18'\n",
      " '2024-09-29' '2024-09-28' '2024-07-28' '2024-07-14' '2024-08-04'\n",
      " '2024-09-07' '2024-02-05' '2024-06-16' '2024-05-04' '2024-05-03'\n",
      " '2024-01-13' '2024-07-07' '2024-06-22' '2024-02-04' '2024-04-07'\n",
      " '2024-10-20' '2024-02-10' '2024-01-20' '2024-05-24' '2024-04-21'\n",
      " '2024-05-05' '2024-01-27' '2024-09-08' '2024-06-30' '2024-11-17'\n",
      " '2024-02-11']\n"
     ]
    }
   ],
   "source": [
    "for columna in categorical_columnns:\n",
    "    print(f\"columna: {columna} -> valores únicos: {df_colocacion_agrupado[columna].unique()}\")"
   ]
  },
  {
   "cell_type": "markdown",
   "metadata": {},
   "source": [
    "observamos que no hay erroes con las variables categoricas."
   ]
  },
  {
   "cell_type": "code",
   "execution_count": 57,
   "metadata": {},
   "outputs": [],
   "source": [
    "df_colocacion_agrupado.to_parquet(data_dir(\"interim\", \"datos_colocacion_limpios.parquet\"))"
   ]
  },
  {
   "cell_type": "code",
   "execution_count": null,
   "metadata": {},
   "outputs": [],
   "source": []
  }
 ],
 "metadata": {
  "kernelspec": {
   "display_name": "colocacion_de_creditos",
   "language": "python",
   "name": "python3"
  },
  "language_info": {
   "codemirror_mode": {
    "name": "ipython",
    "version": 3
   },
   "file_extension": ".py",
   "mimetype": "text/x-python",
   "name": "python",
   "nbconvert_exporter": "python",
   "pygments_lexer": "ipython3",
   "version": "3.11.11"
  }
 },
 "nbformat": 4,
 "nbformat_minor": 2
}
